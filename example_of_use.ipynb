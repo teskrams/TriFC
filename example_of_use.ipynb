{
 "cells": [
  {
   "cell_type": "markdown",
   "metadata": {},
   "source": [
    "# Notebook running the model on two academic files"
   ]
  },
  {
   "cell_type": "markdown",
   "metadata": {},
   "source": [
    "## Imports"
   ]
  },
  {
   "cell_type": "code",
   "execution_count": 1,
   "metadata": {},
   "outputs": [],
   "source": [
    "from TriFC.IfcFile import IfcFile\n",
    "from TriFC.IfcPlotter import IfcPlotter"
   ]
  },
  {
   "cell_type": "markdown",
   "metadata": {},
   "source": [
    "## File 1"
   ]
  },
  {
   "cell_type": "code",
   "execution_count": 2,
   "metadata": {},
   "outputs": [
    {
     "name": "stdout",
     "output_type": "stream",
     "text": [
      "Calculation started\n",
      "Number of elements found in file: 1\n",
      "## 1 ##  All elements loaded\n",
      "## 2&3 ##  All collisions calculated\n",
      "Calculating formwork for: M_Footing-Rectangular:1800 x 1200 x 450mm:420618\n",
      "## 4 ##  All triangles formwork classified\n",
      "## 5 ##  Formwork area calculated for all elements\n",
      "## 6 ##  Results csv made\n",
      "## 7 ##  Formwork added in ifcfile\n"
     ]
    }
   ],
   "source": [
    "ifcfile = IfcFile(\"/Users/theodor/kode/master/master/ifcs/academic_test_1.ifc\")\n",
    "\n",
    "ifcfile.run_full_calculation(name=\"academic_test_1.csv\", \n",
    "                             result_filepath=\"/Users/theodor/kode/master/TriFC/triFC/example_results\", \n",
    "                             ifc_name=\"academic_test_1_TriFC.ifc\", \n",
    "                             ifc_path=\"/Users/theodor/kode/master/TriFC/triFC/example_ifc\", \n",
    "                             printing=2, \n",
    "                             academic=True)"
   ]
  },
  {
   "cell_type": "code",
   "execution_count": 3,
   "metadata": {},
   "outputs": [
    {
     "name": "stdout",
     "output_type": "stream",
     "text": [
      "M_Footing-Rectangular:1800 x 1200 x 450mm:420618\n"
     ]
    },
    {
     "data": {
      "application/vnd.plotly.v1+json": {
       "config": {
        "plotlyServerURL": "https://plot.ly"
       },
       "data": [
        {
         "color": "red",
         "i": [
          0
         ],
         "j": [
          1
         ],
         "k": [
          2
         ],
         "name": "0",
         "opacity": 1,
         "type": "mesh3d",
         "x": [
          1.2209214268454955,
          1.2209214268454955,
          0.02092142684549614
         ],
         "y": [
          -2.1096169880108864,
          -2.1096169880108864,
          -2.1096169880108864
         ],
         "z": [
          5.551115123125783e-17,
          -0.45,
          -0.45
         ]
        },
        {
         "line": {
          "color": "rgb(0,0,0)",
          "width": 5
         },
         "mode": "lines",
         "showlegend": false,
         "type": "scatter3d",
         "x": [
          0.02092142684549614,
          1.2209214268454955
         ],
         "y": [
          -2.1096169880108864,
          -2.1096169880108864
         ],
         "z": [
          -0.45,
          5.551115123125783e-17
         ]
        },
        {
         "line": {
          "color": "rgb(0,0,0)",
          "width": 5
         },
         "mode": "lines",
         "showlegend": false,
         "type": "scatter3d",
         "x": [
          1.2209214268454955,
          1.2209214268454955
         ],
         "y": [
          -2.1096169880108864,
          -2.1096169880108864
         ],
         "z": [
          5.551115123125783e-17,
          -0.45
         ]
        },
        {
         "line": {
          "color": "rgb(0,0,0)",
          "width": 5
         },
         "mode": "lines",
         "showlegend": false,
         "type": "scatter3d",
         "x": [
          1.2209214268454955,
          0.02092142684549614
         ],
         "y": [
          -2.1096169880108864,
          -2.1096169880108864
         ],
         "z": [
          -0.45,
          -0.45
         ]
        },
        {
         "color": "red",
         "i": [
          0
         ],
         "j": [
          1
         ],
         "k": [
          2
         ],
         "name": "1",
         "opacity": 1,
         "type": "mesh3d",
         "x": [
          0.02092142684549614,
          1.2209214268454955,
          0.02092142684549614
         ],
         "y": [
          -2.1096169880108864,
          -2.1096169880108864,
          -2.1096169880108864
         ],
         "z": [
          5.551115123125783e-17,
          5.551115123125783e-17,
          -0.45
         ]
        },
        {
         "line": {
          "color": "rgb(0,0,0)",
          "width": 5
         },
         "mode": "lines",
         "showlegend": false,
         "type": "scatter3d",
         "x": [
          0.02092142684549614,
          0.02092142684549614
         ],
         "y": [
          -2.1096169880108864,
          -2.1096169880108864
         ],
         "z": [
          -0.45,
          5.551115123125783e-17
         ]
        },
        {
         "line": {
          "color": "rgb(0,0,0)",
          "width": 5
         },
         "mode": "lines",
         "showlegend": false,
         "type": "scatter3d",
         "x": [
          0.02092142684549614,
          1.2209214268454955
         ],
         "y": [
          -2.1096169880108864,
          -2.1096169880108864
         ],
         "z": [
          5.551115123125783e-17,
          5.551115123125783e-17
         ]
        },
        {
         "line": {
          "color": "rgb(0,0,0)",
          "width": 5
         },
         "mode": "lines",
         "showlegend": false,
         "type": "scatter3d",
         "x": [
          1.2209214268454955,
          0.02092142684549614
         ],
         "y": [
          -2.1096169880108864,
          -2.1096169880108864
         ],
         "z": [
          5.551115123125783e-17,
          -0.45
         ]
        },
        {
         "color": "red",
         "i": [
          0
         ],
         "j": [
          1
         ],
         "k": [
          2
         ],
         "name": "2",
         "opacity": 1,
         "type": "mesh3d",
         "x": [
          0.02092142684549614,
          0.02092142684549614,
          0.02092142684549614
         ],
         "y": [
          -2.1096169880108864,
          -2.1096169880108864,
          -3.909616988010886
         ],
         "z": [
          5.551115123125783e-17,
          -0.45,
          -0.45
         ]
        },
        {
         "line": {
          "color": "rgb(0,0,0)",
          "width": 5
         },
         "mode": "lines",
         "showlegend": false,
         "type": "scatter3d",
         "x": [
          0.02092142684549614,
          0.02092142684549614
         ],
         "y": [
          -3.909616988010886,
          -2.1096169880108864
         ],
         "z": [
          -0.45,
          5.551115123125783e-17
         ]
        },
        {
         "line": {
          "color": "rgb(0,0,0)",
          "width": 5
         },
         "mode": "lines",
         "showlegend": false,
         "type": "scatter3d",
         "x": [
          0.02092142684549614,
          0.02092142684549614
         ],
         "y": [
          -2.1096169880108864,
          -2.1096169880108864
         ],
         "z": [
          5.551115123125783e-17,
          -0.45
         ]
        },
        {
         "line": {
          "color": "rgb(0,0,0)",
          "width": 5
         },
         "mode": "lines",
         "showlegend": false,
         "type": "scatter3d",
         "x": [
          0.02092142684549614,
          0.02092142684549614
         ],
         "y": [
          -2.1096169880108864,
          -3.909616988010886
         ],
         "z": [
          -0.45,
          -0.45
         ]
        },
        {
         "color": "red",
         "i": [
          0
         ],
         "j": [
          1
         ],
         "k": [
          2
         ],
         "name": "3",
         "opacity": 1,
         "type": "mesh3d",
         "x": [
          0.02092142684549614,
          0.02092142684549614,
          0.02092142684549614
         ],
         "y": [
          -3.909616988010886,
          -2.1096169880108864,
          -3.909616988010886
         ],
         "z": [
          5.551115123125783e-17,
          5.551115123125783e-17,
          -0.45
         ]
        },
        {
         "line": {
          "color": "rgb(0,0,0)",
          "width": 5
         },
         "mode": "lines",
         "showlegend": false,
         "type": "scatter3d",
         "x": [
          0.02092142684549614,
          0.02092142684549614
         ],
         "y": [
          -3.909616988010886,
          -3.909616988010886
         ],
         "z": [
          -0.45,
          5.551115123125783e-17
         ]
        },
        {
         "line": {
          "color": "rgb(0,0,0)",
          "width": 5
         },
         "mode": "lines",
         "showlegend": false,
         "type": "scatter3d",
         "x": [
          0.02092142684549614,
          0.02092142684549614
         ],
         "y": [
          -3.909616988010886,
          -2.1096169880108864
         ],
         "z": [
          5.551115123125783e-17,
          5.551115123125783e-17
         ]
        },
        {
         "line": {
          "color": "rgb(0,0,0)",
          "width": 5
         },
         "mode": "lines",
         "showlegend": false,
         "type": "scatter3d",
         "x": [
          0.02092142684549614,
          0.02092142684549614
         ],
         "y": [
          -2.1096169880108864,
          -3.909616988010886
         ],
         "z": [
          5.551115123125783e-17,
          -0.45
         ]
        },
        {
         "color": "red",
         "i": [
          0
         ],
         "j": [
          1
         ],
         "k": [
          2
         ],
         "name": "4",
         "opacity": 1,
         "type": "mesh3d",
         "x": [
          0.02092142684549614,
          0.02092142684549614,
          1.2209214268454955
         ],
         "y": [
          -3.909616988010886,
          -3.909616988010886,
          -3.909616988010886
         ],
         "z": [
          5.551115123125783e-17,
          -0.45,
          -0.45
         ]
        },
        {
         "line": {
          "color": "rgb(0,0,0)",
          "width": 5
         },
         "mode": "lines",
         "showlegend": false,
         "type": "scatter3d",
         "x": [
          1.2209214268454955,
          0.02092142684549614
         ],
         "y": [
          -3.909616988010886,
          -3.909616988010886
         ],
         "z": [
          -0.45,
          5.551115123125783e-17
         ]
        },
        {
         "line": {
          "color": "rgb(0,0,0)",
          "width": 5
         },
         "mode": "lines",
         "showlegend": false,
         "type": "scatter3d",
         "x": [
          0.02092142684549614,
          0.02092142684549614
         ],
         "y": [
          -3.909616988010886,
          -3.909616988010886
         ],
         "z": [
          5.551115123125783e-17,
          -0.45
         ]
        },
        {
         "line": {
          "color": "rgb(0,0,0)",
          "width": 5
         },
         "mode": "lines",
         "showlegend": false,
         "type": "scatter3d",
         "x": [
          0.02092142684549614,
          1.2209214268454955
         ],
         "y": [
          -3.909616988010886,
          -3.909616988010886
         ],
         "z": [
          -0.45,
          -0.45
         ]
        },
        {
         "color": "red",
         "i": [
          0
         ],
         "j": [
          1
         ],
         "k": [
          2
         ],
         "name": "5",
         "opacity": 1,
         "type": "mesh3d",
         "x": [
          1.2209214268454955,
          0.02092142684549614,
          1.2209214268454955
         ],
         "y": [
          -3.909616988010886,
          -3.909616988010886,
          -3.909616988010886
         ],
         "z": [
          5.551115123125783e-17,
          5.551115123125783e-17,
          -0.45
         ]
        },
        {
         "line": {
          "color": "rgb(0,0,0)",
          "width": 5
         },
         "mode": "lines",
         "showlegend": false,
         "type": "scatter3d",
         "x": [
          1.2209214268454955,
          1.2209214268454955
         ],
         "y": [
          -3.909616988010886,
          -3.909616988010886
         ],
         "z": [
          -0.45,
          5.551115123125783e-17
         ]
        },
        {
         "line": {
          "color": "rgb(0,0,0)",
          "width": 5
         },
         "mode": "lines",
         "showlegend": false,
         "type": "scatter3d",
         "x": [
          1.2209214268454955,
          0.02092142684549614
         ],
         "y": [
          -3.909616988010886,
          -3.909616988010886
         ],
         "z": [
          5.551115123125783e-17,
          5.551115123125783e-17
         ]
        },
        {
         "line": {
          "color": "rgb(0,0,0)",
          "width": 5
         },
         "mode": "lines",
         "showlegend": false,
         "type": "scatter3d",
         "x": [
          0.02092142684549614,
          1.2209214268454955
         ],
         "y": [
          -3.909616988010886,
          -3.909616988010886
         ],
         "z": [
          5.551115123125783e-17,
          -0.45
         ]
        },
        {
         "color": "red",
         "i": [
          0
         ],
         "j": [
          1
         ],
         "k": [
          2
         ],
         "name": "6",
         "opacity": 1,
         "type": "mesh3d",
         "x": [
          1.2209214268454955,
          1.2209214268454955,
          1.2209214268454955
         ],
         "y": [
          -3.909616988010886,
          -3.909616988010886,
          -2.1096169880108864
         ],
         "z": [
          5.551115123125783e-17,
          -0.45,
          -0.45
         ]
        },
        {
         "line": {
          "color": "rgb(0,0,0)",
          "width": 5
         },
         "mode": "lines",
         "showlegend": false,
         "type": "scatter3d",
         "x": [
          1.2209214268454955,
          1.2209214268454955
         ],
         "y": [
          -2.1096169880108864,
          -3.909616988010886
         ],
         "z": [
          -0.45,
          5.551115123125783e-17
         ]
        },
        {
         "line": {
          "color": "rgb(0,0,0)",
          "width": 5
         },
         "mode": "lines",
         "showlegend": false,
         "type": "scatter3d",
         "x": [
          1.2209214268454955,
          1.2209214268454955
         ],
         "y": [
          -3.909616988010886,
          -3.909616988010886
         ],
         "z": [
          5.551115123125783e-17,
          -0.45
         ]
        },
        {
         "line": {
          "color": "rgb(0,0,0)",
          "width": 5
         },
         "mode": "lines",
         "showlegend": false,
         "type": "scatter3d",
         "x": [
          1.2209214268454955,
          1.2209214268454955
         ],
         "y": [
          -3.909616988010886,
          -2.1096169880108864
         ],
         "z": [
          -0.45,
          -0.45
         ]
        },
        {
         "color": "red",
         "i": [
          0
         ],
         "j": [
          1
         ],
         "k": [
          2
         ],
         "name": "7",
         "opacity": 1,
         "type": "mesh3d",
         "x": [
          1.2209214268454955,
          1.2209214268454955,
          1.2209214268454955
         ],
         "y": [
          -2.1096169880108864,
          -3.909616988010886,
          -2.1096169880108864
         ],
         "z": [
          5.551115123125783e-17,
          5.551115123125783e-17,
          -0.45
         ]
        },
        {
         "line": {
          "color": "rgb(0,0,0)",
          "width": 5
         },
         "mode": "lines",
         "showlegend": false,
         "type": "scatter3d",
         "x": [
          1.2209214268454955,
          1.2209214268454955
         ],
         "y": [
          -2.1096169880108864,
          -2.1096169880108864
         ],
         "z": [
          -0.45,
          5.551115123125783e-17
         ]
        },
        {
         "line": {
          "color": "rgb(0,0,0)",
          "width": 5
         },
         "mode": "lines",
         "showlegend": false,
         "type": "scatter3d",
         "x": [
          1.2209214268454955,
          1.2209214268454955
         ],
         "y": [
          -2.1096169880108864,
          -3.909616988010886
         ],
         "z": [
          5.551115123125783e-17,
          5.551115123125783e-17
         ]
        },
        {
         "line": {
          "color": "rgb(0,0,0)",
          "width": 5
         },
         "mode": "lines",
         "showlegend": false,
         "type": "scatter3d",
         "x": [
          1.2209214268454955,
          1.2209214268454955
         ],
         "y": [
          -3.909616988010886,
          -2.1096169880108864
         ],
         "z": [
          5.551115123125783e-17,
          -0.45
         ]
        },
        {
         "color": "red",
         "i": [
          0
         ],
         "j": [
          1
         ],
         "k": [
          2
         ],
         "name": "8",
         "opacity": 1,
         "type": "mesh3d",
         "x": [
          0.02092142684549614,
          1.2209214268454955,
          0.02092142684549614
         ],
         "y": [
          -2.1096169880108864,
          -2.1096169880108864,
          -3.909616988010886
         ],
         "z": [
          -0.45,
          -0.45,
          -0.45
         ]
        },
        {
         "line": {
          "color": "rgb(0,0,0)",
          "width": 5
         },
         "mode": "lines",
         "showlegend": false,
         "type": "scatter3d",
         "x": [
          0.02092142684549614,
          0.02092142684549614
         ],
         "y": [
          -3.909616988010886,
          -2.1096169880108864
         ],
         "z": [
          -0.45,
          -0.45
         ]
        },
        {
         "line": {
          "color": "rgb(0,0,0)",
          "width": 5
         },
         "mode": "lines",
         "showlegend": false,
         "type": "scatter3d",
         "x": [
          0.02092142684549614,
          1.2209214268454955
         ],
         "y": [
          -2.1096169880108864,
          -2.1096169880108864
         ],
         "z": [
          -0.45,
          -0.45
         ]
        },
        {
         "line": {
          "color": "rgb(0,0,0)",
          "width": 5
         },
         "mode": "lines",
         "showlegend": false,
         "type": "scatter3d",
         "x": [
          1.2209214268454955,
          0.02092142684549614
         ],
         "y": [
          -2.1096169880108864,
          -3.909616988010886
         ],
         "z": [
          -0.45,
          -0.45
         ]
        },
        {
         "color": "red",
         "i": [
          0
         ],
         "j": [
          1
         ],
         "k": [
          2
         ],
         "name": "9",
         "opacity": 1,
         "type": "mesh3d",
         "x": [
          1.2209214268454955,
          1.2209214268454955,
          0.02092142684549614
         ],
         "y": [
          -2.1096169880108864,
          -3.909616988010886,
          -3.909616988010886
         ],
         "z": [
          -0.45,
          -0.45,
          -0.45
         ]
        },
        {
         "line": {
          "color": "rgb(0,0,0)",
          "width": 5
         },
         "mode": "lines",
         "showlegend": false,
         "type": "scatter3d",
         "x": [
          0.02092142684549614,
          1.2209214268454955
         ],
         "y": [
          -3.909616988010886,
          -2.1096169880108864
         ],
         "z": [
          -0.45,
          -0.45
         ]
        },
        {
         "line": {
          "color": "rgb(0,0,0)",
          "width": 5
         },
         "mode": "lines",
         "showlegend": false,
         "type": "scatter3d",
         "x": [
          1.2209214268454955,
          1.2209214268454955
         ],
         "y": [
          -2.1096169880108864,
          -3.909616988010886
         ],
         "z": [
          -0.45,
          -0.45
         ]
        },
        {
         "line": {
          "color": "rgb(0,0,0)",
          "width": 5
         },
         "mode": "lines",
         "showlegend": false,
         "type": "scatter3d",
         "x": [
          1.2209214268454955,
          0.02092142684549614
         ],
         "y": [
          -3.909616988010886,
          -3.909616988010886
         ],
         "z": [
          -0.45,
          -0.45
         ]
        },
        {
         "color": "blue",
         "i": [
          0
         ],
         "j": [
          1
         ],
         "k": [
          2
         ],
         "name": "10",
         "opacity": 0.9,
         "type": "mesh3d",
         "x": [
          0.02092142684549614,
          1.2209214268454955,
          0.02092142684549614
         ],
         "y": [
          -3.909616988010886,
          -2.1096169880108864,
          -2.1096169880108864
         ],
         "z": [
          5.551115123125783e-17,
          5.551115123125783e-17,
          5.551115123125783e-17
         ]
        },
        {
         "line": {
          "color": "rgb(0,0,0)",
          "width": 5
         },
         "mode": "lines",
         "showlegend": false,
         "type": "scatter3d",
         "x": [
          0.02092142684549614,
          0.02092142684549614
         ],
         "y": [
          -2.1096169880108864,
          -3.909616988010886
         ],
         "z": [
          5.551115123125783e-17,
          5.551115123125783e-17
         ]
        },
        {
         "line": {
          "color": "rgb(0,0,0)",
          "width": 5
         },
         "mode": "lines",
         "showlegend": false,
         "type": "scatter3d",
         "x": [
          0.02092142684549614,
          1.2209214268454955
         ],
         "y": [
          -3.909616988010886,
          -2.1096169880108864
         ],
         "z": [
          5.551115123125783e-17,
          5.551115123125783e-17
         ]
        },
        {
         "line": {
          "color": "rgb(0,0,0)",
          "width": 5
         },
         "mode": "lines",
         "showlegend": false,
         "type": "scatter3d",
         "x": [
          1.2209214268454955,
          0.02092142684549614
         ],
         "y": [
          -2.1096169880108864,
          -2.1096169880108864
         ],
         "z": [
          5.551115123125783e-17,
          5.551115123125783e-17
         ]
        },
        {
         "color": "blue",
         "i": [
          0
         ],
         "j": [
          1
         ],
         "k": [
          2
         ],
         "name": "11",
         "opacity": 0.9,
         "type": "mesh3d",
         "x": [
          0.02092142684549614,
          1.2209214268454955,
          1.2209214268454955
         ],
         "y": [
          -3.909616988010886,
          -3.909616988010886,
          -2.1096169880108864
         ],
         "z": [
          5.551115123125783e-17,
          5.551115123125783e-17,
          5.551115123125783e-17
         ]
        },
        {
         "line": {
          "color": "rgb(0,0,0)",
          "width": 5
         },
         "mode": "lines",
         "showlegend": false,
         "type": "scatter3d",
         "x": [
          1.2209214268454955,
          0.02092142684549614
         ],
         "y": [
          -2.1096169880108864,
          -3.909616988010886
         ],
         "z": [
          5.551115123125783e-17,
          5.551115123125783e-17
         ]
        },
        {
         "line": {
          "color": "rgb(0,0,0)",
          "width": 5
         },
         "mode": "lines",
         "showlegend": false,
         "type": "scatter3d",
         "x": [
          0.02092142684549614,
          1.2209214268454955
         ],
         "y": [
          -3.909616988010886,
          -3.909616988010886
         ],
         "z": [
          5.551115123125783e-17,
          5.551115123125783e-17
         ]
        },
        {
         "line": {
          "color": "rgb(0,0,0)",
          "width": 5
         },
         "mode": "lines",
         "showlegend": false,
         "type": "scatter3d",
         "x": [
          1.2209214268454955,
          1.2209214268454955
         ],
         "y": [
          -3.909616988010886,
          -2.1096169880108864
         ],
         "z": [
          5.551115123125783e-17,
          5.551115123125783e-17
         ]
        }
       ],
       "layout": {
        "scene": {
         "aspectmode": "data",
         "xaxis": {
          "range": [
           -0.9790785731545039,
           2.2209214268454955
          ],
          "title": {
           "text": "X Axis"
          }
         },
         "yaxis": {
          "range": [
           -4.909616988010886,
           -1.1096169880108864
          ],
          "title": {
           "text": "Y Axis"
          }
         },
         "zaxis": {
          "range": [
           -1.45,
           1
          ],
          "title": {
           "text": "Z Axis"
          }
         }
        },
        "template": {
         "data": {
          "bar": [
           {
            "error_x": {
             "color": "#2a3f5f"
            },
            "error_y": {
             "color": "#2a3f5f"
            },
            "marker": {
             "line": {
              "color": "#E5ECF6",
              "width": 0.5
             },
             "pattern": {
              "fillmode": "overlay",
              "size": 10,
              "solidity": 0.2
             }
            },
            "type": "bar"
           }
          ],
          "barpolar": [
           {
            "marker": {
             "line": {
              "color": "#E5ECF6",
              "width": 0.5
             },
             "pattern": {
              "fillmode": "overlay",
              "size": 10,
              "solidity": 0.2
             }
            },
            "type": "barpolar"
           }
          ],
          "carpet": [
           {
            "aaxis": {
             "endlinecolor": "#2a3f5f",
             "gridcolor": "white",
             "linecolor": "white",
             "minorgridcolor": "white",
             "startlinecolor": "#2a3f5f"
            },
            "baxis": {
             "endlinecolor": "#2a3f5f",
             "gridcolor": "white",
             "linecolor": "white",
             "minorgridcolor": "white",
             "startlinecolor": "#2a3f5f"
            },
            "type": "carpet"
           }
          ],
          "choropleth": [
           {
            "colorbar": {
             "outlinewidth": 0,
             "ticks": ""
            },
            "type": "choropleth"
           }
          ],
          "contour": [
           {
            "colorbar": {
             "outlinewidth": 0,
             "ticks": ""
            },
            "colorscale": [
             [
              0,
              "#0d0887"
             ],
             [
              0.1111111111111111,
              "#46039f"
             ],
             [
              0.2222222222222222,
              "#7201a8"
             ],
             [
              0.3333333333333333,
              "#9c179e"
             ],
             [
              0.4444444444444444,
              "#bd3786"
             ],
             [
              0.5555555555555556,
              "#d8576b"
             ],
             [
              0.6666666666666666,
              "#ed7953"
             ],
             [
              0.7777777777777778,
              "#fb9f3a"
             ],
             [
              0.8888888888888888,
              "#fdca26"
             ],
             [
              1,
              "#f0f921"
             ]
            ],
            "type": "contour"
           }
          ],
          "contourcarpet": [
           {
            "colorbar": {
             "outlinewidth": 0,
             "ticks": ""
            },
            "type": "contourcarpet"
           }
          ],
          "heatmap": [
           {
            "colorbar": {
             "outlinewidth": 0,
             "ticks": ""
            },
            "colorscale": [
             [
              0,
              "#0d0887"
             ],
             [
              0.1111111111111111,
              "#46039f"
             ],
             [
              0.2222222222222222,
              "#7201a8"
             ],
             [
              0.3333333333333333,
              "#9c179e"
             ],
             [
              0.4444444444444444,
              "#bd3786"
             ],
             [
              0.5555555555555556,
              "#d8576b"
             ],
             [
              0.6666666666666666,
              "#ed7953"
             ],
             [
              0.7777777777777778,
              "#fb9f3a"
             ],
             [
              0.8888888888888888,
              "#fdca26"
             ],
             [
              1,
              "#f0f921"
             ]
            ],
            "type": "heatmap"
           }
          ],
          "heatmapgl": [
           {
            "colorbar": {
             "outlinewidth": 0,
             "ticks": ""
            },
            "colorscale": [
             [
              0,
              "#0d0887"
             ],
             [
              0.1111111111111111,
              "#46039f"
             ],
             [
              0.2222222222222222,
              "#7201a8"
             ],
             [
              0.3333333333333333,
              "#9c179e"
             ],
             [
              0.4444444444444444,
              "#bd3786"
             ],
             [
              0.5555555555555556,
              "#d8576b"
             ],
             [
              0.6666666666666666,
              "#ed7953"
             ],
             [
              0.7777777777777778,
              "#fb9f3a"
             ],
             [
              0.8888888888888888,
              "#fdca26"
             ],
             [
              1,
              "#f0f921"
             ]
            ],
            "type": "heatmapgl"
           }
          ],
          "histogram": [
           {
            "marker": {
             "pattern": {
              "fillmode": "overlay",
              "size": 10,
              "solidity": 0.2
             }
            },
            "type": "histogram"
           }
          ],
          "histogram2d": [
           {
            "colorbar": {
             "outlinewidth": 0,
             "ticks": ""
            },
            "colorscale": [
             [
              0,
              "#0d0887"
             ],
             [
              0.1111111111111111,
              "#46039f"
             ],
             [
              0.2222222222222222,
              "#7201a8"
             ],
             [
              0.3333333333333333,
              "#9c179e"
             ],
             [
              0.4444444444444444,
              "#bd3786"
             ],
             [
              0.5555555555555556,
              "#d8576b"
             ],
             [
              0.6666666666666666,
              "#ed7953"
             ],
             [
              0.7777777777777778,
              "#fb9f3a"
             ],
             [
              0.8888888888888888,
              "#fdca26"
             ],
             [
              1,
              "#f0f921"
             ]
            ],
            "type": "histogram2d"
           }
          ],
          "histogram2dcontour": [
           {
            "colorbar": {
             "outlinewidth": 0,
             "ticks": ""
            },
            "colorscale": [
             [
              0,
              "#0d0887"
             ],
             [
              0.1111111111111111,
              "#46039f"
             ],
             [
              0.2222222222222222,
              "#7201a8"
             ],
             [
              0.3333333333333333,
              "#9c179e"
             ],
             [
              0.4444444444444444,
              "#bd3786"
             ],
             [
              0.5555555555555556,
              "#d8576b"
             ],
             [
              0.6666666666666666,
              "#ed7953"
             ],
             [
              0.7777777777777778,
              "#fb9f3a"
             ],
             [
              0.8888888888888888,
              "#fdca26"
             ],
             [
              1,
              "#f0f921"
             ]
            ],
            "type": "histogram2dcontour"
           }
          ],
          "mesh3d": [
           {
            "colorbar": {
             "outlinewidth": 0,
             "ticks": ""
            },
            "type": "mesh3d"
           }
          ],
          "parcoords": [
           {
            "line": {
             "colorbar": {
              "outlinewidth": 0,
              "ticks": ""
             }
            },
            "type": "parcoords"
           }
          ],
          "pie": [
           {
            "automargin": true,
            "type": "pie"
           }
          ],
          "scatter": [
           {
            "fillpattern": {
             "fillmode": "overlay",
             "size": 10,
             "solidity": 0.2
            },
            "type": "scatter"
           }
          ],
          "scatter3d": [
           {
            "line": {
             "colorbar": {
              "outlinewidth": 0,
              "ticks": ""
             }
            },
            "marker": {
             "colorbar": {
              "outlinewidth": 0,
              "ticks": ""
             }
            },
            "type": "scatter3d"
           }
          ],
          "scattercarpet": [
           {
            "marker": {
             "colorbar": {
              "outlinewidth": 0,
              "ticks": ""
             }
            },
            "type": "scattercarpet"
           }
          ],
          "scattergeo": [
           {
            "marker": {
             "colorbar": {
              "outlinewidth": 0,
              "ticks": ""
             }
            },
            "type": "scattergeo"
           }
          ],
          "scattergl": [
           {
            "marker": {
             "colorbar": {
              "outlinewidth": 0,
              "ticks": ""
             }
            },
            "type": "scattergl"
           }
          ],
          "scattermapbox": [
           {
            "marker": {
             "colorbar": {
              "outlinewidth": 0,
              "ticks": ""
             }
            },
            "type": "scattermapbox"
           }
          ],
          "scatterpolar": [
           {
            "marker": {
             "colorbar": {
              "outlinewidth": 0,
              "ticks": ""
             }
            },
            "type": "scatterpolar"
           }
          ],
          "scatterpolargl": [
           {
            "marker": {
             "colorbar": {
              "outlinewidth": 0,
              "ticks": ""
             }
            },
            "type": "scatterpolargl"
           }
          ],
          "scatterternary": [
           {
            "marker": {
             "colorbar": {
              "outlinewidth": 0,
              "ticks": ""
             }
            },
            "type": "scatterternary"
           }
          ],
          "surface": [
           {
            "colorbar": {
             "outlinewidth": 0,
             "ticks": ""
            },
            "colorscale": [
             [
              0,
              "#0d0887"
             ],
             [
              0.1111111111111111,
              "#46039f"
             ],
             [
              0.2222222222222222,
              "#7201a8"
             ],
             [
              0.3333333333333333,
              "#9c179e"
             ],
             [
              0.4444444444444444,
              "#bd3786"
             ],
             [
              0.5555555555555556,
              "#d8576b"
             ],
             [
              0.6666666666666666,
              "#ed7953"
             ],
             [
              0.7777777777777778,
              "#fb9f3a"
             ],
             [
              0.8888888888888888,
              "#fdca26"
             ],
             [
              1,
              "#f0f921"
             ]
            ],
            "type": "surface"
           }
          ],
          "table": [
           {
            "cells": {
             "fill": {
              "color": "#EBF0F8"
             },
             "line": {
              "color": "white"
             }
            },
            "header": {
             "fill": {
              "color": "#C8D4E3"
             },
             "line": {
              "color": "white"
             }
            },
            "type": "table"
           }
          ]
         },
         "layout": {
          "annotationdefaults": {
           "arrowcolor": "#2a3f5f",
           "arrowhead": 0,
           "arrowwidth": 1
          },
          "autotypenumbers": "strict",
          "coloraxis": {
           "colorbar": {
            "outlinewidth": 0,
            "ticks": ""
           }
          },
          "colorscale": {
           "diverging": [
            [
             0,
             "#8e0152"
            ],
            [
             0.1,
             "#c51b7d"
            ],
            [
             0.2,
             "#de77ae"
            ],
            [
             0.3,
             "#f1b6da"
            ],
            [
             0.4,
             "#fde0ef"
            ],
            [
             0.5,
             "#f7f7f7"
            ],
            [
             0.6,
             "#e6f5d0"
            ],
            [
             0.7,
             "#b8e186"
            ],
            [
             0.8,
             "#7fbc41"
            ],
            [
             0.9,
             "#4d9221"
            ],
            [
             1,
             "#276419"
            ]
           ],
           "sequential": [
            [
             0,
             "#0d0887"
            ],
            [
             0.1111111111111111,
             "#46039f"
            ],
            [
             0.2222222222222222,
             "#7201a8"
            ],
            [
             0.3333333333333333,
             "#9c179e"
            ],
            [
             0.4444444444444444,
             "#bd3786"
            ],
            [
             0.5555555555555556,
             "#d8576b"
            ],
            [
             0.6666666666666666,
             "#ed7953"
            ],
            [
             0.7777777777777778,
             "#fb9f3a"
            ],
            [
             0.8888888888888888,
             "#fdca26"
            ],
            [
             1,
             "#f0f921"
            ]
           ],
           "sequentialminus": [
            [
             0,
             "#0d0887"
            ],
            [
             0.1111111111111111,
             "#46039f"
            ],
            [
             0.2222222222222222,
             "#7201a8"
            ],
            [
             0.3333333333333333,
             "#9c179e"
            ],
            [
             0.4444444444444444,
             "#bd3786"
            ],
            [
             0.5555555555555556,
             "#d8576b"
            ],
            [
             0.6666666666666666,
             "#ed7953"
            ],
            [
             0.7777777777777778,
             "#fb9f3a"
            ],
            [
             0.8888888888888888,
             "#fdca26"
            ],
            [
             1,
             "#f0f921"
            ]
           ]
          },
          "colorway": [
           "#636efa",
           "#EF553B",
           "#00cc96",
           "#ab63fa",
           "#FFA15A",
           "#19d3f3",
           "#FF6692",
           "#B6E880",
           "#FF97FF",
           "#FECB52"
          ],
          "font": {
           "color": "#2a3f5f"
          },
          "geo": {
           "bgcolor": "white",
           "lakecolor": "white",
           "landcolor": "#E5ECF6",
           "showlakes": true,
           "showland": true,
           "subunitcolor": "white"
          },
          "hoverlabel": {
           "align": "left"
          },
          "hovermode": "closest",
          "mapbox": {
           "style": "light"
          },
          "paper_bgcolor": "white",
          "plot_bgcolor": "#E5ECF6",
          "polar": {
           "angularaxis": {
            "gridcolor": "white",
            "linecolor": "white",
            "ticks": ""
           },
           "bgcolor": "#E5ECF6",
           "radialaxis": {
            "gridcolor": "white",
            "linecolor": "white",
            "ticks": ""
           }
          },
          "scene": {
           "xaxis": {
            "backgroundcolor": "#E5ECF6",
            "gridcolor": "white",
            "gridwidth": 2,
            "linecolor": "white",
            "showbackground": true,
            "ticks": "",
            "zerolinecolor": "white"
           },
           "yaxis": {
            "backgroundcolor": "#E5ECF6",
            "gridcolor": "white",
            "gridwidth": 2,
            "linecolor": "white",
            "showbackground": true,
            "ticks": "",
            "zerolinecolor": "white"
           },
           "zaxis": {
            "backgroundcolor": "#E5ECF6",
            "gridcolor": "white",
            "gridwidth": 2,
            "linecolor": "white",
            "showbackground": true,
            "ticks": "",
            "zerolinecolor": "white"
           }
          },
          "shapedefaults": {
           "line": {
            "color": "#2a3f5f"
           }
          },
          "ternary": {
           "aaxis": {
            "gridcolor": "white",
            "linecolor": "white",
            "ticks": ""
           },
           "baxis": {
            "gridcolor": "white",
            "linecolor": "white",
            "ticks": ""
           },
           "bgcolor": "#E5ECF6",
           "caxis": {
            "gridcolor": "white",
            "linecolor": "white",
            "ticks": ""
           }
          },
          "title": {
           "x": 0.05
          },
          "xaxis": {
           "automargin": true,
           "gridcolor": "white",
           "linecolor": "white",
           "ticks": "",
           "title": {
            "standoff": 15
           },
           "zerolinecolor": "white",
           "zerolinewidth": 2
          },
          "yaxis": {
           "automargin": true,
           "gridcolor": "white",
           "linecolor": "white",
           "ticks": "",
           "title": {
            "standoff": 15
           },
           "zerolinecolor": "white",
           "zerolinewidth": 2
          }
         }
        },
        "title": {
         "text": "Interactive 3D Geometries with Plotly"
        }
       }
      }
     },
     "metadata": {},
     "output_type": "display_data"
    }
   ],
   "source": [
    "ifc_plotter = IfcPlotter()\n",
    "\n",
    "element = ifcfile.elements[0]\n",
    "print(element.name)\n",
    "\n",
    "ifc_plotter.interactive_plot(elements=[element], collisions=[element.formwork])"
   ]
  },
  {
   "cell_type": "markdown",
   "metadata": {},
   "source": [
    "## File 2"
   ]
  },
  {
   "cell_type": "code",
   "execution_count": 4,
   "metadata": {},
   "outputs": [
    {
     "name": "stdout",
     "output_type": "stream",
     "text": [
      "Calculation started\n",
      "Number of elements found in file: 2\n",
      "## 1 ##  All elements loaded\n",
      "combo: M_Footing-Rectangular:1800 x 1200 x 450mm:420618 and M_Footing-Rectangular:1800 x 1200 x 450mm:420655\n",
      "## 2&3 ##  All collisions calculated\n",
      "Calculating formwork for: M_Footing-Rectangular:1800 x 1200 x 450mm:420618\n",
      "Calculating formwork for: M_Footing-Rectangular:1800 x 1200 x 450mm:420655\n",
      "## 4 ##  All triangles formwork classified\n",
      "## 5 ##  Formwork area calculated for all elements\n",
      "## 6 ##  Results csv made\n",
      "## 7 ##  Formwork added in ifcfile\n"
     ]
    }
   ],
   "source": [
    "ifcfile = IfcFile(\"/Users/theodor/kode/master/TriFC/triFC/example_ifc/academic_test_2.ifc\")\n",
    "\n",
    "ifcfile.run_full_calculation(name=\"academic_test_2.csv\", \n",
    "                             result_filepath=\"/Users/theodor/kode/master/TriFC/triFC/example_results\",  \n",
    "                             ifc_name=\"academic_test_2_TriFC.ifc\", \n",
    "                             ifc_path=\"/Users/theodor/kode/master/TriFC/triFC/example_ifc\", \n",
    "                             printing=2, \n",
    "                             academic=True\n",
    "                             )"
   ]
  },
  {
   "cell_type": "code",
   "execution_count": 5,
   "metadata": {},
   "outputs": [
    {
     "name": "stdout",
     "output_type": "stream",
     "text": [
      "M_Footing-Rectangular:1800 x 1200 x 450mm:420618\n"
     ]
    },
    {
     "data": {
      "application/vnd.plotly.v1+json": {
       "config": {
        "plotlyServerURL": "https://plot.ly"
       },
       "data": [
        {
         "color": "blue",
         "i": [
          0
         ],
         "j": [
          1
         ],
         "k": [
          2
         ],
         "name": "0",
         "opacity": 0.9,
         "type": "mesh3d",
         "x": [
          -5.827874576234681,
          -4.627874576234682,
          -5.827874576234681
         ],
         "y": [
          -2.1700536543422944,
          -0.37005365434229487,
          -0.37005365434229487
         ],
         "z": [
          5.551115123125783e-17,
          5.551115123125783e-17,
          5.551115123125783e-17
         ]
        },
        {
         "line": {
          "color": "rgb(0,0,0)",
          "width": 5
         },
         "mode": "lines",
         "showlegend": false,
         "type": "scatter3d",
         "x": [
          -5.827874576234681,
          -5.827874576234681
         ],
         "y": [
          -0.37005365434229487,
          -2.1700536543422944
         ],
         "z": [
          5.551115123125783e-17,
          5.551115123125783e-17
         ]
        },
        {
         "line": {
          "color": "rgb(0,0,0)",
          "width": 5
         },
         "mode": "lines",
         "showlegend": false,
         "type": "scatter3d",
         "x": [
          -5.827874576234681,
          -4.627874576234682
         ],
         "y": [
          -2.1700536543422944,
          -0.37005365434229487
         ],
         "z": [
          5.551115123125783e-17,
          5.551115123125783e-17
         ]
        },
        {
         "line": {
          "color": "rgb(0,0,0)",
          "width": 5
         },
         "mode": "lines",
         "showlegend": false,
         "type": "scatter3d",
         "x": [
          -4.627874576234682,
          -5.827874576234681
         ],
         "y": [
          -0.37005365434229487,
          -0.37005365434229487
         ],
         "z": [
          5.551115123125783e-17,
          5.551115123125783e-17
         ]
        },
        {
         "color": "blue",
         "i": [
          0
         ],
         "j": [
          1
         ],
         "k": [
          2
         ],
         "name": "1",
         "opacity": 0.9,
         "type": "mesh3d",
         "x": [
          -5.827874576234681,
          -4.627874576234682,
          -4.627874576234682
         ],
         "y": [
          -2.1700536543422944,
          -2.1700536543422944,
          -0.37005365434229487
         ],
         "z": [
          5.551115123125783e-17,
          5.551115123125783e-17,
          5.551115123125783e-17
         ]
        },
        {
         "line": {
          "color": "rgb(0,0,0)",
          "width": 5
         },
         "mode": "lines",
         "showlegend": false,
         "type": "scatter3d",
         "x": [
          -4.627874576234682,
          -5.827874576234681
         ],
         "y": [
          -0.37005365434229487,
          -2.1700536543422944
         ],
         "z": [
          5.551115123125783e-17,
          5.551115123125783e-17
         ]
        },
        {
         "line": {
          "color": "rgb(0,0,0)",
          "width": 5
         },
         "mode": "lines",
         "showlegend": false,
         "type": "scatter3d",
         "x": [
          -5.827874576234681,
          -4.627874576234682
         ],
         "y": [
          -2.1700536543422944,
          -2.1700536543422944
         ],
         "z": [
          5.551115123125783e-17,
          5.551115123125783e-17
         ]
        },
        {
         "line": {
          "color": "rgb(0,0,0)",
          "width": 5
         },
         "mode": "lines",
         "showlegend": false,
         "type": "scatter3d",
         "x": [
          -4.627874576234682,
          -4.627874576234682
         ],
         "y": [
          -2.1700536543422944,
          -0.37005365434229487
         ],
         "z": [
          5.551115123125783e-17,
          5.551115123125783e-17
         ]
        },
        {
         "color": "red",
         "i": [
          0
         ],
         "j": [
          1
         ],
         "k": [
          2
         ],
         "name": "2",
         "opacity": 1,
         "type": "mesh3d",
         "x": [
          -5.521698777764974,
          -5.521698777764974,
          -5.827874576234681
         ],
         "y": [
          -0.37005365434229487,
          -0.37005365434229487,
          -0.37005365434229487
         ],
         "z": [
          -0.45,
          -0.3351840755738598,
          -0.45
         ]
        },
        {
         "line": {
          "color": "rgb(0,0,0)",
          "width": 5
         },
         "mode": "lines",
         "showlegend": false,
         "type": "scatter3d",
         "x": [
          -5.827874576234681,
          -5.521698777764974
         ],
         "y": [
          -0.37005365434229487,
          -0.37005365434229487
         ],
         "z": [
          -0.45,
          -0.45
         ]
        },
        {
         "line": {
          "color": "rgb(0,0,0)",
          "width": 5
         },
         "mode": "lines",
         "showlegend": false,
         "type": "scatter3d",
         "x": [
          -5.521698777764974,
          -5.521698777764974
         ],
         "y": [
          -0.37005365434229487,
          -0.37005365434229487
         ],
         "z": [
          -0.45,
          -0.3351840755738598
         ]
        },
        {
         "line": {
          "color": "rgb(0,0,0)",
          "width": 5
         },
         "mode": "lines",
         "showlegend": false,
         "type": "scatter3d",
         "x": [
          -5.521698777764974,
          -5.827874576234681
         ],
         "y": [
          -0.37005365434229487,
          -0.37005365434229487
         ],
         "z": [
          -0.3351840755738598,
          -0.45
         ]
        },
        {
         "color": "red",
         "i": [
          0
         ],
         "j": [
          1
         ],
         "k": [
          2
         ],
         "name": "3",
         "opacity": 1,
         "type": "mesh3d",
         "x": [
          -5.521698777764974,
          -5.827874576234681,
          -5.827874576234681
         ],
         "y": [
          -0.37005365434229487,
          -0.37005365434229487,
          -0.37005365434229487
         ],
         "z": [
          5.551115123125783e-17,
          -0.45,
          5.551115123125783e-17
         ]
        },
        {
         "line": {
          "color": "rgb(0,0,0)",
          "width": 5
         },
         "mode": "lines",
         "showlegend": false,
         "type": "scatter3d",
         "x": [
          -5.827874576234681,
          -5.521698777764974
         ],
         "y": [
          -0.37005365434229487,
          -0.37005365434229487
         ],
         "z": [
          5.551115123125783e-17,
          5.551115123125783e-17
         ]
        },
        {
         "line": {
          "color": "rgb(0,0,0)",
          "width": 5
         },
         "mode": "lines",
         "showlegend": false,
         "type": "scatter3d",
         "x": [
          -5.521698777764974,
          -5.827874576234681
         ],
         "y": [
          -0.37005365434229487,
          -0.37005365434229487
         ],
         "z": [
          5.551115123125783e-17,
          -0.45
         ]
        },
        {
         "line": {
          "color": "rgb(0,0,0)",
          "width": 5
         },
         "mode": "lines",
         "showlegend": false,
         "type": "scatter3d",
         "x": [
          -5.827874576234681,
          -5.827874576234681
         ],
         "y": [
          -0.37005365434229487,
          -0.37005365434229487
         ],
         "z": [
          -0.45,
          5.551115123125783e-17
         ]
        },
        {
         "color": "red",
         "i": [
          0
         ],
         "j": [
          1
         ],
         "k": [
          2
         ],
         "name": "4",
         "opacity": 1,
         "type": "mesh3d",
         "x": [
          -5.827874576234681,
          -5.827874576234681,
          -5.827874576234681
         ],
         "y": [
          -0.7756967649057682,
          -0.37005365434229487,
          -0.37005365434229487
         ],
         "z": [
          -0.45,
          5.551115123125783e-17,
          -0.45
         ]
        },
        {
         "line": {
          "color": "rgb(0,0,0)",
          "width": 5
         },
         "mode": "lines",
         "showlegend": false,
         "type": "scatter3d",
         "x": [
          -5.827874576234681,
          -5.827874576234681
         ],
         "y": [
          -0.37005365434229487,
          -0.7756967649057682
         ],
         "z": [
          -0.45,
          -0.45
         ]
        },
        {
         "line": {
          "color": "rgb(0,0,0)",
          "width": 5
         },
         "mode": "lines",
         "showlegend": false,
         "type": "scatter3d",
         "x": [
          -5.827874576234681,
          -5.827874576234681
         ],
         "y": [
          -0.7756967649057682,
          -0.37005365434229487
         ],
         "z": [
          -0.45,
          5.551115123125783e-17
         ]
        },
        {
         "line": {
          "color": "rgb(0,0,0)",
          "width": 5
         },
         "mode": "lines",
         "showlegend": false,
         "type": "scatter3d",
         "x": [
          -5.827874576234681,
          -5.827874576234681
         ],
         "y": [
          -0.37005365434229487,
          -0.37005365434229487
         ],
         "z": [
          5.551115123125783e-17,
          -0.45
         ]
        },
        {
         "color": "red",
         "i": [
          0
         ],
         "j": [
          1
         ],
         "k": [
          2
         ],
         "name": "5",
         "opacity": 1,
         "type": "mesh3d",
         "x": [
          -5.827874576234681,
          -5.827874576234681,
          -5.827874576234681
         ],
         "y": [
          -0.7756967649057682,
          -0.7756967649057682,
          -0.37005365434229487
         ],
         "z": [
          -0.45,
          -0.10141077764086835,
          5.551115123125783e-17
         ]
        },
        {
         "line": {
          "color": "rgb(0,0,0)",
          "width": 5
         },
         "mode": "lines",
         "showlegend": false,
         "type": "scatter3d",
         "x": [
          -5.827874576234681,
          -5.827874576234681
         ],
         "y": [
          -0.37005365434229487,
          -0.7756967649057682
         ],
         "z": [
          5.551115123125783e-17,
          -0.45
         ]
        },
        {
         "line": {
          "color": "rgb(0,0,0)",
          "width": 5
         },
         "mode": "lines",
         "showlegend": false,
         "type": "scatter3d",
         "x": [
          -5.827874576234681,
          -5.827874576234681
         ],
         "y": [
          -0.7756967649057682,
          -0.7756967649057682
         ],
         "z": [
          -0.45,
          -0.10141077764086835
         ]
        },
        {
         "line": {
          "color": "rgb(0,0,0)",
          "width": 5
         },
         "mode": "lines",
         "showlegend": false,
         "type": "scatter3d",
         "x": [
          -5.827874576234681,
          -5.827874576234681
         ],
         "y": [
          -0.7756967649057682,
          -0.37005365434229487
         ],
         "z": [
          -0.10141077764086835,
          5.551115123125783e-17
         ]
        },
        {
         "color": "red",
         "i": [
          0
         ],
         "j": [
          1
         ],
         "k": [
          2
         ],
         "name": "6",
         "opacity": 1,
         "type": "mesh3d",
         "x": [
          -5.827874576234681,
          -5.827874576234681,
          -5.827874576234681
         ],
         "y": [
          -1.3354969811450124,
          -2.1700536543422944,
          -2.1700536543422944
         ],
         "z": [
          5.551115123125783e-17,
          -0.45,
          5.551115123125783e-17
         ]
        },
        {
         "line": {
          "color": "rgb(0,0,0)",
          "width": 5
         },
         "mode": "lines",
         "showlegend": false,
         "type": "scatter3d",
         "x": [
          -5.827874576234681,
          -5.827874576234681
         ],
         "y": [
          -2.1700536543422944,
          -1.3354969811450124
         ],
         "z": [
          5.551115123125783e-17,
          5.551115123125783e-17
         ]
        },
        {
         "line": {
          "color": "rgb(0,0,0)",
          "width": 5
         },
         "mode": "lines",
         "showlegend": false,
         "type": "scatter3d",
         "x": [
          -5.827874576234681,
          -5.827874576234681
         ],
         "y": [
          -1.3354969811450124,
          -2.1700536543422944
         ],
         "z": [
          5.551115123125783e-17,
          -0.45
         ]
        },
        {
         "line": {
          "color": "rgb(0,0,0)",
          "width": 5
         },
         "mode": "lines",
         "showlegend": false,
         "type": "scatter3d",
         "x": [
          -5.827874576234681,
          -5.827874576234681
         ],
         "y": [
          -2.1700536543422944,
          -2.1700536543422944
         ],
         "z": [
          -0.45,
          5.551115123125783e-17
         ]
        },
        {
         "color": "red",
         "i": [
          0
         ],
         "j": [
          1
         ],
         "k": [
          2
         ],
         "name": "7",
         "opacity": 1,
         "type": "mesh3d",
         "x": [
          -4.722195529917948,
          -5.827874576234681,
          -5.827874576234681
         ],
         "y": [
          -2.1700536543422944,
          -2.1700536543422944,
          -2.1700536543422944
         ],
         "z": [
          -0.45,
          5.551115123125783e-17,
          -0.45
         ]
        },
        {
         "line": {
          "color": "rgb(0,0,0)",
          "width": 5
         },
         "mode": "lines",
         "showlegend": false,
         "type": "scatter3d",
         "x": [
          -5.827874576234681,
          -4.722195529917948
         ],
         "y": [
          -2.1700536543422944,
          -2.1700536543422944
         ],
         "z": [
          -0.45,
          -0.45
         ]
        },
        {
         "line": {
          "color": "rgb(0,0,0)",
          "width": 5
         },
         "mode": "lines",
         "showlegend": false,
         "type": "scatter3d",
         "x": [
          -4.722195529917948,
          -5.827874576234681
         ],
         "y": [
          -2.1700536543422944,
          -2.1700536543422944
         ],
         "z": [
          -0.45,
          5.551115123125783e-17
         ]
        },
        {
         "line": {
          "color": "rgb(0,0,0)",
          "width": 5
         },
         "mode": "lines",
         "showlegend": false,
         "type": "scatter3d",
         "x": [
          -5.827874576234681,
          -5.827874576234681
         ],
         "y": [
          -2.1700536543422944,
          -2.1700536543422944
         ],
         "z": [
          5.551115123125783e-17,
          -0.45
         ]
        },
        {
         "color": "red",
         "i": [
          0
         ],
         "j": [
          1
         ],
         "k": [
          2
         ],
         "name": "8",
         "opacity": 1,
         "type": "mesh3d",
         "x": [
          -4.722195529917948,
          -4.722195529917948,
          -5.827874576234681
         ],
         "y": [
          -2.1700536543422944,
          -2.1700536543422944,
          -2.1700536543422944
         ],
         "z": [
          -0.45,
          -0.41462964236877503,
          5.551115123125783e-17
         ]
        },
        {
         "line": {
          "color": "rgb(0,0,0)",
          "width": 5
         },
         "mode": "lines",
         "showlegend": false,
         "type": "scatter3d",
         "x": [
          -5.827874576234681,
          -4.722195529917948
         ],
         "y": [
          -2.1700536543422944,
          -2.1700536543422944
         ],
         "z": [
          5.551115123125783e-17,
          -0.45
         ]
        },
        {
         "line": {
          "color": "rgb(0,0,0)",
          "width": 5
         },
         "mode": "lines",
         "showlegend": false,
         "type": "scatter3d",
         "x": [
          -4.722195529917948,
          -4.722195529917948
         ],
         "y": [
          -2.1700536543422944,
          -2.1700536543422944
         ],
         "z": [
          -0.45,
          -0.41462964236877503
         ]
        },
        {
         "line": {
          "color": "rgb(0,0,0)",
          "width": 5
         },
         "mode": "lines",
         "showlegend": false,
         "type": "scatter3d",
         "x": [
          -4.722195529917948,
          -5.827874576234681
         ],
         "y": [
          -2.1700536543422944,
          -2.1700536543422944
         ],
         "z": [
          -0.41462964236877503,
          5.551115123125783e-17
         ]
        },
        {
         "color": "blue",
         "i": [
          0
         ],
         "j": [
          1
         ],
         "k": [
          2
         ],
         "name": "9",
         "opacity": 0.9,
         "type": "mesh3d",
         "x": [
          -4.722195529917948,
          -4.722195529917948,
          -4.627874576234682
         ],
         "y": [
          -2.1700536543422944,
          -2.1700536543422944,
          -2.1700536543422944
         ],
         "z": [
          -0.45,
          -0.41462964236877503,
          -0.45
         ]
        },
        {
         "line": {
          "color": "rgb(0,0,0)",
          "width": 5
         },
         "mode": "lines",
         "showlegend": false,
         "type": "scatter3d",
         "x": [
          -4.627874576234682,
          -4.722195529917948
         ],
         "y": [
          -2.1700536543422944,
          -2.1700536543422944
         ],
         "z": [
          -0.45,
          -0.45
         ]
        },
        {
         "line": {
          "color": "rgb(0,0,0)",
          "width": 5
         },
         "mode": "lines",
         "showlegend": false,
         "type": "scatter3d",
         "x": [
          -4.722195529917948,
          -4.722195529917948
         ],
         "y": [
          -2.1700536543422944,
          -2.1700536543422944
         ],
         "z": [
          -0.45,
          -0.41462964236877503
         ]
        },
        {
         "line": {
          "color": "rgb(0,0,0)",
          "width": 5
         },
         "mode": "lines",
         "showlegend": false,
         "type": "scatter3d",
         "x": [
          -4.722195529917948,
          -4.627874576234682
         ],
         "y": [
          -2.1700536543422944,
          -2.1700536543422944
         ],
         "z": [
          -0.41462964236877503,
          -0.45
         ]
        },
        {
         "color": "red",
         "i": [
          0
         ],
         "j": [
          1
         ],
         "k": [
          2
         ],
         "name": "10",
         "opacity": 1,
         "type": "mesh3d",
         "x": [
          -5.454541242901348,
          -4.627874576234682,
          -5.827874576234681
         ],
         "y": [
          -2.1700536543422944,
          -2.1700536543422944,
          -2.1700536543422944
         ],
         "z": [
          -0.14000000000000012,
          5.551115123125783e-17,
          5.551115123125783e-17
         ]
        },
        {
         "line": {
          "color": "rgb(0,0,0)",
          "width": 5
         },
         "mode": "lines",
         "showlegend": false,
         "type": "scatter3d",
         "x": [
          -5.827874576234681,
          -5.454541242901348
         ],
         "y": [
          -2.1700536543422944,
          -2.1700536543422944
         ],
         "z": [
          5.551115123125783e-17,
          -0.14000000000000012
         ]
        },
        {
         "line": {
          "color": "rgb(0,0,0)",
          "width": 5
         },
         "mode": "lines",
         "showlegend": false,
         "type": "scatter3d",
         "x": [
          -5.454541242901348,
          -4.627874576234682
         ],
         "y": [
          -2.1700536543422944,
          -2.1700536543422944
         ],
         "z": [
          -0.14000000000000012,
          5.551115123125783e-17
         ]
        },
        {
         "line": {
          "color": "rgb(0,0,0)",
          "width": 5
         },
         "mode": "lines",
         "showlegend": false,
         "type": "scatter3d",
         "x": [
          -4.627874576234682,
          -5.827874576234681
         ],
         "y": [
          -2.1700536543422944,
          -2.1700536543422944
         ],
         "z": [
          5.551115123125783e-17,
          5.551115123125783e-17
         ]
        },
        {
         "color": "red",
         "i": [
          0
         ],
         "j": [
          1
         ],
         "k": [
          2
         ],
         "name": "11",
         "opacity": 1,
         "type": "mesh3d",
         "x": [
          -5.454541242901348,
          -4.627874576234682,
          -4.627874576234682
         ],
         "y": [
          -2.1700536543422944,
          -2.1700536543422944,
          -2.1700536543422944
         ],
         "z": [
          -0.14000000000000012,
          -0.14000000000000012,
          5.551115123125783e-17
         ]
        },
        {
         "line": {
          "color": "rgb(0,0,0)",
          "width": 5
         },
         "mode": "lines",
         "showlegend": false,
         "type": "scatter3d",
         "x": [
          -4.627874576234682,
          -5.454541242901348
         ],
         "y": [
          -2.1700536543422944,
          -2.1700536543422944
         ],
         "z": [
          5.551115123125783e-17,
          -0.14000000000000012
         ]
        },
        {
         "line": {
          "color": "rgb(0,0,0)",
          "width": 5
         },
         "mode": "lines",
         "showlegend": false,
         "type": "scatter3d",
         "x": [
          -5.454541242901348,
          -4.627874576234682
         ],
         "y": [
          -2.1700536543422944,
          -2.1700536543422944
         ],
         "z": [
          -0.14000000000000012,
          -0.14000000000000012
         ]
        },
        {
         "line": {
          "color": "rgb(0,0,0)",
          "width": 5
         },
         "mode": "lines",
         "showlegend": false,
         "type": "scatter3d",
         "x": [
          -4.627874576234682,
          -4.627874576234682
         ],
         "y": [
          -2.1700536543422944,
          -2.1700536543422944
         ],
         "z": [
          -0.14000000000000012,
          5.551115123125783e-17
         ]
        },
        {
         "color": "red",
         "i": [
          0
         ],
         "j": [
          1
         ],
         "k": [
          2
         ],
         "name": "12",
         "opacity": 1,
         "type": "mesh3d",
         "x": [
          -4.627874576234682,
          -4.627874576234682,
          -4.627874576234682
         ],
         "y": [
          -0.7377896605511145,
          -0.7377896605511145,
          -0.37005365434229487
         ],
         "z": [
          -0.45,
          -0.3580659984477951,
          -0.45
         ]
        },
        {
         "line": {
          "color": "rgb(0,0,0)",
          "width": 5
         },
         "mode": "lines",
         "showlegend": false,
         "type": "scatter3d",
         "x": [
          -4.627874576234682,
          -4.627874576234682
         ],
         "y": [
          -0.37005365434229487,
          -0.7377896605511145
         ],
         "z": [
          -0.45,
          -0.45
         ]
        },
        {
         "line": {
          "color": "rgb(0,0,0)",
          "width": 5
         },
         "mode": "lines",
         "showlegend": false,
         "type": "scatter3d",
         "x": [
          -4.627874576234682,
          -4.627874576234682
         ],
         "y": [
          -0.7377896605511145,
          -0.7377896605511145
         ],
         "z": [
          -0.45,
          -0.3580659984477951
         ]
        },
        {
         "line": {
          "color": "rgb(0,0,0)",
          "width": 5
         },
         "mode": "lines",
         "showlegend": false,
         "type": "scatter3d",
         "x": [
          -4.627874576234682,
          -4.627874576234682
         ],
         "y": [
          -0.7377896605511145,
          -0.37005365434229487
         ],
         "z": [
          -0.3580659984477951,
          -0.45
         ]
        },
        {
         "color": "red",
         "i": [
          0
         ],
         "j": [
          1
         ],
         "k": [
          2
         ],
         "name": "13",
         "opacity": 1,
         "type": "mesh3d",
         "x": [
          -4.627874576234682,
          -4.627874576234682,
          -4.627874576234682
         ],
         "y": [
          -0.7377896605511147,
          -0.37005365434229487,
          -0.37005365434229487
         ],
         "z": [
          5.551115123125783e-17,
          -0.45,
          5.551115123125783e-17
         ]
        },
        {
         "line": {
          "color": "rgb(0,0,0)",
          "width": 5
         },
         "mode": "lines",
         "showlegend": false,
         "type": "scatter3d",
         "x": [
          -4.627874576234682,
          -4.627874576234682
         ],
         "y": [
          -0.37005365434229487,
          -0.7377896605511147
         ],
         "z": [
          5.551115123125783e-17,
          5.551115123125783e-17
         ]
        },
        {
         "line": {
          "color": "rgb(0,0,0)",
          "width": 5
         },
         "mode": "lines",
         "showlegend": false,
         "type": "scatter3d",
         "x": [
          -4.627874576234682,
          -4.627874576234682
         ],
         "y": [
          -0.7377896605511147,
          -0.37005365434229487
         ],
         "z": [
          5.551115123125783e-17,
          -0.45
         ]
        },
        {
         "line": {
          "color": "rgb(0,0,0)",
          "width": 5
         },
         "mode": "lines",
         "showlegend": false,
         "type": "scatter3d",
         "x": [
          -4.627874576234682,
          -4.627874576234682
         ],
         "y": [
          -0.37005365434229487,
          -0.37005365434229487
         ],
         "z": [
          -0.45,
          5.551115123125783e-17
         ]
        },
        {
         "color": "red",
         "i": [
          0
         ],
         "j": [
          1
         ],
         "k": [
          2
         ],
         "name": "14",
         "opacity": 1,
         "type": "mesh3d",
         "x": [
          -5.827874576234681,
          -5.521698777764974,
          -5.827874576234681
         ],
         "y": [
          -0.7756967649057684,
          -0.37005365434229487,
          -0.37005365434229487
         ],
         "z": [
          -0.45,
          -0.45,
          -0.45
         ]
        },
        {
         "line": {
          "color": "rgb(0,0,0)",
          "width": 5
         },
         "mode": "lines",
         "showlegend": false,
         "type": "scatter3d",
         "x": [
          -5.827874576234681,
          -5.827874576234681
         ],
         "y": [
          -0.37005365434229487,
          -0.7756967649057684
         ],
         "z": [
          -0.45,
          -0.45
         ]
        },
        {
         "line": {
          "color": "rgb(0,0,0)",
          "width": 5
         },
         "mode": "lines",
         "showlegend": false,
         "type": "scatter3d",
         "x": [
          -5.827874576234681,
          -5.521698777764974
         ],
         "y": [
          -0.7756967649057684,
          -0.37005365434229487
         ],
         "z": [
          -0.45,
          -0.45
         ]
        },
        {
         "line": {
          "color": "rgb(0,0,0)",
          "width": 5
         },
         "mode": "lines",
         "showlegend": false,
         "type": "scatter3d",
         "x": [
          -5.521698777764974,
          -5.827874576234681
         ],
         "y": [
          -0.37005365434229487,
          -0.37005365434229487
         ],
         "z": [
          -0.45,
          -0.45
         ]
        },
        {
         "color": "red",
         "i": [
          0
         ],
         "j": [
          1
         ],
         "k": [
          2
         ],
         "name": "15",
         "opacity": 1,
         "type": "mesh3d",
         "x": [
          -4.722195529917948,
          -5.45774863269159,
          -5.827874576234681
         ],
         "y": [
          -2.1700536543422944,
          -1.6148647390276576,
          -2.1700536543422944
         ],
         "z": [
          -0.45,
          -0.45,
          -0.45
         ]
        },
        {
         "line": {
          "color": "rgb(0,0,0)",
          "width": 5
         },
         "mode": "lines",
         "showlegend": false,
         "type": "scatter3d",
         "x": [
          -5.827874576234681,
          -4.722195529917948
         ],
         "y": [
          -2.1700536543422944,
          -2.1700536543422944
         ],
         "z": [
          -0.45,
          -0.45
         ]
        },
        {
         "line": {
          "color": "rgb(0,0,0)",
          "width": 5
         },
         "mode": "lines",
         "showlegend": false,
         "type": "scatter3d",
         "x": [
          -4.722195529917948,
          -5.45774863269159
         ],
         "y": [
          -2.1700536543422944,
          -1.6148647390276576
         ],
         "z": [
          -0.45,
          -0.45
         ]
        },
        {
         "line": {
          "color": "rgb(0,0,0)",
          "width": 5
         },
         "mode": "lines",
         "showlegend": false,
         "type": "scatter3d",
         "x": [
          -5.45774863269159,
          -5.827874576234681
         ],
         "y": [
          -1.6148647390276576,
          -2.1700536543422944
         ],
         "z": [
          -0.45,
          -0.45
         ]
        },
        {
         "color": "red",
         "i": [
          0
         ],
         "j": [
          1
         ],
         "k": [
          2
         ],
         "name": "16",
         "opacity": 1,
         "type": "mesh3d",
         "x": [
          -5.115076955293696,
          -4.627874576234682,
          -4.627874576234682
         ],
         "y": [
          -0.37005365434229487,
          -0.37005365434229487,
          -0.37005365434229487
         ],
         "z": [
          -0.45,
          5.551115123125783e-17,
          -0.45
         ]
        },
        {
         "line": {
          "color": "rgb(0,0,0)",
          "width": 5
         },
         "mode": "lines",
         "showlegend": false,
         "type": "scatter3d",
         "x": [
          -4.627874576234682,
          -5.115076955293696
         ],
         "y": [
          -0.37005365434229487,
          -0.37005365434229487
         ],
         "z": [
          -0.45,
          -0.45
         ]
        },
        {
         "line": {
          "color": "rgb(0,0,0)",
          "width": 5
         },
         "mode": "lines",
         "showlegend": false,
         "type": "scatter3d",
         "x": [
          -5.115076955293696,
          -4.627874576234682
         ],
         "y": [
          -0.37005365434229487,
          -0.37005365434229487
         ],
         "z": [
          -0.45,
          5.551115123125783e-17
         ]
        },
        {
         "line": {
          "color": "rgb(0,0,0)",
          "width": 5
         },
         "mode": "lines",
         "showlegend": false,
         "type": "scatter3d",
         "x": [
          -4.627874576234682,
          -4.627874576234682
         ],
         "y": [
          -0.37005365434229487,
          -0.37005365434229487
         ],
         "z": [
          5.551115123125783e-17,
          -0.45
         ]
        },
        {
         "color": "red",
         "i": [
          0
         ],
         "j": [
          1
         ],
         "k": [
          2
         ],
         "name": "17",
         "opacity": 1,
         "type": "mesh3d",
         "x": [
          -5.115076955293696,
          -5.115076955293696,
          -4.627874576234682
         ],
         "y": [
          -0.37005365434229487,
          -0.37005365434229487,
          -0.37005365434229487
         ],
         "z": [
          -0.45,
          -0.24528433018618168,
          5.551115123125783e-17
         ]
        },
        {
         "line": {
          "color": "rgb(0,0,0)",
          "width": 5
         },
         "mode": "lines",
         "showlegend": false,
         "type": "scatter3d",
         "x": [
          -4.627874576234682,
          -5.115076955293696
         ],
         "y": [
          -0.37005365434229487,
          -0.37005365434229487
         ],
         "z": [
          5.551115123125783e-17,
          -0.45
         ]
        },
        {
         "line": {
          "color": "rgb(0,0,0)",
          "width": 5
         },
         "mode": "lines",
         "showlegend": false,
         "type": "scatter3d",
         "x": [
          -5.115076955293696,
          -5.115076955293696
         ],
         "y": [
          -0.37005365434229487,
          -0.37005365434229487
         ],
         "z": [
          -0.45,
          -0.24528433018618168
         ]
        },
        {
         "line": {
          "color": "rgb(0,0,0)",
          "width": 5
         },
         "mode": "lines",
         "showlegend": false,
         "type": "scatter3d",
         "x": [
          -5.115076955293696,
          -4.627874576234682
         ],
         "y": [
          -0.37005365434229487,
          -0.37005365434229487
         ],
         "z": [
          -0.24528433018618168,
          5.551115123125783e-17
         ]
        },
        {
         "color": "blue",
         "i": [
          0
         ],
         "j": [
          1
         ],
         "k": [
          2
         ],
         "name": "18",
         "opacity": 0.9,
         "type": "mesh3d",
         "x": [
          -5.115076955293696,
          -5.115076955293696,
          -5.521698777764974
         ],
         "y": [
          -0.37005365434229487,
          -0.37005365434229487,
          -0.37005365434229487
         ],
         "z": [
          -0.45,
          -0.24528433018618168,
          -0.45
         ]
        },
        {
         "line": {
          "color": "rgb(0,0,0)",
          "width": 5
         },
         "mode": "lines",
         "showlegend": false,
         "type": "scatter3d",
         "x": [
          -5.521698777764974,
          -5.115076955293696
         ],
         "y": [
          -0.37005365434229487,
          -0.37005365434229487
         ],
         "z": [
          -0.45,
          -0.45
         ]
        },
        {
         "line": {
          "color": "rgb(0,0,0)",
          "width": 5
         },
         "mode": "lines",
         "showlegend": false,
         "type": "scatter3d",
         "x": [
          -5.115076955293696,
          -5.115076955293696
         ],
         "y": [
          -0.37005365434229487,
          -0.37005365434229487
         ],
         "z": [
          -0.45,
          -0.24528433018618168
         ]
        },
        {
         "line": {
          "color": "rgb(0,0,0)",
          "width": 5
         },
         "mode": "lines",
         "showlegend": false,
         "type": "scatter3d",
         "x": [
          -5.115076955293696,
          -5.521698777764974
         ],
         "y": [
          -0.37005365434229487,
          -0.37005365434229487
         ],
         "z": [
          -0.24528433018618168,
          -0.45
         ]
        },
        {
         "color": "blue",
         "i": [
          0
         ],
         "j": [
          1
         ],
         "k": [
          2
         ],
         "name": "19",
         "opacity": 0.9,
         "type": "mesh3d",
         "x": [
          -5.115076955293696,
          -5.521698777764974,
          -5.521698777764974
         ],
         "y": [
          -0.37005365434229487,
          -0.37005365434229487,
          -0.37005365434229487
         ],
         "z": [
          -0.1827008921471304,
          -0.45,
          -0.3351840755738598
         ]
        },
        {
         "line": {
          "color": "rgb(0,0,0)",
          "width": 5
         },
         "mode": "lines",
         "showlegend": false,
         "type": "scatter3d",
         "x": [
          -5.521698777764974,
          -5.115076955293696
         ],
         "y": [
          -0.37005365434229487,
          -0.37005365434229487
         ],
         "z": [
          -0.3351840755738598,
          -0.1827008921471304
         ]
        },
        {
         "line": {
          "color": "rgb(0,0,0)",
          "width": 5
         },
         "mode": "lines",
         "showlegend": false,
         "type": "scatter3d",
         "x": [
          -5.115076955293696,
          -5.521698777764974
         ],
         "y": [
          -0.37005365434229487,
          -0.37005365434229487
         ],
         "z": [
          -0.1827008921471304,
          -0.45
         ]
        },
        {
         "line": {
          "color": "rgb(0,0,0)",
          "width": 5
         },
         "mode": "lines",
         "showlegend": false,
         "type": "scatter3d",
         "x": [
          -5.521698777764974,
          -5.521698777764974
         ],
         "y": [
          -0.37005365434229487,
          -0.37005365434229487
         ],
         "z": [
          -0.45,
          -0.3351840755738598
         ]
        },
        {
         "color": "blue",
         "i": [
          0
         ],
         "j": [
          1
         ],
         "k": [
          2
         ],
         "name": "20",
         "opacity": 0.9,
         "type": "mesh3d",
         "x": [
          -5.115076955293696,
          -5.115076955293696,
          -5.521698777764974
         ],
         "y": [
          -0.37005365434229487,
          -0.37005365434229487,
          -0.37005365434229487
         ],
         "z": [
          -0.1827008921471304,
          -0.24528433018618162,
          -0.45
         ]
        },
        {
         "line": {
          "color": "rgb(0,0,0)",
          "width": 5
         },
         "mode": "lines",
         "showlegend": false,
         "type": "scatter3d",
         "x": [
          -5.521698777764974,
          -5.115076955293696
         ],
         "y": [
          -0.37005365434229487,
          -0.37005365434229487
         ],
         "z": [
          -0.45,
          -0.1827008921471304
         ]
        },
        {
         "line": {
          "color": "rgb(0,0,0)",
          "width": 5
         },
         "mode": "lines",
         "showlegend": false,
         "type": "scatter3d",
         "x": [
          -5.115076955293696,
          -5.115076955293696
         ],
         "y": [
          -0.37005365434229487,
          -0.37005365434229487
         ],
         "z": [
          -0.1827008921471304,
          -0.24528433018618162
         ]
        },
        {
         "line": {
          "color": "rgb(0,0,0)",
          "width": 5
         },
         "mode": "lines",
         "showlegend": false,
         "type": "scatter3d",
         "x": [
          -5.115076955293696,
          -5.521698777764974
         ],
         "y": [
          -0.37005365434229487,
          -0.37005365434229487
         ],
         "z": [
          -0.24528433018618162,
          -0.45
         ]
        },
        {
         "color": "red",
         "i": [
          0
         ],
         "j": [
          1
         ],
         "k": [
          2
         ],
         "name": "21",
         "opacity": 1,
         "type": "mesh3d",
         "x": [
          -5.115076955293696,
          -5.115076955293696,
          -4.627874576234682
         ],
         "y": [
          -0.37005365434229487,
          -0.37005365434229487,
          -0.37005365434229487
         ],
         "z": [
          -0.1827008921471304,
          -0.24528433018618162,
          5.551115123125783e-17
         ]
        },
        {
         "line": {
          "color": "rgb(0,0,0)",
          "width": 5
         },
         "mode": "lines",
         "showlegend": false,
         "type": "scatter3d",
         "x": [
          -4.627874576234682,
          -5.115076955293696
         ],
         "y": [
          -0.37005365434229487,
          -0.37005365434229487
         ],
         "z": [
          5.551115123125783e-17,
          -0.1827008921471304
         ]
        },
        {
         "line": {
          "color": "rgb(0,0,0)",
          "width": 5
         },
         "mode": "lines",
         "showlegend": false,
         "type": "scatter3d",
         "x": [
          -5.115076955293696,
          -5.115076955293696
         ],
         "y": [
          -0.37005365434229487,
          -0.37005365434229487
         ],
         "z": [
          -0.1827008921471304,
          -0.24528433018618162
         ]
        },
        {
         "line": {
          "color": "rgb(0,0,0)",
          "width": 5
         },
         "mode": "lines",
         "showlegend": false,
         "type": "scatter3d",
         "x": [
          -5.115076955293696,
          -4.627874576234682
         ],
         "y": [
          -0.37005365434229487,
          -0.37005365434229487
         ],
         "z": [
          -0.24528433018618162,
          5.551115123125783e-17
         ]
        },
        {
         "color": "red",
         "i": [
          0
         ],
         "j": [
          1
         ],
         "k": [
          2
         ],
         "name": "22",
         "opacity": 1,
         "type": "mesh3d",
         "x": [
          -5.616953470622216,
          -5.521698777764974,
          -5.827874576234681
         ],
         "y": [
          -0.37005365434229487,
          -0.37005365434229487,
          -0.37005365434229487
         ],
         "z": [
          -0.14000000000000012,
          -0.3351840755738599,
          -0.45
         ]
        },
        {
         "line": {
          "color": "rgb(0,0,0)",
          "width": 5
         },
         "mode": "lines",
         "showlegend": false,
         "type": "scatter3d",
         "x": [
          -5.827874576234681,
          -5.616953470622216
         ],
         "y": [
          -0.37005365434229487,
          -0.37005365434229487
         ],
         "z": [
          -0.45,
          -0.14000000000000012
         ]
        },
        {
         "line": {
          "color": "rgb(0,0,0)",
          "width": 5
         },
         "mode": "lines",
         "showlegend": false,
         "type": "scatter3d",
         "x": [
          -5.616953470622216,
          -5.521698777764974
         ],
         "y": [
          -0.37005365434229487,
          -0.37005365434229487
         ],
         "z": [
          -0.14000000000000012,
          -0.3351840755738599
         ]
        },
        {
         "line": {
          "color": "rgb(0,0,0)",
          "width": 5
         },
         "mode": "lines",
         "showlegend": false,
         "type": "scatter3d",
         "x": [
          -5.521698777764974,
          -5.827874576234681
         ],
         "y": [
          -0.37005365434229487,
          -0.37005365434229487
         ],
         "z": [
          -0.3351840755738599,
          -0.45
         ]
        },
        {
         "color": "red",
         "i": [
          0
         ],
         "j": [
          1
         ],
         "k": [
          2
         ],
         "name": "23",
         "opacity": 1,
         "type": "mesh3d",
         "x": [
          -5.616953470622216,
          -5.521698777764974,
          -5.521698777764974
         ],
         "y": [
          -0.37005365434229487,
          -0.37005365434229487,
          -0.37005365434229487
         ],
         "z": [
          -0.14000000000000012,
          -0.14000000000000015,
          -0.3351840755738599
         ]
        },
        {
         "line": {
          "color": "rgb(0,0,0)",
          "width": 5
         },
         "mode": "lines",
         "showlegend": false,
         "type": "scatter3d",
         "x": [
          -5.521698777764974,
          -5.616953470622216
         ],
         "y": [
          -0.37005365434229487,
          -0.37005365434229487
         ],
         "z": [
          -0.3351840755738599,
          -0.14000000000000012
         ]
        },
        {
         "line": {
          "color": "rgb(0,0,0)",
          "width": 5
         },
         "mode": "lines",
         "showlegend": false,
         "type": "scatter3d",
         "x": [
          -5.616953470622216,
          -5.521698777764974
         ],
         "y": [
          -0.37005365434229487,
          -0.37005365434229487
         ],
         "z": [
          -0.14000000000000012,
          -0.14000000000000015
         ]
        },
        {
         "line": {
          "color": "rgb(0,0,0)",
          "width": 5
         },
         "mode": "lines",
         "showlegend": false,
         "type": "scatter3d",
         "x": [
          -5.521698777764974,
          -5.521698777764974
         ],
         "y": [
          -0.37005365434229487,
          -0.37005365434229487
         ],
         "z": [
          -0.14000000000000015,
          -0.3351840755738599
         ]
        },
        {
         "color": "red",
         "i": [
          0
         ],
         "j": [
          1
         ],
         "k": [
          2
         ],
         "name": "24",
         "opacity": 1,
         "type": "mesh3d",
         "x": [
          -5.616953470622216,
          -5.521698777764974,
          -5.521698777764974
         ],
         "y": [
          -0.37005365434229487,
          -0.37005365434229487,
          -0.37005365434229487
         ],
         "z": [
          -0.14000000000000012,
          -0.14000000000000015,
          5.551115123125783e-17
         ]
        },
        {
         "line": {
          "color": "rgb(0,0,0)",
          "width": 5
         },
         "mode": "lines",
         "showlegend": false,
         "type": "scatter3d",
         "x": [
          -5.521698777764974,
          -5.616953470622216
         ],
         "y": [
          -0.37005365434229487,
          -0.37005365434229487
         ],
         "z": [
          5.551115123125783e-17,
          -0.14000000000000012
         ]
        },
        {
         "line": {
          "color": "rgb(0,0,0)",
          "width": 5
         },
         "mode": "lines",
         "showlegend": false,
         "type": "scatter3d",
         "x": [
          -5.616953470622216,
          -5.521698777764974
         ],
         "y": [
          -0.37005365434229487,
          -0.37005365434229487
         ],
         "z": [
          -0.14000000000000012,
          -0.14000000000000015
         ]
        },
        {
         "line": {
          "color": "rgb(0,0,0)",
          "width": 5
         },
         "mode": "lines",
         "showlegend": false,
         "type": "scatter3d",
         "x": [
          -5.521698777764974,
          -5.521698777764974
         ],
         "y": [
          -0.37005365434229487,
          -0.37005365434229487
         ],
         "z": [
          -0.14000000000000015,
          5.551115123125783e-17
         ]
        },
        {
         "color": "red",
         "i": [
          0
         ],
         "j": [
          1
         ],
         "k": [
          2
         ],
         "name": "25",
         "opacity": 1,
         "type": "mesh3d",
         "x": [
          -5.115076955293696,
          -5.115076955293696,
          -4.627874576234682
         ],
         "y": [
          -0.37005365434229487,
          -0.37005365434229487,
          -0.37005365434229487
         ],
         "z": [
          -0.18270089214713042,
          5.551115123125783e-17,
          5.551115123125783e-17
         ]
        },
        {
         "line": {
          "color": "rgb(0,0,0)",
          "width": 5
         },
         "mode": "lines",
         "showlegend": false,
         "type": "scatter3d",
         "x": [
          -4.627874576234682,
          -5.115076955293696
         ],
         "y": [
          -0.37005365434229487,
          -0.37005365434229487
         ],
         "z": [
          5.551115123125783e-17,
          -0.18270089214713042
         ]
        },
        {
         "line": {
          "color": "rgb(0,0,0)",
          "width": 5
         },
         "mode": "lines",
         "showlegend": false,
         "type": "scatter3d",
         "x": [
          -5.115076955293696,
          -5.115076955293696
         ],
         "y": [
          -0.37005365434229487,
          -0.37005365434229487
         ],
         "z": [
          -0.18270089214713042,
          5.551115123125783e-17
         ]
        },
        {
         "line": {
          "color": "rgb(0,0,0)",
          "width": 5
         },
         "mode": "lines",
         "showlegend": false,
         "type": "scatter3d",
         "x": [
          -5.115076955293696,
          -4.627874576234682
         ],
         "y": [
          -0.37005365434229487,
          -0.37005365434229487
         ],
         "z": [
          5.551115123125783e-17,
          5.551115123125783e-17
         ]
        },
        {
         "color": "blue",
         "i": [
          0
         ],
         "j": [
          1
         ],
         "k": [
          2
         ],
         "name": "26",
         "opacity": 0.9,
         "type": "mesh3d",
         "x": [
          -5.827874576234681,
          -5.827874576234681,
          -5.827874576234681
         ],
         "y": [
          -1.3354969811450124,
          -1.3354969811450124,
          -0.7756967649057682
         ],
         "z": [
          -0.2413608317006794,
          -0.45,
          -0.45
         ]
        },
        {
         "line": {
          "color": "rgb(0,0,0)",
          "width": 5
         },
         "mode": "lines",
         "showlegend": false,
         "type": "scatter3d",
         "x": [
          -5.827874576234681,
          -5.827874576234681
         ],
         "y": [
          -0.7756967649057682,
          -1.3354969811450124
         ],
         "z": [
          -0.45,
          -0.2413608317006794
         ]
        },
        {
         "line": {
          "color": "rgb(0,0,0)",
          "width": 5
         },
         "mode": "lines",
         "showlegend": false,
         "type": "scatter3d",
         "x": [
          -5.827874576234681,
          -5.827874576234681
         ],
         "y": [
          -1.3354969811450124,
          -1.3354969811450124
         ],
         "z": [
          -0.2413608317006794,
          -0.45
         ]
        },
        {
         "line": {
          "color": "rgb(0,0,0)",
          "width": 5
         },
         "mode": "lines",
         "showlegend": false,
         "type": "scatter3d",
         "x": [
          -5.827874576234681,
          -5.827874576234681
         ],
         "y": [
          -1.3354969811450124,
          -0.7756967649057682
         ],
         "z": [
          -0.45,
          -0.45
         ]
        },
        {
         "color": "red",
         "i": [
          0
         ],
         "j": [
          1
         ],
         "k": [
          2
         ],
         "name": "27",
         "opacity": 1,
         "type": "mesh3d",
         "x": [
          -5.827874576234681,
          -5.827874576234681,
          -5.827874576234681
         ],
         "y": [
          -1.3354969811450124,
          -1.3354969811450124,
          -2.1700536543422944
         ],
         "z": [
          -0.2413608317006794,
          -0.45,
          -0.45
         ]
        },
        {
         "line": {
          "color": "rgb(0,0,0)",
          "width": 5
         },
         "mode": "lines",
         "showlegend": false,
         "type": "scatter3d",
         "x": [
          -5.827874576234681,
          -5.827874576234681
         ],
         "y": [
          -2.1700536543422944,
          -1.3354969811450124
         ],
         "z": [
          -0.45,
          -0.2413608317006794
         ]
        },
        {
         "line": {
          "color": "rgb(0,0,0)",
          "width": 5
         },
         "mode": "lines",
         "showlegend": false,
         "type": "scatter3d",
         "x": [
          -5.827874576234681,
          -5.827874576234681
         ],
         "y": [
          -1.3354969811450124,
          -1.3354969811450124
         ],
         "z": [
          -0.2413608317006794,
          -0.45
         ]
        },
        {
         "line": {
          "color": "rgb(0,0,0)",
          "width": 5
         },
         "mode": "lines",
         "showlegend": false,
         "type": "scatter3d",
         "x": [
          -5.827874576234681,
          -5.827874576234681
         ],
         "y": [
          -1.3354969811450124,
          -2.1700536543422944
         ],
         "z": [
          -0.45,
          -0.45
         ]
        },
        {
         "color": "red",
         "i": [
          0
         ],
         "j": [
          1
         ],
         "k": [
          2
         ],
         "name": "28",
         "opacity": 1,
         "type": "mesh3d",
         "x": [
          -5.827874576234681,
          -5.827874576234681,
          -5.827874576234681
         ],
         "y": [
          -1.5951368350286115,
          -1.3354969811450124,
          -2.1700536543422944
         ],
         "z": [
          -0.14000000000000012,
          -0.2413608317006794,
          -0.45
         ]
        },
        {
         "line": {
          "color": "rgb(0,0,0)",
          "width": 5
         },
         "mode": "lines",
         "showlegend": false,
         "type": "scatter3d",
         "x": [
          -5.827874576234681,
          -5.827874576234681
         ],
         "y": [
          -2.1700536543422944,
          -1.5951368350286115
         ],
         "z": [
          -0.45,
          -0.14000000000000012
         ]
        },
        {
         "line": {
          "color": "rgb(0,0,0)",
          "width": 5
         },
         "mode": "lines",
         "showlegend": false,
         "type": "scatter3d",
         "x": [
          -5.827874576234681,
          -5.827874576234681
         ],
         "y": [
          -1.5951368350286115,
          -1.3354969811450124
         ],
         "z": [
          -0.14000000000000012,
          -0.2413608317006794
         ]
        },
        {
         "line": {
          "color": "rgb(0,0,0)",
          "width": 5
         },
         "mode": "lines",
         "showlegend": false,
         "type": "scatter3d",
         "x": [
          -5.827874576234681,
          -5.827874576234681
         ],
         "y": [
          -1.3354969811450124,
          -2.1700536543422944
         ],
         "z": [
          -0.2413608317006794,
          -0.45
         ]
        },
        {
         "color": "red",
         "i": [
          0
         ],
         "j": [
          1
         ],
         "k": [
          2
         ],
         "name": "29",
         "opacity": 1,
         "type": "mesh3d",
         "x": [
          -5.827874576234681,
          -5.827874576234681,
          -5.827874576234681
         ],
         "y": [
          -1.5951368350286115,
          -1.3354969811450124,
          -1.3354969811450124
         ],
         "z": [
          -0.14000000000000012,
          -0.14000000000000012,
          -0.2413608317006794
         ]
        },
        {
         "line": {
          "color": "rgb(0,0,0)",
          "width": 5
         },
         "mode": "lines",
         "showlegend": false,
         "type": "scatter3d",
         "x": [
          -5.827874576234681,
          -5.827874576234681
         ],
         "y": [
          -1.3354969811450124,
          -1.5951368350286115
         ],
         "z": [
          -0.2413608317006794,
          -0.14000000000000012
         ]
        },
        {
         "line": {
          "color": "rgb(0,0,0)",
          "width": 5
         },
         "mode": "lines",
         "showlegend": false,
         "type": "scatter3d",
         "x": [
          -5.827874576234681,
          -5.827874576234681
         ],
         "y": [
          -1.5951368350286115,
          -1.3354969811450124
         ],
         "z": [
          -0.14000000000000012,
          -0.14000000000000012
         ]
        },
        {
         "line": {
          "color": "rgb(0,0,0)",
          "width": 5
         },
         "mode": "lines",
         "showlegend": false,
         "type": "scatter3d",
         "x": [
          -5.827874576234681,
          -5.827874576234681
         ],
         "y": [
          -1.3354969811450124,
          -1.3354969811450124
         ],
         "z": [
          -0.14000000000000012,
          -0.2413608317006794
         ]
        },
        {
         "color": "red",
         "i": [
          0
         ],
         "j": [
          1
         ],
         "k": [
          2
         ],
         "name": "30",
         "opacity": 1,
         "type": "mesh3d",
         "x": [
          -5.827874576234681,
          -5.827874576234681,
          -5.827874576234681
         ],
         "y": [
          -1.5951368350286115,
          -1.3354969811450124,
          -1.3354969811450124
         ],
         "z": [
          -0.14000000000000012,
          -0.14000000000000012,
          5.551115123125783e-17
         ]
        },
        {
         "line": {
          "color": "rgb(0,0,0)",
          "width": 5
         },
         "mode": "lines",
         "showlegend": false,
         "type": "scatter3d",
         "x": [
          -5.827874576234681,
          -5.827874576234681
         ],
         "y": [
          -1.3354969811450124,
          -1.5951368350286115
         ],
         "z": [
          5.551115123125783e-17,
          -0.14000000000000012
         ]
        },
        {
         "line": {
          "color": "rgb(0,0,0)",
          "width": 5
         },
         "mode": "lines",
         "showlegend": false,
         "type": "scatter3d",
         "x": [
          -5.827874576234681,
          -5.827874576234681
         ],
         "y": [
          -1.5951368350286115,
          -1.3354969811450124
         ],
         "z": [
          -0.14000000000000012,
          -0.14000000000000012
         ]
        },
        {
         "line": {
          "color": "rgb(0,0,0)",
          "width": 5
         },
         "mode": "lines",
         "showlegend": false,
         "type": "scatter3d",
         "x": [
          -5.827874576234681,
          -5.827874576234681
         ],
         "y": [
          -1.3354969811450124,
          -1.3354969811450124
         ],
         "z": [
          -0.14000000000000012,
          5.551115123125783e-17
         ]
        },
        {
         "color": "red",
         "i": [
          0
         ],
         "j": [
          1
         ],
         "k": [
          2
         ],
         "name": "31",
         "opacity": 1,
         "type": "mesh3d",
         "x": [
          -5.827874576234681,
          -5.827874576234681,
          -5.827874576234681
         ],
         "y": [
          -1.3354969811450124,
          -0.37005365434229487,
          -1.3354969811450124
         ],
         "z": [
          -0.14000000000000012,
          5.551115123125783e-17,
          5.551115123125783e-17
         ]
        },
        {
         "line": {
          "color": "rgb(0,0,0)",
          "width": 5
         },
         "mode": "lines",
         "showlegend": false,
         "type": "scatter3d",
         "x": [
          -5.827874576234681,
          -5.827874576234681
         ],
         "y": [
          -1.3354969811450124,
          -1.3354969811450124
         ],
         "z": [
          5.551115123125783e-17,
          -0.14000000000000012
         ]
        },
        {
         "line": {
          "color": "rgb(0,0,0)",
          "width": 5
         },
         "mode": "lines",
         "showlegend": false,
         "type": "scatter3d",
         "x": [
          -5.827874576234681,
          -5.827874576234681
         ],
         "y": [
          -1.3354969811450124,
          -0.37005365434229487
         ],
         "z": [
          -0.14000000000000012,
          5.551115123125783e-17
         ]
        },
        {
         "line": {
          "color": "rgb(0,0,0)",
          "width": 5
         },
         "mode": "lines",
         "showlegend": false,
         "type": "scatter3d",
         "x": [
          -5.827874576234681,
          -5.827874576234681
         ],
         "y": [
          -0.37005365434229487,
          -1.3354969811450124
         ],
         "z": [
          5.551115123125783e-17,
          5.551115123125783e-17
         ]
        },
        {
         "color": "red",
         "i": [
          0
         ],
         "j": [
          1
         ],
         "k": [
          2
         ],
         "name": "32",
         "opacity": 1,
         "type": "mesh3d",
         "x": [
          -5.827874576234681,
          -5.827874576234681,
          -5.827874576234681
         ],
         "y": [
          -1.3354969811450124,
          -0.9300536543422954,
          -0.37005365434229487
         ],
         "z": [
          -0.14000000000000012,
          -0.14000000000000012,
          5.551115123125783e-17
         ]
        },
        {
         "line": {
          "color": "rgb(0,0,0)",
          "width": 5
         },
         "mode": "lines",
         "showlegend": false,
         "type": "scatter3d",
         "x": [
          -5.827874576234681,
          -5.827874576234681
         ],
         "y": [
          -0.37005365434229487,
          -1.3354969811450124
         ],
         "z": [
          5.551115123125783e-17,
          -0.14000000000000012
         ]
        },
        {
         "line": {
          "color": "rgb(0,0,0)",
          "width": 5
         },
         "mode": "lines",
         "showlegend": false,
         "type": "scatter3d",
         "x": [
          -5.827874576234681,
          -5.827874576234681
         ],
         "y": [
          -1.3354969811450124,
          -0.9300536543422954
         ],
         "z": [
          -0.14000000000000012,
          -0.14000000000000012
         ]
        },
        {
         "line": {
          "color": "rgb(0,0,0)",
          "width": 5
         },
         "mode": "lines",
         "showlegend": false,
         "type": "scatter3d",
         "x": [
          -5.827874576234681,
          -5.827874576234681
         ],
         "y": [
          -0.9300536543422954,
          -0.37005365434229487
         ],
         "z": [
          -0.14000000000000012,
          5.551115123125783e-17
         ]
        },
        {
         "color": "blue",
         "i": [
          0
         ],
         "j": [
          1
         ],
         "k": [
          2
         ],
         "name": "33",
         "opacity": 0.9,
         "type": "mesh3d",
         "x": [
          -5.827874576234681,
          -5.827874576234681,
          -5.827874576234681
         ],
         "y": [
          -1.3354969811450124,
          -0.9300536543422954,
          -1.3354969811450124
         ],
         "z": [
          -0.14000000000000012,
          -0.14000000000000012,
          -0.2413608317006794
         ]
        },
        {
         "line": {
          "color": "rgb(0,0,0)",
          "width": 5
         },
         "mode": "lines",
         "showlegend": false,
         "type": "scatter3d",
         "x": [
          -5.827874576234681,
          -5.827874576234681
         ],
         "y": [
          -1.3354969811450124,
          -1.3354969811450124
         ],
         "z": [
          -0.2413608317006794,
          -0.14000000000000012
         ]
        },
        {
         "line": {
          "color": "rgb(0,0,0)",
          "width": 5
         },
         "mode": "lines",
         "showlegend": false,
         "type": "scatter3d",
         "x": [
          -5.827874576234681,
          -5.827874576234681
         ],
         "y": [
          -1.3354969811450124,
          -0.9300536543422954
         ],
         "z": [
          -0.14000000000000012,
          -0.14000000000000012
         ]
        },
        {
         "line": {
          "color": "rgb(0,0,0)",
          "width": 5
         },
         "mode": "lines",
         "showlegend": false,
         "type": "scatter3d",
         "x": [
          -5.827874576234681,
          -5.827874576234681
         ],
         "y": [
          -0.9300536543422954,
          -1.3354969811450124
         ],
         "z": [
          -0.14000000000000012,
          -0.2413608317006794
         ]
        },
        {
         "color": "blue",
         "i": [
          0
         ],
         "j": [
          1
         ],
         "k": [
          2
         ],
         "name": "34",
         "opacity": 0.9,
         "type": "mesh3d",
         "x": [
          -4.722195529917948,
          -4.627874576234682,
          -4.627874576234682
         ],
         "y": [
          -2.1700536543422944,
          -2.1700536543422944,
          -2.1700536543422944
         ],
         "z": [
          -0.41462964236877503,
          -0.14000000000000012,
          -0.45
         ]
        },
        {
         "line": {
          "color": "rgb(0,0,0)",
          "width": 5
         },
         "mode": "lines",
         "showlegend": false,
         "type": "scatter3d",
         "x": [
          -4.627874576234682,
          -4.722195529917948
         ],
         "y": [
          -2.1700536543422944,
          -2.1700536543422944
         ],
         "z": [
          -0.45,
          -0.41462964236877503
         ]
        },
        {
         "line": {
          "color": "rgb(0,0,0)",
          "width": 5
         },
         "mode": "lines",
         "showlegend": false,
         "type": "scatter3d",
         "x": [
          -4.722195529917948,
          -4.627874576234682
         ],
         "y": [
          -2.1700536543422944,
          -2.1700536543422944
         ],
         "z": [
          -0.41462964236877503,
          -0.14000000000000012
         ]
        },
        {
         "line": {
          "color": "rgb(0,0,0)",
          "width": 5
         },
         "mode": "lines",
         "showlegend": false,
         "type": "scatter3d",
         "x": [
          -4.627874576234682,
          -4.627874576234682
         ],
         "y": [
          -2.1700536543422944,
          -2.1700536543422944
         ],
         "z": [
          -0.14000000000000012,
          -0.45
         ]
        },
        {
         "color": "blue",
         "i": [
          0
         ],
         "j": [
          1
         ],
         "k": [
          2
         ],
         "name": "35",
         "opacity": 0.9,
         "type": "mesh3d",
         "x": [
          -4.722195529917948,
          -4.722195529917948,
          -4.627874576234682
         ],
         "y": [
          -2.1700536543422944,
          -2.1700536543422944,
          -2.1700536543422944
         ],
         "z": [
          -0.41462964236877503,
          -0.14000000000000012,
          -0.14000000000000012
         ]
        },
        {
         "line": {
          "color": "rgb(0,0,0)",
          "width": 5
         },
         "mode": "lines",
         "showlegend": false,
         "type": "scatter3d",
         "x": [
          -4.627874576234682,
          -4.722195529917948
         ],
         "y": [
          -2.1700536543422944,
          -2.1700536543422944
         ],
         "z": [
          -0.14000000000000012,
          -0.41462964236877503
         ]
        },
        {
         "line": {
          "color": "rgb(0,0,0)",
          "width": 5
         },
         "mode": "lines",
         "showlegend": false,
         "type": "scatter3d",
         "x": [
          -4.722195529917948,
          -4.722195529917948
         ],
         "y": [
          -2.1700536543422944,
          -2.1700536543422944
         ],
         "z": [
          -0.41462964236877503,
          -0.14000000000000012
         ]
        },
        {
         "line": {
          "color": "rgb(0,0,0)",
          "width": 5
         },
         "mode": "lines",
         "showlegend": false,
         "type": "scatter3d",
         "x": [
          -4.722195529917948,
          -4.627874576234682
         ],
         "y": [
          -2.1700536543422944,
          -2.1700536543422944
         ],
         "z": [
          -0.14000000000000012,
          -0.14000000000000012
         ]
        },
        {
         "color": "red",
         "i": [
          0
         ],
         "j": [
          1
         ],
         "k": [
          2
         ],
         "name": "36",
         "opacity": 1,
         "type": "mesh3d",
         "x": [
          -4.722195529917948,
          -4.722195529917948,
          -5.454541242901348
         ],
         "y": [
          -2.1700536543422944,
          -2.1700536543422944,
          -2.1700536543422944
         ],
         "z": [
          -0.41462964236877503,
          -0.14000000000000012,
          -0.14000000000000012
         ]
        },
        {
         "line": {
          "color": "rgb(0,0,0)",
          "width": 5
         },
         "mode": "lines",
         "showlegend": false,
         "type": "scatter3d",
         "x": [
          -5.454541242901348,
          -4.722195529917948
         ],
         "y": [
          -2.1700536543422944,
          -2.1700536543422944
         ],
         "z": [
          -0.14000000000000012,
          -0.41462964236877503
         ]
        },
        {
         "line": {
          "color": "rgb(0,0,0)",
          "width": 5
         },
         "mode": "lines",
         "showlegend": false,
         "type": "scatter3d",
         "x": [
          -4.722195529917948,
          -4.722195529917948
         ],
         "y": [
          -2.1700536543422944,
          -2.1700536543422944
         ],
         "z": [
          -0.41462964236877503,
          -0.14000000000000012
         ]
        },
        {
         "line": {
          "color": "rgb(0,0,0)",
          "width": 5
         },
         "mode": "lines",
         "showlegend": false,
         "type": "scatter3d",
         "x": [
          -4.722195529917948,
          -5.454541242901348
         ],
         "y": [
          -2.1700536543422944,
          -2.1700536543422944
         ],
         "z": [
          -0.14000000000000012,
          -0.14000000000000012
         ]
        },
        {
         "color": "blue",
         "i": [
          0
         ],
         "j": [
          1
         ],
         "k": [
          2
         ],
         "name": "37",
         "opacity": 0.9,
         "type": "mesh3d",
         "x": [
          -4.627874576234682,
          -4.627874576234682,
          -4.627874576234682
         ],
         "y": [
          -1.7244604118294824,
          -2.1700536543422944,
          -0.7377896605511145
         ],
         "z": [
          -0.14000000000000012,
          -0.45,
          -0.45
         ]
        },
        {
         "line": {
          "color": "rgb(0,0,0)",
          "width": 5
         },
         "mode": "lines",
         "showlegend": false,
         "type": "scatter3d",
         "x": [
          -4.627874576234682,
          -4.627874576234682
         ],
         "y": [
          -0.7377896605511145,
          -1.7244604118294824
         ],
         "z": [
          -0.45,
          -0.14000000000000012
         ]
        },
        {
         "line": {
          "color": "rgb(0,0,0)",
          "width": 5
         },
         "mode": "lines",
         "showlegend": false,
         "type": "scatter3d",
         "x": [
          -4.627874576234682,
          -4.627874576234682
         ],
         "y": [
          -1.7244604118294824,
          -2.1700536543422944
         ],
         "z": [
          -0.14000000000000012,
          -0.45
         ]
        },
        {
         "line": {
          "color": "rgb(0,0,0)",
          "width": 5
         },
         "mode": "lines",
         "showlegend": false,
         "type": "scatter3d",
         "x": [
          -4.627874576234682,
          -4.627874576234682
         ],
         "y": [
          -2.1700536543422944,
          -0.7377896605511145
         ],
         "z": [
          -0.45,
          -0.45
         ]
        },
        {
         "color": "blue",
         "i": [
          0
         ],
         "j": [
          1
         ],
         "k": [
          2
         ],
         "name": "38",
         "opacity": 0.9,
         "type": "mesh3d",
         "x": [
          -4.627874576234682,
          -4.627874576234682,
          -4.627874576234682
         ],
         "y": [
          -1.7244604118294824,
          -2.1700536543422944,
          -2.1700536543422944
         ],
         "z": [
          -0.14000000000000012,
          -0.14000000000000012,
          -0.45
         ]
        },
        {
         "line": {
          "color": "rgb(0,0,0)",
          "width": 5
         },
         "mode": "lines",
         "showlegend": false,
         "type": "scatter3d",
         "x": [
          -4.627874576234682,
          -4.627874576234682
         ],
         "y": [
          -2.1700536543422944,
          -1.7244604118294824
         ],
         "z": [
          -0.45,
          -0.14000000000000012
         ]
        },
        {
         "line": {
          "color": "rgb(0,0,0)",
          "width": 5
         },
         "mode": "lines",
         "showlegend": false,
         "type": "scatter3d",
         "x": [
          -4.627874576234682,
          -4.627874576234682
         ],
         "y": [
          -1.7244604118294824,
          -2.1700536543422944
         ],
         "z": [
          -0.14000000000000012,
          -0.14000000000000012
         ]
        },
        {
         "line": {
          "color": "rgb(0,0,0)",
          "width": 5
         },
         "mode": "lines",
         "showlegend": false,
         "type": "scatter3d",
         "x": [
          -4.627874576234682,
          -4.627874576234682
         ],
         "y": [
          -2.1700536543422944,
          -2.1700536543422944
         ],
         "z": [
          -0.14000000000000012,
          -0.45
         ]
        },
        {
         "color": "red",
         "i": [
          0
         ],
         "j": [
          1
         ],
         "k": [
          2
         ],
         "name": "39",
         "opacity": 1,
         "type": "mesh3d",
         "x": [
          -4.627874576234682,
          -4.627874576234682,
          -4.627874576234682
         ],
         "y": [
          -1.7244604118294824,
          -2.1700536543422944,
          -2.1700536543422944
         ],
         "z": [
          -0.14000000000000012,
          -0.14000000000000012,
          5.551115123125783e-17
         ]
        },
        {
         "line": {
          "color": "rgb(0,0,0)",
          "width": 5
         },
         "mode": "lines",
         "showlegend": false,
         "type": "scatter3d",
         "x": [
          -4.627874576234682,
          -4.627874576234682
         ],
         "y": [
          -2.1700536543422944,
          -1.7244604118294824
         ],
         "z": [
          5.551115123125783e-17,
          -0.14000000000000012
         ]
        },
        {
         "line": {
          "color": "rgb(0,0,0)",
          "width": 5
         },
         "mode": "lines",
         "showlegend": false,
         "type": "scatter3d",
         "x": [
          -4.627874576234682,
          -4.627874576234682
         ],
         "y": [
          -1.7244604118294824,
          -2.1700536543422944
         ],
         "z": [
          -0.14000000000000012,
          -0.14000000000000012
         ]
        },
        {
         "line": {
          "color": "rgb(0,0,0)",
          "width": 5
         },
         "mode": "lines",
         "showlegend": false,
         "type": "scatter3d",
         "x": [
          -4.627874576234682,
          -4.627874576234682
         ],
         "y": [
          -2.1700536543422944,
          -2.1700536543422944
         ],
         "z": [
          -0.14000000000000012,
          5.551115123125783e-17
         ]
        },
        {
         "color": "blue",
         "i": [
          0
         ],
         "j": [
          1
         ],
         "k": [
          2
         ],
         "name": "40",
         "opacity": 0.9,
         "type": "mesh3d",
         "x": [
          -4.627874576234682,
          -4.627874576234682,
          -4.627874576234682
         ],
         "y": [
          -1.7244604118294824,
          -0.7377896605511145,
          -0.7377896605511145
         ],
         "z": [
          -0.14000000000000012,
          -0.45,
          -0.3580659984477951
         ]
        },
        {
         "line": {
          "color": "rgb(0,0,0)",
          "width": 5
         },
         "mode": "lines",
         "showlegend": false,
         "type": "scatter3d",
         "x": [
          -4.627874576234682,
          -4.627874576234682
         ],
         "y": [
          -0.7377896605511145,
          -1.7244604118294824
         ],
         "z": [
          -0.3580659984477951,
          -0.14000000000000012
         ]
        },
        {
         "line": {
          "color": "rgb(0,0,0)",
          "width": 5
         },
         "mode": "lines",
         "showlegend": false,
         "type": "scatter3d",
         "x": [
          -4.627874576234682,
          -4.627874576234682
         ],
         "y": [
          -1.7244604118294824,
          -0.7377896605511145
         ],
         "z": [
          -0.14000000000000012,
          -0.45
         ]
        },
        {
         "line": {
          "color": "rgb(0,0,0)",
          "width": 5
         },
         "mode": "lines",
         "showlegend": false,
         "type": "scatter3d",
         "x": [
          -4.627874576234682,
          -4.627874576234682
         ],
         "y": [
          -0.7377896605511145,
          -0.7377896605511145
         ],
         "z": [
          -0.45,
          -0.3580659984477951
         ]
        },
        {
         "color": "blue",
         "i": [
          0
         ],
         "j": [
          1
         ],
         "k": [
          2
         ],
         "name": "41",
         "opacity": 0.9,
         "type": "mesh3d",
         "x": [
          -4.627874576234682,
          -4.627874576234682,
          -4.627874576234682
         ],
         "y": [
          -1.7244604118294824,
          -1.6100536543422939,
          -0.7377896605511145
         ],
         "z": [
          -0.14000000000000012,
          -0.14000000000000015,
          -0.45
         ]
        },
        {
         "line": {
          "color": "rgb(0,0,0)",
          "width": 5
         },
         "mode": "lines",
         "showlegend": false,
         "type": "scatter3d",
         "x": [
          -4.627874576234682,
          -4.627874576234682
         ],
         "y": [
          -0.7377896605511145,
          -1.7244604118294824
         ],
         "z": [
          -0.45,
          -0.14000000000000012
         ]
        },
        {
         "line": {
          "color": "rgb(0,0,0)",
          "width": 5
         },
         "mode": "lines",
         "showlegend": false,
         "type": "scatter3d",
         "x": [
          -4.627874576234682,
          -4.627874576234682
         ],
         "y": [
          -1.7244604118294824,
          -1.6100536543422939
         ],
         "z": [
          -0.14000000000000012,
          -0.14000000000000015
         ]
        },
        {
         "line": {
          "color": "rgb(0,0,0)",
          "width": 5
         },
         "mode": "lines",
         "showlegend": false,
         "type": "scatter3d",
         "x": [
          -4.627874576234682,
          -4.627874576234682
         ],
         "y": [
          -1.6100536543422939,
          -0.7377896605511145
         ],
         "z": [
          -0.14000000000000015,
          -0.45
         ]
        },
        {
         "color": "red",
         "i": [
          0
         ],
         "j": [
          1
         ],
         "k": [
          2
         ],
         "name": "42",
         "opacity": 1,
         "type": "mesh3d",
         "x": [
          -4.627874576234682,
          -4.627874576234682,
          -4.627874576234682
         ],
         "y": [
          -1.7244604118294824,
          -1.6100536543422939,
          -2.1700536543422944
         ],
         "z": [
          -0.14000000000000012,
          -0.14000000000000015,
          5.551115123125783e-17
         ]
        },
        {
         "line": {
          "color": "rgb(0,0,0)",
          "width": 5
         },
         "mode": "lines",
         "showlegend": false,
         "type": "scatter3d",
         "x": [
          -4.627874576234682,
          -4.627874576234682
         ],
         "y": [
          -2.1700536543422944,
          -1.7244604118294824
         ],
         "z": [
          5.551115123125783e-17,
          -0.14000000000000012
         ]
        },
        {
         "line": {
          "color": "rgb(0,0,0)",
          "width": 5
         },
         "mode": "lines",
         "showlegend": false,
         "type": "scatter3d",
         "x": [
          -4.627874576234682,
          -4.627874576234682
         ],
         "y": [
          -1.7244604118294824,
          -1.6100536543422939
         ],
         "z": [
          -0.14000000000000012,
          -0.14000000000000015
         ]
        },
        {
         "line": {
          "color": "rgb(0,0,0)",
          "width": 5
         },
         "mode": "lines",
         "showlegend": false,
         "type": "scatter3d",
         "x": [
          -4.627874576234682,
          -4.627874576234682
         ],
         "y": [
          -1.6100536543422939,
          -2.1700536543422944
         ],
         "z": [
          -0.14000000000000015,
          5.551115123125783e-17
         ]
        },
        {
         "color": "red",
         "i": [
          0
         ],
         "j": [
          1
         ],
         "k": [
          2
         ],
         "name": "43",
         "opacity": 1,
         "type": "mesh3d",
         "x": [
          -4.627874576234682,
          -4.627874576234682,
          -4.627874576234682
         ],
         "y": [
          -0.6233829030639262,
          -0.7377896605511147,
          -0.37005365434229487
         ],
         "z": [
          -0.14000000000000012,
          -0.35806599844779496,
          -0.45
         ]
        },
        {
         "line": {
          "color": "rgb(0,0,0)",
          "width": 5
         },
         "mode": "lines",
         "showlegend": false,
         "type": "scatter3d",
         "x": [
          -4.627874576234682,
          -4.627874576234682
         ],
         "y": [
          -0.37005365434229487,
          -0.6233829030639262
         ],
         "z": [
          -0.45,
          -0.14000000000000012
         ]
        },
        {
         "line": {
          "color": "rgb(0,0,0)",
          "width": 5
         },
         "mode": "lines",
         "showlegend": false,
         "type": "scatter3d",
         "x": [
          -4.627874576234682,
          -4.627874576234682
         ],
         "y": [
          -0.6233829030639262,
          -0.7377896605511147
         ],
         "z": [
          -0.14000000000000012,
          -0.35806599844779496
         ]
        },
        {
         "line": {
          "color": "rgb(0,0,0)",
          "width": 5
         },
         "mode": "lines",
         "showlegend": false,
         "type": "scatter3d",
         "x": [
          -4.627874576234682,
          -4.627874576234682
         ],
         "y": [
          -0.7377896605511147,
          -0.37005365434229487
         ],
         "z": [
          -0.35806599844779496,
          -0.45
         ]
        },
        {
         "color": "red",
         "i": [
          0
         ],
         "j": [
          1
         ],
         "k": [
          2
         ],
         "name": "44",
         "opacity": 1,
         "type": "mesh3d",
         "x": [
          -4.627874576234682,
          -4.627874576234682,
          -4.627874576234682
         ],
         "y": [
          -0.6233829030639262,
          -0.7377896605511147,
          -0.7377896605511147
         ],
         "z": [
          -0.14000000000000012,
          -0.14000000000000012,
          -0.35806599844779496
         ]
        },
        {
         "line": {
          "color": "rgb(0,0,0)",
          "width": 5
         },
         "mode": "lines",
         "showlegend": false,
         "type": "scatter3d",
         "x": [
          -4.627874576234682,
          -4.627874576234682
         ],
         "y": [
          -0.7377896605511147,
          -0.6233829030639262
         ],
         "z": [
          -0.35806599844779496,
          -0.14000000000000012
         ]
        },
        {
         "line": {
          "color": "rgb(0,0,0)",
          "width": 5
         },
         "mode": "lines",
         "showlegend": false,
         "type": "scatter3d",
         "x": [
          -4.627874576234682,
          -4.627874576234682
         ],
         "y": [
          -0.6233829030639262,
          -0.7377896605511147
         ],
         "z": [
          -0.14000000000000012,
          -0.14000000000000012
         ]
        },
        {
         "line": {
          "color": "rgb(0,0,0)",
          "width": 5
         },
         "mode": "lines",
         "showlegend": false,
         "type": "scatter3d",
         "x": [
          -4.627874576234682,
          -4.627874576234682
         ],
         "y": [
          -0.7377896605511147,
          -0.7377896605511147
         ],
         "z": [
          -0.14000000000000012,
          -0.35806599844779496
         ]
        },
        {
         "color": "red",
         "i": [
          0
         ],
         "j": [
          1
         ],
         "k": [
          2
         ],
         "name": "45",
         "opacity": 1,
         "type": "mesh3d",
         "x": [
          -4.627874576234682,
          -4.627874576234682,
          -4.627874576234682
         ],
         "y": [
          -0.6233829030639262,
          -0.7377896605511147,
          -0.7377896605511147
         ],
         "z": [
          -0.14000000000000012,
          -0.14000000000000012,
          5.551115123125783e-17
         ]
        },
        {
         "line": {
          "color": "rgb(0,0,0)",
          "width": 5
         },
         "mode": "lines",
         "showlegend": false,
         "type": "scatter3d",
         "x": [
          -4.627874576234682,
          -4.627874576234682
         ],
         "y": [
          -0.7377896605511147,
          -0.6233829030639262
         ],
         "z": [
          5.551115123125783e-17,
          -0.14000000000000012
         ]
        },
        {
         "line": {
          "color": "rgb(0,0,0)",
          "width": 5
         },
         "mode": "lines",
         "showlegend": false,
         "type": "scatter3d",
         "x": [
          -4.627874576234682,
          -4.627874576234682
         ],
         "y": [
          -0.6233829030639262,
          -0.7377896605511147
         ],
         "z": [
          -0.14000000000000012,
          -0.14000000000000012
         ]
        },
        {
         "line": {
          "color": "rgb(0,0,0)",
          "width": 5
         },
         "mode": "lines",
         "showlegend": false,
         "type": "scatter3d",
         "x": [
          -4.627874576234682,
          -4.627874576234682
         ],
         "y": [
          -0.7377896605511147,
          -0.7377896605511147
         ],
         "z": [
          -0.14000000000000012,
          5.551115123125783e-17
         ]
        },
        {
         "color": "red",
         "i": [
          0
         ],
         "j": [
          1
         ],
         "k": [
          2
         ],
         "name": "46",
         "opacity": 1,
         "type": "mesh3d",
         "x": [
          -4.627874576234682,
          -4.627874576234682,
          -4.627874576234682
         ],
         "y": [
          -0.7377896605511147,
          -2.1700536543422944,
          -0.7377896605511147
         ],
         "z": [
          -0.14000000000000012,
          5.551115123125783e-17,
          5.551115123125783e-17
         ]
        },
        {
         "line": {
          "color": "rgb(0,0,0)",
          "width": 5
         },
         "mode": "lines",
         "showlegend": false,
         "type": "scatter3d",
         "x": [
          -4.627874576234682,
          -4.627874576234682
         ],
         "y": [
          -0.7377896605511147,
          -0.7377896605511147
         ],
         "z": [
          5.551115123125783e-17,
          -0.14000000000000012
         ]
        },
        {
         "line": {
          "color": "rgb(0,0,0)",
          "width": 5
         },
         "mode": "lines",
         "showlegend": false,
         "type": "scatter3d",
         "x": [
          -4.627874576234682,
          -4.627874576234682
         ],
         "y": [
          -0.7377896605511147,
          -2.1700536543422944
         ],
         "z": [
          -0.14000000000000012,
          5.551115123125783e-17
         ]
        },
        {
         "line": {
          "color": "rgb(0,0,0)",
          "width": 5
         },
         "mode": "lines",
         "showlegend": false,
         "type": "scatter3d",
         "x": [
          -4.627874576234682,
          -4.627874576234682
         ],
         "y": [
          -2.1700536543422944,
          -0.7377896605511147
         ],
         "z": [
          5.551115123125783e-17,
          5.551115123125783e-17
         ]
        },
        {
         "color": "red",
         "i": [
          0
         ],
         "j": [
          1
         ],
         "k": [
          2
         ],
         "name": "47",
         "opacity": 1,
         "type": "mesh3d",
         "x": [
          -4.627874576234682,
          -4.627874576234682,
          -4.627874576234682
         ],
         "y": [
          -0.7377896605511147,
          -1.6100536543422939,
          -2.1700536543422944
         ],
         "z": [
          -0.14000000000000012,
          -0.14000000000000012,
          5.551115123125783e-17
         ]
        },
        {
         "line": {
          "color": "rgb(0,0,0)",
          "width": 5
         },
         "mode": "lines",
         "showlegend": false,
         "type": "scatter3d",
         "x": [
          -4.627874576234682,
          -4.627874576234682
         ],
         "y": [
          -2.1700536543422944,
          -0.7377896605511147
         ],
         "z": [
          5.551115123125783e-17,
          -0.14000000000000012
         ]
        },
        {
         "line": {
          "color": "rgb(0,0,0)",
          "width": 5
         },
         "mode": "lines",
         "showlegend": false,
         "type": "scatter3d",
         "x": [
          -4.627874576234682,
          -4.627874576234682
         ],
         "y": [
          -0.7377896605511147,
          -1.6100536543422939
         ],
         "z": [
          -0.14000000000000012,
          -0.14000000000000012
         ]
        },
        {
         "line": {
          "color": "rgb(0,0,0)",
          "width": 5
         },
         "mode": "lines",
         "showlegend": false,
         "type": "scatter3d",
         "x": [
          -4.627874576234682,
          -4.627874576234682
         ],
         "y": [
          -1.6100536543422939,
          -2.1700536543422944
         ],
         "z": [
          -0.14000000000000012,
          5.551115123125783e-17
         ]
        },
        {
         "color": "blue",
         "i": [
          0
         ],
         "j": [
          1
         ],
         "k": [
          2
         ],
         "name": "48",
         "opacity": 0.9,
         "type": "mesh3d",
         "x": [
          -4.627874576234682,
          -4.627874576234682,
          -4.627874576234682
         ],
         "y": [
          -0.7377896605511147,
          -1.6100536543422939,
          -0.7377896605511147
         ],
         "z": [
          -0.14000000000000012,
          -0.14000000000000012,
          -0.35806599844779496
         ]
        },
        {
         "line": {
          "color": "rgb(0,0,0)",
          "width": 5
         },
         "mode": "lines",
         "showlegend": false,
         "type": "scatter3d",
         "x": [
          -4.627874576234682,
          -4.627874576234682
         ],
         "y": [
          -0.7377896605511147,
          -0.7377896605511147
         ],
         "z": [
          -0.35806599844779496,
          -0.14000000000000012
         ]
        },
        {
         "line": {
          "color": "rgb(0,0,0)",
          "width": 5
         },
         "mode": "lines",
         "showlegend": false,
         "type": "scatter3d",
         "x": [
          -4.627874576234682,
          -4.627874576234682
         ],
         "y": [
          -0.7377896605511147,
          -1.6100536543422939
         ],
         "z": [
          -0.14000000000000012,
          -0.14000000000000012
         ]
        },
        {
         "line": {
          "color": "rgb(0,0,0)",
          "width": 5
         },
         "mode": "lines",
         "showlegend": false,
         "type": "scatter3d",
         "x": [
          -4.627874576234682,
          -4.627874576234682
         ],
         "y": [
          -1.6100536543422939,
          -0.7377896605511147
         ],
         "z": [
          -0.14000000000000012,
          -0.35806599844779496
         ]
        },
        {
         "color": "blue",
         "i": [
          0
         ],
         "j": [
          1
         ],
         "k": [
          2
         ],
         "name": "49",
         "opacity": 0.9,
         "type": "mesh3d",
         "x": [
          -5.45774863269159,
          -5.827874576234681,
          -5.827874576234681
         ],
         "y": [
          -1.6148647390276576,
          -1.3354969811450121,
          -0.7756967649057684
         ],
         "z": [
          -0.45,
          -0.45,
          -0.45
         ]
        },
        {
         "line": {
          "color": "rgb(0,0,0)",
          "width": 5
         },
         "mode": "lines",
         "showlegend": false,
         "type": "scatter3d",
         "x": [
          -5.827874576234681,
          -5.45774863269159
         ],
         "y": [
          -0.7756967649057684,
          -1.6148647390276576
         ],
         "z": [
          -0.45,
          -0.45
         ]
        },
        {
         "line": {
          "color": "rgb(0,0,0)",
          "width": 5
         },
         "mode": "lines",
         "showlegend": false,
         "type": "scatter3d",
         "x": [
          -5.45774863269159,
          -5.827874576234681
         ],
         "y": [
          -1.6148647390276576,
          -1.3354969811450121
         ],
         "z": [
          -0.45,
          -0.45
         ]
        },
        {
         "line": {
          "color": "rgb(0,0,0)",
          "width": 5
         },
         "mode": "lines",
         "showlegend": false,
         "type": "scatter3d",
         "x": [
          -5.827874576234681,
          -5.827874576234681
         ],
         "y": [
          -1.3354969811450121,
          -0.7756967649057684
         ],
         "z": [
          -0.45,
          -0.45
         ]
        },
        {
         "color": "red",
         "i": [
          0
         ],
         "j": [
          1
         ],
         "k": [
          2
         ],
         "name": "50",
         "opacity": 1,
         "type": "mesh3d",
         "x": [
          -5.45774863269159,
          -5.827874576234681,
          -5.827874576234681
         ],
         "y": [
          -1.6148647390276576,
          -1.3354969811450121,
          -2.1700536543422944
         ],
         "z": [
          -0.45,
          -0.45,
          -0.45
         ]
        },
        {
         "line": {
          "color": "rgb(0,0,0)",
          "width": 5
         },
         "mode": "lines",
         "showlegend": false,
         "type": "scatter3d",
         "x": [
          -5.827874576234681,
          -5.45774863269159
         ],
         "y": [
          -2.1700536543422944,
          -1.6148647390276576
         ],
         "z": [
          -0.45,
          -0.45
         ]
        },
        {
         "line": {
          "color": "rgb(0,0,0)",
          "width": 5
         },
         "mode": "lines",
         "showlegend": false,
         "type": "scatter3d",
         "x": [
          -5.45774863269159,
          -5.827874576234681
         ],
         "y": [
          -1.6148647390276576,
          -1.3354969811450121
         ],
         "z": [
          -0.45,
          -0.45
         ]
        },
        {
         "line": {
          "color": "rgb(0,0,0)",
          "width": 5
         },
         "mode": "lines",
         "showlegend": false,
         "type": "scatter3d",
         "x": [
          -5.827874576234681,
          -5.827874576234681
         ],
         "y": [
          -1.3354969811450121,
          -2.1700536543422944
         ],
         "z": [
          -0.45,
          -0.45
         ]
        },
        {
         "color": "blue",
         "i": [
          0
         ],
         "j": [
          1
         ],
         "k": [
          2
         ],
         "name": "51",
         "opacity": 0.9,
         "type": "mesh3d",
         "x": [
          -5.115076955293696,
          -5.827874576234681,
          -5.521698777764974
         ],
         "y": [
          -0.37005365434229487,
          -0.7756967649057684,
          -0.37005365434229487
         ],
         "z": [
          -0.45,
          -0.45,
          -0.45
         ]
        },
        {
         "line": {
          "color": "rgb(0,0,0)",
          "width": 5
         },
         "mode": "lines",
         "showlegend": false,
         "type": "scatter3d",
         "x": [
          -5.521698777764974,
          -5.115076955293696
         ],
         "y": [
          -0.37005365434229487,
          -0.37005365434229487
         ],
         "z": [
          -0.45,
          -0.45
         ]
        },
        {
         "line": {
          "color": "rgb(0,0,0)",
          "width": 5
         },
         "mode": "lines",
         "showlegend": false,
         "type": "scatter3d",
         "x": [
          -5.115076955293696,
          -5.827874576234681
         ],
         "y": [
          -0.37005365434229487,
          -0.7756967649057684
         ],
         "z": [
          -0.45,
          -0.45
         ]
        },
        {
         "line": {
          "color": "rgb(0,0,0)",
          "width": 5
         },
         "mode": "lines",
         "showlegend": false,
         "type": "scatter3d",
         "x": [
          -5.827874576234681,
          -5.521698777764974
         ],
         "y": [
          -0.7756967649057684,
          -0.37005365434229487
         ],
         "z": [
          -0.45,
          -0.45
         ]
        },
        {
         "color": "blue",
         "i": [
          0
         ],
         "j": [
          1
         ],
         "k": [
          2
         ],
         "name": "52",
         "opacity": 0.9,
         "type": "mesh3d",
         "x": [
          -5.115076955293696,
          -4.964374321295875,
          -5.827874576234681
         ],
         "y": [
          -0.37005365434229487,
          -0.4838026570843268,
          -0.7756967649057684
         ],
         "z": [
          -0.45,
          -0.45,
          -0.45
         ]
        },
        {
         "line": {
          "color": "rgb(0,0,0)",
          "width": 5
         },
         "mode": "lines",
         "showlegend": false,
         "type": "scatter3d",
         "x": [
          -5.827874576234681,
          -5.115076955293696
         ],
         "y": [
          -0.7756967649057684,
          -0.37005365434229487
         ],
         "z": [
          -0.45,
          -0.45
         ]
        },
        {
         "line": {
          "color": "rgb(0,0,0)",
          "width": 5
         },
         "mode": "lines",
         "showlegend": false,
         "type": "scatter3d",
         "x": [
          -5.115076955293696,
          -4.964374321295875
         ],
         "y": [
          -0.37005365434229487,
          -0.4838026570843268
         ],
         "z": [
          -0.45,
          -0.45
         ]
        },
        {
         "line": {
          "color": "rgb(0,0,0)",
          "width": 5
         },
         "mode": "lines",
         "showlegend": false,
         "type": "scatter3d",
         "x": [
          -4.964374321295875,
          -5.827874576234681
         ],
         "y": [
          -0.4838026570843268,
          -0.7756967649057684
         ],
         "z": [
          -0.45,
          -0.45
         ]
        },
        {
         "color": "red",
         "i": [
          0
         ],
         "j": [
          1
         ],
         "k": [
          2
         ],
         "name": "53",
         "opacity": 1,
         "type": "mesh3d",
         "x": [
          -5.115076955293696,
          -4.964374321295875,
          -4.627874576234682
         ],
         "y": [
          -0.37005365434229487,
          -0.4838026570843268,
          -0.37005365434229487
         ],
         "z": [
          -0.45,
          -0.45,
          -0.45
         ]
        },
        {
         "line": {
          "color": "rgb(0,0,0)",
          "width": 5
         },
         "mode": "lines",
         "showlegend": false,
         "type": "scatter3d",
         "x": [
          -4.627874576234682,
          -5.115076955293696
         ],
         "y": [
          -0.37005365434229487,
          -0.37005365434229487
         ],
         "z": [
          -0.45,
          -0.45
         ]
        },
        {
         "line": {
          "color": "rgb(0,0,0)",
          "width": 5
         },
         "mode": "lines",
         "showlegend": false,
         "type": "scatter3d",
         "x": [
          -5.115076955293696,
          -4.964374321295875
         ],
         "y": [
          -0.37005365434229487,
          -0.4838026570843268
         ],
         "z": [
          -0.45,
          -0.45
         ]
        },
        {
         "line": {
          "color": "rgb(0,0,0)",
          "width": 5
         },
         "mode": "lines",
         "showlegend": false,
         "type": "scatter3d",
         "x": [
          -4.964374321295875,
          -4.627874576234682
         ],
         "y": [
          -0.4838026570843268,
          -0.37005365434229487
         ],
         "z": [
          -0.45,
          -0.45
         ]
        },
        {
         "color": "blue",
         "i": [
          0
         ],
         "j": [
          1
         ],
         "k": [
          2
         ],
         "name": "54",
         "opacity": 0.9,
         "type": "mesh3d",
         "x": [
          -4.64641099549676,
          -4.627874576234682,
          -4.722195529917948
         ],
         "y": [
          -0.7237985367761974,
          -2.1700536543422944,
          -2.1700536543422944
         ],
         "z": [
          -0.45,
          -0.45,
          -0.45
         ]
        },
        {
         "line": {
          "color": "rgb(0,0,0)",
          "width": 5
         },
         "mode": "lines",
         "showlegend": false,
         "type": "scatter3d",
         "x": [
          -4.722195529917948,
          -4.64641099549676
         ],
         "y": [
          -2.1700536543422944,
          -0.7237985367761974
         ],
         "z": [
          -0.45,
          -0.45
         ]
        },
        {
         "line": {
          "color": "rgb(0,0,0)",
          "width": 5
         },
         "mode": "lines",
         "showlegend": false,
         "type": "scatter3d",
         "x": [
          -4.64641099549676,
          -4.627874576234682
         ],
         "y": [
          -0.7237985367761974,
          -2.1700536543422944
         ],
         "z": [
          -0.45,
          -0.45
         ]
        },
        {
         "line": {
          "color": "rgb(0,0,0)",
          "width": 5
         },
         "mode": "lines",
         "showlegend": false,
         "type": "scatter3d",
         "x": [
          -4.627874576234682,
          -4.722195529917948
         ],
         "y": [
          -2.1700536543422944,
          -2.1700536543422944
         ],
         "z": [
          -0.45,
          -0.45
         ]
        },
        {
         "color": "blue",
         "i": [
          0
         ],
         "j": [
          1
         ],
         "k": [
          2
         ],
         "name": "55",
         "opacity": 0.9,
         "type": "mesh3d",
         "x": [
          -4.64641099549676,
          -4.627874576234682,
          -4.627874576234682
         ],
         "y": [
          -0.7237985367761974,
          -0.7377896605511145,
          -2.1700536543422944
         ],
         "z": [
          -0.45,
          -0.45,
          -0.45
         ]
        },
        {
         "line": {
          "color": "rgb(0,0,0)",
          "width": 5
         },
         "mode": "lines",
         "showlegend": false,
         "type": "scatter3d",
         "x": [
          -4.627874576234682,
          -4.64641099549676
         ],
         "y": [
          -2.1700536543422944,
          -0.7237985367761974
         ],
         "z": [
          -0.45,
          -0.45
         ]
        },
        {
         "line": {
          "color": "rgb(0,0,0)",
          "width": 5
         },
         "mode": "lines",
         "showlegend": false,
         "type": "scatter3d",
         "x": [
          -4.64641099549676,
          -4.627874576234682
         ],
         "y": [
          -0.7237985367761974,
          -0.7377896605511145
         ],
         "z": [
          -0.45,
          -0.45
         ]
        },
        {
         "line": {
          "color": "rgb(0,0,0)",
          "width": 5
         },
         "mode": "lines",
         "showlegend": false,
         "type": "scatter3d",
         "x": [
          -4.627874576234682,
          -4.627874576234682
         ],
         "y": [
          -0.7377896605511145,
          -2.1700536543422944
         ],
         "z": [
          -0.45,
          -0.45
         ]
        },
        {
         "color": "red",
         "i": [
          0
         ],
         "j": [
          1
         ],
         "k": [
          2
         ],
         "name": "56",
         "opacity": 1,
         "type": "mesh3d",
         "x": [
          -4.64641099549676,
          -4.627874576234682,
          -4.627874576234682
         ],
         "y": [
          -0.7237985367761974,
          -0.7377896605511145,
          -0.37005365434229487
         ],
         "z": [
          -0.45,
          -0.45,
          -0.45
         ]
        },
        {
         "line": {
          "color": "rgb(0,0,0)",
          "width": 5
         },
         "mode": "lines",
         "showlegend": false,
         "type": "scatter3d",
         "x": [
          -4.627874576234682,
          -4.64641099549676
         ],
         "y": [
          -0.37005365434229487,
          -0.7237985367761974
         ],
         "z": [
          -0.45,
          -0.45
         ]
        },
        {
         "line": {
          "color": "rgb(0,0,0)",
          "width": 5
         },
         "mode": "lines",
         "showlegend": false,
         "type": "scatter3d",
         "x": [
          -4.64641099549676,
          -4.627874576234682
         ],
         "y": [
          -0.7237985367761974,
          -0.7377896605511145
         ],
         "z": [
          -0.45,
          -0.45
         ]
        },
        {
         "line": {
          "color": "rgb(0,0,0)",
          "width": 5
         },
         "mode": "lines",
         "showlegend": false,
         "type": "scatter3d",
         "x": [
          -4.627874576234682,
          -4.627874576234682
         ],
         "y": [
          -0.7377896605511145,
          -0.37005365434229487
         ],
         "z": [
          -0.45,
          -0.45
         ]
        },
        {
         "color": "blue",
         "i": [
          0
         ],
         "j": [
          1
         ],
         "k": [
          2
         ],
         "name": "57",
         "opacity": 0.9,
         "type": "mesh3d",
         "x": [
          -4.790965520977068,
          -4.722195529917948,
          -5.45774863269159
         ],
         "y": [
          -0.6146900714558741,
          -2.1700536543422944,
          -1.6148647390276576
         ],
         "z": [
          -0.45,
          -0.45,
          -0.45
         ]
        },
        {
         "line": {
          "color": "rgb(0,0,0)",
          "width": 5
         },
         "mode": "lines",
         "showlegend": false,
         "type": "scatter3d",
         "x": [
          -5.45774863269159,
          -4.790965520977068
         ],
         "y": [
          -1.6148647390276576,
          -0.6146900714558741
         ],
         "z": [
          -0.45,
          -0.45
         ]
        },
        {
         "line": {
          "color": "rgb(0,0,0)",
          "width": 5
         },
         "mode": "lines",
         "showlegend": false,
         "type": "scatter3d",
         "x": [
          -4.790965520977068,
          -4.722195529917948
         ],
         "y": [
          -0.6146900714558741,
          -2.1700536543422944
         ],
         "z": [
          -0.45,
          -0.45
         ]
        },
        {
         "line": {
          "color": "rgb(0,0,0)",
          "width": 5
         },
         "mode": "lines",
         "showlegend": false,
         "type": "scatter3d",
         "x": [
          -4.722195529917948,
          -5.45774863269159
         ],
         "y": [
          -2.1700536543422944,
          -1.6148647390276576
         ],
         "z": [
          -0.45,
          -0.45
         ]
        },
        {
         "color": "blue",
         "i": [
          0
         ],
         "j": [
          1
         ],
         "k": [
          2
         ],
         "name": "58",
         "opacity": 0.9,
         "type": "mesh3d",
         "x": [
          -4.790965520977068,
          -4.64641099549676,
          -4.722195529917948
         ],
         "y": [
          -0.6146900714558741,
          -0.7237985367761974,
          -2.1700536543422944
         ],
         "z": [
          -0.45,
          -0.45,
          -0.45
         ]
        },
        {
         "line": {
          "color": "rgb(0,0,0)",
          "width": 5
         },
         "mode": "lines",
         "showlegend": false,
         "type": "scatter3d",
         "x": [
          -4.722195529917948,
          -4.790965520977068
         ],
         "y": [
          -2.1700536543422944,
          -0.6146900714558741
         ],
         "z": [
          -0.45,
          -0.45
         ]
        },
        {
         "line": {
          "color": "rgb(0,0,0)",
          "width": 5
         },
         "mode": "lines",
         "showlegend": false,
         "type": "scatter3d",
         "x": [
          -4.790965520977068,
          -4.64641099549676
         ],
         "y": [
          -0.6146900714558741,
          -0.7237985367761974
         ],
         "z": [
          -0.45,
          -0.45
         ]
        },
        {
         "line": {
          "color": "rgb(0,0,0)",
          "width": 5
         },
         "mode": "lines",
         "showlegend": false,
         "type": "scatter3d",
         "x": [
          -4.64641099549676,
          -4.722195529917948
         ],
         "y": [
          -0.7237985367761974,
          -2.1700536543422944
         ],
         "z": [
          -0.45,
          -0.45
         ]
        },
        {
         "color": "red",
         "i": [
          0
         ],
         "j": [
          1
         ],
         "k": [
          2
         ],
         "name": "59",
         "opacity": 1,
         "type": "mesh3d",
         "x": [
          -4.790965520977068,
          -4.64641099549676,
          -4.627874576234682
         ],
         "y": [
          -0.6146900714558741,
          -0.7237985367761974,
          -0.37005365434229487
         ],
         "z": [
          -0.45,
          -0.45,
          -0.45
         ]
        },
        {
         "line": {
          "color": "rgb(0,0,0)",
          "width": 5
         },
         "mode": "lines",
         "showlegend": false,
         "type": "scatter3d",
         "x": [
          -4.627874576234682,
          -4.790965520977068
         ],
         "y": [
          -0.37005365434229487,
          -0.6146900714558741
         ],
         "z": [
          -0.45,
          -0.45
         ]
        },
        {
         "line": {
          "color": "rgb(0,0,0)",
          "width": 5
         },
         "mode": "lines",
         "showlegend": false,
         "type": "scatter3d",
         "x": [
          -4.790965520977068,
          -4.64641099549676
         ],
         "y": [
          -0.6146900714558741,
          -0.7237985367761974
         ],
         "z": [
          -0.45,
          -0.45
         ]
        },
        {
         "line": {
          "color": "rgb(0,0,0)",
          "width": 5
         },
         "mode": "lines",
         "showlegend": false,
         "type": "scatter3d",
         "x": [
          -4.64641099549676,
          -4.627874576234682
         ],
         "y": [
          -0.7237985367761974,
          -0.37005365434229487
         ],
         "z": [
          -0.45,
          -0.45
         ]
        },
        {
         "color": "blue",
         "i": [
          0
         ],
         "j": [
          1
         ],
         "k": [
          2
         ],
         "name": "60",
         "opacity": 0.9,
         "type": "mesh3d",
         "x": [
          -5.210112695852822,
          -5.521698777764974,
          -5.115076955293696
         ],
         "y": [
          -0.37005365434229487,
          -0.37005365434229487,
          -0.37005365434229487
         ],
         "z": [
          -0.14000000000000012,
          -0.3351840755738599,
          -0.18270089214713042
         ]
        },
        {
         "line": {
          "color": "rgb(0,0,0)",
          "width": 5
         },
         "mode": "lines",
         "showlegend": false,
         "type": "scatter3d",
         "x": [
          -5.115076955293696,
          -5.210112695852822
         ],
         "y": [
          -0.37005365434229487,
          -0.37005365434229487
         ],
         "z": [
          -0.18270089214713042,
          -0.14000000000000012
         ]
        },
        {
         "line": {
          "color": "rgb(0,0,0)",
          "width": 5
         },
         "mode": "lines",
         "showlegend": false,
         "type": "scatter3d",
         "x": [
          -5.210112695852822,
          -5.521698777764974
         ],
         "y": [
          -0.37005365434229487,
          -0.37005365434229487
         ],
         "z": [
          -0.14000000000000012,
          -0.3351840755738599
         ]
        },
        {
         "line": {
          "color": "rgb(0,0,0)",
          "width": 5
         },
         "mode": "lines",
         "showlegend": false,
         "type": "scatter3d",
         "x": [
          -5.521698777764974,
          -5.115076955293696
         ],
         "y": [
          -0.37005365434229487,
          -0.37005365434229487
         ],
         "z": [
          -0.3351840755738599,
          -0.18270089214713042
         ]
        },
        {
         "color": "blue",
         "i": [
          0
         ],
         "j": [
          1
         ],
         "k": [
          2
         ],
         "name": "61",
         "opacity": 0.9,
         "type": "mesh3d",
         "x": [
          -5.210112695852822,
          -5.521698777764974,
          -5.521698777764974
         ],
         "y": [
          -0.37005365434229487,
          -0.37005365434229487,
          -0.37005365434229487
         ],
         "z": [
          -0.14000000000000012,
          -0.14000000000000015,
          -0.3351840755738599
         ]
        },
        {
         "line": {
          "color": "rgb(0,0,0)",
          "width": 5
         },
         "mode": "lines",
         "showlegend": false,
         "type": "scatter3d",
         "x": [
          -5.521698777764974,
          -5.210112695852822
         ],
         "y": [
          -0.37005365434229487,
          -0.37005365434229487
         ],
         "z": [
          -0.3351840755738599,
          -0.14000000000000012
         ]
        },
        {
         "line": {
          "color": "rgb(0,0,0)",
          "width": 5
         },
         "mode": "lines",
         "showlegend": false,
         "type": "scatter3d",
         "x": [
          -5.210112695852822,
          -5.521698777764974
         ],
         "y": [
          -0.37005365434229487,
          -0.37005365434229487
         ],
         "z": [
          -0.14000000000000012,
          -0.14000000000000015
         ]
        },
        {
         "line": {
          "color": "rgb(0,0,0)",
          "width": 5
         },
         "mode": "lines",
         "showlegend": false,
         "type": "scatter3d",
         "x": [
          -5.521698777764974,
          -5.521698777764974
         ],
         "y": [
          -0.37005365434229487,
          -0.37005365434229487
         ],
         "z": [
          -0.14000000000000015,
          -0.3351840755738599
         ]
        },
        {
         "color": "red",
         "i": [
          0
         ],
         "j": [
          1
         ],
         "k": [
          2
         ],
         "name": "62",
         "opacity": 1,
         "type": "mesh3d",
         "x": [
          -5.210112695852822,
          -5.521698777764974,
          -5.521698777764974
         ],
         "y": [
          -0.37005365434229487,
          -0.37005365434229487,
          -0.37005365434229487
         ],
         "z": [
          -0.14000000000000012,
          -0.14000000000000015,
          5.551115123125783e-17
         ]
        },
        {
         "line": {
          "color": "rgb(0,0,0)",
          "width": 5
         },
         "mode": "lines",
         "showlegend": false,
         "type": "scatter3d",
         "x": [
          -5.521698777764974,
          -5.210112695852822
         ],
         "y": [
          -0.37005365434229487,
          -0.37005365434229487
         ],
         "z": [
          5.551115123125783e-17,
          -0.14000000000000012
         ]
        },
        {
         "line": {
          "color": "rgb(0,0,0)",
          "width": 5
         },
         "mode": "lines",
         "showlegend": false,
         "type": "scatter3d",
         "x": [
          -5.210112695852822,
          -5.521698777764974
         ],
         "y": [
          -0.37005365434229487,
          -0.37005365434229487
         ],
         "z": [
          -0.14000000000000012,
          -0.14000000000000015
         ]
        },
        {
         "line": {
          "color": "rgb(0,0,0)",
          "width": 5
         },
         "mode": "lines",
         "showlegend": false,
         "type": "scatter3d",
         "x": [
          -5.521698777764974,
          -5.521698777764974
         ],
         "y": [
          -0.37005365434229487,
          -0.37005365434229487
         ],
         "z": [
          -0.14000000000000015,
          5.551115123125783e-17
         ]
        },
        {
         "color": "red",
         "i": [
          0
         ],
         "j": [
          1
         ],
         "k": [
          2
         ],
         "name": "63",
         "opacity": 1,
         "type": "mesh3d",
         "x": [
          -5.210112695852822,
          -5.115076955293696,
          -5.521698777764974
         ],
         "y": [
          -0.37005365434229487,
          -0.37005365434229487,
          -0.37005365434229487
         ],
         "z": [
          -0.14000000000000012,
          5.551115123125783e-17,
          5.551115123125783e-17
         ]
        },
        {
         "line": {
          "color": "rgb(0,0,0)",
          "width": 5
         },
         "mode": "lines",
         "showlegend": false,
         "type": "scatter3d",
         "x": [
          -5.521698777764974,
          -5.210112695852822
         ],
         "y": [
          -0.37005365434229487,
          -0.37005365434229487
         ],
         "z": [
          5.551115123125783e-17,
          -0.14000000000000012
         ]
        },
        {
         "line": {
          "color": "rgb(0,0,0)",
          "width": 5
         },
         "mode": "lines",
         "showlegend": false,
         "type": "scatter3d",
         "x": [
          -5.210112695852822,
          -5.115076955293696
         ],
         "y": [
          -0.37005365434229487,
          -0.37005365434229487
         ],
         "z": [
          -0.14000000000000012,
          5.551115123125783e-17
         ]
        },
        {
         "line": {
          "color": "rgb(0,0,0)",
          "width": 5
         },
         "mode": "lines",
         "showlegend": false,
         "type": "scatter3d",
         "x": [
          -5.115076955293696,
          -5.521698777764974
         ],
         "y": [
          -0.37005365434229487,
          -0.37005365434229487
         ],
         "z": [
          5.551115123125783e-17,
          5.551115123125783e-17
         ]
        },
        {
         "color": "red",
         "i": [
          0
         ],
         "j": [
          1
         ],
         "k": [
          2
         ],
         "name": "64",
         "opacity": 1,
         "type": "mesh3d",
         "x": [
          -5.210112695852822,
          -5.115076955293696,
          -5.115076955293696
         ],
         "y": [
          -0.37005365434229487,
          -0.37005365434229487,
          -0.37005365434229487
         ],
         "z": [
          -0.14000000000000012,
          -0.14000000000000012,
          5.551115123125783e-17
         ]
        },
        {
         "line": {
          "color": "rgb(0,0,0)",
          "width": 5
         },
         "mode": "lines",
         "showlegend": false,
         "type": "scatter3d",
         "x": [
          -5.115076955293696,
          -5.210112695852822
         ],
         "y": [
          -0.37005365434229487,
          -0.37005365434229487
         ],
         "z": [
          5.551115123125783e-17,
          -0.14000000000000012
         ]
        },
        {
         "line": {
          "color": "rgb(0,0,0)",
          "width": 5
         },
         "mode": "lines",
         "showlegend": false,
         "type": "scatter3d",
         "x": [
          -5.210112695852822,
          -5.115076955293696
         ],
         "y": [
          -0.37005365434229487,
          -0.37005365434229487
         ],
         "z": [
          -0.14000000000000012,
          -0.14000000000000012
         ]
        },
        {
         "line": {
          "color": "rgb(0,0,0)",
          "width": 5
         },
         "mode": "lines",
         "showlegend": false,
         "type": "scatter3d",
         "x": [
          -5.115076955293696,
          -5.115076955293696
         ],
         "y": [
          -0.37005365434229487,
          -0.37005365434229487
         ],
         "z": [
          -0.14000000000000012,
          5.551115123125783e-17
         ]
        },
        {
         "color": "blue",
         "i": [
          0
         ],
         "j": [
          1
         ],
         "k": [
          2
         ],
         "name": "65",
         "opacity": 0.9,
         "type": "mesh3d",
         "x": [
          -5.210112695852822,
          -5.115076955293696,
          -5.115076955293696
         ],
         "y": [
          -0.37005365434229487,
          -0.37005365434229487,
          -0.37005365434229487
         ],
         "z": [
          -0.14000000000000012,
          -0.14000000000000012,
          -0.18270089214713042
         ]
        },
        {
         "line": {
          "color": "rgb(0,0,0)",
          "width": 5
         },
         "mode": "lines",
         "showlegend": false,
         "type": "scatter3d",
         "x": [
          -5.115076955293696,
          -5.210112695852822
         ],
         "y": [
          -0.37005365434229487,
          -0.37005365434229487
         ],
         "z": [
          -0.18270089214713042,
          -0.14000000000000012
         ]
        },
        {
         "line": {
          "color": "rgb(0,0,0)",
          "width": 5
         },
         "mode": "lines",
         "showlegend": false,
         "type": "scatter3d",
         "x": [
          -5.210112695852822,
          -5.115076955293696
         ],
         "y": [
          -0.37005365434229487,
          -0.37005365434229487
         ],
         "z": [
          -0.14000000000000012,
          -0.14000000000000012
         ]
        },
        {
         "line": {
          "color": "rgb(0,0,0)",
          "width": 5
         },
         "mode": "lines",
         "showlegend": false,
         "type": "scatter3d",
         "x": [
          -5.115076955293696,
          -5.115076955293696
         ],
         "y": [
          -0.37005365434229487,
          -0.37005365434229487
         ],
         "z": [
          -0.14000000000000012,
          -0.18270089214713042
         ]
        },
        {
         "color": "blue",
         "i": [
          0
         ],
         "j": [
          1
         ],
         "k": [
          2
         ],
         "name": "66",
         "opacity": 0.9,
         "type": "mesh3d",
         "x": [
          -5.827874576234681,
          -5.827874576234681,
          -5.827874576234681
         ],
         "y": [
          -0.7756967649057682,
          -1.3354969811450124,
          -0.7756967649057682
         ],
         "z": [
          -0.14000000000000012,
          -0.2413608317006794,
          -0.45
         ]
        },
        {
         "line": {
          "color": "rgb(0,0,0)",
          "width": 5
         },
         "mode": "lines",
         "showlegend": false,
         "type": "scatter3d",
         "x": [
          -5.827874576234681,
          -5.827874576234681
         ],
         "y": [
          -0.7756967649057682,
          -0.7756967649057682
         ],
         "z": [
          -0.45,
          -0.14000000000000012
         ]
        },
        {
         "line": {
          "color": "rgb(0,0,0)",
          "width": 5
         },
         "mode": "lines",
         "showlegend": false,
         "type": "scatter3d",
         "x": [
          -5.827874576234681,
          -5.827874576234681
         ],
         "y": [
          -0.7756967649057682,
          -1.3354969811450124
         ],
         "z": [
          -0.14000000000000012,
          -0.2413608317006794
         ]
        },
        {
         "line": {
          "color": "rgb(0,0,0)",
          "width": 5
         },
         "mode": "lines",
         "showlegend": false,
         "type": "scatter3d",
         "x": [
          -5.827874576234681,
          -5.827874576234681
         ],
         "y": [
          -1.3354969811450124,
          -0.7756967649057682
         ],
         "z": [
          -0.2413608317006794,
          -0.45
         ]
        },
        {
         "color": "blue",
         "i": [
          0
         ],
         "j": [
          1
         ],
         "k": [
          2
         ],
         "name": "67",
         "opacity": 0.9,
         "type": "mesh3d",
         "x": [
          -5.827874576234681,
          -5.827874576234681,
          -5.827874576234681
         ],
         "y": [
          -0.7756967649057682,
          -0.9300536543422953,
          -1.3354969811450124
         ],
         "z": [
          -0.14000000000000012,
          -0.14000000000000012,
          -0.2413608317006794
         ]
        },
        {
         "line": {
          "color": "rgb(0,0,0)",
          "width": 5
         },
         "mode": "lines",
         "showlegend": false,
         "type": "scatter3d",
         "x": [
          -5.827874576234681,
          -5.827874576234681
         ],
         "y": [
          -1.3354969811450124,
          -0.7756967649057682
         ],
         "z": [
          -0.2413608317006794,
          -0.14000000000000012
         ]
        },
        {
         "line": {
          "color": "rgb(0,0,0)",
          "width": 5
         },
         "mode": "lines",
         "showlegend": false,
         "type": "scatter3d",
         "x": [
          -5.827874576234681,
          -5.827874576234681
         ],
         "y": [
          -0.7756967649057682,
          -0.9300536543422953
         ],
         "z": [
          -0.14000000000000012,
          -0.14000000000000012
         ]
        },
        {
         "line": {
          "color": "rgb(0,0,0)",
          "width": 5
         },
         "mode": "lines",
         "showlegend": false,
         "type": "scatter3d",
         "x": [
          -5.827874576234681,
          -5.827874576234681
         ],
         "y": [
          -0.9300536543422953,
          -1.3354969811450124
         ],
         "z": [
          -0.14000000000000012,
          -0.2413608317006794
         ]
        },
        {
         "color": "red",
         "i": [
          0
         ],
         "j": [
          1
         ],
         "k": [
          2
         ],
         "name": "68",
         "opacity": 1,
         "type": "mesh3d",
         "x": [
          -5.827874576234681,
          -5.827874576234681,
          -5.827874576234681
         ],
         "y": [
          -0.7756967649057682,
          -0.9300536543422953,
          -0.7756967649057682
         ],
         "z": [
          -0.14000000000000012,
          -0.14000000000000012,
          -0.10141077764086835
         ]
        },
        {
         "line": {
          "color": "rgb(0,0,0)",
          "width": 5
         },
         "mode": "lines",
         "showlegend": false,
         "type": "scatter3d",
         "x": [
          -5.827874576234681,
          -5.827874576234681
         ],
         "y": [
          -0.7756967649057682,
          -0.7756967649057682
         ],
         "z": [
          -0.10141077764086835,
          -0.14000000000000012
         ]
        },
        {
         "line": {
          "color": "rgb(0,0,0)",
          "width": 5
         },
         "mode": "lines",
         "showlegend": false,
         "type": "scatter3d",
         "x": [
          -5.827874576234681,
          -5.827874576234681
         ],
         "y": [
          -0.7756967649057682,
          -0.9300536543422953
         ],
         "z": [
          -0.14000000000000012,
          -0.14000000000000012
         ]
        },
        {
         "line": {
          "color": "rgb(0,0,0)",
          "width": 5
         },
         "mode": "lines",
         "showlegend": false,
         "type": "scatter3d",
         "x": [
          -5.827874576234681,
          -5.827874576234681
         ],
         "y": [
          -0.9300536543422953,
          -0.7756967649057682
         ],
         "z": [
          -0.14000000000000012,
          -0.10141077764086835
         ]
        },
        {
         "color": "blue",
         "i": [
          0
         ],
         "j": [
          1
         ],
         "k": [
          2
         ],
         "name": "69",
         "opacity": 0.9,
         "type": "mesh3d",
         "x": [
          -4.964374321295875,
          -5.45774863269159,
          -5.827874576234681
         ],
         "y": [
          -0.4838026570843268,
          -1.6148647390276576,
          -0.7756967649057684
         ],
         "z": [
          -0.45,
          -0.45,
          -0.45
         ]
        },
        {
         "line": {
          "color": "rgb(0,0,0)",
          "width": 5
         },
         "mode": "lines",
         "showlegend": false,
         "type": "scatter3d",
         "x": [
          -5.827874576234681,
          -4.964374321295875
         ],
         "y": [
          -0.7756967649057684,
          -0.4838026570843268
         ],
         "z": [
          -0.45,
          -0.45
         ]
        },
        {
         "line": {
          "color": "rgb(0,0,0)",
          "width": 5
         },
         "mode": "lines",
         "showlegend": false,
         "type": "scatter3d",
         "x": [
          -4.964374321295875,
          -5.45774863269159
         ],
         "y": [
          -0.4838026570843268,
          -1.6148647390276576
         ],
         "z": [
          -0.45,
          -0.45
         ]
        },
        {
         "line": {
          "color": "rgb(0,0,0)",
          "width": 5
         },
         "mode": "lines",
         "showlegend": false,
         "type": "scatter3d",
         "x": [
          -5.45774863269159,
          -5.827874576234681
         ],
         "y": [
          -1.6148647390276576,
          -0.7756967649057684
         ],
         "z": [
          -0.45,
          -0.45
         ]
        },
        {
         "color": "blue",
         "i": [
          0
         ],
         "j": [
          1
         ],
         "k": [
          2
         ],
         "name": "70",
         "opacity": 0.9,
         "type": "mesh3d",
         "x": [
          -4.964374321295875,
          -4.790965520977068,
          -5.45774863269159
         ],
         "y": [
          -0.4838026570843268,
          -0.6146900714558741,
          -1.6148647390276576
         ],
         "z": [
          -0.45,
          -0.45,
          -0.45
         ]
        },
        {
         "line": {
          "color": "rgb(0,0,0)",
          "width": 5
         },
         "mode": "lines",
         "showlegend": false,
         "type": "scatter3d",
         "x": [
          -5.45774863269159,
          -4.964374321295875
         ],
         "y": [
          -1.6148647390276576,
          -0.4838026570843268
         ],
         "z": [
          -0.45,
          -0.45
         ]
        },
        {
         "line": {
          "color": "rgb(0,0,0)",
          "width": 5
         },
         "mode": "lines",
         "showlegend": false,
         "type": "scatter3d",
         "x": [
          -4.964374321295875,
          -4.790965520977068
         ],
         "y": [
          -0.4838026570843268,
          -0.6146900714558741
         ],
         "z": [
          -0.45,
          -0.45
         ]
        },
        {
         "line": {
          "color": "rgb(0,0,0)",
          "width": 5
         },
         "mode": "lines",
         "showlegend": false,
         "type": "scatter3d",
         "x": [
          -4.790965520977068,
          -5.45774863269159
         ],
         "y": [
          -0.6146900714558741,
          -1.6148647390276576
         ],
         "z": [
          -0.45,
          -0.45
         ]
        },
        {
         "color": "red",
         "i": [
          0
         ],
         "j": [
          1
         ],
         "k": [
          2
         ],
         "name": "71",
         "opacity": 1,
         "type": "mesh3d",
         "x": [
          -4.964374321295875,
          -4.790965520977068,
          -4.627874576234682
         ],
         "y": [
          -0.4838026570843268,
          -0.6146900714558741,
          -0.37005365434229487
         ],
         "z": [
          -0.45,
          -0.45,
          -0.45
         ]
        },
        {
         "line": {
          "color": "rgb(0,0,0)",
          "width": 5
         },
         "mode": "lines",
         "showlegend": false,
         "type": "scatter3d",
         "x": [
          -4.627874576234682,
          -4.964374321295875
         ],
         "y": [
          -0.37005365434229487,
          -0.4838026570843268
         ],
         "z": [
          -0.45,
          -0.45
         ]
        },
        {
         "line": {
          "color": "rgb(0,0,0)",
          "width": 5
         },
         "mode": "lines",
         "showlegend": false,
         "type": "scatter3d",
         "x": [
          -4.964374321295875,
          -4.790965520977068
         ],
         "y": [
          -0.4838026570843268,
          -0.6146900714558741
         ],
         "z": [
          -0.45,
          -0.45
         ]
        },
        {
         "line": {
          "color": "rgb(0,0,0)",
          "width": 5
         },
         "mode": "lines",
         "showlegend": false,
         "type": "scatter3d",
         "x": [
          -4.790965520977068,
          -4.627874576234682
         ],
         "y": [
          -0.6146900714558741,
          -0.37005365434229487
         ],
         "z": [
          -0.45,
          -0.45
         ]
        }
       ],
       "layout": {
        "scene": {
         "aspectmode": "data",
         "xaxis": {
          "range": [
           -6.827874576234681,
           -3.6278745762346816
          ],
          "title": {
           "text": "X Axis"
          }
         },
         "yaxis": {
          "range": [
           -3.1700536543422944,
           0.6299463456577051
          ],
          "title": {
           "text": "Y Axis"
          }
         },
         "zaxis": {
          "range": [
           -1.45,
           1
          ],
          "title": {
           "text": "Z Axis"
          }
         }
        },
        "template": {
         "data": {
          "bar": [
           {
            "error_x": {
             "color": "#2a3f5f"
            },
            "error_y": {
             "color": "#2a3f5f"
            },
            "marker": {
             "line": {
              "color": "#E5ECF6",
              "width": 0.5
             },
             "pattern": {
              "fillmode": "overlay",
              "size": 10,
              "solidity": 0.2
             }
            },
            "type": "bar"
           }
          ],
          "barpolar": [
           {
            "marker": {
             "line": {
              "color": "#E5ECF6",
              "width": 0.5
             },
             "pattern": {
              "fillmode": "overlay",
              "size": 10,
              "solidity": 0.2
             }
            },
            "type": "barpolar"
           }
          ],
          "carpet": [
           {
            "aaxis": {
             "endlinecolor": "#2a3f5f",
             "gridcolor": "white",
             "linecolor": "white",
             "minorgridcolor": "white",
             "startlinecolor": "#2a3f5f"
            },
            "baxis": {
             "endlinecolor": "#2a3f5f",
             "gridcolor": "white",
             "linecolor": "white",
             "minorgridcolor": "white",
             "startlinecolor": "#2a3f5f"
            },
            "type": "carpet"
           }
          ],
          "choropleth": [
           {
            "colorbar": {
             "outlinewidth": 0,
             "ticks": ""
            },
            "type": "choropleth"
           }
          ],
          "contour": [
           {
            "colorbar": {
             "outlinewidth": 0,
             "ticks": ""
            },
            "colorscale": [
             [
              0,
              "#0d0887"
             ],
             [
              0.1111111111111111,
              "#46039f"
             ],
             [
              0.2222222222222222,
              "#7201a8"
             ],
             [
              0.3333333333333333,
              "#9c179e"
             ],
             [
              0.4444444444444444,
              "#bd3786"
             ],
             [
              0.5555555555555556,
              "#d8576b"
             ],
             [
              0.6666666666666666,
              "#ed7953"
             ],
             [
              0.7777777777777778,
              "#fb9f3a"
             ],
             [
              0.8888888888888888,
              "#fdca26"
             ],
             [
              1,
              "#f0f921"
             ]
            ],
            "type": "contour"
           }
          ],
          "contourcarpet": [
           {
            "colorbar": {
             "outlinewidth": 0,
             "ticks": ""
            },
            "type": "contourcarpet"
           }
          ],
          "heatmap": [
           {
            "colorbar": {
             "outlinewidth": 0,
             "ticks": ""
            },
            "colorscale": [
             [
              0,
              "#0d0887"
             ],
             [
              0.1111111111111111,
              "#46039f"
             ],
             [
              0.2222222222222222,
              "#7201a8"
             ],
             [
              0.3333333333333333,
              "#9c179e"
             ],
             [
              0.4444444444444444,
              "#bd3786"
             ],
             [
              0.5555555555555556,
              "#d8576b"
             ],
             [
              0.6666666666666666,
              "#ed7953"
             ],
             [
              0.7777777777777778,
              "#fb9f3a"
             ],
             [
              0.8888888888888888,
              "#fdca26"
             ],
             [
              1,
              "#f0f921"
             ]
            ],
            "type": "heatmap"
           }
          ],
          "heatmapgl": [
           {
            "colorbar": {
             "outlinewidth": 0,
             "ticks": ""
            },
            "colorscale": [
             [
              0,
              "#0d0887"
             ],
             [
              0.1111111111111111,
              "#46039f"
             ],
             [
              0.2222222222222222,
              "#7201a8"
             ],
             [
              0.3333333333333333,
              "#9c179e"
             ],
             [
              0.4444444444444444,
              "#bd3786"
             ],
             [
              0.5555555555555556,
              "#d8576b"
             ],
             [
              0.6666666666666666,
              "#ed7953"
             ],
             [
              0.7777777777777778,
              "#fb9f3a"
             ],
             [
              0.8888888888888888,
              "#fdca26"
             ],
             [
              1,
              "#f0f921"
             ]
            ],
            "type": "heatmapgl"
           }
          ],
          "histogram": [
           {
            "marker": {
             "pattern": {
              "fillmode": "overlay",
              "size": 10,
              "solidity": 0.2
             }
            },
            "type": "histogram"
           }
          ],
          "histogram2d": [
           {
            "colorbar": {
             "outlinewidth": 0,
             "ticks": ""
            },
            "colorscale": [
             [
              0,
              "#0d0887"
             ],
             [
              0.1111111111111111,
              "#46039f"
             ],
             [
              0.2222222222222222,
              "#7201a8"
             ],
             [
              0.3333333333333333,
              "#9c179e"
             ],
             [
              0.4444444444444444,
              "#bd3786"
             ],
             [
              0.5555555555555556,
              "#d8576b"
             ],
             [
              0.6666666666666666,
              "#ed7953"
             ],
             [
              0.7777777777777778,
              "#fb9f3a"
             ],
             [
              0.8888888888888888,
              "#fdca26"
             ],
             [
              1,
              "#f0f921"
             ]
            ],
            "type": "histogram2d"
           }
          ],
          "histogram2dcontour": [
           {
            "colorbar": {
             "outlinewidth": 0,
             "ticks": ""
            },
            "colorscale": [
             [
              0,
              "#0d0887"
             ],
             [
              0.1111111111111111,
              "#46039f"
             ],
             [
              0.2222222222222222,
              "#7201a8"
             ],
             [
              0.3333333333333333,
              "#9c179e"
             ],
             [
              0.4444444444444444,
              "#bd3786"
             ],
             [
              0.5555555555555556,
              "#d8576b"
             ],
             [
              0.6666666666666666,
              "#ed7953"
             ],
             [
              0.7777777777777778,
              "#fb9f3a"
             ],
             [
              0.8888888888888888,
              "#fdca26"
             ],
             [
              1,
              "#f0f921"
             ]
            ],
            "type": "histogram2dcontour"
           }
          ],
          "mesh3d": [
           {
            "colorbar": {
             "outlinewidth": 0,
             "ticks": ""
            },
            "type": "mesh3d"
           }
          ],
          "parcoords": [
           {
            "line": {
             "colorbar": {
              "outlinewidth": 0,
              "ticks": ""
             }
            },
            "type": "parcoords"
           }
          ],
          "pie": [
           {
            "automargin": true,
            "type": "pie"
           }
          ],
          "scatter": [
           {
            "fillpattern": {
             "fillmode": "overlay",
             "size": 10,
             "solidity": 0.2
            },
            "type": "scatter"
           }
          ],
          "scatter3d": [
           {
            "line": {
             "colorbar": {
              "outlinewidth": 0,
              "ticks": ""
             }
            },
            "marker": {
             "colorbar": {
              "outlinewidth": 0,
              "ticks": ""
             }
            },
            "type": "scatter3d"
           }
          ],
          "scattercarpet": [
           {
            "marker": {
             "colorbar": {
              "outlinewidth": 0,
              "ticks": ""
             }
            },
            "type": "scattercarpet"
           }
          ],
          "scattergeo": [
           {
            "marker": {
             "colorbar": {
              "outlinewidth": 0,
              "ticks": ""
             }
            },
            "type": "scattergeo"
           }
          ],
          "scattergl": [
           {
            "marker": {
             "colorbar": {
              "outlinewidth": 0,
              "ticks": ""
             }
            },
            "type": "scattergl"
           }
          ],
          "scattermapbox": [
           {
            "marker": {
             "colorbar": {
              "outlinewidth": 0,
              "ticks": ""
             }
            },
            "type": "scattermapbox"
           }
          ],
          "scatterpolar": [
           {
            "marker": {
             "colorbar": {
              "outlinewidth": 0,
              "ticks": ""
             }
            },
            "type": "scatterpolar"
           }
          ],
          "scatterpolargl": [
           {
            "marker": {
             "colorbar": {
              "outlinewidth": 0,
              "ticks": ""
             }
            },
            "type": "scatterpolargl"
           }
          ],
          "scatterternary": [
           {
            "marker": {
             "colorbar": {
              "outlinewidth": 0,
              "ticks": ""
             }
            },
            "type": "scatterternary"
           }
          ],
          "surface": [
           {
            "colorbar": {
             "outlinewidth": 0,
             "ticks": ""
            },
            "colorscale": [
             [
              0,
              "#0d0887"
             ],
             [
              0.1111111111111111,
              "#46039f"
             ],
             [
              0.2222222222222222,
              "#7201a8"
             ],
             [
              0.3333333333333333,
              "#9c179e"
             ],
             [
              0.4444444444444444,
              "#bd3786"
             ],
             [
              0.5555555555555556,
              "#d8576b"
             ],
             [
              0.6666666666666666,
              "#ed7953"
             ],
             [
              0.7777777777777778,
              "#fb9f3a"
             ],
             [
              0.8888888888888888,
              "#fdca26"
             ],
             [
              1,
              "#f0f921"
             ]
            ],
            "type": "surface"
           }
          ],
          "table": [
           {
            "cells": {
             "fill": {
              "color": "#EBF0F8"
             },
             "line": {
              "color": "white"
             }
            },
            "header": {
             "fill": {
              "color": "#C8D4E3"
             },
             "line": {
              "color": "white"
             }
            },
            "type": "table"
           }
          ]
         },
         "layout": {
          "annotationdefaults": {
           "arrowcolor": "#2a3f5f",
           "arrowhead": 0,
           "arrowwidth": 1
          },
          "autotypenumbers": "strict",
          "coloraxis": {
           "colorbar": {
            "outlinewidth": 0,
            "ticks": ""
           }
          },
          "colorscale": {
           "diverging": [
            [
             0,
             "#8e0152"
            ],
            [
             0.1,
             "#c51b7d"
            ],
            [
             0.2,
             "#de77ae"
            ],
            [
             0.3,
             "#f1b6da"
            ],
            [
             0.4,
             "#fde0ef"
            ],
            [
             0.5,
             "#f7f7f7"
            ],
            [
             0.6,
             "#e6f5d0"
            ],
            [
             0.7,
             "#b8e186"
            ],
            [
             0.8,
             "#7fbc41"
            ],
            [
             0.9,
             "#4d9221"
            ],
            [
             1,
             "#276419"
            ]
           ],
           "sequential": [
            [
             0,
             "#0d0887"
            ],
            [
             0.1111111111111111,
             "#46039f"
            ],
            [
             0.2222222222222222,
             "#7201a8"
            ],
            [
             0.3333333333333333,
             "#9c179e"
            ],
            [
             0.4444444444444444,
             "#bd3786"
            ],
            [
             0.5555555555555556,
             "#d8576b"
            ],
            [
             0.6666666666666666,
             "#ed7953"
            ],
            [
             0.7777777777777778,
             "#fb9f3a"
            ],
            [
             0.8888888888888888,
             "#fdca26"
            ],
            [
             1,
             "#f0f921"
            ]
           ],
           "sequentialminus": [
            [
             0,
             "#0d0887"
            ],
            [
             0.1111111111111111,
             "#46039f"
            ],
            [
             0.2222222222222222,
             "#7201a8"
            ],
            [
             0.3333333333333333,
             "#9c179e"
            ],
            [
             0.4444444444444444,
             "#bd3786"
            ],
            [
             0.5555555555555556,
             "#d8576b"
            ],
            [
             0.6666666666666666,
             "#ed7953"
            ],
            [
             0.7777777777777778,
             "#fb9f3a"
            ],
            [
             0.8888888888888888,
             "#fdca26"
            ],
            [
             1,
             "#f0f921"
            ]
           ]
          },
          "colorway": [
           "#636efa",
           "#EF553B",
           "#00cc96",
           "#ab63fa",
           "#FFA15A",
           "#19d3f3",
           "#FF6692",
           "#B6E880",
           "#FF97FF",
           "#FECB52"
          ],
          "font": {
           "color": "#2a3f5f"
          },
          "geo": {
           "bgcolor": "white",
           "lakecolor": "white",
           "landcolor": "#E5ECF6",
           "showlakes": true,
           "showland": true,
           "subunitcolor": "white"
          },
          "hoverlabel": {
           "align": "left"
          },
          "hovermode": "closest",
          "mapbox": {
           "style": "light"
          },
          "paper_bgcolor": "white",
          "plot_bgcolor": "#E5ECF6",
          "polar": {
           "angularaxis": {
            "gridcolor": "white",
            "linecolor": "white",
            "ticks": ""
           },
           "bgcolor": "#E5ECF6",
           "radialaxis": {
            "gridcolor": "white",
            "linecolor": "white",
            "ticks": ""
           }
          },
          "scene": {
           "xaxis": {
            "backgroundcolor": "#E5ECF6",
            "gridcolor": "white",
            "gridwidth": 2,
            "linecolor": "white",
            "showbackground": true,
            "ticks": "",
            "zerolinecolor": "white"
           },
           "yaxis": {
            "backgroundcolor": "#E5ECF6",
            "gridcolor": "white",
            "gridwidth": 2,
            "linecolor": "white",
            "showbackground": true,
            "ticks": "",
            "zerolinecolor": "white"
           },
           "zaxis": {
            "backgroundcolor": "#E5ECF6",
            "gridcolor": "white",
            "gridwidth": 2,
            "linecolor": "white",
            "showbackground": true,
            "ticks": "",
            "zerolinecolor": "white"
           }
          },
          "shapedefaults": {
           "line": {
            "color": "#2a3f5f"
           }
          },
          "ternary": {
           "aaxis": {
            "gridcolor": "white",
            "linecolor": "white",
            "ticks": ""
           },
           "baxis": {
            "gridcolor": "white",
            "linecolor": "white",
            "ticks": ""
           },
           "bgcolor": "#E5ECF6",
           "caxis": {
            "gridcolor": "white",
            "linecolor": "white",
            "ticks": ""
           }
          },
          "title": {
           "x": 0.05
          },
          "xaxis": {
           "automargin": true,
           "gridcolor": "white",
           "linecolor": "white",
           "ticks": "",
           "title": {
            "standoff": 15
           },
           "zerolinecolor": "white",
           "zerolinewidth": 2
          },
          "yaxis": {
           "automargin": true,
           "gridcolor": "white",
           "linecolor": "white",
           "ticks": "",
           "title": {
            "standoff": 15
           },
           "zerolinecolor": "white",
           "zerolinewidth": 2
          }
         }
        },
        "title": {
         "text": "Interactive 3D Geometries with Plotly"
        }
       }
      }
     },
     "metadata": {},
     "output_type": "display_data"
    }
   ],
   "source": [
    "ifc_plotter = IfcPlotter()\n",
    "\n",
    "element = ifcfile.elements[0]\n",
    "print(element.name)\n",
    "\n",
    "ifc_plotter.interactive_plot(elements=[element], collisions=[element.formwork])"
   ]
  }
 ],
 "metadata": {
  "kernelspec": {
   "display_name": ".venv",
   "language": "python",
   "name": "python3"
  },
  "language_info": {
   "codemirror_mode": {
    "name": "ipython",
    "version": 3
   },
   "file_extension": ".py",
   "mimetype": "text/x-python",
   "name": "python",
   "nbconvert_exporter": "python",
   "pygments_lexer": "ipython3",
   "version": "3.11.8"
  }
 },
 "nbformat": 4,
 "nbformat_minor": 2
}
