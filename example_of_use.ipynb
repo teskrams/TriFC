{
 "cells": [
  {
   "cell_type": "code",
   "execution_count": 1,
   "metadata": {},
   "outputs": [],
   "source": [
    "from Ifc import IfcFile, IfcPlotter, IfcTriangle"
   ]
  },
  {
   "cell_type": "code",
   "execution_count": 2,
   "metadata": {},
   "outputs": [
    {
     "name": "stdout",
     "output_type": "stream",
     "text": [
      "Calculation started\n",
      "Number of elements found in file: 1\n",
      "## 1 ##  All elements loaded\n",
      "## 2&3 ##  All collisions calculated\n",
      "Calculating formwork for: M_Footing-Rectangular:1800 x 1200 x 450mm:420618\n",
      "## 4 ##  All triangles formwork classified\n",
      "## 5 ##  Formwork area calculated for all elements\n",
      "## 6 ##  Results csv made\n",
      "## 7 ##  Formwork added in ifcfile\n"
     ]
    }
   ],
   "source": [
    "ifcfile = IfcFile(\"/Users/theodor/kode/master/master/ifcs/academic_test_1.ifc\")\n",
    "\n",
    "ifcfile.run_full_calculation(name=\"academic_test_1.csv\", \n",
    "                             result_filepath=\"/Users/theodor/kode/master/TriFC/triFC/example_results\", \n",
    "                             ifc_name=\"academic_test_1_TriFC.ifc\", \n",
    "                             ifc_path=\"/Users/theodor/kode/master/TriFC/triFC/example_ifc\", \n",
    "                             printing=2, \n",
    "                             academic=True)"
   ]
  },
  {
   "cell_type": "code",
   "execution_count": 3,
   "metadata": {},
   "outputs": [
    {
     "name": "stdout",
     "output_type": "stream",
     "text": [
      "M_Footing-Rectangular:1800 x 1200 x 450mm:420618\n"
     ]
    },
    {
     "data": {
      "application/vnd.plotly.v1+json": {
       "config": {
        "plotlyServerURL": "https://plot.ly"
       },
       "data": [
        {
         "color": "red",
         "i": [
          0
         ],
         "j": [
          1
         ],
         "k": [
          2
         ],
         "name": "0",
         "opacity": 1,
         "type": "mesh3d",
         "x": [
          1.2209214268454955,
          1.2209214268454955,
          0.02092142684549614
         ],
         "y": [
          -2.1096169880108864,
          -2.1096169880108864,
          -2.1096169880108864
         ],
         "z": [
          5.551115123125783e-17,
          -0.45,
          -0.45
         ]
        },
        {
         "line": {
          "color": "rgb(0,0,0)",
          "width": 5
         },
         "mode": "lines",
         "showlegend": false,
         "type": "scatter3d",
         "x": [
          0.02092142684549614,
          1.2209214268454955
         ],
         "y": [
          -2.1096169880108864,
          -2.1096169880108864
         ],
         "z": [
          -0.45,
          5.551115123125783e-17
         ]
        },
        {
         "line": {
          "color": "rgb(0,0,0)",
          "width": 5
         },
         "mode": "lines",
         "showlegend": false,
         "type": "scatter3d",
         "x": [
          1.2209214268454955,
          1.2209214268454955
         ],
         "y": [
          -2.1096169880108864,
          -2.1096169880108864
         ],
         "z": [
          5.551115123125783e-17,
          -0.45
         ]
        },
        {
         "line": {
          "color": "rgb(0,0,0)",
          "width": 5
         },
         "mode": "lines",
         "showlegend": false,
         "type": "scatter3d",
         "x": [
          1.2209214268454955,
          0.02092142684549614
         ],
         "y": [
          -2.1096169880108864,
          -2.1096169880108864
         ],
         "z": [
          -0.45,
          -0.45
         ]
        },
        {
         "color": "red",
         "i": [
          0
         ],
         "j": [
          1
         ],
         "k": [
          2
         ],
         "name": "1",
         "opacity": 1,
         "type": "mesh3d",
         "x": [
          0.02092142684549614,
          1.2209214268454955,
          0.02092142684549614
         ],
         "y": [
          -2.1096169880108864,
          -2.1096169880108864,
          -2.1096169880108864
         ],
         "z": [
          5.551115123125783e-17,
          5.551115123125783e-17,
          -0.45
         ]
        },
        {
         "line": {
          "color": "rgb(0,0,0)",
          "width": 5
         },
         "mode": "lines",
         "showlegend": false,
         "type": "scatter3d",
         "x": [
          0.02092142684549614,
          0.02092142684549614
         ],
         "y": [
          -2.1096169880108864,
          -2.1096169880108864
         ],
         "z": [
          -0.45,
          5.551115123125783e-17
         ]
        },
        {
         "line": {
          "color": "rgb(0,0,0)",
          "width": 5
         },
         "mode": "lines",
         "showlegend": false,
         "type": "scatter3d",
         "x": [
          0.02092142684549614,
          1.2209214268454955
         ],
         "y": [
          -2.1096169880108864,
          -2.1096169880108864
         ],
         "z": [
          5.551115123125783e-17,
          5.551115123125783e-17
         ]
        },
        {
         "line": {
          "color": "rgb(0,0,0)",
          "width": 5
         },
         "mode": "lines",
         "showlegend": false,
         "type": "scatter3d",
         "x": [
          1.2209214268454955,
          0.02092142684549614
         ],
         "y": [
          -2.1096169880108864,
          -2.1096169880108864
         ],
         "z": [
          5.551115123125783e-17,
          -0.45
         ]
        },
        {
         "color": "red",
         "i": [
          0
         ],
         "j": [
          1
         ],
         "k": [
          2
         ],
         "name": "2",
         "opacity": 1,
         "type": "mesh3d",
         "x": [
          0.02092142684549614,
          0.02092142684549614,
          0.02092142684549614
         ],
         "y": [
          -2.1096169880108864,
          -2.1096169880108864,
          -3.909616988010886
         ],
         "z": [
          5.551115123125783e-17,
          -0.45,
          -0.45
         ]
        },
        {
         "line": {
          "color": "rgb(0,0,0)",
          "width": 5
         },
         "mode": "lines",
         "showlegend": false,
         "type": "scatter3d",
         "x": [
          0.02092142684549614,
          0.02092142684549614
         ],
         "y": [
          -3.909616988010886,
          -2.1096169880108864
         ],
         "z": [
          -0.45,
          5.551115123125783e-17
         ]
        },
        {
         "line": {
          "color": "rgb(0,0,0)",
          "width": 5
         },
         "mode": "lines",
         "showlegend": false,
         "type": "scatter3d",
         "x": [
          0.02092142684549614,
          0.02092142684549614
         ],
         "y": [
          -2.1096169880108864,
          -2.1096169880108864
         ],
         "z": [
          5.551115123125783e-17,
          -0.45
         ]
        },
        {
         "line": {
          "color": "rgb(0,0,0)",
          "width": 5
         },
         "mode": "lines",
         "showlegend": false,
         "type": "scatter3d",
         "x": [
          0.02092142684549614,
          0.02092142684549614
         ],
         "y": [
          -2.1096169880108864,
          -3.909616988010886
         ],
         "z": [
          -0.45,
          -0.45
         ]
        },
        {
         "color": "red",
         "i": [
          0
         ],
         "j": [
          1
         ],
         "k": [
          2
         ],
         "name": "3",
         "opacity": 1,
         "type": "mesh3d",
         "x": [
          0.02092142684549614,
          0.02092142684549614,
          0.02092142684549614
         ],
         "y": [
          -3.909616988010886,
          -2.1096169880108864,
          -3.909616988010886
         ],
         "z": [
          5.551115123125783e-17,
          5.551115123125783e-17,
          -0.45
         ]
        },
        {
         "line": {
          "color": "rgb(0,0,0)",
          "width": 5
         },
         "mode": "lines",
         "showlegend": false,
         "type": "scatter3d",
         "x": [
          0.02092142684549614,
          0.02092142684549614
         ],
         "y": [
          -3.909616988010886,
          -3.909616988010886
         ],
         "z": [
          -0.45,
          5.551115123125783e-17
         ]
        },
        {
         "line": {
          "color": "rgb(0,0,0)",
          "width": 5
         },
         "mode": "lines",
         "showlegend": false,
         "type": "scatter3d",
         "x": [
          0.02092142684549614,
          0.02092142684549614
         ],
         "y": [
          -3.909616988010886,
          -2.1096169880108864
         ],
         "z": [
          5.551115123125783e-17,
          5.551115123125783e-17
         ]
        },
        {
         "line": {
          "color": "rgb(0,0,0)",
          "width": 5
         },
         "mode": "lines",
         "showlegend": false,
         "type": "scatter3d",
         "x": [
          0.02092142684549614,
          0.02092142684549614
         ],
         "y": [
          -2.1096169880108864,
          -3.909616988010886
         ],
         "z": [
          5.551115123125783e-17,
          -0.45
         ]
        },
        {
         "color": "red",
         "i": [
          0
         ],
         "j": [
          1
         ],
         "k": [
          2
         ],
         "name": "4",
         "opacity": 1,
         "type": "mesh3d",
         "x": [
          0.02092142684549614,
          0.02092142684549614,
          1.2209214268454955
         ],
         "y": [
          -3.909616988010886,
          -3.909616988010886,
          -3.909616988010886
         ],
         "z": [
          5.551115123125783e-17,
          -0.45,
          -0.45
         ]
        },
        {
         "line": {
          "color": "rgb(0,0,0)",
          "width": 5
         },
         "mode": "lines",
         "showlegend": false,
         "type": "scatter3d",
         "x": [
          1.2209214268454955,
          0.02092142684549614
         ],
         "y": [
          -3.909616988010886,
          -3.909616988010886
         ],
         "z": [
          -0.45,
          5.551115123125783e-17
         ]
        },
        {
         "line": {
          "color": "rgb(0,0,0)",
          "width": 5
         },
         "mode": "lines",
         "showlegend": false,
         "type": "scatter3d",
         "x": [
          0.02092142684549614,
          0.02092142684549614
         ],
         "y": [
          -3.909616988010886,
          -3.909616988010886
         ],
         "z": [
          5.551115123125783e-17,
          -0.45
         ]
        },
        {
         "line": {
          "color": "rgb(0,0,0)",
          "width": 5
         },
         "mode": "lines",
         "showlegend": false,
         "type": "scatter3d",
         "x": [
          0.02092142684549614,
          1.2209214268454955
         ],
         "y": [
          -3.909616988010886,
          -3.909616988010886
         ],
         "z": [
          -0.45,
          -0.45
         ]
        },
        {
         "color": "red",
         "i": [
          0
         ],
         "j": [
          1
         ],
         "k": [
          2
         ],
         "name": "5",
         "opacity": 1,
         "type": "mesh3d",
         "x": [
          1.2209214268454955,
          0.02092142684549614,
          1.2209214268454955
         ],
         "y": [
          -3.909616988010886,
          -3.909616988010886,
          -3.909616988010886
         ],
         "z": [
          5.551115123125783e-17,
          5.551115123125783e-17,
          -0.45
         ]
        },
        {
         "line": {
          "color": "rgb(0,0,0)",
          "width": 5
         },
         "mode": "lines",
         "showlegend": false,
         "type": "scatter3d",
         "x": [
          1.2209214268454955,
          1.2209214268454955
         ],
         "y": [
          -3.909616988010886,
          -3.909616988010886
         ],
         "z": [
          -0.45,
          5.551115123125783e-17
         ]
        },
        {
         "line": {
          "color": "rgb(0,0,0)",
          "width": 5
         },
         "mode": "lines",
         "showlegend": false,
         "type": "scatter3d",
         "x": [
          1.2209214268454955,
          0.02092142684549614
         ],
         "y": [
          -3.909616988010886,
          -3.909616988010886
         ],
         "z": [
          5.551115123125783e-17,
          5.551115123125783e-17
         ]
        },
        {
         "line": {
          "color": "rgb(0,0,0)",
          "width": 5
         },
         "mode": "lines",
         "showlegend": false,
         "type": "scatter3d",
         "x": [
          0.02092142684549614,
          1.2209214268454955
         ],
         "y": [
          -3.909616988010886,
          -3.909616988010886
         ],
         "z": [
          5.551115123125783e-17,
          -0.45
         ]
        },
        {
         "color": "red",
         "i": [
          0
         ],
         "j": [
          1
         ],
         "k": [
          2
         ],
         "name": "6",
         "opacity": 1,
         "type": "mesh3d",
         "x": [
          1.2209214268454955,
          1.2209214268454955,
          1.2209214268454955
         ],
         "y": [
          -3.909616988010886,
          -3.909616988010886,
          -2.1096169880108864
         ],
         "z": [
          5.551115123125783e-17,
          -0.45,
          -0.45
         ]
        },
        {
         "line": {
          "color": "rgb(0,0,0)",
          "width": 5
         },
         "mode": "lines",
         "showlegend": false,
         "type": "scatter3d",
         "x": [
          1.2209214268454955,
          1.2209214268454955
         ],
         "y": [
          -2.1096169880108864,
          -3.909616988010886
         ],
         "z": [
          -0.45,
          5.551115123125783e-17
         ]
        },
        {
         "line": {
          "color": "rgb(0,0,0)",
          "width": 5
         },
         "mode": "lines",
         "showlegend": false,
         "type": "scatter3d",
         "x": [
          1.2209214268454955,
          1.2209214268454955
         ],
         "y": [
          -3.909616988010886,
          -3.909616988010886
         ],
         "z": [
          5.551115123125783e-17,
          -0.45
         ]
        },
        {
         "line": {
          "color": "rgb(0,0,0)",
          "width": 5
         },
         "mode": "lines",
         "showlegend": false,
         "type": "scatter3d",
         "x": [
          1.2209214268454955,
          1.2209214268454955
         ],
         "y": [
          -3.909616988010886,
          -2.1096169880108864
         ],
         "z": [
          -0.45,
          -0.45
         ]
        },
        {
         "color": "red",
         "i": [
          0
         ],
         "j": [
          1
         ],
         "k": [
          2
         ],
         "name": "7",
         "opacity": 1,
         "type": "mesh3d",
         "x": [
          1.2209214268454955,
          1.2209214268454955,
          1.2209214268454955
         ],
         "y": [
          -2.1096169880108864,
          -3.909616988010886,
          -2.1096169880108864
         ],
         "z": [
          5.551115123125783e-17,
          5.551115123125783e-17,
          -0.45
         ]
        },
        {
         "line": {
          "color": "rgb(0,0,0)",
          "width": 5
         },
         "mode": "lines",
         "showlegend": false,
         "type": "scatter3d",
         "x": [
          1.2209214268454955,
          1.2209214268454955
         ],
         "y": [
          -2.1096169880108864,
          -2.1096169880108864
         ],
         "z": [
          -0.45,
          5.551115123125783e-17
         ]
        },
        {
         "line": {
          "color": "rgb(0,0,0)",
          "width": 5
         },
         "mode": "lines",
         "showlegend": false,
         "type": "scatter3d",
         "x": [
          1.2209214268454955,
          1.2209214268454955
         ],
         "y": [
          -2.1096169880108864,
          -3.909616988010886
         ],
         "z": [
          5.551115123125783e-17,
          5.551115123125783e-17
         ]
        },
        {
         "line": {
          "color": "rgb(0,0,0)",
          "width": 5
         },
         "mode": "lines",
         "showlegend": false,
         "type": "scatter3d",
         "x": [
          1.2209214268454955,
          1.2209214268454955
         ],
         "y": [
          -3.909616988010886,
          -2.1096169880108864
         ],
         "z": [
          5.551115123125783e-17,
          -0.45
         ]
        },
        {
         "color": "red",
         "i": [
          0
         ],
         "j": [
          1
         ],
         "k": [
          2
         ],
         "name": "8",
         "opacity": 1,
         "type": "mesh3d",
         "x": [
          0.02092142684549614,
          1.2209214268454955,
          0.02092142684549614
         ],
         "y": [
          -2.1096169880108864,
          -2.1096169880108864,
          -3.909616988010886
         ],
         "z": [
          -0.45,
          -0.45,
          -0.45
         ]
        },
        {
         "line": {
          "color": "rgb(0,0,0)",
          "width": 5
         },
         "mode": "lines",
         "showlegend": false,
         "type": "scatter3d",
         "x": [
          0.02092142684549614,
          0.02092142684549614
         ],
         "y": [
          -3.909616988010886,
          -2.1096169880108864
         ],
         "z": [
          -0.45,
          -0.45
         ]
        },
        {
         "line": {
          "color": "rgb(0,0,0)",
          "width": 5
         },
         "mode": "lines",
         "showlegend": false,
         "type": "scatter3d",
         "x": [
          0.02092142684549614,
          1.2209214268454955
         ],
         "y": [
          -2.1096169880108864,
          -2.1096169880108864
         ],
         "z": [
          -0.45,
          -0.45
         ]
        },
        {
         "line": {
          "color": "rgb(0,0,0)",
          "width": 5
         },
         "mode": "lines",
         "showlegend": false,
         "type": "scatter3d",
         "x": [
          1.2209214268454955,
          0.02092142684549614
         ],
         "y": [
          -2.1096169880108864,
          -3.909616988010886
         ],
         "z": [
          -0.45,
          -0.45
         ]
        },
        {
         "color": "red",
         "i": [
          0
         ],
         "j": [
          1
         ],
         "k": [
          2
         ],
         "name": "9",
         "opacity": 1,
         "type": "mesh3d",
         "x": [
          1.2209214268454955,
          1.2209214268454955,
          0.02092142684549614
         ],
         "y": [
          -2.1096169880108864,
          -3.909616988010886,
          -3.909616988010886
         ],
         "z": [
          -0.45,
          -0.45,
          -0.45
         ]
        },
        {
         "line": {
          "color": "rgb(0,0,0)",
          "width": 5
         },
         "mode": "lines",
         "showlegend": false,
         "type": "scatter3d",
         "x": [
          0.02092142684549614,
          1.2209214268454955
         ],
         "y": [
          -3.909616988010886,
          -2.1096169880108864
         ],
         "z": [
          -0.45,
          -0.45
         ]
        },
        {
         "line": {
          "color": "rgb(0,0,0)",
          "width": 5
         },
         "mode": "lines",
         "showlegend": false,
         "type": "scatter3d",
         "x": [
          1.2209214268454955,
          1.2209214268454955
         ],
         "y": [
          -2.1096169880108864,
          -3.909616988010886
         ],
         "z": [
          -0.45,
          -0.45
         ]
        },
        {
         "line": {
          "color": "rgb(0,0,0)",
          "width": 5
         },
         "mode": "lines",
         "showlegend": false,
         "type": "scatter3d",
         "x": [
          1.2209214268454955,
          0.02092142684549614
         ],
         "y": [
          -3.909616988010886,
          -3.909616988010886
         ],
         "z": [
          -0.45,
          -0.45
         ]
        },
        {
         "color": "blue",
         "i": [
          0
         ],
         "j": [
          1
         ],
         "k": [
          2
         ],
         "name": "10",
         "opacity": 0.9,
         "type": "mesh3d",
         "x": [
          0.02092142684549614,
          1.2209214268454955,
          0.02092142684549614
         ],
         "y": [
          -3.909616988010886,
          -2.1096169880108864,
          -2.1096169880108864
         ],
         "z": [
          5.551115123125783e-17,
          5.551115123125783e-17,
          5.551115123125783e-17
         ]
        },
        {
         "line": {
          "color": "rgb(0,0,0)",
          "width": 5
         },
         "mode": "lines",
         "showlegend": false,
         "type": "scatter3d",
         "x": [
          0.02092142684549614,
          0.02092142684549614
         ],
         "y": [
          -2.1096169880108864,
          -3.909616988010886
         ],
         "z": [
          5.551115123125783e-17,
          5.551115123125783e-17
         ]
        },
        {
         "line": {
          "color": "rgb(0,0,0)",
          "width": 5
         },
         "mode": "lines",
         "showlegend": false,
         "type": "scatter3d",
         "x": [
          0.02092142684549614,
          1.2209214268454955
         ],
         "y": [
          -3.909616988010886,
          -2.1096169880108864
         ],
         "z": [
          5.551115123125783e-17,
          5.551115123125783e-17
         ]
        },
        {
         "line": {
          "color": "rgb(0,0,0)",
          "width": 5
         },
         "mode": "lines",
         "showlegend": false,
         "type": "scatter3d",
         "x": [
          1.2209214268454955,
          0.02092142684549614
         ],
         "y": [
          -2.1096169880108864,
          -2.1096169880108864
         ],
         "z": [
          5.551115123125783e-17,
          5.551115123125783e-17
         ]
        },
        {
         "color": "blue",
         "i": [
          0
         ],
         "j": [
          1
         ],
         "k": [
          2
         ],
         "name": "11",
         "opacity": 0.9,
         "type": "mesh3d",
         "x": [
          0.02092142684549614,
          1.2209214268454955,
          1.2209214268454955
         ],
         "y": [
          -3.909616988010886,
          -3.909616988010886,
          -2.1096169880108864
         ],
         "z": [
          5.551115123125783e-17,
          5.551115123125783e-17,
          5.551115123125783e-17
         ]
        },
        {
         "line": {
          "color": "rgb(0,0,0)",
          "width": 5
         },
         "mode": "lines",
         "showlegend": false,
         "type": "scatter3d",
         "x": [
          1.2209214268454955,
          0.02092142684549614
         ],
         "y": [
          -2.1096169880108864,
          -3.909616988010886
         ],
         "z": [
          5.551115123125783e-17,
          5.551115123125783e-17
         ]
        },
        {
         "line": {
          "color": "rgb(0,0,0)",
          "width": 5
         },
         "mode": "lines",
         "showlegend": false,
         "type": "scatter3d",
         "x": [
          0.02092142684549614,
          1.2209214268454955
         ],
         "y": [
          -3.909616988010886,
          -3.909616988010886
         ],
         "z": [
          5.551115123125783e-17,
          5.551115123125783e-17
         ]
        },
        {
         "line": {
          "color": "rgb(0,0,0)",
          "width": 5
         },
         "mode": "lines",
         "showlegend": false,
         "type": "scatter3d",
         "x": [
          1.2209214268454955,
          1.2209214268454955
         ],
         "y": [
          -3.909616988010886,
          -2.1096169880108864
         ],
         "z": [
          5.551115123125783e-17,
          5.551115123125783e-17
         ]
        }
       ],
       "layout": {
        "scene": {
         "aspectmode": "data",
         "xaxis": {
          "range": [
           -0.9790785731545039,
           2.2209214268454955
          ],
          "title": {
           "text": "X Axis"
          }
         },
         "yaxis": {
          "range": [
           -4.909616988010886,
           -1.1096169880108864
          ],
          "title": {
           "text": "Y Axis"
          }
         },
         "zaxis": {
          "range": [
           -1.45,
           1
          ],
          "title": {
           "text": "Z Axis"
          }
         }
        },
        "template": {
         "data": {
          "bar": [
           {
            "error_x": {
             "color": "#2a3f5f"
            },
            "error_y": {
             "color": "#2a3f5f"
            },
            "marker": {
             "line": {
              "color": "#E5ECF6",
              "width": 0.5
             },
             "pattern": {
              "fillmode": "overlay",
              "size": 10,
              "solidity": 0.2
             }
            },
            "type": "bar"
           }
          ],
          "barpolar": [
           {
            "marker": {
             "line": {
              "color": "#E5ECF6",
              "width": 0.5
             },
             "pattern": {
              "fillmode": "overlay",
              "size": 10,
              "solidity": 0.2
             }
            },
            "type": "barpolar"
           }
          ],
          "carpet": [
           {
            "aaxis": {
             "endlinecolor": "#2a3f5f",
             "gridcolor": "white",
             "linecolor": "white",
             "minorgridcolor": "white",
             "startlinecolor": "#2a3f5f"
            },
            "baxis": {
             "endlinecolor": "#2a3f5f",
             "gridcolor": "white",
             "linecolor": "white",
             "minorgridcolor": "white",
             "startlinecolor": "#2a3f5f"
            },
            "type": "carpet"
           }
          ],
          "choropleth": [
           {
            "colorbar": {
             "outlinewidth": 0,
             "ticks": ""
            },
            "type": "choropleth"
           }
          ],
          "contour": [
           {
            "colorbar": {
             "outlinewidth": 0,
             "ticks": ""
            },
            "colorscale": [
             [
              0,
              "#0d0887"
             ],
             [
              0.1111111111111111,
              "#46039f"
             ],
             [
              0.2222222222222222,
              "#7201a8"
             ],
             [
              0.3333333333333333,
              "#9c179e"
             ],
             [
              0.4444444444444444,
              "#bd3786"
             ],
             [
              0.5555555555555556,
              "#d8576b"
             ],
             [
              0.6666666666666666,
              "#ed7953"
             ],
             [
              0.7777777777777778,
              "#fb9f3a"
             ],
             [
              0.8888888888888888,
              "#fdca26"
             ],
             [
              1,
              "#f0f921"
             ]
            ],
            "type": "contour"
           }
          ],
          "contourcarpet": [
           {
            "colorbar": {
             "outlinewidth": 0,
             "ticks": ""
            },
            "type": "contourcarpet"
           }
          ],
          "heatmap": [
           {
            "colorbar": {
             "outlinewidth": 0,
             "ticks": ""
            },
            "colorscale": [
             [
              0,
              "#0d0887"
             ],
             [
              0.1111111111111111,
              "#46039f"
             ],
             [
              0.2222222222222222,
              "#7201a8"
             ],
             [
              0.3333333333333333,
              "#9c179e"
             ],
             [
              0.4444444444444444,
              "#bd3786"
             ],
             [
              0.5555555555555556,
              "#d8576b"
             ],
             [
              0.6666666666666666,
              "#ed7953"
             ],
             [
              0.7777777777777778,
              "#fb9f3a"
             ],
             [
              0.8888888888888888,
              "#fdca26"
             ],
             [
              1,
              "#f0f921"
             ]
            ],
            "type": "heatmap"
           }
          ],
          "heatmapgl": [
           {
            "colorbar": {
             "outlinewidth": 0,
             "ticks": ""
            },
            "colorscale": [
             [
              0,
              "#0d0887"
             ],
             [
              0.1111111111111111,
              "#46039f"
             ],
             [
              0.2222222222222222,
              "#7201a8"
             ],
             [
              0.3333333333333333,
              "#9c179e"
             ],
             [
              0.4444444444444444,
              "#bd3786"
             ],
             [
              0.5555555555555556,
              "#d8576b"
             ],
             [
              0.6666666666666666,
              "#ed7953"
             ],
             [
              0.7777777777777778,
              "#fb9f3a"
             ],
             [
              0.8888888888888888,
              "#fdca26"
             ],
             [
              1,
              "#f0f921"
             ]
            ],
            "type": "heatmapgl"
           }
          ],
          "histogram": [
           {
            "marker": {
             "pattern": {
              "fillmode": "overlay",
              "size": 10,
              "solidity": 0.2
             }
            },
            "type": "histogram"
           }
          ],
          "histogram2d": [
           {
            "colorbar": {
             "outlinewidth": 0,
             "ticks": ""
            },
            "colorscale": [
             [
              0,
              "#0d0887"
             ],
             [
              0.1111111111111111,
              "#46039f"
             ],
             [
              0.2222222222222222,
              "#7201a8"
             ],
             [
              0.3333333333333333,
              "#9c179e"
             ],
             [
              0.4444444444444444,
              "#bd3786"
             ],
             [
              0.5555555555555556,
              "#d8576b"
             ],
             [
              0.6666666666666666,
              "#ed7953"
             ],
             [
              0.7777777777777778,
              "#fb9f3a"
             ],
             [
              0.8888888888888888,
              "#fdca26"
             ],
             [
              1,
              "#f0f921"
             ]
            ],
            "type": "histogram2d"
           }
          ],
          "histogram2dcontour": [
           {
            "colorbar": {
             "outlinewidth": 0,
             "ticks": ""
            },
            "colorscale": [
             [
              0,
              "#0d0887"
             ],
             [
              0.1111111111111111,
              "#46039f"
             ],
             [
              0.2222222222222222,
              "#7201a8"
             ],
             [
              0.3333333333333333,
              "#9c179e"
             ],
             [
              0.4444444444444444,
              "#bd3786"
             ],
             [
              0.5555555555555556,
              "#d8576b"
             ],
             [
              0.6666666666666666,
              "#ed7953"
             ],
             [
              0.7777777777777778,
              "#fb9f3a"
             ],
             [
              0.8888888888888888,
              "#fdca26"
             ],
             [
              1,
              "#f0f921"
             ]
            ],
            "type": "histogram2dcontour"
           }
          ],
          "mesh3d": [
           {
            "colorbar": {
             "outlinewidth": 0,
             "ticks": ""
            },
            "type": "mesh3d"
           }
          ],
          "parcoords": [
           {
            "line": {
             "colorbar": {
              "outlinewidth": 0,
              "ticks": ""
             }
            },
            "type": "parcoords"
           }
          ],
          "pie": [
           {
            "automargin": true,
            "type": "pie"
           }
          ],
          "scatter": [
           {
            "fillpattern": {
             "fillmode": "overlay",
             "size": 10,
             "solidity": 0.2
            },
            "type": "scatter"
           }
          ],
          "scatter3d": [
           {
            "line": {
             "colorbar": {
              "outlinewidth": 0,
              "ticks": ""
             }
            },
            "marker": {
             "colorbar": {
              "outlinewidth": 0,
              "ticks": ""
             }
            },
            "type": "scatter3d"
           }
          ],
          "scattercarpet": [
           {
            "marker": {
             "colorbar": {
              "outlinewidth": 0,
              "ticks": ""
             }
            },
            "type": "scattercarpet"
           }
          ],
          "scattergeo": [
           {
            "marker": {
             "colorbar": {
              "outlinewidth": 0,
              "ticks": ""
             }
            },
            "type": "scattergeo"
           }
          ],
          "scattergl": [
           {
            "marker": {
             "colorbar": {
              "outlinewidth": 0,
              "ticks": ""
             }
            },
            "type": "scattergl"
           }
          ],
          "scattermapbox": [
           {
            "marker": {
             "colorbar": {
              "outlinewidth": 0,
              "ticks": ""
             }
            },
            "type": "scattermapbox"
           }
          ],
          "scatterpolar": [
           {
            "marker": {
             "colorbar": {
              "outlinewidth": 0,
              "ticks": ""
             }
            },
            "type": "scatterpolar"
           }
          ],
          "scatterpolargl": [
           {
            "marker": {
             "colorbar": {
              "outlinewidth": 0,
              "ticks": ""
             }
            },
            "type": "scatterpolargl"
           }
          ],
          "scatterternary": [
           {
            "marker": {
             "colorbar": {
              "outlinewidth": 0,
              "ticks": ""
             }
            },
            "type": "scatterternary"
           }
          ],
          "surface": [
           {
            "colorbar": {
             "outlinewidth": 0,
             "ticks": ""
            },
            "colorscale": [
             [
              0,
              "#0d0887"
             ],
             [
              0.1111111111111111,
              "#46039f"
             ],
             [
              0.2222222222222222,
              "#7201a8"
             ],
             [
              0.3333333333333333,
              "#9c179e"
             ],
             [
              0.4444444444444444,
              "#bd3786"
             ],
             [
              0.5555555555555556,
              "#d8576b"
             ],
             [
              0.6666666666666666,
              "#ed7953"
             ],
             [
              0.7777777777777778,
              "#fb9f3a"
             ],
             [
              0.8888888888888888,
              "#fdca26"
             ],
             [
              1,
              "#f0f921"
             ]
            ],
            "type": "surface"
           }
          ],
          "table": [
           {
            "cells": {
             "fill": {
              "color": "#EBF0F8"
             },
             "line": {
              "color": "white"
             }
            },
            "header": {
             "fill": {
              "color": "#C8D4E3"
             },
             "line": {
              "color": "white"
             }
            },
            "type": "table"
           }
          ]
         },
         "layout": {
          "annotationdefaults": {
           "arrowcolor": "#2a3f5f",
           "arrowhead": 0,
           "arrowwidth": 1
          },
          "autotypenumbers": "strict",
          "coloraxis": {
           "colorbar": {
            "outlinewidth": 0,
            "ticks": ""
           }
          },
          "colorscale": {
           "diverging": [
            [
             0,
             "#8e0152"
            ],
            [
             0.1,
             "#c51b7d"
            ],
            [
             0.2,
             "#de77ae"
            ],
            [
             0.3,
             "#f1b6da"
            ],
            [
             0.4,
             "#fde0ef"
            ],
            [
             0.5,
             "#f7f7f7"
            ],
            [
             0.6,
             "#e6f5d0"
            ],
            [
             0.7,
             "#b8e186"
            ],
            [
             0.8,
             "#7fbc41"
            ],
            [
             0.9,
             "#4d9221"
            ],
            [
             1,
             "#276419"
            ]
           ],
           "sequential": [
            [
             0,
             "#0d0887"
            ],
            [
             0.1111111111111111,
             "#46039f"
            ],
            [
             0.2222222222222222,
             "#7201a8"
            ],
            [
             0.3333333333333333,
             "#9c179e"
            ],
            [
             0.4444444444444444,
             "#bd3786"
            ],
            [
             0.5555555555555556,
             "#d8576b"
            ],
            [
             0.6666666666666666,
             "#ed7953"
            ],
            [
             0.7777777777777778,
             "#fb9f3a"
            ],
            [
             0.8888888888888888,
             "#fdca26"
            ],
            [
             1,
             "#f0f921"
            ]
           ],
           "sequentialminus": [
            [
             0,
             "#0d0887"
            ],
            [
             0.1111111111111111,
             "#46039f"
            ],
            [
             0.2222222222222222,
             "#7201a8"
            ],
            [
             0.3333333333333333,
             "#9c179e"
            ],
            [
             0.4444444444444444,
             "#bd3786"
            ],
            [
             0.5555555555555556,
             "#d8576b"
            ],
            [
             0.6666666666666666,
             "#ed7953"
            ],
            [
             0.7777777777777778,
             "#fb9f3a"
            ],
            [
             0.8888888888888888,
             "#fdca26"
            ],
            [
             1,
             "#f0f921"
            ]
           ]
          },
          "colorway": [
           "#636efa",
           "#EF553B",
           "#00cc96",
           "#ab63fa",
           "#FFA15A",
           "#19d3f3",
           "#FF6692",
           "#B6E880",
           "#FF97FF",
           "#FECB52"
          ],
          "font": {
           "color": "#2a3f5f"
          },
          "geo": {
           "bgcolor": "white",
           "lakecolor": "white",
           "landcolor": "#E5ECF6",
           "showlakes": true,
           "showland": true,
           "subunitcolor": "white"
          },
          "hoverlabel": {
           "align": "left"
          },
          "hovermode": "closest",
          "mapbox": {
           "style": "light"
          },
          "paper_bgcolor": "white",
          "plot_bgcolor": "#E5ECF6",
          "polar": {
           "angularaxis": {
            "gridcolor": "white",
            "linecolor": "white",
            "ticks": ""
           },
           "bgcolor": "#E5ECF6",
           "radialaxis": {
            "gridcolor": "white",
            "linecolor": "white",
            "ticks": ""
           }
          },
          "scene": {
           "xaxis": {
            "backgroundcolor": "#E5ECF6",
            "gridcolor": "white",
            "gridwidth": 2,
            "linecolor": "white",
            "showbackground": true,
            "ticks": "",
            "zerolinecolor": "white"
           },
           "yaxis": {
            "backgroundcolor": "#E5ECF6",
            "gridcolor": "white",
            "gridwidth": 2,
            "linecolor": "white",
            "showbackground": true,
            "ticks": "",
            "zerolinecolor": "white"
           },
           "zaxis": {
            "backgroundcolor": "#E5ECF6",
            "gridcolor": "white",
            "gridwidth": 2,
            "linecolor": "white",
            "showbackground": true,
            "ticks": "",
            "zerolinecolor": "white"
           }
          },
          "shapedefaults": {
           "line": {
            "color": "#2a3f5f"
           }
          },
          "ternary": {
           "aaxis": {
            "gridcolor": "white",
            "linecolor": "white",
            "ticks": ""
           },
           "baxis": {
            "gridcolor": "white",
            "linecolor": "white",
            "ticks": ""
           },
           "bgcolor": "#E5ECF6",
           "caxis": {
            "gridcolor": "white",
            "linecolor": "white",
            "ticks": ""
           }
          },
          "title": {
           "x": 0.05
          },
          "xaxis": {
           "automargin": true,
           "gridcolor": "white",
           "linecolor": "white",
           "ticks": "",
           "title": {
            "standoff": 15
           },
           "zerolinecolor": "white",
           "zerolinewidth": 2
          },
          "yaxis": {
           "automargin": true,
           "gridcolor": "white",
           "linecolor": "white",
           "ticks": "",
           "title": {
            "standoff": 15
           },
           "zerolinecolor": "white",
           "zerolinewidth": 2
          }
         }
        },
        "title": {
         "text": "Interactive 3D Geometries with Plotly"
        }
       }
      }
     },
     "metadata": {},
     "output_type": "display_data"
    }
   ],
   "source": [
    "ifc_plotter = IfcPlotter()\n",
    "\n",
    "element = ifcfile.elements[0]\n",
    "print(element.name)\n",
    "\n",
    "ifc_plotter.interactive_plot(elements=[element], collisions=[element.formwork])"
   ]
  },
  {
   "cell_type": "code",
   "execution_count": 4,
   "metadata": {},
   "outputs": [
    {
     "name": "stdout",
     "output_type": "stream",
     "text": [
      "Calculation started\n",
      "Number of elements found in file: 2\n",
      "## 1 ##  All elements loaded\n",
      "combo: M_Footing-Rectangular:1800 x 1200 x 450mm:420618 and M_Footing-Rectangular:1800 x 1200 x 450mm:420655\n",
      "## 2&3 ##  All collisions calculated\n",
      "Calculating formwork for: M_Footing-Rectangular:1800 x 1200 x 450mm:420618\n",
      "Calculating formwork for: M_Footing-Rectangular:1800 x 1200 x 450mm:420655\n",
      "## 4 ##  All triangles formwork classified\n",
      "## 5 ##  Formwork area calculated for all elements\n",
      "## 6 ##  Results csv made\n",
      "## 7 ##  Formwork added in ifcfile\n"
     ]
    }
   ],
   "source": [
    "ifcfile = IfcFile(\"/Users/theodor/kode/master/TriFC/triFC/example_ifc/academic_test_2.ifc\")\n",
    "\n",
    "ifcfile.run_full_calculation(name=\"academic_test_2.csv\", \n",
    "                             result_filepath=\"/Users/theodor/kode/master/TriFC/triFC/example_results\",  \n",
    "                             ifc_name=\"academic_test_2_TriFC.ifc\", \n",
    "                             ifc_path=\"/Users/theodor/kode/master/TriFC/triFC/example_ifc\", \n",
    "                             printing=2, \n",
    "                             academic=True\n",
    "                             )"
   ]
  }
 ],
 "metadata": {
  "kernelspec": {
   "display_name": ".venv",
   "language": "python",
   "name": "python3"
  },
  "language_info": {
   "codemirror_mode": {
    "name": "ipython",
    "version": 3
   },
   "file_extension": ".py",
   "mimetype": "text/x-python",
   "name": "python",
   "nbconvert_exporter": "python",
   "pygments_lexer": "ipython3",
   "version": "3.11.8"
  }
 },
 "nbformat": 4,
 "nbformat_minor": 2
}
