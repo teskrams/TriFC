{
 "cells": [
  {
   "cell_type": "markdown",
   "metadata": {},
   "source": [
    "# Notebook running the model on two academic files"
   ]
  },
  {
   "cell_type": "markdown",
   "metadata": {},
   "source": [
    "## Imports"
   ]
  },
  {
   "cell_type": "code",
   "execution_count": 1,
   "metadata": {},
   "outputs": [],
   "source": [
    "from TriFC.IfcFile import IfcFile\n",
    "from TriFC.IfcPlotter import IfcPlotter"
   ]
  },
  {
   "cell_type": "markdown",
   "metadata": {},
   "source": [
    "## File 1"
   ]
  },
  {
   "cell_type": "code",
   "execution_count": 2,
   "metadata": {},
   "outputs": [
    {
     "name": "stdout",
     "output_type": "stream",
     "text": [
      "Calculation started\n",
      "Number of elements found in file: 1\n",
      "## 1 ##  All elements loaded\n",
      "## 2&3 ##  All collisions calculated\n",
      "Calculating formwork for: M_Footing-Rectangular:1800 x 1200 x 450mm:420618\n",
      "## 4 ##  All triangles formwork classified\n",
      "## 5 ##  Formwork area calculated for all elements\n",
      "## 6 ##  Results csv made\n",
      "## 7 ##  Formwork added in ifcfile\n"
     ]
    }
   ],
   "source": [
    "ifcfile = IfcFile(\"/Users/theodor/kode/master/master/ifcs/academic_test_1.ifc\")\n",
    "\n",
    "ifcfile.run_full_calculation(name=\"academic_test_1.csv\", \n",
    "                             result_filepath=\"/Users/theodor/kode/master/TriFC/triFC/example_results\", \n",
    "                             ifc_name=\"academic_test_1_TriFC.ifc\", \n",
    "                             ifc_path=\"/Users/theodor/kode/master/TriFC/triFC/example_ifc\", \n",
    "                             printing=2, \n",
    "                             academic=True)"
   ]
  },
  {
   "cell_type": "code",
   "execution_count": 3,
   "metadata": {},
   "outputs": [
    {
     "name": "stdout",
     "output_type": "stream",
     "text": [
      "M_Footing-Rectangular:1800 x 1200 x 450mm:420618\n"
     ]
    },
    {
     "data": {
      "application/vnd.plotly.v1+json": {
       "config": {
        "plotlyServerURL": "https://plot.ly"
       },
       "data": [
        {
         "color": "red",
         "i": [
          0
         ],
         "j": [
          1
         ],
         "k": [
          2
         ],
         "name": "0",
         "opacity": 1,
         "type": "mesh3d",
         "x": [
          1.2209214268454955,
          1.2209214268454955,
          0.02092142684549614
         ],
         "y": [
          -2.1096169880108864,
          -2.1096169880108864,
          -2.1096169880108864
         ],
         "z": [
          5.551115123125783e-17,
          -0.45,
          -0.45
         ]
        },
        {
         "line": {
          "color": "rgb(0,0,0)",
          "width": 5
         },
         "mode": "lines",
         "showlegend": false,
         "type": "scatter3d",
         "x": [
          0.02092142684549614,
          1.2209214268454955
         ],
         "y": [
          -2.1096169880108864,
          -2.1096169880108864
         ],
         "z": [
          -0.45,
          5.551115123125783e-17
         ]
        },
        {
         "line": {
          "color": "rgb(0,0,0)",
          "width": 5
         },
         "mode": "lines",
         "showlegend": false,
         "type": "scatter3d",
         "x": [
          1.2209214268454955,
          1.2209214268454955
         ],
         "y": [
          -2.1096169880108864,
          -2.1096169880108864
         ],
         "z": [
          5.551115123125783e-17,
          -0.45
         ]
        },
        {
         "line": {
          "color": "rgb(0,0,0)",
          "width": 5
         },
         "mode": "lines",
         "showlegend": false,
         "type": "scatter3d",
         "x": [
          1.2209214268454955,
          0.02092142684549614
         ],
         "y": [
          -2.1096169880108864,
          -2.1096169880108864
         ],
         "z": [
          -0.45,
          -0.45
         ]
        },
        {
         "color": "red",
         "i": [
          0
         ],
         "j": [
          1
         ],
         "k": [
          2
         ],
         "name": "1",
         "opacity": 1,
         "type": "mesh3d",
         "x": [
          0.02092142684549614,
          1.2209214268454955,
          0.02092142684549614
         ],
         "y": [
          -2.1096169880108864,
          -2.1096169880108864,
          -2.1096169880108864
         ],
         "z": [
          5.551115123125783e-17,
          5.551115123125783e-17,
          -0.45
         ]
        },
        {
         "line": {
          "color": "rgb(0,0,0)",
          "width": 5
         },
         "mode": "lines",
         "showlegend": false,
         "type": "scatter3d",
         "x": [
          0.02092142684549614,
          0.02092142684549614
         ],
         "y": [
          -2.1096169880108864,
          -2.1096169880108864
         ],
         "z": [
          -0.45,
          5.551115123125783e-17
         ]
        },
        {
         "line": {
          "color": "rgb(0,0,0)",
          "width": 5
         },
         "mode": "lines",
         "showlegend": false,
         "type": "scatter3d",
         "x": [
          0.02092142684549614,
          1.2209214268454955
         ],
         "y": [
          -2.1096169880108864,
          -2.1096169880108864
         ],
         "z": [
          5.551115123125783e-17,
          5.551115123125783e-17
         ]
        },
        {
         "line": {
          "color": "rgb(0,0,0)",
          "width": 5
         },
         "mode": "lines",
         "showlegend": false,
         "type": "scatter3d",
         "x": [
          1.2209214268454955,
          0.02092142684549614
         ],
         "y": [
          -2.1096169880108864,
          -2.1096169880108864
         ],
         "z": [
          5.551115123125783e-17,
          -0.45
         ]
        },
        {
         "color": "red",
         "i": [
          0
         ],
         "j": [
          1
         ],
         "k": [
          2
         ],
         "name": "2",
         "opacity": 1,
         "type": "mesh3d",
         "x": [
          0.02092142684549614,
          0.02092142684549614,
          0.02092142684549614
         ],
         "y": [
          -2.1096169880108864,
          -2.1096169880108864,
          -3.909616988010886
         ],
         "z": [
          5.551115123125783e-17,
          -0.45,
          -0.45
         ]
        },
        {
         "line": {
          "color": "rgb(0,0,0)",
          "width": 5
         },
         "mode": "lines",
         "showlegend": false,
         "type": "scatter3d",
         "x": [
          0.02092142684549614,
          0.02092142684549614
         ],
         "y": [
          -3.909616988010886,
          -2.1096169880108864
         ],
         "z": [
          -0.45,
          5.551115123125783e-17
         ]
        },
        {
         "line": {
          "color": "rgb(0,0,0)",
          "width": 5
         },
         "mode": "lines",
         "showlegend": false,
         "type": "scatter3d",
         "x": [
          0.02092142684549614,
          0.02092142684549614
         ],
         "y": [
          -2.1096169880108864,
          -2.1096169880108864
         ],
         "z": [
          5.551115123125783e-17,
          -0.45
         ]
        },
        {
         "line": {
          "color": "rgb(0,0,0)",
          "width": 5
         },
         "mode": "lines",
         "showlegend": false,
         "type": "scatter3d",
         "x": [
          0.02092142684549614,
          0.02092142684549614
         ],
         "y": [
          -2.1096169880108864,
          -3.909616988010886
         ],
         "z": [
          -0.45,
          -0.45
         ]
        },
        {
         "color": "red",
         "i": [
          0
         ],
         "j": [
          1
         ],
         "k": [
          2
         ],
         "name": "3",
         "opacity": 1,
         "type": "mesh3d",
         "x": [
          0.02092142684549614,
          0.02092142684549614,
          0.02092142684549614
         ],
         "y": [
          -3.909616988010886,
          -2.1096169880108864,
          -3.909616988010886
         ],
         "z": [
          5.551115123125783e-17,
          5.551115123125783e-17,
          -0.45
         ]
        },
        {
         "line": {
          "color": "rgb(0,0,0)",
          "width": 5
         },
         "mode": "lines",
         "showlegend": false,
         "type": "scatter3d",
         "x": [
          0.02092142684549614,
          0.02092142684549614
         ],
         "y": [
          -3.909616988010886,
          -3.909616988010886
         ],
         "z": [
          -0.45,
          5.551115123125783e-17
         ]
        },
        {
         "line": {
          "color": "rgb(0,0,0)",
          "width": 5
         },
         "mode": "lines",
         "showlegend": false,
         "type": "scatter3d",
         "x": [
          0.02092142684549614,
          0.02092142684549614
         ],
         "y": [
          -3.909616988010886,
          -2.1096169880108864
         ],
         "z": [
          5.551115123125783e-17,
          5.551115123125783e-17
         ]
        },
        {
         "line": {
          "color": "rgb(0,0,0)",
          "width": 5
         },
         "mode": "lines",
         "showlegend": false,
         "type": "scatter3d",
         "x": [
          0.02092142684549614,
          0.02092142684549614
         ],
         "y": [
          -2.1096169880108864,
          -3.909616988010886
         ],
         "z": [
          5.551115123125783e-17,
          -0.45
         ]
        },
        {
         "color": "red",
         "i": [
          0
         ],
         "j": [
          1
         ],
         "k": [
          2
         ],
         "name": "4",
         "opacity": 1,
         "type": "mesh3d",
         "x": [
          0.02092142684549614,
          0.02092142684549614,
          1.2209214268454955
         ],
         "y": [
          -3.909616988010886,
          -3.909616988010886,
          -3.909616988010886
         ],
         "z": [
          5.551115123125783e-17,
          -0.45,
          -0.45
         ]
        },
        {
         "line": {
          "color": "rgb(0,0,0)",
          "width": 5
         },
         "mode": "lines",
         "showlegend": false,
         "type": "scatter3d",
         "x": [
          1.2209214268454955,
          0.02092142684549614
         ],
         "y": [
          -3.909616988010886,
          -3.909616988010886
         ],
         "z": [
          -0.45,
          5.551115123125783e-17
         ]
        },
        {
         "line": {
          "color": "rgb(0,0,0)",
          "width": 5
         },
         "mode": "lines",
         "showlegend": false,
         "type": "scatter3d",
         "x": [
          0.02092142684549614,
          0.02092142684549614
         ],
         "y": [
          -3.909616988010886,
          -3.909616988010886
         ],
         "z": [
          5.551115123125783e-17,
          -0.45
         ]
        },
        {
         "line": {
          "color": "rgb(0,0,0)",
          "width": 5
         },
         "mode": "lines",
         "showlegend": false,
         "type": "scatter3d",
         "x": [
          0.02092142684549614,
          1.2209214268454955
         ],
         "y": [
          -3.909616988010886,
          -3.909616988010886
         ],
         "z": [
          -0.45,
          -0.45
         ]
        },
        {
         "color": "red",
         "i": [
          0
         ],
         "j": [
          1
         ],
         "k": [
          2
         ],
         "name": "5",
         "opacity": 1,
         "type": "mesh3d",
         "x": [
          1.2209214268454955,
          0.02092142684549614,
          1.2209214268454955
         ],
         "y": [
          -3.909616988010886,
          -3.909616988010886,
          -3.909616988010886
         ],
         "z": [
          5.551115123125783e-17,
          5.551115123125783e-17,
          -0.45
         ]
        },
        {
         "line": {
          "color": "rgb(0,0,0)",
          "width": 5
         },
         "mode": "lines",
         "showlegend": false,
         "type": "scatter3d",
         "x": [
          1.2209214268454955,
          1.2209214268454955
         ],
         "y": [
          -3.909616988010886,
          -3.909616988010886
         ],
         "z": [
          -0.45,
          5.551115123125783e-17
         ]
        },
        {
         "line": {
          "color": "rgb(0,0,0)",
          "width": 5
         },
         "mode": "lines",
         "showlegend": false,
         "type": "scatter3d",
         "x": [
          1.2209214268454955,
          0.02092142684549614
         ],
         "y": [
          -3.909616988010886,
          -3.909616988010886
         ],
         "z": [
          5.551115123125783e-17,
          5.551115123125783e-17
         ]
        },
        {
         "line": {
          "color": "rgb(0,0,0)",
          "width": 5
         },
         "mode": "lines",
         "showlegend": false,
         "type": "scatter3d",
         "x": [
          0.02092142684549614,
          1.2209214268454955
         ],
         "y": [
          -3.909616988010886,
          -3.909616988010886
         ],
         "z": [
          5.551115123125783e-17,
          -0.45
         ]
        },
        {
         "color": "red",
         "i": [
          0
         ],
         "j": [
          1
         ],
         "k": [
          2
         ],
         "name": "6",
         "opacity": 1,
         "type": "mesh3d",
         "x": [
          1.2209214268454955,
          1.2209214268454955,
          1.2209214268454955
         ],
         "y": [
          -3.909616988010886,
          -3.909616988010886,
          -2.1096169880108864
         ],
         "z": [
          5.551115123125783e-17,
          -0.45,
          -0.45
         ]
        },
        {
         "line": {
          "color": "rgb(0,0,0)",
          "width": 5
         },
         "mode": "lines",
         "showlegend": false,
         "type": "scatter3d",
         "x": [
          1.2209214268454955,
          1.2209214268454955
         ],
         "y": [
          -2.1096169880108864,
          -3.909616988010886
         ],
         "z": [
          -0.45,
          5.551115123125783e-17
         ]
        },
        {
         "line": {
          "color": "rgb(0,0,0)",
          "width": 5
         },
         "mode": "lines",
         "showlegend": false,
         "type": "scatter3d",
         "x": [
          1.2209214268454955,
          1.2209214268454955
         ],
         "y": [
          -3.909616988010886,
          -3.909616988010886
         ],
         "z": [
          5.551115123125783e-17,
          -0.45
         ]
        },
        {
         "line": {
          "color": "rgb(0,0,0)",
          "width": 5
         },
         "mode": "lines",
         "showlegend": false,
         "type": "scatter3d",
         "x": [
          1.2209214268454955,
          1.2209214268454955
         ],
         "y": [
          -3.909616988010886,
          -2.1096169880108864
         ],
         "z": [
          -0.45,
          -0.45
         ]
        },
        {
         "color": "red",
         "i": [
          0
         ],
         "j": [
          1
         ],
         "k": [
          2
         ],
         "name": "7",
         "opacity": 1,
         "type": "mesh3d",
         "x": [
          1.2209214268454955,
          1.2209214268454955,
          1.2209214268454955
         ],
         "y": [
          -2.1096169880108864,
          -3.909616988010886,
          -2.1096169880108864
         ],
         "z": [
          5.551115123125783e-17,
          5.551115123125783e-17,
          -0.45
         ]
        },
        {
         "line": {
          "color": "rgb(0,0,0)",
          "width": 5
         },
         "mode": "lines",
         "showlegend": false,
         "type": "scatter3d",
         "x": [
          1.2209214268454955,
          1.2209214268454955
         ],
         "y": [
          -2.1096169880108864,
          -2.1096169880108864
         ],
         "z": [
          -0.45,
          5.551115123125783e-17
         ]
        },
        {
         "line": {
          "color": "rgb(0,0,0)",
          "width": 5
         },
         "mode": "lines",
         "showlegend": false,
         "type": "scatter3d",
         "x": [
          1.2209214268454955,
          1.2209214268454955
         ],
         "y": [
          -2.1096169880108864,
          -3.909616988010886
         ],
         "z": [
          5.551115123125783e-17,
          5.551115123125783e-17
         ]
        },
        {
         "line": {
          "color": "rgb(0,0,0)",
          "width": 5
         },
         "mode": "lines",
         "showlegend": false,
         "type": "scatter3d",
         "x": [
          1.2209214268454955,
          1.2209214268454955
         ],
         "y": [
          -3.909616988010886,
          -2.1096169880108864
         ],
         "z": [
          5.551115123125783e-17,
          -0.45
         ]
        },
        {
         "color": "red",
         "i": [
          0
         ],
         "j": [
          1
         ],
         "k": [
          2
         ],
         "name": "8",
         "opacity": 1,
         "type": "mesh3d",
         "x": [
          0.02092142684549614,
          1.2209214268454955,
          0.02092142684549614
         ],
         "y": [
          -2.1096169880108864,
          -2.1096169880108864,
          -3.909616988010886
         ],
         "z": [
          -0.45,
          -0.45,
          -0.45
         ]
        },
        {
         "line": {
          "color": "rgb(0,0,0)",
          "width": 5
         },
         "mode": "lines",
         "showlegend": false,
         "type": "scatter3d",
         "x": [
          0.02092142684549614,
          0.02092142684549614
         ],
         "y": [
          -3.909616988010886,
          -2.1096169880108864
         ],
         "z": [
          -0.45,
          -0.45
         ]
        },
        {
         "line": {
          "color": "rgb(0,0,0)",
          "width": 5
         },
         "mode": "lines",
         "showlegend": false,
         "type": "scatter3d",
         "x": [
          0.02092142684549614,
          1.2209214268454955
         ],
         "y": [
          -2.1096169880108864,
          -2.1096169880108864
         ],
         "z": [
          -0.45,
          -0.45
         ]
        },
        {
         "line": {
          "color": "rgb(0,0,0)",
          "width": 5
         },
         "mode": "lines",
         "showlegend": false,
         "type": "scatter3d",
         "x": [
          1.2209214268454955,
          0.02092142684549614
         ],
         "y": [
          -2.1096169880108864,
          -3.909616988010886
         ],
         "z": [
          -0.45,
          -0.45
         ]
        },
        {
         "color": "red",
         "i": [
          0
         ],
         "j": [
          1
         ],
         "k": [
          2
         ],
         "name": "9",
         "opacity": 1,
         "type": "mesh3d",
         "x": [
          1.2209214268454955,
          1.2209214268454955,
          0.02092142684549614
         ],
         "y": [
          -2.1096169880108864,
          -3.909616988010886,
          -3.909616988010886
         ],
         "z": [
          -0.45,
          -0.45,
          -0.45
         ]
        },
        {
         "line": {
          "color": "rgb(0,0,0)",
          "width": 5
         },
         "mode": "lines",
         "showlegend": false,
         "type": "scatter3d",
         "x": [
          0.02092142684549614,
          1.2209214268454955
         ],
         "y": [
          -3.909616988010886,
          -2.1096169880108864
         ],
         "z": [
          -0.45,
          -0.45
         ]
        },
        {
         "line": {
          "color": "rgb(0,0,0)",
          "width": 5
         },
         "mode": "lines",
         "showlegend": false,
         "type": "scatter3d",
         "x": [
          1.2209214268454955,
          1.2209214268454955
         ],
         "y": [
          -2.1096169880108864,
          -3.909616988010886
         ],
         "z": [
          -0.45,
          -0.45
         ]
        },
        {
         "line": {
          "color": "rgb(0,0,0)",
          "width": 5
         },
         "mode": "lines",
         "showlegend": false,
         "type": "scatter3d",
         "x": [
          1.2209214268454955,
          0.02092142684549614
         ],
         "y": [
          -3.909616988010886,
          -3.909616988010886
         ],
         "z": [
          -0.45,
          -0.45
         ]
        },
        {
         "color": "blue",
         "i": [
          0
         ],
         "j": [
          1
         ],
         "k": [
          2
         ],
         "name": "10",
         "opacity": 0.9,
         "type": "mesh3d",
         "x": [
          0.02092142684549614,
          1.2209214268454955,
          0.02092142684549614
         ],
         "y": [
          -3.909616988010886,
          -2.1096169880108864,
          -2.1096169880108864
         ],
         "z": [
          5.551115123125783e-17,
          5.551115123125783e-17,
          5.551115123125783e-17
         ]
        },
        {
         "line": {
          "color": "rgb(0,0,0)",
          "width": 5
         },
         "mode": "lines",
         "showlegend": false,
         "type": "scatter3d",
         "x": [
          0.02092142684549614,
          0.02092142684549614
         ],
         "y": [
          -2.1096169880108864,
          -3.909616988010886
         ],
         "z": [
          5.551115123125783e-17,
          5.551115123125783e-17
         ]
        },
        {
         "line": {
          "color": "rgb(0,0,0)",
          "width": 5
         },
         "mode": "lines",
         "showlegend": false,
         "type": "scatter3d",
         "x": [
          0.02092142684549614,
          1.2209214268454955
         ],
         "y": [
          -3.909616988010886,
          -2.1096169880108864
         ],
         "z": [
          5.551115123125783e-17,
          5.551115123125783e-17
         ]
        },
        {
         "line": {
          "color": "rgb(0,0,0)",
          "width": 5
         },
         "mode": "lines",
         "showlegend": false,
         "type": "scatter3d",
         "x": [
          1.2209214268454955,
          0.02092142684549614
         ],
         "y": [
          -2.1096169880108864,
          -2.1096169880108864
         ],
         "z": [
          5.551115123125783e-17,
          5.551115123125783e-17
         ]
        },
        {
         "color": "blue",
         "i": [
          0
         ],
         "j": [
          1
         ],
         "k": [
          2
         ],
         "name": "11",
         "opacity": 0.9,
         "type": "mesh3d",
         "x": [
          0.02092142684549614,
          1.2209214268454955,
          1.2209214268454955
         ],
         "y": [
          -3.909616988010886,
          -3.909616988010886,
          -2.1096169880108864
         ],
         "z": [
          5.551115123125783e-17,
          5.551115123125783e-17,
          5.551115123125783e-17
         ]
        },
        {
         "line": {
          "color": "rgb(0,0,0)",
          "width": 5
         },
         "mode": "lines",
         "showlegend": false,
         "type": "scatter3d",
         "x": [
          1.2209214268454955,
          0.02092142684549614
         ],
         "y": [
          -2.1096169880108864,
          -3.909616988010886
         ],
         "z": [
          5.551115123125783e-17,
          5.551115123125783e-17
         ]
        },
        {
         "line": {
          "color": "rgb(0,0,0)",
          "width": 5
         },
         "mode": "lines",
         "showlegend": false,
         "type": "scatter3d",
         "x": [
          0.02092142684549614,
          1.2209214268454955
         ],
         "y": [
          -3.909616988010886,
          -3.909616988010886
         ],
         "z": [
          5.551115123125783e-17,
          5.551115123125783e-17
         ]
        },
        {
         "line": {
          "color": "rgb(0,0,0)",
          "width": 5
         },
         "mode": "lines",
         "showlegend": false,
         "type": "scatter3d",
         "x": [
          1.2209214268454955,
          1.2209214268454955
         ],
         "y": [
          -3.909616988010886,
          -2.1096169880108864
         ],
         "z": [
          5.551115123125783e-17,
          5.551115123125783e-17
         ]
        }
       ],
       "layout": {
        "scene": {
         "aspectmode": "data",
         "xaxis": {
          "range": [
           -0.9790785731545039,
           2.2209214268454955
          ],
          "title": {
           "text": "X Axis"
          }
         },
         "yaxis": {
          "range": [
           -4.909616988010886,
           -1.1096169880108864
          ],
          "title": {
           "text": "Y Axis"
          }
         },
         "zaxis": {
          "range": [
           -1.45,
           1
          ],
          "title": {
           "text": "Z Axis"
          }
         }
        },
        "template": {
         "data": {
          "bar": [
           {
            "error_x": {
             "color": "#2a3f5f"
            },
            "error_y": {
             "color": "#2a3f5f"
            },
            "marker": {
             "line": {
              "color": "#E5ECF6",
              "width": 0.5
             },
             "pattern": {
              "fillmode": "overlay",
              "size": 10,
              "solidity": 0.2
             }
            },
            "type": "bar"
           }
          ],
          "barpolar": [
           {
            "marker": {
             "line": {
              "color": "#E5ECF6",
              "width": 0.5
             },
             "pattern": {
              "fillmode": "overlay",
              "size": 10,
              "solidity": 0.2
             }
            },
            "type": "barpolar"
           }
          ],
          "carpet": [
           {
            "aaxis": {
             "endlinecolor": "#2a3f5f",
             "gridcolor": "white",
             "linecolor": "white",
             "minorgridcolor": "white",
             "startlinecolor": "#2a3f5f"
            },
            "baxis": {
             "endlinecolor": "#2a3f5f",
             "gridcolor": "white",
             "linecolor": "white",
             "minorgridcolor": "white",
             "startlinecolor": "#2a3f5f"
            },
            "type": "carpet"
           }
          ],
          "choropleth": [
           {
            "colorbar": {
             "outlinewidth": 0,
             "ticks": ""
            },
            "type": "choropleth"
           }
          ],
          "contour": [
           {
            "colorbar": {
             "outlinewidth": 0,
             "ticks": ""
            },
            "colorscale": [
             [
              0,
              "#0d0887"
             ],
             [
              0.1111111111111111,
              "#46039f"
             ],
             [
              0.2222222222222222,
              "#7201a8"
             ],
             [
              0.3333333333333333,
              "#9c179e"
             ],
             [
              0.4444444444444444,
              "#bd3786"
             ],
             [
              0.5555555555555556,
              "#d8576b"
             ],
             [
              0.6666666666666666,
              "#ed7953"
             ],
             [
              0.7777777777777778,
              "#fb9f3a"
             ],
             [
              0.8888888888888888,
              "#fdca26"
             ],
             [
              1,
              "#f0f921"
             ]
            ],
            "type": "contour"
           }
          ],
          "contourcarpet": [
           {
            "colorbar": {
             "outlinewidth": 0,
             "ticks": ""
            },
            "type": "contourcarpet"
           }
          ],
          "heatmap": [
           {
            "colorbar": {
             "outlinewidth": 0,
             "ticks": ""
            },
            "colorscale": [
             [
              0,
              "#0d0887"
             ],
             [
              0.1111111111111111,
              "#46039f"
             ],
             [
              0.2222222222222222,
              "#7201a8"
             ],
             [
              0.3333333333333333,
              "#9c179e"
             ],
             [
              0.4444444444444444,
              "#bd3786"
             ],
             [
              0.5555555555555556,
              "#d8576b"
             ],
             [
              0.6666666666666666,
              "#ed7953"
             ],
             [
              0.7777777777777778,
              "#fb9f3a"
             ],
             [
              0.8888888888888888,
              "#fdca26"
             ],
             [
              1,
              "#f0f921"
             ]
            ],
            "type": "heatmap"
           }
          ],
          "heatmapgl": [
           {
            "colorbar": {
             "outlinewidth": 0,
             "ticks": ""
            },
            "colorscale": [
             [
              0,
              "#0d0887"
             ],
             [
              0.1111111111111111,
              "#46039f"
             ],
             [
              0.2222222222222222,
              "#7201a8"
             ],
             [
              0.3333333333333333,
              "#9c179e"
             ],
             [
              0.4444444444444444,
              "#bd3786"
             ],
             [
              0.5555555555555556,
              "#d8576b"
             ],
             [
              0.6666666666666666,
              "#ed7953"
             ],
             [
              0.7777777777777778,
              "#fb9f3a"
             ],
             [
              0.8888888888888888,
              "#fdca26"
             ],
             [
              1,
              "#f0f921"
             ]
            ],
            "type": "heatmapgl"
           }
          ],
          "histogram": [
           {
            "marker": {
             "pattern": {
              "fillmode": "overlay",
              "size": 10,
              "solidity": 0.2
             }
            },
            "type": "histogram"
           }
          ],
          "histogram2d": [
           {
            "colorbar": {
             "outlinewidth": 0,
             "ticks": ""
            },
            "colorscale": [
             [
              0,
              "#0d0887"
             ],
             [
              0.1111111111111111,
              "#46039f"
             ],
             [
              0.2222222222222222,
              "#7201a8"
             ],
             [
              0.3333333333333333,
              "#9c179e"
             ],
             [
              0.4444444444444444,
              "#bd3786"
             ],
             [
              0.5555555555555556,
              "#d8576b"
             ],
             [
              0.6666666666666666,
              "#ed7953"
             ],
             [
              0.7777777777777778,
              "#fb9f3a"
             ],
             [
              0.8888888888888888,
              "#fdca26"
             ],
             [
              1,
              "#f0f921"
             ]
            ],
            "type": "histogram2d"
           }
          ],
          "histogram2dcontour": [
           {
            "colorbar": {
             "outlinewidth": 0,
             "ticks": ""
            },
            "colorscale": [
             [
              0,
              "#0d0887"
             ],
             [
              0.1111111111111111,
              "#46039f"
             ],
             [
              0.2222222222222222,
              "#7201a8"
             ],
             [
              0.3333333333333333,
              "#9c179e"
             ],
             [
              0.4444444444444444,
              "#bd3786"
             ],
             [
              0.5555555555555556,
              "#d8576b"
             ],
             [
              0.6666666666666666,
              "#ed7953"
             ],
             [
              0.7777777777777778,
              "#fb9f3a"
             ],
             [
              0.8888888888888888,
              "#fdca26"
             ],
             [
              1,
              "#f0f921"
             ]
            ],
            "type": "histogram2dcontour"
           }
          ],
          "mesh3d": [
           {
            "colorbar": {
             "outlinewidth": 0,
             "ticks": ""
            },
            "type": "mesh3d"
           }
          ],
          "parcoords": [
           {
            "line": {
             "colorbar": {
              "outlinewidth": 0,
              "ticks": ""
             }
            },
            "type": "parcoords"
           }
          ],
          "pie": [
           {
            "automargin": true,
            "type": "pie"
           }
          ],
          "scatter": [
           {
            "fillpattern": {
             "fillmode": "overlay",
             "size": 10,
             "solidity": 0.2
            },
            "type": "scatter"
           }
          ],
          "scatter3d": [
           {
            "line": {
             "colorbar": {
              "outlinewidth": 0,
              "ticks": ""
             }
            },
            "marker": {
             "colorbar": {
              "outlinewidth": 0,
              "ticks": ""
             }
            },
            "type": "scatter3d"
           }
          ],
          "scattercarpet": [
           {
            "marker": {
             "colorbar": {
              "outlinewidth": 0,
              "ticks": ""
             }
            },
            "type": "scattercarpet"
           }
          ],
          "scattergeo": [
           {
            "marker": {
             "colorbar": {
              "outlinewidth": 0,
              "ticks": ""
             }
            },
            "type": "scattergeo"
           }
          ],
          "scattergl": [
           {
            "marker": {
             "colorbar": {
              "outlinewidth": 0,
              "ticks": ""
             }
            },
            "type": "scattergl"
           }
          ],
          "scattermapbox": [
           {
            "marker": {
             "colorbar": {
              "outlinewidth": 0,
              "ticks": ""
             }
            },
            "type": "scattermapbox"
           }
          ],
          "scatterpolar": [
           {
            "marker": {
             "colorbar": {
              "outlinewidth": 0,
              "ticks": ""
             }
            },
            "type": "scatterpolar"
           }
          ],
          "scatterpolargl": [
           {
            "marker": {
             "colorbar": {
              "outlinewidth": 0,
              "ticks": ""
             }
            },
            "type": "scatterpolargl"
           }
          ],
          "scatterternary": [
           {
            "marker": {
             "colorbar": {
              "outlinewidth": 0,
              "ticks": ""
             }
            },
            "type": "scatterternary"
           }
          ],
          "surface": [
           {
            "colorbar": {
             "outlinewidth": 0,
             "ticks": ""
            },
            "colorscale": [
             [
              0,
              "#0d0887"
             ],
             [
              0.1111111111111111,
              "#46039f"
             ],
             [
              0.2222222222222222,
              "#7201a8"
             ],
             [
              0.3333333333333333,
              "#9c179e"
             ],
             [
              0.4444444444444444,
              "#bd3786"
             ],
             [
              0.5555555555555556,
              "#d8576b"
             ],
             [
              0.6666666666666666,
              "#ed7953"
             ],
             [
              0.7777777777777778,
              "#fb9f3a"
             ],
             [
              0.8888888888888888,
              "#fdca26"
             ],
             [
              1,
              "#f0f921"
             ]
            ],
            "type": "surface"
           }
          ],
          "table": [
           {
            "cells": {
             "fill": {
              "color": "#EBF0F8"
             },
             "line": {
              "color": "white"
             }
            },
            "header": {
             "fill": {
              "color": "#C8D4E3"
             },
             "line": {
              "color": "white"
             }
            },
            "type": "table"
           }
          ]
         },
         "layout": {
          "annotationdefaults": {
           "arrowcolor": "#2a3f5f",
           "arrowhead": 0,
           "arrowwidth": 1
          },
          "autotypenumbers": "strict",
          "coloraxis": {
           "colorbar": {
            "outlinewidth": 0,
            "ticks": ""
           }
          },
          "colorscale": {
           "diverging": [
            [
             0,
             "#8e0152"
            ],
            [
             0.1,
             "#c51b7d"
            ],
            [
             0.2,
             "#de77ae"
            ],
            [
             0.3,
             "#f1b6da"
            ],
            [
             0.4,
             "#fde0ef"
            ],
            [
             0.5,
             "#f7f7f7"
            ],
            [
             0.6,
             "#e6f5d0"
            ],
            [
             0.7,
             "#b8e186"
            ],
            [
             0.8,
             "#7fbc41"
            ],
            [
             0.9,
             "#4d9221"
            ],
            [
             1,
             "#276419"
            ]
           ],
           "sequential": [
            [
             0,
             "#0d0887"
            ],
            [
             0.1111111111111111,
             "#46039f"
            ],
            [
             0.2222222222222222,
             "#7201a8"
            ],
            [
             0.3333333333333333,
             "#9c179e"
            ],
            [
             0.4444444444444444,
             "#bd3786"
            ],
            [
             0.5555555555555556,
             "#d8576b"
            ],
            [
             0.6666666666666666,
             "#ed7953"
            ],
            [
             0.7777777777777778,
             "#fb9f3a"
            ],
            [
             0.8888888888888888,
             "#fdca26"
            ],
            [
             1,
             "#f0f921"
            ]
           ],
           "sequentialminus": [
            [
             0,
             "#0d0887"
            ],
            [
             0.1111111111111111,
             "#46039f"
            ],
            [
             0.2222222222222222,
             "#7201a8"
            ],
            [
             0.3333333333333333,
             "#9c179e"
            ],
            [
             0.4444444444444444,
             "#bd3786"
            ],
            [
             0.5555555555555556,
             "#d8576b"
            ],
            [
             0.6666666666666666,
             "#ed7953"
            ],
            [
             0.7777777777777778,
             "#fb9f3a"
            ],
            [
             0.8888888888888888,
             "#fdca26"
            ],
            [
             1,
             "#f0f921"
            ]
           ]
          },
          "colorway": [
           "#636efa",
           "#EF553B",
           "#00cc96",
           "#ab63fa",
           "#FFA15A",
           "#19d3f3",
           "#FF6692",
           "#B6E880",
           "#FF97FF",
           "#FECB52"
          ],
          "font": {
           "color": "#2a3f5f"
          },
          "geo": {
           "bgcolor": "white",
           "lakecolor": "white",
           "landcolor": "#E5ECF6",
           "showlakes": true,
           "showland": true,
           "subunitcolor": "white"
          },
          "hoverlabel": {
           "align": "left"
          },
          "hovermode": "closest",
          "mapbox": {
           "style": "light"
          },
          "paper_bgcolor": "white",
          "plot_bgcolor": "#E5ECF6",
          "polar": {
           "angularaxis": {
            "gridcolor": "white",
            "linecolor": "white",
            "ticks": ""
           },
           "bgcolor": "#E5ECF6",
           "radialaxis": {
            "gridcolor": "white",
            "linecolor": "white",
            "ticks": ""
           }
          },
          "scene": {
           "xaxis": {
            "backgroundcolor": "#E5ECF6",
            "gridcolor": "white",
            "gridwidth": 2,
            "linecolor": "white",
            "showbackground": true,
            "ticks": "",
            "zerolinecolor": "white"
           },
           "yaxis": {
            "backgroundcolor": "#E5ECF6",
            "gridcolor": "white",
            "gridwidth": 2,
            "linecolor": "white",
            "showbackground": true,
            "ticks": "",
            "zerolinecolor": "white"
           },
           "zaxis": {
            "backgroundcolor": "#E5ECF6",
            "gridcolor": "white",
            "gridwidth": 2,
            "linecolor": "white",
            "showbackground": true,
            "ticks": "",
            "zerolinecolor": "white"
           }
          },
          "shapedefaults": {
           "line": {
            "color": "#2a3f5f"
           }
          },
          "ternary": {
           "aaxis": {
            "gridcolor": "white",
            "linecolor": "white",
            "ticks": ""
           },
           "baxis": {
            "gridcolor": "white",
            "linecolor": "white",
            "ticks": ""
           },
           "bgcolor": "#E5ECF6",
           "caxis": {
            "gridcolor": "white",
            "linecolor": "white",
            "ticks": ""
           }
          },
          "title": {
           "x": 0.05
          },
          "xaxis": {
           "automargin": true,
           "gridcolor": "white",
           "linecolor": "white",
           "ticks": "",
           "title": {
            "standoff": 15
           },
           "zerolinecolor": "white",
           "zerolinewidth": 2
          },
          "yaxis": {
           "automargin": true,
           "gridcolor": "white",
           "linecolor": "white",
           "ticks": "",
           "title": {
            "standoff": 15
           },
           "zerolinecolor": "white",
           "zerolinewidth": 2
          }
         }
        },
        "title": {
         "text": "Interactive 3D Geometries with Plotly"
        }
       }
      }
     },
     "metadata": {},
     "output_type": "display_data"
    }
   ],
   "source": [
    "ifc_plotter = IfcPlotter()\n",
    "\n",
    "element = ifcfile.elements[0]\n",
    "print(element.name)\n",
    "\n",
    "ifc_plotter.interactive_plot(elements=[element], collisions=[element.formwork])"
   ]
  },
  {
   "cell_type": "markdown",
   "metadata": {},
   "source": [
    "## File 2"
   ]
  },
  {
   "cell_type": "code",
   "execution_count": 4,
   "metadata": {},
   "outputs": [
    {
     "name": "stdout",
     "output_type": "stream",
     "text": [
      "Calculation started\n",
      "Number of elements found in file: 2\n",
      "## 1 ##  All elements loaded\n",
      "combo: M_Footing-Rectangular:1800 x 1200 x 450mm:420618 and M_Footing-Rectangular:1800 x 1200 x 450mm:420655\n",
      "## 2&3 ##  All collisions calculated\n",
      "Calculating formwork for: M_Footing-Rectangular:1800 x 1200 x 450mm:420618\n",
      "Calculating formwork for: M_Footing-Rectangular:1800 x 1200 x 450mm:420655\n",
      "## 4 ##  All triangles formwork classified\n",
      "## 5 ##  Formwork area calculated for all elements\n",
      "## 6 ##  Results csv made\n",
      "## 7 ##  Formwork added in ifcfile\n"
     ]
    }
   ],
   "source": [
    "ifcfile = IfcFile(\"/Users/theodor/kode/master/TriFC/triFC/example_ifc/academic_test_2.ifc\")\n",
    "\n",
    "ifcfile.run_full_calculation(name=\"academic_test_2.csv\", \n",
    "                             result_filepath=\"/Users/theodor/kode/master/TriFC/triFC/example_results\",  \n",
    "                             ifc_name=\"academic_test_2_TriFC.ifc\", \n",
    "                             ifc_path=\"/Users/theodor/kode/master/TriFC/triFC/example_ifc\", \n",
    "                             printing=2, \n",
    "                             academic=True\n",
    "                             )"
   ]
  },
  {
   "cell_type": "code",
   "execution_count": 5,
   "metadata": {},
   "outputs": [
    {
     "name": "stdout",
     "output_type": "stream",
     "text": [
      "M_Footing-Rectangular:1800 x 1200 x 450mm:420618\n"
     ]
    },
    {
     "data": {
      "application/vnd.plotly.v1+json": {
       "config": {
        "plotlyServerURL": "https://plot.ly"
       },
       "data": [
        {
         "color": "blue",
         "i": [
          0
         ],
         "j": [
          1
         ],
         "k": [
          2
         ],
         "name": "0",
         "opacity": 0.9,
         "type": "mesh3d",
         "x": [
          -5.827874576234681,
          -4.627874576234682,
          -5.827874576234681
         ],
         "y": [
          -2.1700536543422944,
          -0.37005365434229487,
          -0.37005365434229487
         ],
         "z": [
          5.551115123125783e-17,
          5.551115123125783e-17,
          5.551115123125783e-17
         ]
        },
        {
         "line": {
          "color": "rgb(0,0,0)",
          "width": 5
         },
         "mode": "lines",
         "showlegend": false,
         "type": "scatter3d",
         "x": [
          -5.827874576234681,
          -5.827874576234681
         ],
         "y": [
          -0.37005365434229487,
          -2.1700536543422944
         ],
         "z": [
          5.551115123125783e-17,
          5.551115123125783e-17
         ]
        },
        {
         "line": {
          "color": "rgb(0,0,0)",
          "width": 5
         },
         "mode": "lines",
         "showlegend": false,
         "type": "scatter3d",
         "x": [
          -5.827874576234681,
          -4.627874576234682
         ],
         "y": [
          -2.1700536543422944,
          -0.37005365434229487
         ],
         "z": [
          5.551115123125783e-17,
          5.551115123125783e-17
         ]
        },
        {
         "line": {
          "color": "rgb(0,0,0)",
          "width": 5
         },
         "mode": "lines",
         "showlegend": false,
         "type": "scatter3d",
         "x": [
          -4.627874576234682,
          -5.827874576234681
         ],
         "y": [
          -0.37005365434229487,
          -0.37005365434229487
         ],
         "z": [
          5.551115123125783e-17,
          5.551115123125783e-17
         ]
        },
        {
         "color": "blue",
         "i": [
          0
         ],
         "j": [
          1
         ],
         "k": [
          2
         ],
         "name": "1",
         "opacity": 0.9,
         "type": "mesh3d",
         "x": [
          -5.827874576234681,
          -4.627874576234682,
          -4.627874576234682
         ],
         "y": [
          -2.1700536543422944,
          -2.1700536543422944,
          -0.37005365434229487
         ],
         "z": [
          5.551115123125783e-17,
          5.551115123125783e-17,
          5.551115123125783e-17
         ]
        },
        {
         "line": {
          "color": "rgb(0,0,0)",
          "width": 5
         },
         "mode": "lines",
         "showlegend": false,
         "type": "scatter3d",
         "x": [
          -4.627874576234682,
          -5.827874576234681
         ],
         "y": [
          -0.37005365434229487,
          -2.1700536543422944
         ],
         "z": [
          5.551115123125783e-17,
          5.551115123125783e-17
         ]
        },
        {
         "line": {
          "color": "rgb(0,0,0)",
          "width": 5
         },
         "mode": "lines",
         "showlegend": false,
         "type": "scatter3d",
         "x": [
          -5.827874576234681,
          -4.627874576234682
         ],
         "y": [
          -2.1700536543422944,
          -2.1700536543422944
         ],
         "z": [
          5.551115123125783e-17,
          5.551115123125783e-17
         ]
        },
        {
         "line": {
          "color": "rgb(0,0,0)",
          "width": 5
         },
         "mode": "lines",
         "showlegend": false,
         "type": "scatter3d",
         "x": [
          -4.627874576234682,
          -4.627874576234682
         ],
         "y": [
          -2.1700536543422944,
          -0.37005365434229487
         ],
         "z": [
          5.551115123125783e-17,
          5.551115123125783e-17
         ]
        },
        {
         "color": "red",
         "i": [
          0
         ],
         "j": [
          1
         ],
         "k": [
          2
         ],
         "name": "2",
         "opacity": 1,
         "type": "mesh3d",
         "x": [
          -5.521698777764974,
          -5.521698777764974,
          -5.827874576234681
         ],
         "y": [
          -0.37005365434229487,
          -0.37005365434229487,
          -0.37005365434229487
         ],
         "z": [
          -0.45,
          -0.3351840755738598,
          -0.45
         ]
        },
        {
         "line": {
          "color": "rgb(0,0,0)",
          "width": 5
         },
         "mode": "lines",
         "showlegend": false,
         "type": "scatter3d",
         "x": [
          -5.827874576234681,
          -5.521698777764974
         ],
         "y": [
          -0.37005365434229487,
          -0.37005365434229487
         ],
         "z": [
          -0.45,
          -0.45
         ]
        },
        {
         "line": {
          "color": "rgb(0,0,0)",
          "width": 5
         },
         "mode": "lines",
         "showlegend": false,
         "type": "scatter3d",
         "x": [
          -5.521698777764974,
          -5.521698777764974
         ],
         "y": [
          -0.37005365434229487,
          -0.37005365434229487
         ],
         "z": [
          -0.45,
          -0.3351840755738598
         ]
        },
        {
         "line": {
          "color": "rgb(0,0,0)",
          "width": 5
         },
         "mode": "lines",
         "showlegend": false,
         "type": "scatter3d",
         "x": [
          -5.521698777764974,
          -5.827874576234681
         ],
         "y": [
          -0.37005365434229487,
          -0.37005365434229487
         ],
         "z": [
          -0.3351840755738598,
          -0.45
         ]
        },
        {
         "color": "red",
         "i": [
          0
         ],
         "j": [
          1
         ],
         "k": [
          2
         ],
         "name": "3",
         "opacity": 1,
         "type": "mesh3d",
         "x": [
          -5.521698777764974,
          -5.827874576234681,
          -5.827874576234681
         ],
         "y": [
          -0.37005365434229487,
          -0.37005365434229487,
          -0.37005365434229487
         ],
         "z": [
          5.551115123125783e-17,
          -0.45,
          5.551115123125783e-17
         ]
        },
        {
         "line": {
          "color": "rgb(0,0,0)",
          "width": 5
         },
         "mode": "lines",
         "showlegend": false,
         "type": "scatter3d",
         "x": [
          -5.827874576234681,
          -5.521698777764974
         ],
         "y": [
          -0.37005365434229487,
          -0.37005365434229487
         ],
         "z": [
          5.551115123125783e-17,
          5.551115123125783e-17
         ]
        },
        {
         "line": {
          "color": "rgb(0,0,0)",
          "width": 5
         },
         "mode": "lines",
         "showlegend": false,
         "type": "scatter3d",
         "x": [
          -5.521698777764974,
          -5.827874576234681
         ],
         "y": [
          -0.37005365434229487,
          -0.37005365434229487
         ],
         "z": [
          5.551115123125783e-17,
          -0.45
         ]
        },
        {
         "line": {
          "color": "rgb(0,0,0)",
          "width": 5
         },
         "mode": "lines",
         "showlegend": false,
         "type": "scatter3d",
         "x": [
          -5.827874576234681,
          -5.827874576234681
         ],
         "y": [
          -0.37005365434229487,
          -0.37005365434229487
         ],
         "z": [
          -0.45,
          5.551115123125783e-17
         ]
        },
        {
         "color": "red",
         "i": [
          0
         ],
         "j": [
          1
         ],
         "k": [
          2
         ],
         "name": "4",
         "opacity": 1,
         "type": "mesh3d",
         "x": [
          -5.827874576234681,
          -5.827874576234681,
          -5.827874576234681
         ],
         "y": [
          -0.7756967649057682,
          -0.37005365434229487,
          -0.37005365434229487
         ],
         "z": [
          -0.45,
          5.551115123125783e-17,
          -0.45
         ]
        },
        {
         "line": {
          "color": "rgb(0,0,0)",
          "width": 5
         },
         "mode": "lines",
         "showlegend": false,
         "type": "scatter3d",
         "x": [
          -5.827874576234681,
          -5.827874576234681
         ],
         "y": [
          -0.37005365434229487,
          -0.7756967649057682
         ],
         "z": [
          -0.45,
          -0.45
         ]
        },
        {
         "line": {
          "color": "rgb(0,0,0)",
          "width": 5
         },
         "mode": "lines",
         "showlegend": false,
         "type": "scatter3d",
         "x": [
          -5.827874576234681,
          -5.827874576234681
         ],
         "y": [
          -0.7756967649057682,
          -0.37005365434229487
         ],
         "z": [
          -0.45,
          5.551115123125783e-17
         ]
        },
        {
         "line": {
          "color": "rgb(0,0,0)",
          "width": 5
         },
         "mode": "lines",
         "showlegend": false,
         "type": "scatter3d",
         "x": [
          -5.827874576234681,
          -5.827874576234681
         ],
         "y": [
          -0.37005365434229487,
          -0.37005365434229487
         ],
         "z": [
          5.551115123125783e-17,
          -0.45
         ]
        },
        {
         "color": "red",
         "i": [
          0
         ],
         "j": [
          1
         ],
         "k": [
          2
         ],
         "name": "5",
         "opacity": 1,
         "type": "mesh3d",
         "x": [
          -5.827874576234681,
          -5.827874576234681,
          -5.827874576234681
         ],
         "y": [
          -0.7756967649057682,
          -0.7756967649057682,
          -0.37005365434229487
         ],
         "z": [
          -0.45,
          -0.10141077764086835,
          5.551115123125783e-17
         ]
        },
        {
         "line": {
          "color": "rgb(0,0,0)",
          "width": 5
         },
         "mode": "lines",
         "showlegend": false,
         "type": "scatter3d",
         "x": [
          -5.827874576234681,
          -5.827874576234681
         ],
         "y": [
          -0.37005365434229487,
          -0.7756967649057682
         ],
         "z": [
          5.551115123125783e-17,
          -0.45
         ]
        },
        {
         "line": {
          "color": "rgb(0,0,0)",
          "width": 5
         },
         "mode": "lines",
         "showlegend": false,
         "type": "scatter3d",
         "x": [
          -5.827874576234681,
          -5.827874576234681
         ],
         "y": [
          -0.7756967649057682,
          -0.7756967649057682
         ],
         "z": [
          -0.45,
          -0.10141077764086835
         ]
        },
        {
         "line": {
          "color": "rgb(0,0,0)",
          "width": 5
         },
         "mode": "lines",
         "showlegend": false,
         "type": "scatter3d",
         "x": [
          -5.827874576234681,
          -5.827874576234681
         ],
         "y": [
          -0.7756967649057682,
          -0.37005365434229487
         ],
         "z": [
          -0.10141077764086835,
          5.551115123125783e-17
         ]
        },
        {
         "color": "red",
         "i": [
          0
         ],
         "j": [
          1
         ],
         "k": [
          2
         ],
         "name": "6",
         "opacity": 1,
         "type": "mesh3d",
         "x": [
          -5.827874576234681,
          -5.827874576234681,
          -5.827874576234681
         ],
         "y": [
          -1.3354969811450124,
          -2.1700536543422944,
          -2.1700536543422944
         ],
         "z": [
          5.551115123125783e-17,
          -0.45,
          5.551115123125783e-17
         ]
        },
        {
         "line": {
          "color": "rgb(0,0,0)",
          "width": 5
         },
         "mode": "lines",
         "showlegend": false,
         "type": "scatter3d",
         "x": [
          -5.827874576234681,
          -5.827874576234681
         ],
         "y": [
          -2.1700536543422944,
          -1.3354969811450124
         ],
         "z": [
          5.551115123125783e-17,
          5.551115123125783e-17
         ]
        },
        {
         "line": {
          "color": "rgb(0,0,0)",
          "width": 5
         },
         "mode": "lines",
         "showlegend": false,
         "type": "scatter3d",
         "x": [
          -5.827874576234681,
          -5.827874576234681
         ],
         "y": [
          -1.3354969811450124,
          -2.1700536543422944
         ],
         "z": [
          5.551115123125783e-17,
          -0.45
         ]
        },
        {
         "line": {
          "color": "rgb(0,0,0)",
          "width": 5
         },
         "mode": "lines",
         "showlegend": false,
         "type": "scatter3d",
         "x": [
          -5.827874576234681,
          -5.827874576234681
         ],
         "y": [
          -2.1700536543422944,
          -2.1700536543422944
         ],
         "z": [
          -0.45,
          5.551115123125783e-17
         ]
        },
        {
         "color": "red",
         "i": [
          0
         ],
         "j": [
          1
         ],
         "k": [
          2
         ],
         "name": "7",
         "opacity": 1,
         "type": "mesh3d",
         "x": [
          -4.722195529917948,
          -5.827874576234681,
          -5.827874576234681
         ],
         "y": [
          -2.1700536543422944,
          -2.1700536543422944,
          -2.1700536543422944
         ],
         "z": [
          -0.45,
          5.551115123125783e-17,
          -0.45
         ]
        },
        {
         "line": {
          "color": "rgb(0,0,0)",
          "width": 5
         },
         "mode": "lines",
         "showlegend": false,
         "type": "scatter3d",
         "x": [
          -5.827874576234681,
          -4.722195529917948
         ],
         "y": [
          -2.1700536543422944,
          -2.1700536543422944
         ],
         "z": [
          -0.45,
          -0.45
         ]
        },
        {
         "line": {
          "color": "rgb(0,0,0)",
          "width": 5
         },
         "mode": "lines",
         "showlegend": false,
         "type": "scatter3d",
         "x": [
          -4.722195529917948,
          -5.827874576234681
         ],
         "y": [
          -2.1700536543422944,
          -2.1700536543422944
         ],
         "z": [
          -0.45,
          5.551115123125783e-17
         ]
        },
        {
         "line": {
          "color": "rgb(0,0,0)",
          "width": 5
         },
         "mode": "lines",
         "showlegend": false,
         "type": "scatter3d",
         "x": [
          -5.827874576234681,
          -5.827874576234681
         ],
         "y": [
          -2.1700536543422944,
          -2.1700536543422944
         ],
         "z": [
          5.551115123125783e-17,
          -0.45
         ]
        },
        {
         "color": "red",
         "i": [
          0
         ],
         "j": [
          1
         ],
         "k": [
          2
         ],
         "name": "8",
         "opacity": 1,
         "type": "mesh3d",
         "x": [
          -4.722195529917948,
          -4.722195529917948,
          -5.827874576234681
         ],
         "y": [
          -2.1700536543422944,
          -2.1700536543422944,
          -2.1700536543422944
         ],
         "z": [
          -0.45,
          -0.41462964236877503,
          5.551115123125783e-17
         ]
        },
        {
         "line": {
          "color": "rgb(0,0,0)",
          "width": 5
         },
         "mode": "lines",
         "showlegend": false,
         "type": "scatter3d",
         "x": [
          -5.827874576234681,
          -4.722195529917948
         ],
         "y": [
          -2.1700536543422944,
          -2.1700536543422944
         ],
         "z": [
          5.551115123125783e-17,
          -0.45
         ]
        },
        {
         "line": {
          "color": "rgb(0,0,0)",
          "width": 5
         },
         "mode": "lines",
         "showlegend": false,
         "type": "scatter3d",
         "x": [
          -4.722195529917948,
          -4.722195529917948
         ],
         "y": [
          -2.1700536543422944,
          -2.1700536543422944
         ],
         "z": [
          -0.45,
          -0.41462964236877503
         ]
        },
        {
         "line": {
          "color": "rgb(0,0,0)",
          "width": 5
         },
         "mode": "lines",
         "showlegend": false,
         "type": "scatter3d",
         "x": [
          -4.722195529917948,
          -5.827874576234681
         ],
         "y": [
          -2.1700536543422944,
          -2.1700536543422944
         ],
         "z": [
          -0.41462964236877503,
          5.551115123125783e-17
         ]
        },
        {
         "color": "blue",
         "i": [
          0
         ],
         "j": [
          1
         ],
         "k": [
          2
         ],
         "name": "9",
         "opacity": 0.9,
         "type": "mesh3d",
         "x": [
          -4.722195529917948,
          -4.722195529917948,
          -4.627874576234682
         ],
         "y": [
          -2.1700536543422944,
          -2.1700536543422944,
          -2.1700536543422944
         ],
         "z": [
          -0.45,
          -0.41462964236877503,
          -0.45
         ]
        },
        {
         "line": {
          "color": "rgb(0,0,0)",
          "width": 5
         },
         "mode": "lines",
         "showlegend": false,
         "type": "scatter3d",
         "x": [
          -4.627874576234682,
          -4.722195529917948
         ],
         "y": [
          -2.1700536543422944,
          -2.1700536543422944
         ],
         "z": [
          -0.45,
          -0.45
         ]
        },
        {
         "line": {
          "color": "rgb(0,0,0)",
          "width": 5
         },
         "mode": "lines",
         "showlegend": false,
         "type": "scatter3d",
         "x": [
          -4.722195529917948,
          -4.722195529917948
         ],
         "y": [
          -2.1700536543422944,
          -2.1700536543422944
         ],
         "z": [
          -0.45,
          -0.41462964236877503
         ]
        },
        {
         "line": {
          "color": "rgb(0,0,0)",
          "width": 5
         },
         "mode": "lines",
         "showlegend": false,
         "type": "scatter3d",
         "x": [
          -4.722195529917948,
          -4.627874576234682
         ],
         "y": [
          -2.1700536543422944,
          -2.1700536543422944
         ],
         "z": [
          -0.41462964236877503,
          -0.45
         ]
        },
        {
         "color": "red",
         "i": [
          0
         ],
         "j": [
          1
         ],
         "k": [
          2
         ],
         "name": "10",
         "opacity": 1,
         "type": "mesh3d",
         "x": [
          -5.454541242901348,
          -4.627874576234682,
          -5.827874576234681
         ],
         "y": [
          -2.1700536543422944,
          -2.1700536543422944,
          -2.1700536543422944
         ],
         "z": [
          -0.14000000000000012,
          5.551115123125783e-17,
          5.551115123125783e-17
         ]
        },
        {
         "line": {
          "color": "rgb(0,0,0)",
          "width": 5
         },
         "mode": "lines",
         "showlegend": false,
         "type": "scatter3d",
         "x": [
          -5.827874576234681,
          -5.454541242901348
         ],
         "y": [
          -2.1700536543422944,
          -2.1700536543422944
         ],
         "z": [
          5.551115123125783e-17,
          -0.14000000000000012
         ]
        },
        {
         "line": {
          "color": "rgb(0,0,0)",
          "width": 5
         },
         "mode": "lines",
         "showlegend": false,
         "type": "scatter3d",
         "x": [
          -5.454541242901348,
          -4.627874576234682
         ],
         "y": [
          -2.1700536543422944,
          -2.1700536543422944
         ],
         "z": [
          -0.14000000000000012,
          5.551115123125783e-17
         ]
        },
        {
         "line": {
          "color": "rgb(0,0,0)",
          "width": 5
         },
         "mode": "lines",
         "showlegend": false,
         "type": "scatter3d",
         "x": [
          -4.627874576234682,
          -5.827874576234681
         ],
         "y": [
          -2.1700536543422944,
          -2.1700536543422944
         ],
         "z": [
          5.551115123125783e-17,
          5.551115123125783e-17
         ]
        },
        {
         "color": "red",
         "i": [
          0
         ],
         "j": [
          1
         ],
         "k": [
          2
         ],
         "name": "11",
         "opacity": 1,
         "type": "mesh3d",
         "x": [
          -5.454541242901348,
          -4.627874576234682,
          -4.627874576234682
         ],
         "y": [
          -2.1700536543422944,
          -2.1700536543422944,
          -2.1700536543422944
         ],
         "z": [
          -0.14000000000000012,
          -0.14000000000000012,
          5.551115123125783e-17
         ]
        },
        {
         "line": {
          "color": "rgb(0,0,0)",
          "width": 5
         },
         "mode": "lines",
         "showlegend": false,
         "type": "scatter3d",
         "x": [
          -4.627874576234682,
          -5.454541242901348
         ],
         "y": [
          -2.1700536543422944,
          -2.1700536543422944
         ],
         "z": [
          5.551115123125783e-17,
          -0.14000000000000012
         ]
        },
        {
         "line": {
          "color": "rgb(0,0,0)",
          "width": 5
         },
         "mode": "lines",
         "showlegend": false,
         "type": "scatter3d",
         "x": [
          -5.454541242901348,
          -4.627874576234682
         ],
         "y": [
          -2.1700536543422944,
          -2.1700536543422944
         ],
         "z": [
          -0.14000000000000012,
          -0.14000000000000012
         ]
        },
        {
         "line": {
          "color": "rgb(0,0,0)",
          "width": 5
         },
         "mode": "lines",
         "showlegend": false,
         "type": "scatter3d",
         "x": [
          -4.627874576234682,
          -4.627874576234682
         ],
         "y": [
          -2.1700536543422944,
          -2.1700536543422944
         ],
         "z": [
          -0.14000000000000012,
          5.551115123125783e-17
         ]
        },
        {
         "color": "red",
         "i": [
          0
         ],
         "j": [
          1
         ],
         "k": [
          2
         ],
         "name": "12",
         "opacity": 1,
         "type": "mesh3d",
         "x": [
          -4.627874576234682,
          -4.627874576234682,
          -4.627874576234682
         ],
         "y": [
          -0.7377896605511145,
          -0.7377896605511145,
          -0.37005365434229487
         ],
         "z": [
          -0.45,
          -0.3580659984477951,
          -0.45
         ]
        },
        {
         "line": {
          "color": "rgb(0,0,0)",
          "width": 5
         },
         "mode": "lines",
         "showlegend": false,
         "type": "scatter3d",
         "x": [
          -4.627874576234682,
          -4.627874576234682
         ],
         "y": [
          -0.37005365434229487,
          -0.7377896605511145
         ],
         "z": [
          -0.45,
          -0.45
         ]
        },
        {
         "line": {
          "color": "rgb(0,0,0)",
          "width": 5
         },
         "mode": "lines",
         "showlegend": false,
         "type": "scatter3d",
         "x": [
          -4.627874576234682,
          -4.627874576234682
         ],
         "y": [
          -0.7377896605511145,
          -0.7377896605511145
         ],
         "z": [
          -0.45,
          -0.3580659984477951
         ]
        },
        {
         "line": {
          "color": "rgb(0,0,0)",
          "width": 5
         },
         "mode": "lines",
         "showlegend": false,
         "type": "scatter3d",
         "x": [
          -4.627874576234682,
          -4.627874576234682
         ],
         "y": [
          -0.7377896605511145,
          -0.37005365434229487
         ],
         "z": [
          -0.3580659984477951,
          -0.45
         ]
        },
        {
         "color": "red",
         "i": [
          0
         ],
         "j": [
          1
         ],
         "k": [
          2
         ],
         "name": "13",
         "opacity": 1,
         "type": "mesh3d",
         "x": [
          -4.627874576234682,
          -4.627874576234682,
          -4.627874576234682
         ],
         "y": [
          -0.7377896605511147,
          -0.37005365434229487,
          -0.37005365434229487
         ],
         "z": [
          5.551115123125783e-17,
          -0.45,
          5.551115123125783e-17
         ]
        },
        {
         "line": {
          "color": "rgb(0,0,0)",
          "width": 5
         },
         "mode": "lines",
         "showlegend": false,
         "type": "scatter3d",
         "x": [
          -4.627874576234682,
          -4.627874576234682
         ],
         "y": [
          -0.37005365434229487,
          -0.7377896605511147
         ],
         "z": [
          5.551115123125783e-17,
          5.551115123125783e-17
         ]
        },
        {
         "line": {
          "color": "rgb(0,0,0)",
          "width": 5
         },
         "mode": "lines",
         "showlegend": false,
         "type": "scatter3d",
         "x": [
          -4.627874576234682,
          -4.627874576234682
         ],
         "y": [
          -0.7377896605511147,
          -0.37005365434229487
         ],
         "z": [
          5.551115123125783e-17,
          -0.45
         ]
        },
        {
         "line": {
          "color": "rgb(0,0,0)",
          "width": 5
         },
         "mode": "lines",
         "showlegend": false,
         "type": "scatter3d",
         "x": [
          -4.627874576234682,
          -4.627874576234682
         ],
         "y": [
          -0.37005365434229487,
          -0.37005365434229487
         ],
         "z": [
          -0.45,
          5.551115123125783e-17
         ]
        },
        {
         "color": "red",
         "i": [
          0
         ],
         "j": [
          1
         ],
         "k": [
          2
         ],
         "name": "14",
         "opacity": 1,
         "type": "mesh3d",
         "x": [
          -5.827874576234681,
          -5.521698777764974,
          -5.827874576234681
         ],
         "y": [
          -0.7756967649057684,
          -0.37005365434229487,
          -0.37005365434229487
         ],
         "z": [
          -0.45,
          -0.45,
          -0.45
         ]
        },
        {
         "line": {
          "color": "rgb(0,0,0)",
          "width": 5
         },
         "mode": "lines",
         "showlegend": false,
         "type": "scatter3d",
         "x": [
          -5.827874576234681,
          -5.827874576234681
         ],
         "y": [
          -0.37005365434229487,
          -0.7756967649057684
         ],
         "z": [
          -0.45,
          -0.45
         ]
        },
        {
         "line": {
          "color": "rgb(0,0,0)",
          "width": 5
         },
         "mode": "lines",
         "showlegend": false,
         "type": "scatter3d",
         "x": [
          -5.827874576234681,
          -5.521698777764974
         ],
         "y": [
          -0.7756967649057684,
          -0.37005365434229487
         ],
         "z": [
          -0.45,
          -0.45
         ]
        },
        {
         "line": {
          "color": "rgb(0,0,0)",
          "width": 5
         },
         "mode": "lines",
         "showlegend": false,
         "type": "scatter3d",
         "x": [
          -5.521698777764974,
          -5.827874576234681
         ],
         "y": [
          -0.37005365434229487,
          -0.37005365434229487
         ],
         "z": [
          -0.45,
          -0.45
         ]
        },
        {
         "color": "red",
         "i": [
          0
         ],
         "j": [
          1
         ],
         "k": [
          2
         ],
         "name": "15",
         "opacity": 1,
         "type": "mesh3d",
         "x": [
          -4.722195529917948,
          -5.45774863269159,
          -5.827874576234681
         ],
         "y": [
          -2.1700536543422944,
          -1.6148647390276576,
          -2.1700536543422944
         ],
         "z": [
          -0.45,
          -0.45,
          -0.45
         ]
        },
        {
         "line": {
          "color": "rgb(0,0,0)",
          "width": 5
         },
         "mode": "lines",
         "showlegend": false,
         "type": "scatter3d",
         "x": [
          -5.827874576234681,
          -4.722195529917948
         ],
         "y": [
          -2.1700536543422944,
          -2.1700536543422944
         ],
         "z": [
          -0.45,
          -0.45
         ]
        },
        {
         "line": {
          "color": "rgb(0,0,0)",
          "width": 5
         },
         "mode": "lines",
         "showlegend": false,
         "type": "scatter3d",
         "x": [
          -4.722195529917948,
          -5.45774863269159
         ],
         "y": [
          -2.1700536543422944,
          -1.6148647390276576
         ],
         "z": [
          -0.45,
          -0.45
         ]
        },
        {
         "line": {
          "color": "rgb(0,0,0)",
          "width": 5
         },
         "mode": "lines",
         "showlegend": false,
         "type": "scatter3d",
         "x": [
          -5.45774863269159,
          -5.827874576234681
         ],
         "y": [
          -1.6148647390276576,
          -2.1700536543422944
         ],
         "z": [
          -0.45,
          -0.45
         ]
        },
        {
         "color": "red",
         "i": [
          0
         ],
         "j": [
          1
         ],
         "k": [
          2
         ],
         "name": "16",
         "opacity": 1,
         "type": "mesh3d",
         "x": [
          -5.115076955293696,
          -4.627874576234682,
          -4.627874576234682
         ],
         "y": [
          -0.37005365434229487,
          -0.37005365434229487,
          -0.37005365434229487
         ],
         "z": [
          -0.45,
          5.551115123125783e-17,
          -0.45
         ]
        },
        {
         "line": {
          "color": "rgb(0,0,0)",
          "width": 5
         },
         "mode": "lines",
         "showlegend": false,
         "type": "scatter3d",
         "x": [
          -4.627874576234682,
          -5.115076955293696
         ],
         "y": [
          -0.37005365434229487,
          -0.37005365434229487
         ],
         "z": [
          -0.45,
          -0.45
         ]
        },
        {
         "line": {
          "color": "rgb(0,0,0)",
          "width": 5
         },
         "mode": "lines",
         "showlegend": false,
         "type": "scatter3d",
         "x": [
          -5.115076955293696,
          -4.627874576234682
         ],
         "y": [
          -0.37005365434229487,
          -0.37005365434229487
         ],
         "z": [
          -0.45,
          5.551115123125783e-17
         ]
        },
        {
         "line": {
          "color": "rgb(0,0,0)",
          "width": 5
         },
         "mode": "lines",
         "showlegend": false,
         "type": "scatter3d",
         "x": [
          -4.627874576234682,
          -4.627874576234682
         ],
         "y": [
          -0.37005365434229487,
          -0.37005365434229487
         ],
         "z": [
          5.551115123125783e-17,
          -0.45
         ]
        },
        {
         "color": "red",
         "i": [
          0
         ],
         "j": [
          1
         ],
         "k": [
          2
         ],
         "name": "17",
         "opacity": 1,
         "type": "mesh3d",
         "x": [
          -5.115076955293696,
          -5.115076955293696,
          -4.627874576234682
         ],
         "y": [
          -0.37005365434229487,
          -0.37005365434229487,
          -0.37005365434229487
         ],
         "z": [
          -0.45,
          -0.24528433018618168,
          5.551115123125783e-17
         ]
        },
        {
         "line": {
          "color": "rgb(0,0,0)",
          "width": 5
         },
         "mode": "lines",
         "showlegend": false,
         "type": "scatter3d",
         "x": [
          -4.627874576234682,
          -5.115076955293696
         ],
         "y": [
          -0.37005365434229487,
          -0.37005365434229487
         ],
         "z": [
          5.551115123125783e-17,
          -0.45
         ]
        },
        {
         "line": {
          "color": "rgb(0,0,0)",
          "width": 5
         },
         "mode": "lines",
         "showlegend": false,
         "type": "scatter3d",
         "x": [
          -5.115076955293696,
          -5.115076955293696
         ],
         "y": [
          -0.37005365434229487,
          -0.37005365434229487
         ],
         "z": [
          -0.45,
          -0.24528433018618168
         ]
        },
        {
         "line": {
          "color": "rgb(0,0,0)",
          "width": 5
         },
         "mode": "lines",
         "showlegend": false,
         "type": "scatter3d",
         "x": [
          -5.115076955293696,
          -4.627874576234682
         ],
         "y": [
          -0.37005365434229487,
          -0.37005365434229487
         ],
         "z": [
          -0.24528433018618168,
          5.551115123125783e-17
         ]
        },
        {
         "color": "blue",
         "i": [
          0
         ],
         "j": [
          1
         ],
         "k": [
          2
         ],
         "name": "18",
         "opacity": 0.9,
         "type": "mesh3d",
         "x": [
          -5.115076955293696,
          -5.115076955293696,
          -5.521698777764974
         ],
         "y": [
          -0.37005365434229487,
          -0.37005365434229487,
          -0.37005365434229487
         ],
         "z": [
          -0.45,
          -0.24528433018618168,
          -0.45
         ]
        },
        {
         "line": {
          "color": "rgb(0,0,0)",
          "width": 5
         },
         "mode": "lines",
         "showlegend": false,
         "type": "scatter3d",
         "x": [
          -5.521698777764974,
          -5.115076955293696
         ],
         "y": [
          -0.37005365434229487,
          -0.37005365434229487
         ],
         "z": [
          -0.45,
          -0.45
         ]
        },
        {
         "line": {
          "color": "rgb(0,0,0)",
          "width": 5
         },
         "mode": "lines",
         "showlegend": false,
         "type": "scatter3d",
         "x": [
          -5.115076955293696,
          -5.115076955293696
         ],
         "y": [
          -0.37005365434229487,
          -0.37005365434229487
         ],
         "z": [
          -0.45,
          -0.24528433018618168
         ]
        },
        {
         "line": {
          "color": "rgb(0,0,0)",
          "width": 5
         },
         "mode": "lines",
         "showlegend": false,
         "type": "scatter3d",
         "x": [
          -5.115076955293696,
          -5.521698777764974
         ],
         "y": [
          -0.37005365434229487,
          -0.37005365434229487
         ],
         "z": [
          -0.24528433018618168,
          -0.45
         ]
        },
        {
         "color": "blue",
         "i": [
          0
         ],
         "j": [
          1
         ],
         "k": [
          2
         ],
         "name": "19",
         "opacity": 0.9,
         "type": "mesh3d",
         "x": [
          -5.115076955293696,
          -5.521698777764974,
          -5.521698777764974
         ],
         "y": [
          -0.37005365434229487,
          -0.37005365434229487,
          -0.37005365434229487
         ],
         "z": [
          -0.1827008921471304,
          -0.45,
          -0.3351840755738598
         ]
        },
        {
         "line": {
          "color": "rgb(0,0,0)",
          "width": 5
         },
         "mode": "lines",
         "showlegend": false,
         "type": "scatter3d",
         "x": [
          -5.521698777764974,
          -5.115076955293696
         ],
         "y": [
          -0.37005365434229487,
          -0.37005365434229487
         ],
         "z": [
          -0.3351840755738598,
          -0.1827008921471304
         ]
        },
        {
         "line": {
          "color": "rgb(0,0,0)",
          "width": 5
         },
         "mode": "lines",
         "showlegend": false,
         "type": "scatter3d",
         "x": [
          -5.115076955293696,
          -5.521698777764974
         ],
         "y": [
          -0.37005365434229487,
          -0.37005365434229487
         ],
         "z": [
          -0.1827008921471304,
          -0.45
         ]
        },
        {
         "line": {
          "color": "rgb(0,0,0)",
          "width": 5
         },
         "mode": "lines",
         "showlegend": false,
         "type": "scatter3d",
         "x": [
          -5.521698777764974,
          -5.521698777764974
         ],
         "y": [
          -0.37005365434229487,
          -0.37005365434229487
         ],
         "z": [
          -0.45,
          -0.3351840755738598
         ]
        },
        {
         "color": "blue",
         "i": [
          0
         ],
         "j": [
          1
         ],
         "k": [
          2
         ],
         "name": "20",
         "opacity": 0.9,
         "type": "mesh3d",
         "x": [
          -5.115076955293696,
          -5.115076955293696,
          -5.521698777764974
         ],
         "y": [
          -0.37005365434229487,
          -0.37005365434229487,
          -0.37005365434229487
         ],
         "z": [
          -0.1827008921471304,
          -0.24528433018618162,
          -0.45
         ]
        },
        {
         "line": {
          "color": "rgb(0,0,0)",
          "width": 5
         },
         "mode": "lines",
         "showlegend": false,
         "type": "scatter3d",
         "x": [
          -5.521698777764974,
          -5.115076955293696
         ],
         "y": [
          -0.37005365434229487,
          -0.37005365434229487
         ],
         "z": [
          -0.45,
          -0.1827008921471304
         ]
        },
        {
         "line": {
          "color": "rgb(0,0,0)",
          "width": 5
         },
         "mode": "lines",
         "showlegend": false,
         "type": "scatter3d",
         "x": [
          -5.115076955293696,
          -5.115076955293696
         ],
         "y": [
          -0.37005365434229487,
          -0.37005365434229487
         ],
         "z": [
          -0.1827008921471304,
          -0.24528433018618162
         ]
        },
        {
         "line": {
          "color": "rgb(0,0,0)",
          "width": 5
         },
         "mode": "lines",
         "showlegend": false,
         "type": "scatter3d",
         "x": [
          -5.115076955293696,
          -5.521698777764974
         ],
         "y": [
          -0.37005365434229487,
          -0.37005365434229487
         ],
         "z": [
          -0.24528433018618162,
          -0.45
         ]
        },
        {
         "color": "red",
         "i": [
          0
         ],
         "j": [
          1
         ],
         "k": [
          2
         ],
         "name": "21",
         "opacity": 1,
         "type": "mesh3d",
         "x": [
          -5.115076955293696,
          -5.115076955293696,
          -4.627874576234682
         ],
         "y": [
          -0.37005365434229487,
          -0.37005365434229487,
          -0.37005365434229487
         ],
         "z": [
          -0.1827008921471304,
          -0.24528433018618162,
          5.551115123125783e-17
         ]
        },
        {
         "line": {
          "color": "rgb(0,0,0)",
          "width": 5
         },
         "mode": "lines",
         "showlegend": false,
         "type": "scatter3d",
         "x": [
          -4.627874576234682,
          -5.115076955293696
         ],
         "y": [
          -0.37005365434229487,
          -0.37005365434229487
         ],
         "z": [
          5.551115123125783e-17,
          -0.1827008921471304
         ]
        },
        {
         "line": {
          "color": "rgb(0,0,0)",
          "width": 5
         },
         "mode": "lines",
         "showlegend": false,
         "type": "scatter3d",
         "x": [
          -5.115076955293696,
          -5.115076955293696
         ],
         "y": [
          -0.37005365434229487,
          -0.37005365434229487
         ],
         "z": [
          -0.1827008921471304,
          -0.24528433018618162
         ]
        },
        {
         "line": {
          "color": "rgb(0,0,0)",
          "width": 5
         },
         "mode": "lines",
         "showlegend": false,
         "type": "scatter3d",
         "x": [
          -5.115076955293696,
          -4.627874576234682
         ],
         "y": [
          -0.37005365434229487,
          -0.37005365434229487
         ],
         "z": [
          -0.24528433018618162,
          5.551115123125783e-17
         ]
        },
        {
         "color": "red",
         "i": [
          0
         ],
         "j": [
          1
         ],
         "k": [
          2
         ],
         "name": "22",
         "opacity": 1,
         "type": "mesh3d",
         "x": [
          -5.616953470622216,
          -5.521698777764974,
          -5.827874576234681
         ],
         "y": [
          -0.37005365434229487,
          -0.37005365434229487,
          -0.37005365434229487
         ],
         "z": [
          -0.14000000000000012,
          -0.3351840755738599,
          -0.45
         ]
        },
        {
         "line": {
          "color": "rgb(0,0,0)",
          "width": 5
         },
         "mode": "lines",
         "showlegend": false,
         "type": "scatter3d",
         "x": [
          -5.827874576234681,
          -5.616953470622216
         ],
         "y": [
          -0.37005365434229487,
          -0.37005365434229487
         ],
         "z": [
          -0.45,
          -0.14000000000000012
         ]
        },
        {
         "line": {
          "color": "rgb(0,0,0)",
          "width": 5
         },
         "mode": "lines",
         "showlegend": false,
         "type": "scatter3d",
         "x": [
          -5.616953470622216,
          -5.521698777764974
         ],
         "y": [
          -0.37005365434229487,
          -0.37005365434229487
         ],
         "z": [
          -0.14000000000000012,
          -0.3351840755738599
         ]
        },
        {
         "line": {
          "color": "rgb(0,0,0)",
          "width": 5
         },
         "mode": "lines",
         "showlegend": false,
         "type": "scatter3d",
         "x": [
          -5.521698777764974,
          -5.827874576234681
         ],
         "y": [
          -0.37005365434229487,
          -0.37005365434229487
         ],
         "z": [
          -0.3351840755738599,
          -0.45
         ]
        },
        {
         "color": "red",
         "i": [
          0
         ],
         "j": [
          1
         ],
         "k": [
          2
         ],
         "name": "23",
         "opacity": 1,
         "type": "mesh3d",
         "x": [
          -5.616953470622216,
          -5.521698777764974,
          -5.521698777764974
         ],
         "y": [
          -0.37005365434229487,
          -0.37005365434229487,
          -0.37005365434229487
         ],
         "z": [
          -0.14000000000000012,
          -0.14000000000000015,
          -0.3351840755738599
         ]
        },
        {
         "line": {
          "color": "rgb(0,0,0)",
          "width": 5
         },
         "mode": "lines",
         "showlegend": false,
         "type": "scatter3d",
         "x": [
          -5.521698777764974,
          -5.616953470622216
         ],
         "y": [
          -0.37005365434229487,
          -0.37005365434229487
         ],
         "z": [
          -0.3351840755738599,
          -0.14000000000000012
         ]
        },
        {
         "line": {
          "color": "rgb(0,0,0)",
          "width": 5
         },
         "mode": "lines",
         "showlegend": false,
         "type": "scatter3d",
         "x": [
          -5.616953470622216,
          -5.521698777764974
         ],
         "y": [
          -0.37005365434229487,
          -0.37005365434229487
         ],
         "z": [
          -0.14000000000000012,
          -0.14000000000000015
         ]
        },
        {
         "line": {
          "color": "rgb(0,0,0)",
          "width": 5
         },
         "mode": "lines",
         "showlegend": false,
         "type": "scatter3d",
         "x": [
          -5.521698777764974,
          -5.521698777764974
         ],
         "y": [
          -0.37005365434229487,
          -0.37005365434229487
         ],
         "z": [
          -0.14000000000000015,
          -0.3351840755738599
         ]
        },
        {
         "color": "red",
         "i": [
          0
         ],
         "j": [
          1
         ],
         "k": [
          2
         ],
         "name": "24",
         "opacity": 1,
         "type": "mesh3d",
         "x": [
          -5.616953470622216,
          -5.521698777764974,
          -5.521698777764974
         ],
         "y": [
          -0.37005365434229487,
          -0.37005365434229487,
          -0.37005365434229487
         ],
         "z": [
          -0.14000000000000012,
          -0.14000000000000015,
          5.551115123125783e-17
         ]
        },
        {
         "line": {
          "color": "rgb(0,0,0)",
          "width": 5
         },
         "mode": "lines",
         "showlegend": false,
         "type": "scatter3d",
         "x": [
          -5.521698777764974,
          -5.616953470622216
         ],
         "y": [
          -0.37005365434229487,
          -0.37005365434229487
         ],
         "z": [
          5.551115123125783e-17,
          -0.14000000000000012
         ]
        },
        {
         "line": {
          "color": "rgb(0,0,0)",
          "width": 5
         },
         "mode": "lines",
         "showlegend": false,
         "type": "scatter3d",
         "x": [
          -5.616953470622216,
          -5.521698777764974
         ],
         "y": [
          -0.37005365434229487,
          -0.37005365434229487
         ],
         "z": [
          -0.14000000000000012,
          -0.14000000000000015
         ]
        },
        {
         "line": {
          "color": "rgb(0,0,0)",
          "width": 5
         },
         "mode": "lines",
         "showlegend": false,
         "type": "scatter3d",
         "x": [
          -5.521698777764974,
          -5.521698777764974
         ],
         "y": [
          -0.37005365434229487,
          -0.37005365434229487
         ],
         "z": [
          -0.14000000000000015,
          5.551115123125783e-17
         ]
        },
        {
         "color": "red",
         "i": [
          0
         ],
         "j": [
          1
         ],
         "k": [
          2
         ],
         "name": "25",
         "opacity": 1,
         "type": "mesh3d",
         "x": [
          -5.115076955293696,
          -5.115076955293696,
          -4.627874576234682
         ],
         "y": [
          -0.37005365434229487,
          -0.37005365434229487,
          -0.37005365434229487
         ],
         "z": [
          -0.18270089214713042,
          5.551115123125783e-17,
          5.551115123125783e-17
         ]
        },
        {
         "line": {
          "color": "rgb(0,0,0)",
          "width": 5
         },
         "mode": "lines",
         "showlegend": false,
         "type": "scatter3d",
         "x": [
          -4.627874576234682,
          -5.115076955293696
         ],
         "y": [
          -0.37005365434229487,
          -0.37005365434229487
         ],
         "z": [
          5.551115123125783e-17,
          -0.18270089214713042
         ]
        },
        {
         "line": {
          "color": "rgb(0,0,0)",
          "width": 5
         },
         "mode": "lines",
         "showlegend": false,
         "type": "scatter3d",
         "x": [
          -5.115076955293696,
          -5.115076955293696
         ],
         "y": [
          -0.37005365434229487,
          -0.37005365434229487
         ],
         "z": [
          -0.18270089214713042,
          5.551115123125783e-17
         ]
        },
        {
         "line": {
          "color": "rgb(0,0,0)",
          "width": 5
         },
         "mode": "lines",
         "showlegend": false,
         "type": "scatter3d",
         "x": [
          -5.115076955293696,
          -4.627874576234682
         ],
         "y": [
          -0.37005365434229487,
          -0.37005365434229487
         ],
         "z": [
          5.551115123125783e-17,
          5.551115123125783e-17
         ]
        },
        {
         "color": "blue",
         "i": [
          0
         ],
         "j": [
          1
         ],
         "k": [
          2
         ],
         "name": "26",
         "opacity": 0.9,
         "type": "mesh3d",
         "x": [
          -5.827874576234681,
          -5.827874576234681,
          -5.827874576234681
         ],
         "y": [
          -1.3354969811450124,
          -1.3354969811450124,
          -0.7756967649057682
         ],
         "z": [
          -0.2413608317006794,
          -0.45,
          -0.45
         ]
        },
        {
         "line": {
          "color": "rgb(0,0,0)",
          "width": 5
         },
         "mode": "lines",
         "showlegend": false,
         "type": "scatter3d",
         "x": [
          -5.827874576234681,
          -5.827874576234681
         ],
         "y": [
          -0.7756967649057682,
          -1.3354969811450124
         ],
         "z": [
          -0.45,
          -0.2413608317006794
         ]
        },
        {
         "line": {
          "color": "rgb(0,0,0)",
          "width": 5
         },
         "mode": "lines",
         "showlegend": false,
         "type": "scatter3d",
         "x": [
          -5.827874576234681,
          -5.827874576234681
         ],
         "y": [
          -1.3354969811450124,
          -1.3354969811450124
         ],
         "z": [
          -0.2413608317006794,
          -0.45
         ]
        },
        {
         "line": {
          "color": "rgb(0,0,0)",
          "width": 5
         },
         "mode": "lines",
         "showlegend": false,
         "type": "scatter3d",
         "x": [
          -5.827874576234681,
          -5.827874576234681
         ],
         "y": [
          -1.3354969811450124,
          -0.7756967649057682
         ],
         "z": [
          -0.45,
          -0.45
         ]
        },
        {
         "color": "red",
         "i": [
          0
         ],
         "j": [
          1
         ],
         "k": [
          2
         ],
         "name": "27",
         "opacity": 1,
         "type": "mesh3d",
         "x": [
          -5.827874576234681,
          -5.827874576234681,
          -5.827874576234681
         ],
         "y": [
          -1.3354969811450124,
          -1.3354969811450124,
          -2.1700536543422944
         ],
         "z": [
          -0.2413608317006794,
          -0.45,
          -0.45
         ]
        },
        {
         "line": {
          "color": "rgb(0,0,0)",
          "width": 5
         },
         "mode": "lines",
         "showlegend": false,
         "type": "scatter3d",
         "x": [
          -5.827874576234681,
          -5.827874576234681
         ],
         "y": [
          -2.1700536543422944,
          -1.3354969811450124
         ],
         "z": [
          -0.45,
          -0.2413608317006794
         ]
        },
        {
         "line": {
          "color": "rgb(0,0,0)",
          "width": 5
         },
         "mode": "lines",
         "showlegend": false,
         "type": "scatter3d",
         "x": [
          -5.827874576234681,
          -5.827874576234681
         ],
         "y": [
          -1.3354969811450124,
          -1.3354969811450124
         ],
         "z": [
          -0.2413608317006794,
          -0.45
         ]
        },
        {
         "line": {
          "color": "rgb(0,0,0)",
          "width": 5
         },
         "mode": "lines",
         "showlegend": false,
         "type": "scatter3d",
         "x": [
          -5.827874576234681,
          -5.827874576234681
         ],
         "y": [
          -1.3354969811450124,
          -2.1700536543422944
         ],
         "z": [
          -0.45,
          -0.45
         ]
        },
        {
         "color": "red",
         "i": [
          0
         ],
         "j": [
          1
         ],
         "k": [
          2
         ],
         "name": "28",
         "opacity": 1,
         "type": "mesh3d",
         "x": [
          -5.827874576234681,
          -5.827874576234681,
          -5.827874576234681
         ],
         "y": [
          -1.5951368350286115,
          -1.3354969811450124,
          -2.1700536543422944
         ],
         "z": [
          -0.14000000000000012,
          -0.2413608317006794,
          -0.45
         ]
        },
        {
         "line": {
          "color": "rgb(0,0,0)",
          "width": 5
         },
         "mode": "lines",
         "showlegend": false,
         "type": "scatter3d",
         "x": [
          -5.827874576234681,
          -5.827874576234681
         ],
         "y": [
          -2.1700536543422944,
          -1.5951368350286115
         ],
         "z": [
          -0.45,
          -0.14000000000000012
         ]
        },
        {
         "line": {
          "color": "rgb(0,0,0)",
          "width": 5
         },
         "mode": "lines",
         "showlegend": false,
         "type": "scatter3d",
         "x": [
          -5.827874576234681,
          -5.827874576234681
         ],
         "y": [
          -1.5951368350286115,
          -1.3354969811450124
         ],
         "z": [
          -0.14000000000000012,
          -0.2413608317006794
         ]
        },
        {
         "line": {
          "color": "rgb(0,0,0)",
          "width": 5
         },
         "mode": "lines",
         "showlegend": false,
         "type": "scatter3d",
         "x": [
          -5.827874576234681,
          -5.827874576234681
         ],
         "y": [
          -1.3354969811450124,
          -2.1700536543422944
         ],
         "z": [
          -0.2413608317006794,
          -0.45
         ]
        },
        {
         "color": "red",
         "i": [
          0
         ],
         "j": [
          1
         ],
         "k": [
          2
         ],
         "name": "29",
         "opacity": 1,
         "type": "mesh3d",
         "x": [
          -5.827874576234681,
          -5.827874576234681,
          -5.827874576234681
         ],
         "y": [
          -1.5951368350286115,
          -1.3354969811450124,
          -1.3354969811450124
         ],
         "z": [
          -0.14000000000000012,
          -0.14000000000000012,
          -0.2413608317006794
         ]
        },
        {
         "line": {
          "color": "rgb(0,0,0)",
          "width": 5
         },
         "mode": "lines",
         "showlegend": false,
         "type": "scatter3d",
         "x": [
          -5.827874576234681,
          -5.827874576234681
         ],
         "y": [
          -1.3354969811450124,
          -1.5951368350286115
         ],
         "z": [
          -0.2413608317006794,
          -0.14000000000000012
         ]
        },
        {
         "line": {
          "color": "rgb(0,0,0)",
          "width": 5
         },
         "mode": "lines",
         "showlegend": false,
         "type": "scatter3d",
         "x": [
          -5.827874576234681,
          -5.827874576234681
         ],
         "y": [
          -1.5951368350286115,
          -1.3354969811450124
         ],
         "z": [
          -0.14000000000000012,
          -0.14000000000000012
         ]
        },
        {
         "line": {
          "color": "rgb(0,0,0)",
          "width": 5
         },
         "mode": "lines",
         "showlegend": false,
         "type": "scatter3d",
         "x": [
          -5.827874576234681,
          -5.827874576234681
         ],
         "y": [
          -1.3354969811450124,
          -1.3354969811450124
         ],
         "z": [
          -0.14000000000000012,
          -0.2413608317006794
         ]
        },
        {
         "color": "red",
         "i": [
          0
         ],
         "j": [
          1
         ],
         "k": [
          2
         ],
         "name": "30",
         "opacity": 1,
         "type": "mesh3d",
         "x": [
          -5.827874576234681,
          -5.827874576234681,
          -5.827874576234681
         ],
         "y": [
          -1.5951368350286115,
          -1.3354969811450124,
          -1.3354969811450124
         ],
         "z": [
          -0.14000000000000012,
          -0.14000000000000012,
          5.551115123125783e-17
         ]
        },
        {
         "line": {
          "color": "rgb(0,0,0)",
          "width": 5
         },
         "mode": "lines",
         "showlegend": false,
         "type": "scatter3d",
         "x": [
          -5.827874576234681,
          -5.827874576234681
         ],
         "y": [
          -1.3354969811450124,
          -1.5951368350286115
         ],
         "z": [
          5.551115123125783e-17,
          -0.14000000000000012
         ]
        },
        {
         "line": {
          "color": "rgb(0,0,0)",
          "width": 5
         },
         "mode": "lines",
         "showlegend": false,
         "type": "scatter3d",
         "x": [
          -5.827874576234681,
          -5.827874576234681
         ],
         "y": [
          -1.5951368350286115,
          -1.3354969811450124
         ],
         "z": [
          -0.14000000000000012,
          -0.14000000000000012
         ]
        },
        {
         "line": {
          "color": "rgb(0,0,0)",
          "width": 5
         },
         "mode": "lines",
         "showlegend": false,
         "type": "scatter3d",
         "x": [
          -5.827874576234681,
          -5.827874576234681
         ],
         "y": [
          -1.3354969811450124,
          -1.3354969811450124
         ],
         "z": [
          -0.14000000000000012,
          5.551115123125783e-17
         ]
        },
        {
         "color": "red",
         "i": [
          0
         ],
         "j": [
          1
         ],
         "k": [
          2
         ],
         "name": "31",
         "opacity": 1,
         "type": "mesh3d",
         "x": [
          -5.827874576234681,
          -5.827874576234681,
          -5.827874576234681
         ],
         "y": [
          -1.3354969811450124,
          -0.37005365434229487,
          -1.3354969811450124
         ],
         "z": [
          -0.14000000000000012,
          5.551115123125783e-17,
          5.551115123125783e-17
         ]
        },
        {
         "line": {
          "color": "rgb(0,0,0)",
          "width": 5
         },
         "mode": "lines",
         "showlegend": false,
         "type": "scatter3d",
         "x": [
          -5.827874576234681,
          -5.827874576234681
         ],
         "y": [
          -1.3354969811450124,
          -1.3354969811450124
         ],
         "z": [
          5.551115123125783e-17,
          -0.14000000000000012
         ]
        },
        {
         "line": {
          "color": "rgb(0,0,0)",
          "width": 5
         },
         "mode": "lines",
         "showlegend": false,
         "type": "scatter3d",
         "x": [
          -5.827874576234681,
          -5.827874576234681
         ],
         "y": [
          -1.3354969811450124,
          -0.37005365434229487
         ],
         "z": [
          -0.14000000000000012,
          5.551115123125783e-17
         ]
        },
        {
         "line": {
          "color": "rgb(0,0,0)",
          "width": 5
         },
         "mode": "lines",
         "showlegend": false,
         "type": "scatter3d",
         "x": [
          -5.827874576234681,
          -5.827874576234681
         ],
         "y": [
          -0.37005365434229487,
          -1.3354969811450124
         ],
         "z": [
          5.551115123125783e-17,
          5.551115123125783e-17
         ]
        },
        {
         "color": "red",
         "i": [
          0
         ],
         "j": [
          1
         ],
         "k": [
          2
         ],
         "name": "32",
         "opacity": 1,
         "type": "mesh3d",
         "x": [
          -5.827874576234681,
          -5.827874576234681,
          -5.827874576234681
         ],
         "y": [
          -1.3354969811450124,
          -0.9300536543422954,
          -0.37005365434229487
         ],
         "z": [
          -0.14000000000000012,
          -0.14000000000000012,
          5.551115123125783e-17
         ]
        },
        {
         "line": {
          "color": "rgb(0,0,0)",
          "width": 5
         },
         "mode": "lines",
         "showlegend": false,
         "type": "scatter3d",
         "x": [
          -5.827874576234681,
          -5.827874576234681
         ],
         "y": [
          -0.37005365434229487,
          -1.3354969811450124
         ],
         "z": [
          5.551115123125783e-17,
          -0.14000000000000012
         ]
        },
        {
         "line": {
          "color": "rgb(0,0,0)",
          "width": 5
         },
         "mode": "lines",
         "showlegend": false,
         "type": "scatter3d",
         "x": [
          -5.827874576234681,
          -5.827874576234681
         ],
         "y": [
          -1.3354969811450124,
          -0.9300536543422954
         ],
         "z": [
          -0.14000000000000012,
          -0.14000000000000012
         ]
        },
        {
         "line": {
          "color": "rgb(0,0,0)",
          "width": 5
         },
         "mode": "lines",
         "showlegend": false,
         "type": "scatter3d",
         "x": [
          -5.827874576234681,
          -5.827874576234681
         ],
         "y": [
          -0.9300536543422954,
          -0.37005365434229487
         ],
         "z": [
          -0.14000000000000012,
          5.551115123125783e-17
         ]
        },
        {
         "color": "blue",
         "i": [
          0
         ],
         "j": [
          1
         ],
         "k": [
          2
         ],
         "name": "33",
         "opacity": 0.9,
         "type": "mesh3d",
         "x": [
          -5.827874576234681,
          -5.827874576234681,
          -5.827874576234681
         ],
         "y": [
          -1.3354969811450124,
          -0.9300536543422954,
          -1.3354969811450124
         ],
         "z": [
          -0.14000000000000012,
          -0.14000000000000012,
          -0.2413608317006794
         ]
        },
        {
         "line": {
          "color": "rgb(0,0,0)",
          "width": 5
         },
         "mode": "lines",
         "showlegend": false,
         "type": "scatter3d",
         "x": [
          -5.827874576234681,
          -5.827874576234681
         ],
         "y": [
          -1.3354969811450124,
          -1.3354969811450124
         ],
         "z": [
          -0.2413608317006794,
          -0.14000000000000012
         ]
        },
        {
         "line": {
          "color": "rgb(0,0,0)",
          "width": 5
         },
         "mode": "lines",
         "showlegend": false,
         "type": "scatter3d",
         "x": [
          -5.827874576234681,
          -5.827874576234681
         ],
         "y": [
          -1.3354969811450124,
          -0.9300536543422954
         ],
         "z": [
          -0.14000000000000012,
          -0.14000000000000012
         ]
        },
        {
         "line": {
          "color": "rgb(0,0,0)",
          "width": 5
         },
         "mode": "lines",
         "showlegend": false,
         "type": "scatter3d",
         "x": [
          -5.827874576234681,
          -5.827874576234681
         ],
         "y": [
          -0.9300536543422954,
          -1.3354969811450124
         ],
         "z": [
          -0.14000000000000012,
          -0.2413608317006794
         ]
        },
        {
         "color": "blue",
         "i": [
          0
         ],
         "j": [
          1
         ],
         "k": [
          2
         ],
         "name": "34",
         "opacity": 0.9,
         "type": "mesh3d",
         "x": [
          -4.722195529917948,
          -4.627874576234682,
          -4.627874576234682
         ],
         "y": [
          -2.1700536543422944,
          -2.1700536543422944,
          -2.1700536543422944
         ],
         "z": [
          -0.41462964236877503,
          -0.14000000000000012,
          -0.45
         ]
        },
        {
         "line": {
          "color": "rgb(0,0,0)",
          "width": 5
         },
         "mode": "lines",
         "showlegend": false,
         "type": "scatter3d",
         "x": [
          -4.627874576234682,
          -4.722195529917948
         ],
         "y": [
          -2.1700536543422944,
          -2.1700536543422944
         ],
         "z": [
          -0.45,
          -0.41462964236877503
         ]
        },
        {
         "line": {
          "color": "rgb(0,0,0)",
          "width": 5
         },
         "mode": "lines",
         "showlegend": false,
         "type": "scatter3d",
         "x": [
          -4.722195529917948,
          -4.627874576234682
         ],
         "y": [
          -2.1700536543422944,
          -2.1700536543422944
         ],
         "z": [
          -0.41462964236877503,
          -0.14000000000000012
         ]
        },
        {
         "line": {
          "color": "rgb(0,0,0)",
          "width": 5
         },
         "mode": "lines",
         "showlegend": false,
         "type": "scatter3d",
         "x": [
          -4.627874576234682,
          -4.627874576234682
         ],
         "y": [
          -2.1700536543422944,
          -2.1700536543422944
         ],
         "z": [
          -0.14000000000000012,
          -0.45
         ]
        },
        {
         "color": "blue",
         "i": [
          0
         ],
         "j": [
          1
         ],
         "k": [
          2
         ],
         "name": "35",
         "opacity": 0.9,
         "type": "mesh3d",
         "x": [
          -4.722195529917948,
          -4.722195529917948,
          -4.627874576234682
         ],
         "y": [
          -2.1700536543422944,
          -2.1700536543422944,
          -2.1700536543422944
         ],
         "z": [
          -0.41462964236877503,
          -0.14000000000000012,
          -0.14000000000000012
         ]
        },
        {
         "line": {
          "color": "rgb(0,0,0)",
          "width": 5
         },
         "mode": "lines",
         "showlegend": false,
         "type": "scatter3d",
         "x": [
          -4.627874576234682,
          -4.722195529917948
         ],
         "y": [
          -2.1700536543422944,
          -2.1700536543422944
         ],
         "z": [
          -0.14000000000000012,
          -0.41462964236877503
         ]
        },
        {
         "line": {
          "color": "rgb(0,0,0)",
          "width": 5
         },
         "mode": "lines",
         "showlegend": false,
         "type": "scatter3d",
         "x": [
          -4.722195529917948,
          -4.722195529917948
         ],
         "y": [
          -2.1700536543422944,
          -2.1700536543422944
         ],
         "z": [
          -0.41462964236877503,
          -0.14000000000000012
         ]
        },
        {
         "line": {
          "color": "rgb(0,0,0)",
          "width": 5
         },
         "mode": "lines",
         "showlegend": false,
         "type": "scatter3d",
         "x": [
          -4.722195529917948,
          -4.627874576234682
         ],
         "y": [
          -2.1700536543422944,
          -2.1700536543422944
         ],
         "z": [
          -0.14000000000000012,
          -0.14000000000000012
         ]
        },
        {
         "color": "red",
         "i": [
          0
         ],
         "j": [
          1
         ],
         "k": [
          2
         ],
         "name": "36",
         "opacity": 1,
         "type": "mesh3d",
         "x": [
          -4.722195529917948,
          -4.722195529917948,
          -5.454541242901348
         ],
         "y": [
          -2.1700536543422944,
          -2.1700536543422944,
          -2.1700536543422944
         ],
         "z": [
          -0.41462964236877503,
          -0.14000000000000012,
          -0.14000000000000012
         ]
        },
        {
         "line": {
          "color": "rgb(0,0,0)",
          "width": 5
         },
         "mode": "lines",
         "showlegend": false,
         "type": "scatter3d",
         "x": [
          -5.454541242901348,
          -4.722195529917948
         ],
         "y": [
          -2.1700536543422944,
          -2.1700536543422944
         ],
         "z": [
          -0.14000000000000012,
          -0.41462964236877503
         ]
        },
        {
         "line": {
          "color": "rgb(0,0,0)",
          "width": 5
         },
         "mode": "lines",
         "showlegend": false,
         "type": "scatter3d",
         "x": [
          -4.722195529917948,
          -4.722195529917948
         ],
         "y": [
          -2.1700536543422944,
          -2.1700536543422944
         ],
         "z": [
          -0.41462964236877503,
          -0.14000000000000012
         ]
        },
        {
         "line": {
          "color": "rgb(0,0,0)",
          "width": 5
         },
         "mode": "lines",
         "showlegend": false,
         "type": "scatter3d",
         "x": [
          -4.722195529917948,
          -5.454541242901348
         ],
         "y": [
          -2.1700536543422944,
          -2.1700536543422944
         ],
         "z": [
          -0.14000000000000012,
          -0.14000000000000012
         ]
        },
        {
         "color": "blue",
         "i": [
          0
         ],
         "j": [
          1
         ],
         "k": [
          2
         ],
         "name": "37",
         "opacity": 0.9,
         "type": "mesh3d",
         "x": [
          -4.627874576234682,
          -4.627874576234682,
          -4.627874576234682
         ],
         "y": [
          -1.7244604118294824,
          -2.1700536543422944,
          -0.7377896605511145
         ],
         "z": [
          -0.14000000000000012,
          -0.45,
          -0.45
         ]
        },
        {
         "line": {
          "color": "rgb(0,0,0)",
          "width": 5
         },
         "mode": "lines",
         "showlegend": false,
         "type": "scatter3d",
         "x": [
          -4.627874576234682,
          -4.627874576234682
         ],
         "y": [
          -0.7377896605511145,
          -1.7244604118294824
         ],
         "z": [
          -0.45,
          -0.14000000000000012
         ]
        },
        {
         "line": {
          "color": "rgb(0,0,0)",
          "width": 5
         },
         "mode": "lines",
         "showlegend": false,
         "type": "scatter3d",
         "x": [
          -4.627874576234682,
          -4.627874576234682
         ],
         "y": [
          -1.7244604118294824,
          -2.1700536543422944
         ],
         "z": [
          -0.14000000000000012,
          -0.45
         ]
        },
        {
         "line": {
          "color": "rgb(0,0,0)",
          "width": 5
         },
         "mode": "lines",
         "showlegend": false,
         "type": "scatter3d",
         "x": [
          -4.627874576234682,
          -4.627874576234682
         ],
         "y": [
          -2.1700536543422944,
          -0.7377896605511145
         ],
         "z": [
          -0.45,
          -0.45
         ]
        },
        {
         "color": "blue",
         "i": [
          0
         ],
         "j": [
          1
         ],
         "k": [
          2
         ],
         "name": "38",
         "opacity": 0.9,
         "type": "mesh3d",
         "x": [
          -4.627874576234682,
          -4.627874576234682,
          -4.627874576234682
         ],
         "y": [
          -1.7244604118294824,
          -2.1700536543422944,
          -2.1700536543422944
         ],
         "z": [
          -0.14000000000000012,
          -0.14000000000000012,
          -0.45
         ]
        },
        {
         "line": {
          "color": "rgb(0,0,0)",
          "width": 5
         },
         "mode": "lines",
         "showlegend": false,
         "type": "scatter3d",
         "x": [
          -4.627874576234682,
          -4.627874576234682
         ],
         "y": [
          -2.1700536543422944,
          -1.7244604118294824
         ],
         "z": [
          -0.45,
          -0.14000000000000012
         ]
        },
        {
         "line": {
          "color": "rgb(0,0,0)",
          "width": 5
         },
         "mode": "lines",
         "showlegend": false,
         "type": "scatter3d",
         "x": [
          -4.627874576234682,
          -4.627874576234682
         ],
         "y": [
          -1.7244604118294824,
          -2.1700536543422944
         ],
         "z": [
          -0.14000000000000012,
          -0.14000000000000012
         ]
        },
        {
         "line": {
          "color": "rgb(0,0,0)",
          "width": 5
         },
         "mode": "lines",
         "showlegend": false,
         "type": "scatter3d",
         "x": [
          -4.627874576234682,
          -4.627874576234682
         ],
         "y": [
          -2.1700536543422944,
          -2.1700536543422944
         ],
         "z": [
          -0.14000000000000012,
          -0.45
         ]
        },
        {
         "color": "red",
         "i": [
          0
         ],
         "j": [
          1
         ],
         "k": [
          2
         ],
         "name": "39",
         "opacity": 1,
         "type": "mesh3d",
         "x": [
          -4.627874576234682,
          -4.627874576234682,
          -4.627874576234682
         ],
         "y": [
          -1.7244604118294824,
          -2.1700536543422944,
          -2.1700536543422944
         ],
         "z": [
          -0.14000000000000012,
          -0.14000000000000012,
          5.551115123125783e-17
         ]
        },
        {
         "line": {
          "color": "rgb(0,0,0)",
          "width": 5
         },
         "mode": "lines",
         "showlegend": false,
         "type": "scatter3d",
         "x": [
          -4.627874576234682,
          -4.627874576234682
         ],
         "y": [
          -2.1700536543422944,
          -1.7244604118294824
         ],
         "z": [
          5.551115123125783e-17,
          -0.14000000000000012
         ]
        },
        {
         "line": {
          "color": "rgb(0,0,0)",
          "width": 5
         },
         "mode": "lines",
         "showlegend": false,
         "type": "scatter3d",
         "x": [
          -4.627874576234682,
          -4.627874576234682
         ],
         "y": [
          -1.7244604118294824,
          -2.1700536543422944
         ],
         "z": [
          -0.14000000000000012,
          -0.14000000000000012
         ]
        },
        {
         "line": {
          "color": "rgb(0,0,0)",
          "width": 5
         },
         "mode": "lines",
         "showlegend": false,
         "type": "scatter3d",
         "x": [
          -4.627874576234682,
          -4.627874576234682
         ],
         "y": [
          -2.1700536543422944,
          -2.1700536543422944
         ],
         "z": [
          -0.14000000000000012,
          5.551115123125783e-17
         ]
        },
        {
         "color": "blue",
         "i": [
          0
         ],
         "j": [
          1
         ],
         "k": [
          2
         ],
         "name": "40",
         "opacity": 0.9,
         "type": "mesh3d",
         "x": [
          -4.627874576234682,
          -4.627874576234682,
          -4.627874576234682
         ],
         "y": [
          -1.7244604118294824,
          -0.7377896605511145,
          -0.7377896605511145
         ],
         "z": [
          -0.14000000000000012,
          -0.45,
          -0.3580659984477951
         ]
        },
        {
         "line": {
          "color": "rgb(0,0,0)",
          "width": 5
         },
         "mode": "lines",
         "showlegend": false,
         "type": "scatter3d",
         "x": [
          -4.627874576234682,
          -4.627874576234682
         ],
         "y": [
          -0.7377896605511145,
          -1.7244604118294824
         ],
         "z": [
          -0.3580659984477951,
          -0.14000000000000012
         ]
        },
        {
         "line": {
          "color": "rgb(0,0,0)",
          "width": 5
         },
         "mode": "lines",
         "showlegend": false,
         "type": "scatter3d",
         "x": [
          -4.627874576234682,
          -4.627874576234682
         ],
         "y": [
          -1.7244604118294824,
          -0.7377896605511145
         ],
         "z": [
          -0.14000000000000012,
          -0.45
         ]
        },
        {
         "line": {
          "color": "rgb(0,0,0)",
          "width": 5
         },
         "mode": "lines",
         "showlegend": false,
         "type": "scatter3d",
         "x": [
          -4.627874576234682,
          -4.627874576234682
         ],
         "y": [
          -0.7377896605511145,
          -0.7377896605511145
         ],
         "z": [
          -0.45,
          -0.3580659984477951
         ]
        },
        {
         "color": "blue",
         "i": [
          0
         ],
         "j": [
          1
         ],
         "k": [
          2
         ],
         "name": "41",
         "opacity": 0.9,
         "type": "mesh3d",
         "x": [
          -4.627874576234682,
          -4.627874576234682,
          -4.627874576234682
         ],
         "y": [
          -1.7244604118294824,
          -1.6100536543422939,
          -0.7377896605511145
         ],
         "z": [
          -0.14000000000000012,
          -0.14000000000000015,
          -0.45
         ]
        },
        {
         "line": {
          "color": "rgb(0,0,0)",
          "width": 5
         },
         "mode": "lines",
         "showlegend": false,
         "type": "scatter3d",
         "x": [
          -4.627874576234682,
          -4.627874576234682
         ],
         "y": [
          -0.7377896605511145,
          -1.7244604118294824
         ],
         "z": [
          -0.45,
          -0.14000000000000012
         ]
        },
        {
         "line": {
          "color": "rgb(0,0,0)",
          "width": 5
         },
         "mode": "lines",
         "showlegend": false,
         "type": "scatter3d",
         "x": [
          -4.627874576234682,
          -4.627874576234682
         ],
         "y": [
          -1.7244604118294824,
          -1.6100536543422939
         ],
         "z": [
          -0.14000000000000012,
          -0.14000000000000015
         ]
        },
        {
         "line": {
          "color": "rgb(0,0,0)",
          "width": 5
         },
         "mode": "lines",
         "showlegend": false,
         "type": "scatter3d",
         "x": [
          -4.627874576234682,
          -4.627874576234682
         ],
         "y": [
          -1.6100536543422939,
          -0.7377896605511145
         ],
         "z": [
          -0.14000000000000015,
          -0.45
         ]
        },
        {
         "color": "red",
         "i": [
          0
         ],
         "j": [
          1
         ],
         "k": [
          2
         ],
         "name": "42",
         "opacity": 1,
         "type": "mesh3d",
         "x": [
          -4.627874576234682,
          -4.627874576234682,
          -4.627874576234682
         ],
         "y": [
          -1.7244604118294824,
          -1.6100536543422939,
          -2.1700536543422944
         ],
         "z": [
          -0.14000000000000012,
          -0.14000000000000015,
          5.551115123125783e-17
         ]
        },
        {
         "line": {
          "color": "rgb(0,0,0)",
          "width": 5
         },
         "mode": "lines",
         "showlegend": false,
         "type": "scatter3d",
         "x": [
          -4.627874576234682,
          -4.627874576234682
         ],
         "y": [
          -2.1700536543422944,
          -1.7244604118294824
         ],
         "z": [
          5.551115123125783e-17,
          -0.14000000000000012
         ]
        },
        {
         "line": {
          "color": "rgb(0,0,0)",
          "width": 5
         },
         "mode": "lines",
         "showlegend": false,
         "type": "scatter3d",
         "x": [
          -4.627874576234682,
          -4.627874576234682
         ],
         "y": [
          -1.7244604118294824,
          -1.6100536543422939
         ],
         "z": [
          -0.14000000000000012,
          -0.14000000000000015
         ]
        },
        {
         "line": {
          "color": "rgb(0,0,0)",
          "width": 5
         },
         "mode": "lines",
         "showlegend": false,
         "type": "scatter3d",
         "x": [
          -4.627874576234682,
          -4.627874576234682
         ],
         "y": [
          -1.6100536543422939,
          -2.1700536543422944
         ],
         "z": [
          -0.14000000000000015,
          5.551115123125783e-17
         ]
        },
        {
         "color": "red",
         "i": [
          0
         ],
         "j": [
          1
         ],
         "k": [
          2
         ],
         "name": "43",
         "opacity": 1,
         "type": "mesh3d",
         "x": [
          -4.627874576234682,
          -4.627874576234682,
          -4.627874576234682
         ],
         "y": [
          -0.6233829030639262,
          -0.7377896605511147,
          -0.37005365434229487
         ],
         "z": [
          -0.14000000000000012,
          -0.35806599844779496,
          -0.45
         ]
        },
        {
         "line": {
          "color": "rgb(0,0,0)",
          "width": 5
         },
         "mode": "lines",
         "showlegend": false,
         "type": "scatter3d",
         "x": [
          -4.627874576234682,
          -4.627874576234682
         ],
         "y": [
          -0.37005365434229487,
          -0.6233829030639262
         ],
         "z": [
          -0.45,
          -0.14000000000000012
         ]
        },
        {
         "line": {
          "color": "rgb(0,0,0)",
          "width": 5
         },
         "mode": "lines",
         "showlegend": false,
         "type": "scatter3d",
         "x": [
          -4.627874576234682,
          -4.627874576234682
         ],
         "y": [
          -0.6233829030639262,
          -0.7377896605511147
         ],
         "z": [
          -0.14000000000000012,
          -0.35806599844779496
         ]
        },
        {
         "line": {
          "color": "rgb(0,0,0)",
          "width": 5
         },
         "mode": "lines",
         "showlegend": false,
         "type": "scatter3d",
         "x": [
          -4.627874576234682,
          -4.627874576234682
         ],
         "y": [
          -0.7377896605511147,
          -0.37005365434229487
         ],
         "z": [
          -0.35806599844779496,
          -0.45
         ]
        },
        {
         "color": "red",
         "i": [
          0
         ],
         "j": [
          1
         ],
         "k": [
          2
         ],
         "name": "44",
         "opacity": 1,
         "type": "mesh3d",
         "x": [
          -4.627874576234682,
          -4.627874576234682,
          -4.627874576234682
         ],
         "y": [
          -0.6233829030639262,
          -0.7377896605511147,
          -0.7377896605511147
         ],
         "z": [
          -0.14000000000000012,
          -0.14000000000000012,
          -0.35806599844779496
         ]
        },
        {
         "line": {
          "color": "rgb(0,0,0)",
          "width": 5
         },
         "mode": "lines",
         "showlegend": false,
         "type": "scatter3d",
         "x": [
          -4.627874576234682,
          -4.627874576234682
         ],
         "y": [
          -0.7377896605511147,
          -0.6233829030639262
         ],
         "z": [
          -0.35806599844779496,
          -0.14000000000000012
         ]
        },
        {
         "line": {
          "color": "rgb(0,0,0)",
          "width": 5
         },
         "mode": "lines",
         "showlegend": false,
         "type": "scatter3d",
         "x": [
          -4.627874576234682,
          -4.627874576234682
         ],
         "y": [
          -0.6233829030639262,
          -0.7377896605511147
         ],
         "z": [
          -0.14000000000000012,
          -0.14000000000000012
         ]
        },
        {
         "line": {
          "color": "rgb(0,0,0)",
          "width": 5
         },
         "mode": "lines",
         "showlegend": false,
         "type": "scatter3d",
         "x": [
          -4.627874576234682,
          -4.627874576234682
         ],
         "y": [
          -0.7377896605511147,
          -0.7377896605511147
         ],
         "z": [
          -0.14000000000000012,
          -0.35806599844779496
         ]
        },
        {
         "color": "red",
         "i": [
          0
         ],
         "j": [
          1
         ],
         "k": [
          2
         ],
         "name": "45",
         "opacity": 1,
         "type": "mesh3d",
         "x": [
          -4.627874576234682,
          -4.627874576234682,
          -4.627874576234682
         ],
         "y": [
          -0.6233829030639262,
          -0.7377896605511147,
          -0.7377896605511147
         ],
         "z": [
          -0.14000000000000012,
          -0.14000000000000012,
          5.551115123125783e-17
         ]
        },
        {
         "line": {
          "color": "rgb(0,0,0)",
          "width": 5
         },
         "mode": "lines",
         "showlegend": false,
         "type": "scatter3d",
         "x": [
          -4.627874576234682,
          -4.627874576234682
         ],
         "y": [
          -0.7377896605511147,
          -0.6233829030639262
         ],
         "z": [
          5.551115123125783e-17,
          -0.14000000000000012
         ]
        },
        {
         "line": {
          "color": "rgb(0,0,0)",
          "width": 5
         },
         "mode": "lines",
         "showlegend": false,
         "type": "scatter3d",
         "x": [
          -4.627874576234682,
          -4.627874576234682
         ],
         "y": [
          -0.6233829030639262,
          -0.7377896605511147
         ],
         "z": [
          -0.14000000000000012,
          -0.14000000000000012
         ]
        },
        {
         "line": {
          "color": "rgb(0,0,0)",
          "width": 5
         },
         "mode": "lines",
         "showlegend": false,
         "type": "scatter3d",
         "x": [
          -4.627874576234682,
          -4.627874576234682
         ],
         "y": [
          -0.7377896605511147,
          -0.7377896605511147
         ],
         "z": [
          -0.14000000000000012,
          5.551115123125783e-17
         ]
        },
        {
         "color": "red",
         "i": [
          0
         ],
         "j": [
          1
         ],
         "k": [
          2
         ],
         "name": "46",
         "opacity": 1,
         "type": "mesh3d",
         "x": [
          -4.627874576234682,
          -4.627874576234682,
          -4.627874576234682
         ],
         "y": [
          -0.7377896605511147,
          -2.1700536543422944,
          -0.7377896605511147
         ],
         "z": [
          -0.14000000000000012,
          5.551115123125783e-17,
          5.551115123125783e-17
         ]
        },
        {
         "line": {
          "color": "rgb(0,0,0)",
          "width": 5
         },
         "mode": "lines",
         "showlegend": false,
         "type": "scatter3d",
         "x": [
          -4.627874576234682,
          -4.627874576234682
         ],
         "y": [
          -0.7377896605511147,
          -0.7377896605511147
         ],
         "z": [
          5.551115123125783e-17,
          -0.14000000000000012
         ]
        },
        {
         "line": {
          "color": "rgb(0,0,0)",
          "width": 5
         },
         "mode": "lines",
         "showlegend": false,
         "type": "scatter3d",
         "x": [
          -4.627874576234682,
          -4.627874576234682
         ],
         "y": [
          -0.7377896605511147,
          -2.1700536543422944
         ],
         "z": [
          -0.14000000000000012,
          5.551115123125783e-17
         ]
        },
        {
         "line": {
          "color": "rgb(0,0,0)",
          "width": 5
         },
         "mode": "lines",
         "showlegend": false,
         "type": "scatter3d",
         "x": [
          -4.627874576234682,
          -4.627874576234682
         ],
         "y": [
          -2.1700536543422944,
          -0.7377896605511147
         ],
         "z": [
          5.551115123125783e-17,
          5.551115123125783e-17
         ]
        },
        {
         "color": "red",
         "i": [
          0
         ],
         "j": [
          1
         ],
         "k": [
          2
         ],
         "name": "47",
         "opacity": 1,
         "type": "mesh3d",
         "x": [
          -4.627874576234682,
          -4.627874576234682,
          -4.627874576234682
         ],
         "y": [
          -0.7377896605511147,
          -1.6100536543422939,
          -2.1700536543422944
         ],
         "z": [
          -0.14000000000000012,
          -0.14000000000000012,
          5.551115123125783e-17
         ]
        },
        {
         "line": {
          "color": "rgb(0,0,0)",
          "width": 5
         },
         "mode": "lines",
         "showlegend": false,
         "type": "scatter3d",
         "x": [
          -4.627874576234682,
          -4.627874576234682
         ],
         "y": [
          -2.1700536543422944,
          -0.7377896605511147
         ],
         "z": [
          5.551115123125783e-17,
          -0.14000000000000012
         ]
        },
        {
         "line": {
          "color": "rgb(0,0,0)",
          "width": 5
         },
         "mode": "lines",
         "showlegend": false,
         "type": "scatter3d",
         "x": [
          -4.627874576234682,
          -4.627874576234682
         ],
         "y": [
          -0.7377896605511147,
          -1.6100536543422939
         ],
         "z": [
          -0.14000000000000012,
          -0.14000000000000012
         ]
        },
        {
         "line": {
          "color": "rgb(0,0,0)",
          "width": 5
         },
         "mode": "lines",
         "showlegend": false,
         "type": "scatter3d",
         "x": [
          -4.627874576234682,
          -4.627874576234682
         ],
         "y": [
          -1.6100536543422939,
          -2.1700536543422944
         ],
         "z": [
          -0.14000000000000012,
          5.551115123125783e-17
         ]
        },
        {
         "color": "blue",
         "i": [
          0
         ],
         "j": [
          1
         ],
         "k": [
          2
         ],
         "name": "48",
         "opacity": 0.9,
         "type": "mesh3d",
         "x": [
          -4.627874576234682,
          -4.627874576234682,
          -4.627874576234682
         ],
         "y": [
          -0.7377896605511147,
          -1.6100536543422939,
          -0.7377896605511147
         ],
         "z": [
          -0.14000000000000012,
          -0.14000000000000012,
          -0.35806599844779496
         ]
        },
        {
         "line": {
          "color": "rgb(0,0,0)",
          "width": 5
         },
         "mode": "lines",
         "showlegend": false,
         "type": "scatter3d",
         "x": [
          -4.627874576234682,
          -4.627874576234682
         ],
         "y": [
          -0.7377896605511147,
          -0.7377896605511147
         ],
         "z": [
          -0.35806599844779496,
          -0.14000000000000012
         ]
        },
        {
         "line": {
          "color": "rgb(0,0,0)",
          "width": 5
         },
         "mode": "lines",
         "showlegend": false,
         "type": "scatter3d",
         "x": [
          -4.627874576234682,
          -4.627874576234682
         ],
         "y": [
          -0.7377896605511147,
          -1.6100536543422939
         ],
         "z": [
          -0.14000000000000012,
          -0.14000000000000012
         ]
        },
        {
         "line": {
          "color": "rgb(0,0,0)",
          "width": 5
         },
         "mode": "lines",
         "showlegend": false,
         "type": "scatter3d",
         "x": [
          -4.627874576234682,
          -4.627874576234682
         ],
         "y": [
          -1.6100536543422939,
          -0.7377896605511147
         ],
         "z": [
          -0.14000000000000012,
          -0.35806599844779496
         ]
        },
        {
         "color": "blue",
         "i": [
          0
         ],
         "j": [
          1
         ],
         "k": [
          2
         ],
         "name": "49",
         "opacity": 0.9,
         "type": "mesh3d",
         "x": [
          -5.45774863269159,
          -5.827874576234681,
          -5.827874576234681
         ],
         "y": [
          -1.6148647390276576,
          -1.3354969811450121,
          -0.7756967649057684
         ],
         "z": [
          -0.45,
          -0.45,
          -0.45
         ]
        },
        {
         "line": {
          "color": "rgb(0,0,0)",
          "width": 5
         },
         "mode": "lines",
         "showlegend": false,
         "type": "scatter3d",
         "x": [
          -5.827874576234681,
          -5.45774863269159
         ],
         "y": [
          -0.7756967649057684,
          -1.6148647390276576
         ],
         "z": [
          -0.45,
          -0.45
         ]
        },
        {
         "line": {
          "color": "rgb(0,0,0)",
          "width": 5
         },
         "mode": "lines",
         "showlegend": false,
         "type": "scatter3d",
         "x": [
          -5.45774863269159,
          -5.827874576234681
         ],
         "y": [
          -1.6148647390276576,
          -1.3354969811450121
         ],
         "z": [
          -0.45,
          -0.45
         ]
        },
        {
         "line": {
          "color": "rgb(0,0,0)",
          "width": 5
         },
         "mode": "lines",
         "showlegend": false,
         "type": "scatter3d",
         "x": [
          -5.827874576234681,
          -5.827874576234681
         ],
         "y": [
          -1.3354969811450121,
          -0.7756967649057684
         ],
         "z": [
          -0.45,
          -0.45
         ]
        },
        {
         "color": "red",
         "i": [
          0
         ],
         "j": [
          1
         ],
         "k": [
          2
         ],
         "name": "50",
         "opacity": 1,
         "type": "mesh3d",
         "x": [
          -5.45774863269159,
          -5.827874576234681,
          -5.827874576234681
         ],
         "y": [
          -1.6148647390276576,
          -1.3354969811450121,
          -2.1700536543422944
         ],
         "z": [
          -0.45,
          -0.45,
          -0.45
         ]
        },
        {
         "line": {
          "color": "rgb(0,0,0)",
          "width": 5
         },
         "mode": "lines",
         "showlegend": false,
         "type": "scatter3d",
         "x": [
          -5.827874576234681,
          -5.45774863269159
         ],
         "y": [
          -2.1700536543422944,
          -1.6148647390276576
         ],
         "z": [
          -0.45,
          -0.45
         ]
        },
        {
         "line": {
          "color": "rgb(0,0,0)",
          "width": 5
         },
         "mode": "lines",
         "showlegend": false,
         "type": "scatter3d",
         "x": [
          -5.45774863269159,
          -5.827874576234681
         ],
         "y": [
          -1.6148647390276576,
          -1.3354969811450121
         ],
         "z": [
          -0.45,
          -0.45
         ]
        },
        {
         "line": {
          "color": "rgb(0,0,0)",
          "width": 5
         },
         "mode": "lines",
         "showlegend": false,
         "type": "scatter3d",
         "x": [
          -5.827874576234681,
          -5.827874576234681
         ],
         "y": [
          -1.3354969811450121,
          -2.1700536543422944
         ],
         "z": [
          -0.45,
          -0.45
         ]
        },
        {
         "color": "blue",
         "i": [
          0
         ],
         "j": [
          1
         ],
         "k": [
          2
         ],
         "name": "51",
         "opacity": 0.9,
         "type": "mesh3d",
         "x": [
          -5.115076955293696,
          -5.827874576234681,
          -5.521698777764974
         ],
         "y": [
          -0.37005365434229487,
          -0.7756967649057684,
          -0.37005365434229487
         ],
         "z": [
          -0.45,
          -0.45,
          -0.45
         ]
        },
        {
         "line": {
          "color": "rgb(0,0,0)",
          "width": 5
         },
         "mode": "lines",
         "showlegend": false,
         "type": "scatter3d",
         "x": [
          -5.521698777764974,
          -5.115076955293696
         ],
         "y": [
          -0.37005365434229487,
          -0.37005365434229487
         ],
         "z": [
          -0.45,
          -0.45
         ]
        },
        {
         "line": {
          "color": "rgb(0,0,0)",
          "width": 5
         },
         "mode": "lines",
         "showlegend": false,
         "type": "scatter3d",
         "x": [
          -5.115076955293696,
          -5.827874576234681
         ],
         "y": [
          -0.37005365434229487,
          -0.7756967649057684
         ],
         "z": [
          -0.45,
          -0.45
         ]
        },
        {
         "line": {
          "color": "rgb(0,0,0)",
          "width": 5
         },
         "mode": "lines",
         "showlegend": false,
         "type": "scatter3d",
         "x": [
          -5.827874576234681,
          -5.521698777764974
         ],
         "y": [
          -0.7756967649057684,
          -0.37005365434229487
         ],
         "z": [
          -0.45,
          -0.45
         ]
        },
        {
         "color": "blue",
         "i": [
          0
         ],
         "j": [
          1
         ],
         "k": [
          2
         ],
         "name": "52",
         "opacity": 0.9,
         "type": "mesh3d",
         "x": [
          -5.115076955293696,
          -4.964374321295875,
          -5.827874576234681
         ],
         "y": [
          -0.37005365434229487,
          -0.4838026570843268,
          -0.7756967649057684
         ],
         "z": [
          -0.45,
          -0.45,
          -0.45
         ]
        },
        {
         "line": {
          "color": "rgb(0,0,0)",
          "width": 5
         },
         "mode": "lines",
         "showlegend": false,
         "type": "scatter3d",
         "x": [
          -5.827874576234681,
          -5.115076955293696
         ],
         "y": [
          -0.7756967649057684,
          -0.37005365434229487
         ],
         "z": [
          -0.45,
          -0.45
         ]
        },
        {
         "line": {
          "color": "rgb(0,0,0)",
          "width": 5
         },
         "mode": "lines",
         "showlegend": false,
         "type": "scatter3d",
         "x": [
          -5.115076955293696,
          -4.964374321295875
         ],
         "y": [
          -0.37005365434229487,
          -0.4838026570843268
         ],
         "z": [
          -0.45,
          -0.45
         ]
        },
        {
         "line": {
          "color": "rgb(0,0,0)",
          "width": 5
         },
         "mode": "lines",
         "showlegend": false,
         "type": "scatter3d",
         "x": [
          -4.964374321295875,
          -5.827874576234681
         ],
         "y": [
          -0.4838026570843268,
          -0.7756967649057684
         ],
         "z": [
          -0.45,
          -0.45
         ]
        },
        {
         "color": "red",
         "i": [
          0
         ],
         "j": [
          1
         ],
         "k": [
          2
         ],
         "name": "53",
         "opacity": 1,
         "type": "mesh3d",
         "x": [
          -5.115076955293696,
          -4.964374321295875,
          -4.627874576234682
         ],
         "y": [
          -0.37005365434229487,
          -0.4838026570843268,
          -0.37005365434229487
         ],
         "z": [
          -0.45,
          -0.45,
          -0.45
         ]
        },
        {
         "line": {
          "color": "rgb(0,0,0)",
          "width": 5
         },
         "mode": "lines",
         "showlegend": false,
         "type": "scatter3d",
         "x": [
          -4.627874576234682,
          -5.115076955293696
         ],
         "y": [
          -0.37005365434229487,
          -0.37005365434229487
         ],
         "z": [
          -0.45,
          -0.45
         ]
        },
        {
         "line": {
          "color": "rgb(0,0,0)",
          "width": 5
         },
         "mode": "lines",
         "showlegend": false,
         "type": "scatter3d",
         "x": [
          -5.115076955293696,
          -4.964374321295875
         ],
         "y": [
          -0.37005365434229487,
          -0.4838026570843268
         ],
         "z": [
          -0.45,
          -0.45
         ]
        },
        {
         "line": {
          "color": "rgb(0,0,0)",
          "width": 5
         },
         "mode": "lines",
         "showlegend": false,
         "type": "scatter3d",
         "x": [
          -4.964374321295875,
          -4.627874576234682
         ],
         "y": [
          -0.4838026570843268,
          -0.37005365434229487
         ],
         "z": [
          -0.45,
          -0.45
         ]
        },
        {
         "color": "blue",
         "i": [
          0
         ],
         "j": [
          1
         ],
         "k": [
          2
         ],
         "name": "54",
         "opacity": 0.9,
         "type": "mesh3d",
         "x": [
          -4.64641099549676,
          -4.627874576234682,
          -4.722195529917948
         ],
         "y": [
          -0.7237985367761974,
          -2.1700536543422944,
          -2.1700536543422944
         ],
         "z": [
          -0.45,
          -0.45,
          -0.45
         ]
        },
        {
         "line": {
          "color": "rgb(0,0,0)",
          "width": 5
         },
         "mode": "lines",
         "showlegend": false,
         "type": "scatter3d",
         "x": [
          -4.722195529917948,
          -4.64641099549676
         ],
         "y": [
          -2.1700536543422944,
          -0.7237985367761974
         ],
         "z": [
          -0.45,
          -0.45
         ]
        },
        {
         "line": {
          "color": "rgb(0,0,0)",
          "width": 5
         },
         "mode": "lines",
         "showlegend": false,
         "type": "scatter3d",
         "x": [
          -4.64641099549676,
          -4.627874576234682
         ],
         "y": [
          -0.7237985367761974,
          -2.1700536543422944
         ],
         "z": [
          -0.45,
          -0.45
         ]
        },
        {
         "line": {
          "color": "rgb(0,0,0)",
          "width": 5
         },
         "mode": "lines",
         "showlegend": false,
         "type": "scatter3d",
         "x": [
          -4.627874576234682,
          -4.722195529917948
         ],
         "y": [
          -2.1700536543422944,
          -2.1700536543422944
         ],
         "z": [
          -0.45,
          -0.45
         ]
        },
        {
         "color": "blue",
         "i": [
          0
         ],
         "j": [
          1
         ],
         "k": [
          2
         ],
         "name": "55",
         "opacity": 0.9,
         "type": "mesh3d",
         "x": [
          -4.64641099549676,
          -4.627874576234682,
          -4.627874576234682
         ],
         "y": [
          -0.7237985367761974,
          -0.7377896605511145,
          -2.1700536543422944
         ],
         "z": [
          -0.45,
          -0.45,
          -0.45
         ]
        },
        {
         "line": {
          "color": "rgb(0,0,0)",
          "width": 5
         },
         "mode": "lines",
         "showlegend": false,
         "type": "scatter3d",
         "x": [
          -4.627874576234682,
          -4.64641099549676
         ],
         "y": [
          -2.1700536543422944,
          -0.7237985367761974
         ],
         "z": [
          -0.45,
          -0.45
         ]
        },
        {
         "line": {
          "color": "rgb(0,0,0)",
          "width": 5
         },
         "mode": "lines",
         "showlegend": false,
         "type": "scatter3d",
         "x": [
          -4.64641099549676,
          -4.627874576234682
         ],
         "y": [
          -0.7237985367761974,
          -0.7377896605511145
         ],
         "z": [
          -0.45,
          -0.45
         ]
        },
        {
         "line": {
          "color": "rgb(0,0,0)",
          "width": 5
         },
         "mode": "lines",
         "showlegend": false,
         "type": "scatter3d",
         "x": [
          -4.627874576234682,
          -4.627874576234682
         ],
         "y": [
          -0.7377896605511145,
          -2.1700536543422944
         ],
         "z": [
          -0.45,
          -0.45
         ]
        },
        {
         "color": "red",
         "i": [
          0
         ],
         "j": [
          1
         ],
         "k": [
          2
         ],
         "name": "56",
         "opacity": 1,
         "type": "mesh3d",
         "x": [
          -4.64641099549676,
          -4.627874576234682,
          -4.627874576234682
         ],
         "y": [
          -0.7237985367761974,
          -0.7377896605511145,
          -0.37005365434229487
         ],
         "z": [
          -0.45,
          -0.45,
          -0.45
         ]
        },
        {
         "line": {
          "color": "rgb(0,0,0)",
          "width": 5
         },
         "mode": "lines",
         "showlegend": false,
         "type": "scatter3d",
         "x": [
          -4.627874576234682,
          -4.64641099549676
         ],
         "y": [
          -0.37005365434229487,
          -0.7237985367761974
         ],
         "z": [
          -0.45,
          -0.45
         ]
        },
        {
         "line": {
          "color": "rgb(0,0,0)",
          "width": 5
         },
         "mode": "lines",
         "showlegend": false,
         "type": "scatter3d",
         "x": [
          -4.64641099549676,
          -4.627874576234682
         ],
         "y": [
          -0.7237985367761974,
          -0.7377896605511145
         ],
         "z": [
          -0.45,
          -0.45
         ]
        },
        {
         "line": {
          "color": "rgb(0,0,0)",
          "width": 5
         },
         "mode": "lines",
         "showlegend": false,
         "type": "scatter3d",
         "x": [
          -4.627874576234682,
          -4.627874576234682
         ],
         "y": [
          -0.7377896605511145,
          -0.37005365434229487
         ],
         "z": [
          -0.45,
          -0.45
         ]
        },
        {
         "color": "blue",
         "i": [
          0
         ],
         "j": [
          1
         ],
         "k": [
          2
         ],
         "name": "57",
         "opacity": 0.9,
         "type": "mesh3d",
         "x": [
          -4.790965520977068,
          -4.722195529917948,
          -5.45774863269159
         ],
         "y": [
          -0.6146900714558741,
          -2.1700536543422944,
          -1.6148647390276576
         ],
         "z": [
          -0.45,
          -0.45,
          -0.45
         ]
        },
        {
         "line": {
          "color": "rgb(0,0,0)",
          "width": 5
         },
         "mode": "lines",
         "showlegend": false,
         "type": "scatter3d",
         "x": [
          -5.45774863269159,
          -4.790965520977068
         ],
         "y": [
          -1.6148647390276576,
          -0.6146900714558741
         ],
         "z": [
          -0.45,
          -0.45
         ]
        },
        {
         "line": {
          "color": "rgb(0,0,0)",
          "width": 5
         },
         "mode": "lines",
         "showlegend": false,
         "type": "scatter3d",
         "x": [
          -4.790965520977068,
          -4.722195529917948
         ],
         "y": [
          -0.6146900714558741,
          -2.1700536543422944
         ],
         "z": [
          -0.45,
          -0.45
         ]
        },
        {
         "line": {
          "color": "rgb(0,0,0)",
          "width": 5
         },
         "mode": "lines",
         "showlegend": false,
         "type": "scatter3d",
         "x": [
          -4.722195529917948,
          -5.45774863269159
         ],
         "y": [
          -2.1700536543422944,
          -1.6148647390276576
         ],
         "z": [
          -0.45,
          -0.45
         ]
        },
        {
         "color": "blue",
         "i": [
          0
         ],
         "j": [
          1
         ],
         "k": [
          2
         ],
         "name": "58",
         "opacity": 0.9,
         "type": "mesh3d",
         "x": [
          -4.790965520977068,
          -4.64641099549676,
          -4.722195529917948
         ],
         "y": [
          -0.6146900714558741,
          -0.7237985367761974,
          -2.1700536543422944
         ],
         "z": [
          -0.45,
          -0.45,
          -0.45
         ]
        },
        {
         "line": {
          "color": "rgb(0,0,0)",
          "width": 5
         },
         "mode": "lines",
         "showlegend": false,
         "type": "scatter3d",
         "x": [
          -4.722195529917948,
          -4.790965520977068
         ],
         "y": [
          -2.1700536543422944,
          -0.6146900714558741
         ],
         "z": [
          -0.45,
          -0.45
         ]
        },
        {
         "line": {
          "color": "rgb(0,0,0)",
          "width": 5
         },
         "mode": "lines",
         "showlegend": false,
         "type": "scatter3d",
         "x": [
          -4.790965520977068,
          -4.64641099549676
         ],
         "y": [
          -0.6146900714558741,
          -0.7237985367761974
         ],
         "z": [
          -0.45,
          -0.45
         ]
        },
        {
         "line": {
          "color": "rgb(0,0,0)",
          "width": 5
         },
         "mode": "lines",
         "showlegend": false,
         "type": "scatter3d",
         "x": [
          -4.64641099549676,
          -4.722195529917948
         ],
         "y": [
          -0.7237985367761974,
          -2.1700536543422944
         ],
         "z": [
          -0.45,
          -0.45
         ]
        },
        {
         "color": "red",
         "i": [
          0
         ],
         "j": [
          1
         ],
         "k": [
          2
         ],
         "name": "59",
         "opacity": 1,
         "type": "mesh3d",
         "x": [
          -4.790965520977068,
          -4.64641099549676,
          -4.627874576234682
         ],
         "y": [
          -0.6146900714558741,
          -0.7237985367761974,
          -0.37005365434229487
         ],
         "z": [
          -0.45,
          -0.45,
          -0.45
         ]
        },
        {
         "line": {
          "color": "rgb(0,0,0)",
          "width": 5
         },
         "mode": "lines",
         "showlegend": false,
         "type": "scatter3d",
         "x": [
          -4.627874576234682,
          -4.790965520977068
         ],
         "y": [
          -0.37005365434229487,
          -0.6146900714558741
         ],
         "z": [
          -0.45,
          -0.45
         ]
        },
        {
         "line": {
          "color": "rgb(0,0,0)",
          "width": 5
         },
         "mode": "lines",
         "showlegend": false,
         "type": "scatter3d",
         "x": [
          -4.790965520977068,
          -4.64641099549676
         ],
         "y": [
          -0.6146900714558741,
          -0.7237985367761974
         ],
         "z": [
          -0.45,
          -0.45
         ]
        },
        {
         "line": {
          "color": "rgb(0,0,0)",
          "width": 5
         },
         "mode": "lines",
         "showlegend": false,
         "type": "scatter3d",
         "x": [
          -4.64641099549676,
          -4.627874576234682
         ],
         "y": [
          -0.7237985367761974,
          -0.37005365434229487
         ],
         "z": [
          -0.45,
          -0.45
         ]
        },
        {
         "color": "blue",
         "i": [
          0
         ],
         "j": [
          1
         ],
         "k": [
          2
         ],
         "name": "60",
         "opacity": 0.9,
         "type": "mesh3d",
         "x": [
          -5.210112695852822,
          -5.521698777764974,
          -5.115076955293696
         ],
         "y": [
          -0.37005365434229487,
          -0.37005365434229487,
          -0.37005365434229487
         ],
         "z": [
          -0.14000000000000012,
          -0.3351840755738599,
          -0.18270089214713042
         ]
        },
        {
         "line": {
          "color": "rgb(0,0,0)",
          "width": 5
         },
         "mode": "lines",
         "showlegend": false,
         "type": "scatter3d",
         "x": [
          -5.115076955293696,
          -5.210112695852822
         ],
         "y": [
          -0.37005365434229487,
          -0.37005365434229487
         ],
         "z": [
          -0.18270089214713042,
          -0.14000000000000012
         ]
        },
        {
         "line": {
          "color": "rgb(0,0,0)",
          "width": 5
         },
         "mode": "lines",
         "showlegend": false,
         "type": "scatter3d",
         "x": [
          -5.210112695852822,
          -5.521698777764974
         ],
         "y": [
          -0.37005365434229487,
          -0.37005365434229487
         ],
         "z": [
          -0.14000000000000012,
          -0.3351840755738599
         ]
        },
        {
         "line": {
          "color": "rgb(0,0,0)",
          "width": 5
         },
         "mode": "lines",
         "showlegend": false,
         "type": "scatter3d",
         "x": [
          -5.521698777764974,
          -5.115076955293696
         ],
         "y": [
          -0.37005365434229487,
          -0.37005365434229487
         ],
         "z": [
          -0.3351840755738599,
          -0.18270089214713042
         ]
        },
        {
         "color": "blue",
         "i": [
          0
         ],
         "j": [
          1
         ],
         "k": [
          2
         ],
         "name": "61",
         "opacity": 0.9,
         "type": "mesh3d",
         "x": [
          -5.210112695852822,
          -5.521698777764974,
          -5.521698777764974
         ],
         "y": [
          -0.37005365434229487,
          -0.37005365434229487,
          -0.37005365434229487
         ],
         "z": [
          -0.14000000000000012,
          -0.14000000000000015,
          -0.3351840755738599
         ]
        },
        {
         "line": {
          "color": "rgb(0,0,0)",
          "width": 5
         },
         "mode": "lines",
         "showlegend": false,
         "type": "scatter3d",
         "x": [
          -5.521698777764974,
          -5.210112695852822
         ],
         "y": [
          -0.37005365434229487,
          -0.37005365434229487
         ],
         "z": [
          -0.3351840755738599,
          -0.14000000000000012
         ]
        },
        {
         "line": {
          "color": "rgb(0,0,0)",
          "width": 5
         },
         "mode": "lines",
         "showlegend": false,
         "type": "scatter3d",
         "x": [
          -5.210112695852822,
          -5.521698777764974
         ],
         "y": [
          -0.37005365434229487,
          -0.37005365434229487
         ],
         "z": [
          -0.14000000000000012,
          -0.14000000000000015
         ]
        },
        {
         "line": {
          "color": "rgb(0,0,0)",
          "width": 5
         },
         "mode": "lines",
         "showlegend": false,
         "type": "scatter3d",
         "x": [
          -5.521698777764974,
          -5.521698777764974
         ],
         "y": [
          -0.37005365434229487,
          -0.37005365434229487
         ],
         "z": [
          -0.14000000000000015,
          -0.3351840755738599
         ]
        },
        {
         "color": "red",
         "i": [
          0
         ],
         "j": [
          1
         ],
         "k": [
          2
         ],
         "name": "62",
         "opacity": 1,
         "type": "mesh3d",
         "x": [
          -5.210112695852822,
          -5.521698777764974,
          -5.521698777764974
         ],
         "y": [
          -0.37005365434229487,
          -0.37005365434229487,
          -0.37005365434229487
         ],
         "z": [
          -0.14000000000000012,
          -0.14000000000000015,
          5.551115123125783e-17
         ]
        },
        {
         "line": {
          "color": "rgb(0,0,0)",
          "width": 5
         },
         "mode": "lines",
         "showlegend": false,
         "type": "scatter3d",
         "x": [
          -5.521698777764974,
          -5.210112695852822
         ],
         "y": [
          -0.37005365434229487,
          -0.37005365434229487
         ],
         "z": [
          5.551115123125783e-17,
          -0.14000000000000012
         ]
        },
        {
         "line": {
          "color": "rgb(0,0,0)",
          "width": 5
         },
         "mode": "lines",
         "showlegend": false,
         "type": "scatter3d",
         "x": [
          -5.210112695852822,
          -5.521698777764974
         ],
         "y": [
          -0.37005365434229487,
          -0.37005365434229487
         ],
         "z": [
          -0.14000000000000012,
          -0.14000000000000015
         ]
        },
        {
         "line": {
          "color": "rgb(0,0,0)",
          "width": 5
         },
         "mode": "lines",
         "showlegend": false,
         "type": "scatter3d",
         "x": [
          -5.521698777764974,
          -5.521698777764974
         ],
         "y": [
          -0.37005365434229487,
          -0.37005365434229487
         ],
         "z": [
          -0.14000000000000015,
          5.551115123125783e-17
         ]
        },
        {
         "color": "red",
         "i": [
          0
         ],
         "j": [
          1
         ],
         "k": [
          2
         ],
         "name": "63",
         "opacity": 1,
         "type": "mesh3d",
         "x": [
          -5.210112695852822,
          -5.115076955293696,
          -5.521698777764974
         ],
         "y": [
          -0.37005365434229487,
          -0.37005365434229487,
          -0.37005365434229487
         ],
         "z": [
          -0.14000000000000012,
          5.551115123125783e-17,
          5.551115123125783e-17
         ]
        },
        {
         "line": {
          "color": "rgb(0,0,0)",
          "width": 5
         },
         "mode": "lines",
         "showlegend": false,
         "type": "scatter3d",
         "x": [
          -5.521698777764974,
          -5.210112695852822
         ],
         "y": [
          -0.37005365434229487,
          -0.37005365434229487
         ],
         "z": [
          5.551115123125783e-17,
          -0.14000000000000012
         ]
        },
        {
         "line": {
          "color": "rgb(0,0,0)",
          "width": 5
         },
         "mode": "lines",
         "showlegend": false,
         "type": "scatter3d",
         "x": [
          -5.210112695852822,
          -5.115076955293696
         ],
         "y": [
          -0.37005365434229487,
          -0.37005365434229487
         ],
         "z": [
          -0.14000000000000012,
          5.551115123125783e-17
         ]
        },
        {
         "line": {
          "color": "rgb(0,0,0)",
          "width": 5
         },
         "mode": "lines",
         "showlegend": false,
         "type": "scatter3d",
         "x": [
          -5.115076955293696,
          -5.521698777764974
         ],
         "y": [
          -0.37005365434229487,
          -0.37005365434229487
         ],
         "z": [
          5.551115123125783e-17,
          5.551115123125783e-17
         ]
        },
        {
         "color": "red",
         "i": [
          0
         ],
         "j": [
          1
         ],
         "k": [
          2
         ],
         "name": "64",
         "opacity": 1,
         "type": "mesh3d",
         "x": [
          -5.210112695852822,
          -5.115076955293696,
          -5.115076955293696
         ],
         "y": [
          -0.37005365434229487,
          -0.37005365434229487,
          -0.37005365434229487
         ],
         "z": [
          -0.14000000000000012,
          -0.14000000000000012,
          5.551115123125783e-17
         ]
        },
        {
         "line": {
          "color": "rgb(0,0,0)",
          "width": 5
         },
         "mode": "lines",
         "showlegend": false,
         "type": "scatter3d",
         "x": [
          -5.115076955293696,
          -5.210112695852822
         ],
         "y": [
          -0.37005365434229487,
          -0.37005365434229487
         ],
         "z": [
          5.551115123125783e-17,
          -0.14000000000000012
         ]
        },
        {
         "line": {
          "color": "rgb(0,0,0)",
          "width": 5
         },
         "mode": "lines",
         "showlegend": false,
         "type": "scatter3d",
         "x": [
          -5.210112695852822,
          -5.115076955293696
         ],
         "y": [
          -0.37005365434229487,
          -0.37005365434229487
         ],
         "z": [
          -0.14000000000000012,
          -0.14000000000000012
         ]
        },
        {
         "line": {
          "color": "rgb(0,0,0)",
          "width": 5
         },
         "mode": "lines",
         "showlegend": false,
         "type": "scatter3d",
         "x": [
          -5.115076955293696,
          -5.115076955293696
         ],
         "y": [
          -0.37005365434229487,
          -0.37005365434229487
         ],
         "z": [
          -0.14000000000000012,
          5.551115123125783e-17
         ]
        },
        {
         "color": "blue",
         "i": [
          0
         ],
         "j": [
          1
         ],
         "k": [
          2
         ],
         "name": "65",
         "opacity": 0.9,
         "type": "mesh3d",
         "x": [
          -5.210112695852822,
          -5.115076955293696,
          -5.115076955293696
         ],
         "y": [
          -0.37005365434229487,
          -0.37005365434229487,
          -0.37005365434229487
         ],
         "z": [
          -0.14000000000000012,
          -0.14000000000000012,
          -0.18270089214713042
         ]
        },
        {
         "line": {
          "color": "rgb(0,0,0)",
          "width": 5
         },
         "mode": "lines",
         "showlegend": false,
         "type": "scatter3d",
         "x": [
          -5.115076955293696,
          -5.210112695852822
         ],
         "y": [
          -0.37005365434229487,
          -0.37005365434229487
         ],
         "z": [
          -0.18270089214713042,
          -0.14000000000000012
         ]
        },
        {
         "line": {
          "color": "rgb(0,0,0)",
          "width": 5
         },
         "mode": "lines",
         "showlegend": false,
         "type": "scatter3d",
         "x": [
          -5.210112695852822,
          -5.115076955293696
         ],
         "y": [
          -0.37005365434229487,
          -0.37005365434229487
         ],
         "z": [
          -0.14000000000000012,
          -0.14000000000000012
         ]
        },
        {
         "line": {
          "color": "rgb(0,0,0)",
          "width": 5
         },
         "mode": "lines",
         "showlegend": false,
         "type": "scatter3d",
         "x": [
          -5.115076955293696,
          -5.115076955293696
         ],
         "y": [
          -0.37005365434229487,
          -0.37005365434229487
         ],
         "z": [
          -0.14000000000000012,
          -0.18270089214713042
         ]
        },
        {
         "color": "blue",
         "i": [
          0
         ],
         "j": [
          1
         ],
         "k": [
          2
         ],
         "name": "66",
         "opacity": 0.9,
         "type": "mesh3d",
         "x": [
          -5.827874576234681,
          -5.827874576234681,
          -5.827874576234681
         ],
         "y": [
          -0.7756967649057682,
          -1.3354969811450124,
          -0.7756967649057682
         ],
         "z": [
          -0.14000000000000012,
          -0.2413608317006794,
          -0.45
         ]
        },
        {
         "line": {
          "color": "rgb(0,0,0)",
          "width": 5
         },
         "mode": "lines",
         "showlegend": false,
         "type": "scatter3d",
         "x": [
          -5.827874576234681,
          -5.827874576234681
         ],
         "y": [
          -0.7756967649057682,
          -0.7756967649057682
         ],
         "z": [
          -0.45,
          -0.14000000000000012
         ]
        },
        {
         "line": {
          "color": "rgb(0,0,0)",
          "width": 5
         },
         "mode": "lines",
         "showlegend": false,
         "type": "scatter3d",
         "x": [
          -5.827874576234681,
          -5.827874576234681
         ],
         "y": [
          -0.7756967649057682,
          -1.3354969811450124
         ],
         "z": [
          -0.14000000000000012,
          -0.2413608317006794
         ]
        },
        {
         "line": {
          "color": "rgb(0,0,0)",
          "width": 5
         },
         "mode": "lines",
         "showlegend": false,
         "type": "scatter3d",
         "x": [
          -5.827874576234681,
          -5.827874576234681
         ],
         "y": [
          -1.3354969811450124,
          -0.7756967649057682
         ],
         "z": [
          -0.2413608317006794,
          -0.45
         ]
        },
        {
         "color": "blue",
         "i": [
          0
         ],
         "j": [
          1
         ],
         "k": [
          2
         ],
         "name": "67",
         "opacity": 0.9,
         "type": "mesh3d",
         "x": [
          -5.827874576234681,
          -5.827874576234681,
          -5.827874576234681
         ],
         "y": [
          -0.7756967649057682,
          -0.9300536543422953,
          -1.3354969811450124
         ],
         "z": [
          -0.14000000000000012,
          -0.14000000000000012,
          -0.2413608317006794
         ]
        },
        {
         "line": {
          "color": "rgb(0,0,0)",
          "width": 5
         },
         "mode": "lines",
         "showlegend": false,
         "type": "scatter3d",
         "x": [
          -5.827874576234681,
          -5.827874576234681
         ],
         "y": [
          -1.3354969811450124,
          -0.7756967649057682
         ],
         "z": [
          -0.2413608317006794,
          -0.14000000000000012
         ]
        },
        {
         "line": {
          "color": "rgb(0,0,0)",
          "width": 5
         },
         "mode": "lines",
         "showlegend": false,
         "type": "scatter3d",
         "x": [
          -5.827874576234681,
          -5.827874576234681
         ],
         "y": [
          -0.7756967649057682,
          -0.9300536543422953
         ],
         "z": [
          -0.14000000000000012,
          -0.14000000000000012
         ]
        },
        {
         "line": {
          "color": "rgb(0,0,0)",
          "width": 5
         },
         "mode": "lines",
         "showlegend": false,
         "type": "scatter3d",
         "x": [
          -5.827874576234681,
          -5.827874576234681
         ],
         "y": [
          -0.9300536543422953,
          -1.3354969811450124
         ],
         "z": [
          -0.14000000000000012,
          -0.2413608317006794
         ]
        },
        {
         "color": "red",
         "i": [
          0
         ],
         "j": [
          1
         ],
         "k": [
          2
         ],
         "name": "68",
         "opacity": 1,
         "type": "mesh3d",
         "x": [
          -5.827874576234681,
          -5.827874576234681,
          -5.827874576234681
         ],
         "y": [
          -0.7756967649057682,
          -0.9300536543422953,
          -0.7756967649057682
         ],
         "z": [
          -0.14000000000000012,
          -0.14000000000000012,
          -0.10141077764086835
         ]
        },
        {
         "line": {
          "color": "rgb(0,0,0)",
          "width": 5
         },
         "mode": "lines",
         "showlegend": false,
         "type": "scatter3d",
         "x": [
          -5.827874576234681,
          -5.827874576234681
         ],
         "y": [
          -0.7756967649057682,
          -0.7756967649057682
         ],
         "z": [
          -0.10141077764086835,
          -0.14000000000000012
         ]
        },
        {
         "line": {
          "color": "rgb(0,0,0)",
          "width": 5
         },
         "mode": "lines",
         "showlegend": false,
         "type": "scatter3d",
         "x": [
          -5.827874576234681,
          -5.827874576234681
         ],
         "y": [
          -0.7756967649057682,
          -0.9300536543422953
         ],
         "z": [
          -0.14000000000000012,
          -0.14000000000000012
         ]
        },
        {
         "line": {
          "color": "rgb(0,0,0)",
          "width": 5
         },
         "mode": "lines",
         "showlegend": false,
         "type": "scatter3d",
         "x": [
          -5.827874576234681,
          -5.827874576234681
         ],
         "y": [
          -0.9300536543422953,
          -0.7756967649057682
         ],
         "z": [
          -0.14000000000000012,
          -0.10141077764086835
         ]
        },
        {
         "color": "blue",
         "i": [
          0
         ],
         "j": [
          1
         ],
         "k": [
          2
         ],
         "name": "69",
         "opacity": 0.9,
         "type": "mesh3d",
         "x": [
          -4.964374321295875,
          -5.45774863269159,
          -5.827874576234681
         ],
         "y": [
          -0.4838026570843268,
          -1.6148647390276576,
          -0.7756967649057684
         ],
         "z": [
          -0.45,
          -0.45,
          -0.45
         ]
        },
        {
         "line": {
          "color": "rgb(0,0,0)",
          "width": 5
         },
         "mode": "lines",
         "showlegend": false,
         "type": "scatter3d",
         "x": [
          -5.827874576234681,
          -4.964374321295875
         ],
         "y": [
          -0.7756967649057684,
          -0.4838026570843268
         ],
         "z": [
          -0.45,
          -0.45
         ]
        },
        {
         "line": {
          "color": "rgb(0,0,0)",
          "width": 5
         },
         "mode": "lines",
         "showlegend": false,
         "type": "scatter3d",
         "x": [
          -4.964374321295875,
          -5.45774863269159
         ],
         "y": [
          -0.4838026570843268,
          -1.6148647390276576
         ],
         "z": [
          -0.45,
          -0.45
         ]
        },
        {
         "line": {
          "color": "rgb(0,0,0)",
          "width": 5
         },
         "mode": "lines",
         "showlegend": false,
         "type": "scatter3d",
         "x": [
          -5.45774863269159,
          -5.827874576234681
         ],
         "y": [
          -1.6148647390276576,
          -0.7756967649057684
         ],
         "z": [
          -0.45,
          -0.45
         ]
        },
        {
         "color": "blue",
         "i": [
          0
         ],
         "j": [
          1
         ],
         "k": [
          2
         ],
         "name": "70",
         "opacity": 0.9,
         "type": "mesh3d",
         "x": [
          -4.964374321295875,
          -4.790965520977068,
          -5.45774863269159
         ],
         "y": [
          -0.4838026570843268,
          -0.6146900714558741,
          -1.6148647390276576
         ],
         "z": [
          -0.45,
          -0.45,
          -0.45
         ]
        },
        {
         "line": {
          "color": "rgb(0,0,0)",
          "width": 5
         },
         "mode": "lines",
         "showlegend": false,
         "type": "scatter3d",
         "x": [
          -5.45774863269159,
          -4.964374321295875
         ],
         "y": [
          -1.6148647390276576,
          -0.4838026570843268
         ],
         "z": [
          -0.45,
          -0.45
         ]
        },
        {
         "line": {
          "color": "rgb(0,0,0)",
          "width": 5
         },
         "mode": "lines",
         "showlegend": false,
         "type": "scatter3d",
         "x": [
          -4.964374321295875,
          -4.790965520977068
         ],
         "y": [
          -0.4838026570843268,
          -0.6146900714558741
         ],
         "z": [
          -0.45,
          -0.45
         ]
        },
        {
         "line": {
          "color": "rgb(0,0,0)",
          "width": 5
         },
         "mode": "lines",
         "showlegend": false,
         "type": "scatter3d",
         "x": [
          -4.790965520977068,
          -5.45774863269159
         ],
         "y": [
          -0.6146900714558741,
          -1.6148647390276576
         ],
         "z": [
          -0.45,
          -0.45
         ]
        },
        {
         "color": "red",
         "i": [
          0
         ],
         "j": [
          1
         ],
         "k": [
          2
         ],
         "name": "71",
         "opacity": 1,
         "type": "mesh3d",
         "x": [
          -4.964374321295875,
          -4.790965520977068,
          -4.627874576234682
         ],
         "y": [
          -0.4838026570843268,
          -0.6146900714558741,
          -0.37005365434229487
         ],
         "z": [
          -0.45,
          -0.45,
          -0.45
         ]
        },
        {
         "line": {
          "color": "rgb(0,0,0)",
          "width": 5
         },
         "mode": "lines",
         "showlegend": false,
         "type": "scatter3d",
         "x": [
          -4.627874576234682,
          -4.964374321295875
         ],
         "y": [
          -0.37005365434229487,
          -0.4838026570843268
         ],
         "z": [
          -0.45,
          -0.45
         ]
        },
        {
         "line": {
          "color": "rgb(0,0,0)",
          "width": 5
         },
         "mode": "lines",
         "showlegend": false,
         "type": "scatter3d",
         "x": [
          -4.964374321295875,
          -4.790965520977068
         ],
         "y": [
          -0.4838026570843268,
          -0.6146900714558741
         ],
         "z": [
          -0.45,
          -0.45
         ]
        },
        {
         "line": {
          "color": "rgb(0,0,0)",
          "width": 5
         },
         "mode": "lines",
         "showlegend": false,
         "type": "scatter3d",
         "x": [
          -4.790965520977068,
          -4.627874576234682
         ],
         "y": [
          -0.6146900714558741,
          -0.37005365434229487
         ],
         "z": [
          -0.45,
          -0.45
         ]
        }
       ],
       "layout": {
        "scene": {
         "aspectmode": "data",
         "xaxis": {
          "range": [
           -6.827874576234681,
           -3.6278745762346816
          ],
          "title": {
           "text": "X Axis"
          }
         },
         "yaxis": {
          "range": [
           -3.1700536543422944,
           0.6299463456577051
          ],
          "title": {
           "text": "Y Axis"
          }
         },
         "zaxis": {
          "range": [
           -1.45,
           1
          ],
          "title": {
           "text": "Z Axis"
          }
         }
        },
        "template": {
         "data": {
          "bar": [
           {
            "error_x": {
             "color": "#2a3f5f"
            },
            "error_y": {
             "color": "#2a3f5f"
            },
            "marker": {
             "line": {
              "color": "#E5ECF6",
              "width": 0.5
             },
             "pattern": {
              "fillmode": "overlay",
              "size": 10,
              "solidity": 0.2
             }
            },
            "type": "bar"
           }
          ],
          "barpolar": [
           {
            "marker": {
             "line": {
              "color": "#E5ECF6",
              "width": 0.5
             },
             "pattern": {
              "fillmode": "overlay",
              "size": 10,
              "solidity": 0.2
             }
            },
            "type": "barpolar"
           }
          ],
          "carpet": [
           {
            "aaxis": {
             "endlinecolor": "#2a3f5f",
             "gridcolor": "white",
             "linecolor": "white",
             "minorgridcolor": "white",
             "startlinecolor": "#2a3f5f"
            },
            "baxis": {
             "endlinecolor": "#2a3f5f",
             "gridcolor": "white",
             "linecolor": "white",
             "minorgridcolor": "white",
             "startlinecolor": "#2a3f5f"
            },
            "type": "carpet"
           }
          ],
          "choropleth": [
           {
            "colorbar": {
             "outlinewidth": 0,
             "ticks": ""
            },
            "type": "choropleth"
           }
          ],
          "contour": [
           {
            "colorbar": {
             "outlinewidth": 0,
             "ticks": ""
            },
            "colorscale": [
             [
              0,
              "#0d0887"
             ],
             [
              0.1111111111111111,
              "#46039f"
             ],
             [
              0.2222222222222222,
              "#7201a8"
             ],
             [
              0.3333333333333333,
              "#9c179e"
             ],
             [
              0.4444444444444444,
              "#bd3786"
             ],
             [
              0.5555555555555556,
              "#d8576b"
             ],
             [
              0.6666666666666666,
              "#ed7953"
             ],
             [
              0.7777777777777778,
              "#fb9f3a"
             ],
             [
              0.8888888888888888,
              "#fdca26"
             ],
             [
              1,
              "#f0f921"
             ]
            ],
            "type": "contour"
           }
          ],
          "contourcarpet": [
           {
            "colorbar": {
             "outlinewidth": 0,
             "ticks": ""
            },
            "type": "contourcarpet"
           }
          ],
          "heatmap": [
           {
            "colorbar": {
             "outlinewidth": 0,
             "ticks": ""
            },
            "colorscale": [
             [
              0,
              "#0d0887"
             ],
             [
              0.1111111111111111,
              "#46039f"
             ],
             [
              0.2222222222222222,
              "#7201a8"
             ],
             [
              0.3333333333333333,
              "#9c179e"
             ],
             [
              0.4444444444444444,
              "#bd3786"
             ],
             [
              0.5555555555555556,
              "#d8576b"
             ],
             [
              0.6666666666666666,
              "#ed7953"
             ],
             [
              0.7777777777777778,
              "#fb9f3a"
             ],
             [
              0.8888888888888888,
              "#fdca26"
             ],
             [
              1,
              "#f0f921"
             ]
            ],
            "type": "heatmap"
           }
          ],
          "heatmapgl": [
           {
            "colorbar": {
             "outlinewidth": 0,
             "ticks": ""
            },
            "colorscale": [
             [
              0,
              "#0d0887"
             ],
             [
              0.1111111111111111,
              "#46039f"
             ],
             [
              0.2222222222222222,
              "#7201a8"
             ],
             [
              0.3333333333333333,
              "#9c179e"
             ],
             [
              0.4444444444444444,
              "#bd3786"
             ],
             [
              0.5555555555555556,
              "#d8576b"
             ],
             [
              0.6666666666666666,
              "#ed7953"
             ],
             [
              0.7777777777777778,
              "#fb9f3a"
             ],
             [
              0.8888888888888888,
              "#fdca26"
             ],
             [
              1,
              "#f0f921"
             ]
            ],
            "type": "heatmapgl"
           }
          ],
          "histogram": [
           {
            "marker": {
             "pattern": {
              "fillmode": "overlay",
              "size": 10,
              "solidity": 0.2
             }
            },
            "type": "histogram"
           }
          ],
          "histogram2d": [
           {
            "colorbar": {
             "outlinewidth": 0,
             "ticks": ""
            },
            "colorscale": [
             [
              0,
              "#0d0887"
             ],
             [
              0.1111111111111111,
              "#46039f"
             ],
             [
              0.2222222222222222,
              "#7201a8"
             ],
             [
              0.3333333333333333,
              "#9c179e"
             ],
             [
              0.4444444444444444,
              "#bd3786"
             ],
             [
              0.5555555555555556,
              "#d8576b"
             ],
             [
              0.6666666666666666,
              "#ed7953"
             ],
             [
              0.7777777777777778,
              "#fb9f3a"
             ],
             [
              0.8888888888888888,
              "#fdca26"
             ],
             [
              1,
              "#f0f921"
             ]
            ],
            "type": "histogram2d"
           }
          ],
          "histogram2dcontour": [
           {
            "colorbar": {
             "outlinewidth": 0,
             "ticks": ""
            },
            "colorscale": [
             [
              0,
              "#0d0887"
             ],
             [
              0.1111111111111111,
              "#46039f"
             ],
             [
              0.2222222222222222,
              "#7201a8"
             ],
             [
              0.3333333333333333,
              "#9c179e"
             ],
             [
              0.4444444444444444,
              "#bd3786"
             ],
             [
              0.5555555555555556,
              "#d8576b"
             ],
             [
              0.6666666666666666,
              "#ed7953"
             ],
             [
              0.7777777777777778,
              "#fb9f3a"
             ],
             [
              0.8888888888888888,
              "#fdca26"
             ],
             [
              1,
              "#f0f921"
             ]
            ],
            "type": "histogram2dcontour"
           }
          ],
          "mesh3d": [
           {
            "colorbar": {
             "outlinewidth": 0,
             "ticks": ""
            },
            "type": "mesh3d"
           }
          ],
          "parcoords": [
           {
            "line": {
             "colorbar": {
              "outlinewidth": 0,
              "ticks": ""
             }
            },
            "type": "parcoords"
           }
          ],
          "pie": [
           {
            "automargin": true,
            "type": "pie"
           }
          ],
          "scatter": [
           {
            "fillpattern": {
             "fillmode": "overlay",
             "size": 10,
             "solidity": 0.2
            },
            "type": "scatter"
           }
          ],
          "scatter3d": [
           {
            "line": {
             "colorbar": {
              "outlinewidth": 0,
              "ticks": ""
             }
            },
            "marker": {
             "colorbar": {
              "outlinewidth": 0,
              "ticks": ""
             }
            },
            "type": "scatter3d"
           }
          ],
          "scattercarpet": [
           {
            "marker": {
             "colorbar": {
              "outlinewidth": 0,
              "ticks": ""
             }
            },
            "type": "scattercarpet"
           }
          ],
          "scattergeo": [
           {
            "marker": {
             "colorbar": {
              "outlinewidth": 0,
              "ticks": ""
             }
            },
            "type": "scattergeo"
           }
          ],
          "scattergl": [
           {
            "marker": {
             "colorbar": {
              "outlinewidth": 0,
              "ticks": ""
             }
            },
            "type": "scattergl"
           }
          ],
          "scattermapbox": [
           {
            "marker": {
             "colorbar": {
              "outlinewidth": 0,
              "ticks": ""
             }
            },
            "type": "scattermapbox"
           }
          ],
          "scatterpolar": [
           {
            "marker": {
             "colorbar": {
              "outlinewidth": 0,
              "ticks": ""
             }
            },
            "type": "scatterpolar"
           }
          ],
          "scatterpolargl": [
           {
            "marker": {
             "colorbar": {
              "outlinewidth": 0,
              "ticks": ""
             }
            },
            "type": "scatterpolargl"
           }
          ],
          "scatterternary": [
           {
            "marker": {
             "colorbar": {
              "outlinewidth": 0,
              "ticks": ""
             }
            },
            "type": "scatterternary"
           }
          ],
          "surface": [
           {
            "colorbar": {
             "outlinewidth": 0,
             "ticks": ""
            },
            "colorscale": [
             [
              0,
              "#0d0887"
             ],
             [
              0.1111111111111111,
              "#46039f"
             ],
             [
              0.2222222222222222,
              "#7201a8"
             ],
             [
              0.3333333333333333,
              "#9c179e"
             ],
             [
              0.4444444444444444,
              "#bd3786"
             ],
             [
              0.5555555555555556,
              "#d8576b"
             ],
             [
              0.6666666666666666,
              "#ed7953"
             ],
             [
              0.7777777777777778,
              "#fb9f3a"
             ],
             [
              0.8888888888888888,
              "#fdca26"
             ],
             [
              1,
              "#f0f921"
             ]
            ],
            "type": "surface"
           }
          ],
          "table": [
           {
            "cells": {
             "fill": {
              "color": "#EBF0F8"
             },
             "line": {
              "color": "white"
             }
            },
            "header": {
             "fill": {
              "color": "#C8D4E3"
             },
             "line": {
              "color": "white"
             }
            },
            "type": "table"
           }
          ]
         },
         "layout": {
          "annotationdefaults": {
           "arrowcolor": "#2a3f5f",
           "arrowhead": 0,
           "arrowwidth": 1
          },
          "autotypenumbers": "strict",
          "coloraxis": {
           "colorbar": {
            "outlinewidth": 0,
            "ticks": ""
           }
          },
          "colorscale": {
           "diverging": [
            [
             0,
             "#8e0152"
            ],
            [
             0.1,
             "#c51b7d"
            ],
            [
             0.2,
             "#de77ae"
            ],
            [
             0.3,
             "#f1b6da"
            ],
            [
             0.4,
             "#fde0ef"
            ],
            [
             0.5,
             "#f7f7f7"
            ],
            [
             0.6,
             "#e6f5d0"
            ],
            [
             0.7,
             "#b8e186"
            ],
            [
             0.8,
             "#7fbc41"
            ],
            [
             0.9,
             "#4d9221"
            ],
            [
             1,
             "#276419"
            ]
           ],
           "sequential": [
            [
             0,
             "#0d0887"
            ],
            [
             0.1111111111111111,
             "#46039f"
            ],
            [
             0.2222222222222222,
             "#7201a8"
            ],
            [
             0.3333333333333333,
             "#9c179e"
            ],
            [
             0.4444444444444444,
             "#bd3786"
            ],
            [
             0.5555555555555556,
             "#d8576b"
            ],
            [
             0.6666666666666666,
             "#ed7953"
            ],
            [
             0.7777777777777778,
             "#fb9f3a"
            ],
            [
             0.8888888888888888,
             "#fdca26"
            ],
            [
             1,
             "#f0f921"
            ]
           ],
           "sequentialminus": [
            [
             0,
             "#0d0887"
            ],
            [
             0.1111111111111111,
             "#46039f"
            ],
            [
             0.2222222222222222,
             "#7201a8"
            ],
            [
             0.3333333333333333,
             "#9c179e"
            ],
            [
             0.4444444444444444,
             "#bd3786"
            ],
            [
             0.5555555555555556,
             "#d8576b"
            ],
            [
             0.6666666666666666,
             "#ed7953"
            ],
            [
             0.7777777777777778,
             "#fb9f3a"
            ],
            [
             0.8888888888888888,
             "#fdca26"
            ],
            [
             1,
             "#f0f921"
            ]
           ]
          },
          "colorway": [
           "#636efa",
           "#EF553B",
           "#00cc96",
           "#ab63fa",
           "#FFA15A",
           "#19d3f3",
           "#FF6692",
           "#B6E880",
           "#FF97FF",
           "#FECB52"
          ],
          "font": {
           "color": "#2a3f5f"
          },
          "geo": {
           "bgcolor": "white",
           "lakecolor": "white",
           "landcolor": "#E5ECF6",
           "showlakes": true,
           "showland": true,
           "subunitcolor": "white"
          },
          "hoverlabel": {
           "align": "left"
          },
          "hovermode": "closest",
          "mapbox": {
           "style": "light"
          },
          "paper_bgcolor": "white",
          "plot_bgcolor": "#E5ECF6",
          "polar": {
           "angularaxis": {
            "gridcolor": "white",
            "linecolor": "white",
            "ticks": ""
           },
           "bgcolor": "#E5ECF6",
           "radialaxis": {
            "gridcolor": "white",
            "linecolor": "white",
            "ticks": ""
           }
          },
          "scene": {
           "xaxis": {
            "backgroundcolor": "#E5ECF6",
            "gridcolor": "white",
            "gridwidth": 2,
            "linecolor": "white",
            "showbackground": true,
            "ticks": "",
            "zerolinecolor": "white"
           },
           "yaxis": {
            "backgroundcolor": "#E5ECF6",
            "gridcolor": "white",
            "gridwidth": 2,
            "linecolor": "white",
            "showbackground": true,
            "ticks": "",
            "zerolinecolor": "white"
           },
           "zaxis": {
            "backgroundcolor": "#E5ECF6",
            "gridcolor": "white",
            "gridwidth": 2,
            "linecolor": "white",
            "showbackground": true,
            "ticks": "",
            "zerolinecolor": "white"
           }
          },
          "shapedefaults": {
           "line": {
            "color": "#2a3f5f"
           }
          },
          "ternary": {
           "aaxis": {
            "gridcolor": "white",
            "linecolor": "white",
            "ticks": ""
           },
           "baxis": {
            "gridcolor": "white",
            "linecolor": "white",
            "ticks": ""
           },
           "bgcolor": "#E5ECF6",
           "caxis": {
            "gridcolor": "white",
            "linecolor": "white",
            "ticks": ""
           }
          },
          "title": {
           "x": 0.05
          },
          "xaxis": {
           "automargin": true,
           "gridcolor": "white",
           "linecolor": "white",
           "ticks": "",
           "title": {
            "standoff": 15
           },
           "zerolinecolor": "white",
           "zerolinewidth": 2
          },
          "yaxis": {
           "automargin": true,
           "gridcolor": "white",
           "linecolor": "white",
           "ticks": "",
           "title": {
            "standoff": 15
           },
           "zerolinecolor": "white",
           "zerolinewidth": 2
          }
         }
        },
        "title": {
         "text": "Interactive 3D Geometries with Plotly"
        }
       }
      }
     },
     "metadata": {},
     "output_type": "display_data"
    }
   ],
   "source": [
    "ifc_plotter = IfcPlotter()\n",
    "\n",
    "element = ifcfile.elements[0]\n",
    "print(element.name)\n",
    "\n",
    "ifc_plotter.interactive_plot(elements=[element], collisions=[element.formwork])"
   ]
  },
  {
   "cell_type": "code",
   "execution_count": 2,
   "metadata": {},
   "outputs": [],
   "source": [
    "ifcfile = IfcFile(\"/Users/theodor/kode/master/TriFC/triFC/example_ifc/3D_E6KAA_P09_f_K_K0903_Grubbåsbrua.ifc\")\n",
    "\n",
    "element1 = ifcfile.get_element('0yk_ixJpXFT9WtwKEYG69Q')\n",
    "element2 = ifcfile.get_element('01l5DVvPj3vAtPYtn3NxbN')\n",
    "element3 = ifcfile.get_element('1FLRea5ZP9wetRVlISMJzG')\n",
    "# element4 = ifcfile.get_element('0NBX2xYnrCdO5yCIuLUSUc', debug=debug)\n",
    "# element5 = ifcfile.get_element('1iBU5$A5X7EwYVGzw8UGuu', debug=debug)\n",
    "# element6 = ifcfile.get_element('0broXycNL8EQGaedD33Mfi', debug=debug)\n",
    "# element7 = ifcfile.get_element('09wn$Ha9z4kvIxQOCMPNj2', need_formwork=False, debug=debug)\n",
    "# element8 = ifcfile.get_element('3lRhFvKQ11u9Y5YWK3CSQQ', debug=debug)\n",
    "# element9 = ifcfile.get_element('0W3jBScXL3YepI1rLNNynb', debug=debug)\n",
    "# element10 = ifcfile.get_element('2GVp2jPwP0Gug2awwSeTna', debug=debug)\n",
    "\n",
    "ifcfile.set_elements(elements=[element1, element2, element3])\n",
    "\n",
    "ifcfile.calculate_collisions(compute_new_triangles=True)\n",
    "\n",
    "ifcfile.calculate_formwork()\n",
    "\n",
    "ifcfile.update_formwork_area()\n",
    "\n",
    "ifcfile.make_result_csv(name=\"grubb.csv\", path=\"/Users/theodor/kode/master/TriFC/triFC/example_results\")\n",
    "\n",
    "ifcfile.add_formwork_in_ifc_file_and_save(name=\"grubb.ifc\", path=\"/Users/theodor/kode/master/TriFC/triFC/example_ifc\")\n"
   ]
  },
  {
   "cell_type": "code",
   "execution_count": 6,
   "metadata": {},
   "outputs": [
    {
     "data": {
      "application/vnd.plotly.v1+json": {
       "config": {
        "plotlyServerURL": "https://plot.ly"
       },
       "data": [
        {
         "color": "red",
         "i": [
          0
         ],
         "j": [
          1
         ],
         "k": [
          2
         ],
         "name": "0",
         "opacity": 1,
         "type": "mesh3d",
         "x": [
          0.016966991424560502,
          -1.87958312988281,
          1.9149053955078101
         ],
         "y": [
          -0.29534881591796897,
          -0.408042388916016,
          -0.19286381530761698
         ],
         "z": [
          94.8804296875,
          94.2843671875,
          94.2552265625
         ]
        },
        {
         "line": {
          "color": "rgb(0,0,0)",
          "width": 5
         },
         "mode": "lines",
         "showlegend": false,
         "type": "scatter3d",
         "x": [
          1.9149053955078101,
          0.016966991424560502
         ],
         "y": [
          -0.19286381530761698,
          -0.29534881591796897
         ],
         "z": [
          94.2552265625,
          94.8804296875
         ]
        },
        {
         "line": {
          "color": "rgb(0,0,0)",
          "width": 5
         },
         "mode": "lines",
         "showlegend": false,
         "type": "scatter3d",
         "x": [
          0.016966991424560502,
          -1.87958312988281
         ],
         "y": [
          -0.29534881591796897,
          -0.408042388916016
         ],
         "z": [
          94.8804296875,
          94.2843671875
         ]
        },
        {
         "line": {
          "color": "rgb(0,0,0)",
          "width": 5
         },
         "mode": "lines",
         "showlegend": false,
         "type": "scatter3d",
         "x": [
          -1.87958312988281,
          1.9149053955078101
         ],
         "y": [
          -0.408042388916016,
          -0.19286381530761698
         ],
         "z": [
          94.2843671875,
          94.2552265625
         ]
        },
        {
         "color": "red",
         "i": [
          0
         ],
         "j": [
          1
         ],
         "k": [
          2
         ],
         "name": "1",
         "opacity": 1,
         "type": "mesh3d",
         "x": [
          1.91362573242188,
          0.964816467285156,
          1.91394555664062
         ],
         "y": [
          -0.18919601440429698,
          -0.24089697265625,
          -0.19011296081543
         ],
         "z": [
          94.6992734375,
          94.95637500000001,
          94.588265625
         ]
        },
        {
         "line": {
          "color": "rgb(0,0,0)",
          "width": 5
         },
         "mode": "lines",
         "showlegend": false,
         "type": "scatter3d",
         "x": [
          1.91394555664062,
          1.91362573242188
         ],
         "y": [
          -0.19011296081543,
          -0.18919601440429698
         ],
         "z": [
          94.588265625,
          94.6992734375
         ]
        },
        {
         "line": {
          "color": "rgb(0,0,0)",
          "width": 5
         },
         "mode": "lines",
         "showlegend": false,
         "type": "scatter3d",
         "x": [
          1.91362573242188,
          0.964816467285156
         ],
         "y": [
          -0.18919601440429698,
          -0.24089697265625
         ],
         "z": [
          94.6992734375,
          94.95637500000001
         ]
        },
        {
         "line": {
          "color": "rgb(0,0,0)",
          "width": 5
         },
         "mode": "lines",
         "showlegend": false,
         "type": "scatter3d",
         "x": [
          0.964816467285156,
          1.91394555664062
         ],
         "y": [
          -0.24089697265625,
          -0.19011296081543
         ],
         "z": [
          94.95637500000001,
          94.588265625
         ]
        },
        {
         "color": "red",
         "i": [
          0
         ],
         "j": [
          1
         ],
         "k": [
          2
         ],
         "name": "2",
         "opacity": 1,
         "type": "mesh3d",
         "x": [
          1.91458544921875,
          0.016966991424560502,
          1.9149053955078101
         ],
         "y": [
          -0.19194686889648402,
          -0.29534881591796897,
          -0.19286381530761698
         ],
         "z": [
          94.3662421875,
          94.8804296875,
          94.2552265625
         ]
        },
        {
         "line": {
          "color": "rgb(0,0,0)",
          "width": 5
         },
         "mode": "lines",
         "showlegend": false,
         "type": "scatter3d",
         "x": [
          1.9149053955078101,
          1.91458544921875
         ],
         "y": [
          -0.19286381530761698,
          -0.19194686889648402
         ],
         "z": [
          94.2552265625,
          94.3662421875
         ]
        },
        {
         "line": {
          "color": "rgb(0,0,0)",
          "width": 5
         },
         "mode": "lines",
         "showlegend": false,
         "type": "scatter3d",
         "x": [
          1.91458544921875,
          0.016966991424560502
         ],
         "y": [
          -0.19194686889648402,
          -0.29534881591796897
         ],
         "z": [
          94.3662421875,
          94.8804296875
         ]
        },
        {
         "line": {
          "color": "rgb(0,0,0)",
          "width": 5
         },
         "mode": "lines",
         "showlegend": false,
         "type": "scatter3d",
         "x": [
          0.016966991424560502,
          1.9149053955078101
         ],
         "y": [
          -0.29534881591796897,
          -0.19286381530761698
         ],
         "z": [
          94.8804296875,
          94.2552265625
         ]
        },
        {
         "color": "red",
         "i": [
          0
         ],
         "j": [
          1
         ],
         "k": [
          2
         ],
         "name": "3",
         "opacity": 1,
         "type": "mesh3d",
         "x": [
          1.9149053955078101,
          -1.8797958984375,
          1.91522521972656
         ],
         "y": [
          -0.19286381530761698,
          -0.40898989868164104,
          -0.19378077697753202
         ],
         "z": [
          94.2552265625,
          94.1733203125,
          94.14421875000001
         ]
        },
        {
         "line": {
          "color": "rgb(0,0,0)",
          "width": 5
         },
         "mode": "lines",
         "showlegend": false,
         "type": "scatter3d",
         "x": [
          1.91522521972656,
          1.9149053955078101
         ],
         "y": [
          -0.19378077697753202,
          -0.19286381530761698
         ],
         "z": [
          94.14421875000001,
          94.2552265625
         ]
        },
        {
         "line": {
          "color": "rgb(0,0,0)",
          "width": 5
         },
         "mode": "lines",
         "showlegend": false,
         "type": "scatter3d",
         "x": [
          1.9149053955078101,
          -1.8797958984375
         ],
         "y": [
          -0.19286381530761698,
          -0.40898989868164104
         ],
         "z": [
          94.2552265625,
          94.1733203125
         ]
        },
        {
         "line": {
          "color": "rgb(0,0,0)",
          "width": 5
         },
         "mode": "lines",
         "showlegend": false,
         "type": "scatter3d",
         "x": [
          -1.8797958984375,
          1.91522521972656
         ],
         "y": [
          -0.40898989868164104,
          -0.19378077697753202
         ],
         "z": [
          94.1733203125,
          94.14421875000001
         ]
        },
        {
         "color": "red",
         "i": [
          0
         ],
         "j": [
          1
         ],
         "k": [
          2
         ],
         "name": "4",
         "opacity": 1,
         "type": "mesh3d",
         "x": [
          0.016966991424560502,
          1.91458544921875,
          1.91426550292969
         ],
         "y": [
          -0.29534881591796897,
          -0.19194686889648402,
          -0.191029922485352
         ],
         "z": [
          94.8804296875,
          94.3662421875,
          94.47725
         ]
        },
        {
         "line": {
          "color": "rgb(0,0,0)",
          "width": 5
         },
         "mode": "lines",
         "showlegend": false,
         "type": "scatter3d",
         "x": [
          1.91426550292969,
          0.016966991424560502
         ],
         "y": [
          -0.191029922485352,
          -0.29534881591796897
         ],
         "z": [
          94.47725,
          94.8804296875
         ]
        },
        {
         "line": {
          "color": "rgb(0,0,0)",
          "width": 5
         },
         "mode": "lines",
         "showlegend": false,
         "type": "scatter3d",
         "x": [
          0.016966991424560502,
          1.91458544921875
         ],
         "y": [
          -0.29534881591796897,
          -0.19194686889648402
         ],
         "z": [
          94.8804296875,
          94.3662421875
         ]
        },
        {
         "line": {
          "color": "rgb(0,0,0)",
          "width": 5
         },
         "mode": "lines",
         "showlegend": false,
         "type": "scatter3d",
         "x": [
          1.91458544921875,
          1.91426550292969
         ],
         "y": [
          -0.19194686889648402,
          -0.191029922485352
         ],
         "z": [
          94.3662421875,
          94.47725
         ]
        },
        {
         "color": "red",
         "i": [
          0
         ],
         "j": [
          1
         ],
         "k": [
          2
         ],
         "name": "5",
         "opacity": 1,
         "type": "mesh3d",
         "x": [
          1.91394555664062,
          0.016966991424560502,
          1.91426550292969
         ],
         "y": [
          -0.19011296081543,
          -0.29534881591796897,
          -0.191029922485352
         ],
         "z": [
          94.588265625,
          94.8804296875,
          94.47725
         ]
        },
        {
         "line": {
          "color": "rgb(0,0,0)",
          "width": 5
         },
         "mode": "lines",
         "showlegend": false,
         "type": "scatter3d",
         "x": [
          1.91426550292969,
          1.91394555664062
         ],
         "y": [
          -0.191029922485352,
          -0.19011296081543
         ],
         "z": [
          94.47725,
          94.588265625
         ]
        },
        {
         "line": {
          "color": "rgb(0,0,0)",
          "width": 5
         },
         "mode": "lines",
         "showlegend": false,
         "type": "scatter3d",
         "x": [
          1.91394555664062,
          0.016966991424560502
         ],
         "y": [
          -0.19011296081543,
          -0.29534881591796897
         ],
         "z": [
          94.588265625,
          94.8804296875
         ]
        },
        {
         "line": {
          "color": "rgb(0,0,0)",
          "width": 5
         },
         "mode": "lines",
         "showlegend": false,
         "type": "scatter3d",
         "x": [
          0.016966991424560502,
          1.91426550292969
         ],
         "y": [
          -0.29534881591796897,
          -0.191029922485352
         ],
         "z": [
          94.8804296875,
          94.47725
         ]
        },
        {
         "color": "red",
         "i": [
          0
         ],
         "j": [
          1
         ],
         "k": [
          2
         ],
         "name": "6",
         "opacity": 1,
         "type": "mesh3d",
         "x": [
          1.91330578613281,
          0.964816467285156,
          1.91362573242188
         ],
         "y": [
          -0.188279052734375,
          -0.24089697265625,
          -0.18919601440429698
         ],
         "z": [
          94.8102890625,
          94.95637500000001,
          94.6992734375
         ]
        },
        {
         "line": {
          "color": "rgb(0,0,0)",
          "width": 5
         },
         "mode": "lines",
         "showlegend": false,
         "type": "scatter3d",
         "x": [
          1.91362573242188,
          1.91330578613281
         ],
         "y": [
          -0.18919601440429698,
          -0.188279052734375
         ],
         "z": [
          94.6992734375,
          94.8102890625
         ]
        },
        {
         "line": {
          "color": "rgb(0,0,0)",
          "width": 5
         },
         "mode": "lines",
         "showlegend": false,
         "type": "scatter3d",
         "x": [
          1.91330578613281,
          0.964816467285156
         ],
         "y": [
          -0.188279052734375,
          -0.24089697265625
         ],
         "z": [
          94.8102890625,
          94.95637500000001
         ]
        },
        {
         "line": {
          "color": "rgb(0,0,0)",
          "width": 5
         },
         "mode": "lines",
         "showlegend": false,
         "type": "scatter3d",
         "x": [
          0.964816467285156,
          1.91362573242188
         ],
         "y": [
          -0.24089697265625,
          -0.18919601440429698
         ],
         "z": [
          94.95637500000001,
          94.6992734375
         ]
        },
        {
         "color": "red",
         "i": [
          0
         ],
         "j": [
          1
         ],
         "k": [
          2
         ],
         "name": "7",
         "opacity": 1,
         "type": "mesh3d",
         "x": [
          1.91266589355469,
          0.964816467285156,
          1.91298583984375
         ],
         "y": [
          -0.186445144653306,
          -0.24089697265625,
          -0.187362106323242
         ],
         "z": [
          95.0323125,
          94.95637500000001,
          94.921296875
         ]
        },
        {
         "line": {
          "color": "rgb(0,0,0)",
          "width": 5
         },
         "mode": "lines",
         "showlegend": false,
         "type": "scatter3d",
         "x": [
          1.91298583984375,
          1.91266589355469
         ],
         "y": [
          -0.187362106323242,
          -0.186445144653306
         ],
         "z": [
          94.921296875,
          95.0323125
         ]
        },
        {
         "line": {
          "color": "rgb(0,0,0)",
          "width": 5
         },
         "mode": "lines",
         "showlegend": false,
         "type": "scatter3d",
         "x": [
          1.91266589355469,
          0.964816467285156
         ],
         "y": [
          -0.186445144653306,
          -0.24089697265625
         ],
         "z": [
          95.0323125,
          94.95637500000001
         ]
        },
        {
         "line": {
          "color": "rgb(0,0,0)",
          "width": 5
         },
         "mode": "lines",
         "showlegend": false,
         "type": "scatter3d",
         "x": [
          0.964816467285156,
          1.91298583984375
         ],
         "y": [
          -0.24089697265625,
          -0.187362106323242
         ],
         "z": [
          94.95637500000001,
          94.921296875
         ]
        },
        {
         "color": "red",
         "i": [
          0
         ],
         "j": [
          1
         ],
         "k": [
          2
         ],
         "name": "8",
         "opacity": 1,
         "type": "mesh3d",
         "x": [
          0.964816467285156,
          1.91330578613281,
          1.91298583984375
         ],
         "y": [
          -0.24089697265625,
          -0.188279052734375,
          -0.187362106323242
         ],
         "z": [
          94.95637500000001,
          94.8102890625,
          94.921296875
         ]
        },
        {
         "line": {
          "color": "rgb(0,0,0)",
          "width": 5
         },
         "mode": "lines",
         "showlegend": false,
         "type": "scatter3d",
         "x": [
          1.91298583984375,
          0.964816467285156
         ],
         "y": [
          -0.187362106323242,
          -0.24089697265625
         ],
         "z": [
          94.921296875,
          94.95637500000001
         ]
        },
        {
         "line": {
          "color": "rgb(0,0,0)",
          "width": 5
         },
         "mode": "lines",
         "showlegend": false,
         "type": "scatter3d",
         "x": [
          0.964816467285156,
          1.91330578613281
         ],
         "y": [
          -0.24089697265625,
          -0.188279052734375
         ],
         "z": [
          94.95637500000001,
          94.8102890625
         ]
        },
        {
         "line": {
          "color": "rgb(0,0,0)",
          "width": 5
         },
         "mode": "lines",
         "showlegend": false,
         "type": "scatter3d",
         "x": [
          1.91330578613281,
          1.91298583984375
         ],
         "y": [
          -0.188279052734375,
          -0.187362106323242
         ],
         "z": [
          94.8102890625,
          94.921296875
         ]
        },
        {
         "color": "red",
         "i": [
          0
         ],
         "j": [
          1
         ],
         "k": [
          2
         ],
         "name": "9",
         "opacity": 1,
         "type": "mesh3d",
         "x": [
          0.964816467285156,
          0.016966991424560502,
          1.91394555664062
         ],
         "y": [
          -0.24089697265625,
          -0.29534881591796897,
          -0.19011296081543
         ],
         "z": [
          94.95637500000001,
          94.8804296875,
          94.588265625
         ]
        },
        {
         "line": {
          "color": "rgb(0,0,0)",
          "width": 5
         },
         "mode": "lines",
         "showlegend": false,
         "type": "scatter3d",
         "x": [
          1.91394555664062,
          0.964816467285156
         ],
         "y": [
          -0.19011296081543,
          -0.24089697265625
         ],
         "z": [
          94.588265625,
          94.95637500000001
         ]
        },
        {
         "line": {
          "color": "rgb(0,0,0)",
          "width": 5
         },
         "mode": "lines",
         "showlegend": false,
         "type": "scatter3d",
         "x": [
          0.964816467285156,
          0.016966991424560502
         ],
         "y": [
          -0.24089697265625,
          -0.29534881591796897
         ],
         "z": [
          94.95637500000001,
          94.8804296875
         ]
        },
        {
         "line": {
          "color": "rgb(0,0,0)",
          "width": 5
         },
         "mode": "lines",
         "showlegend": false,
         "type": "scatter3d",
         "x": [
          0.016966991424560502,
          1.91394555664062
         ],
         "y": [
          -0.29534881591796897,
          -0.19011296081543
         ],
         "z": [
          94.8804296875,
          94.588265625
         ]
        },
        {
         "color": "red",
         "i": [
          0
         ],
         "j": [
          1
         ],
         "k": [
          2
         ],
         "name": "10",
         "opacity": 1,
         "type": "mesh3d",
         "x": [
          -0.930882507324219,
          -1.87958312988281,
          0.016966991424560502
         ],
         "y": [
          -0.349800659179688,
          -0.408042388916016,
          -0.29534881591796897
         ],
         "z": [
          94.8044921875,
          94.2843671875,
          94.8804296875
         ]
        },
        {
         "line": {
          "color": "rgb(0,0,0)",
          "width": 5
         },
         "mode": "lines",
         "showlegend": false,
         "type": "scatter3d",
         "x": [
          0.016966991424560502,
          -0.930882507324219
         ],
         "y": [
          -0.29534881591796897,
          -0.349800659179688
         ],
         "z": [
          94.8804296875,
          94.8044921875
         ]
        },
        {
         "line": {
          "color": "rgb(0,0,0)",
          "width": 5
         },
         "mode": "lines",
         "showlegend": false,
         "type": "scatter3d",
         "x": [
          -0.930882507324219,
          -1.87958312988281
         ],
         "y": [
          -0.349800659179688,
          -0.408042388916016
         ],
         "z": [
          94.8044921875,
          94.2843671875
         ]
        },
        {
         "line": {
          "color": "rgb(0,0,0)",
          "width": 5
         },
         "mode": "lines",
         "showlegend": false,
         "type": "scatter3d",
         "x": [
          -1.87958312988281,
          0.016966991424560502
         ],
         "y": [
          -0.408042388916016,
          -0.29534881591796897
         ],
         "z": [
          94.2843671875,
          94.8804296875
         ]
        },
        {
         "color": "red",
         "i": [
          0
         ],
         "j": [
          1
         ],
         "k": [
          2
         ],
         "name": "11",
         "opacity": 1,
         "type": "mesh3d",
         "x": [
          -1.88022143554688,
          -1.88043420410156,
          1.91522521972656
         ],
         "y": [
          -0.410884857177734,
          -0.41183233642578104,
          -0.19378077697753202
         ],
         "z": [
          93.9512265625,
          93.8401796875,
          94.14421875000001
         ]
        },
        {
         "line": {
          "color": "rgb(0,0,0)",
          "width": 5
         },
         "mode": "lines",
         "showlegend": false,
         "type": "scatter3d",
         "x": [
          1.91522521972656,
          -1.88022143554688
         ],
         "y": [
          -0.19378077697753202,
          -0.410884857177734
         ],
         "z": [
          94.14421875000001,
          93.9512265625
         ]
        },
        {
         "line": {
          "color": "rgb(0,0,0)",
          "width": 5
         },
         "mode": "lines",
         "showlegend": false,
         "type": "scatter3d",
         "x": [
          -1.88022143554688,
          -1.88043420410156
         ],
         "y": [
          -0.410884857177734,
          -0.41183233642578104
         ],
         "z": [
          93.9512265625,
          93.8401796875
         ]
        },
        {
         "line": {
          "color": "rgb(0,0,0)",
          "width": 5
         },
         "mode": "lines",
         "showlegend": false,
         "type": "scatter3d",
         "x": [
          -1.88043420410156,
          1.91522521972656
         ],
         "y": [
          -0.41183233642578104,
          -0.19378077697753202
         ],
         "z": [
          93.8401796875,
          94.14421875000001
         ]
        },
        {
         "color": "red",
         "i": [
          0
         ],
         "j": [
          1
         ],
         "k": [
          2
         ],
         "name": "12",
         "opacity": 1,
         "type": "mesh3d",
         "x": [
          -1.8797958984375,
          -1.88000866699219,
          1.91522521972656
         ],
         "y": [
          -0.40898989868164104,
          -0.40993737792968804,
          -0.19378077697753202
         ],
         "z": [
          94.1733203125,
          94.0622734375,
          94.14421875000001
         ]
        },
        {
         "line": {
          "color": "rgb(0,0,0)",
          "width": 5
         },
         "mode": "lines",
         "showlegend": false,
         "type": "scatter3d",
         "x": [
          1.91522521972656,
          -1.8797958984375
         ],
         "y": [
          -0.19378077697753202,
          -0.40898989868164104
         ],
         "z": [
          94.14421875000001,
          94.1733203125
         ]
        },
        {
         "line": {
          "color": "rgb(0,0,0)",
          "width": 5
         },
         "mode": "lines",
         "showlegend": false,
         "type": "scatter3d",
         "x": [
          -1.8797958984375,
          -1.88000866699219
         ],
         "y": [
          -0.40898989868164104,
          -0.40993737792968804
         ],
         "z": [
          94.1733203125,
          94.0622734375
         ]
        },
        {
         "line": {
          "color": "rgb(0,0,0)",
          "width": 5
         },
         "mode": "lines",
         "showlegend": false,
         "type": "scatter3d",
         "x": [
          -1.88000866699219,
          1.91522521972656
         ],
         "y": [
          -0.40993737792968804,
          -0.19378077697753202
         ],
         "z": [
          94.0622734375,
          94.14421875000001
         ]
        },
        {
         "color": "red",
         "i": [
          0
         ],
         "j": [
          1
         ],
         "k": [
          2
         ],
         "name": "13",
         "opacity": 1,
         "type": "mesh3d",
         "x": [
          -1.87958312988281,
          -1.8797958984375,
          1.9149053955078101
         ],
         "y": [
          -0.408042388916016,
          -0.40898989868164104,
          -0.19286381530761698
         ],
         "z": [
          94.2843671875,
          94.1733203125,
          94.2552265625
         ]
        },
        {
         "line": {
          "color": "rgb(0,0,0)",
          "width": 5
         },
         "mode": "lines",
         "showlegend": false,
         "type": "scatter3d",
         "x": [
          1.9149053955078101,
          -1.87958312988281
         ],
         "y": [
          -0.19286381530761698,
          -0.408042388916016
         ],
         "z": [
          94.2552265625,
          94.2843671875
         ]
        },
        {
         "line": {
          "color": "rgb(0,0,0)",
          "width": 5
         },
         "mode": "lines",
         "showlegend": false,
         "type": "scatter3d",
         "x": [
          -1.87958312988281,
          -1.8797958984375
         ],
         "y": [
          -0.408042388916016,
          -0.40898989868164104
         ],
         "z": [
          94.2843671875,
          94.1733203125
         ]
        },
        {
         "line": {
          "color": "rgb(0,0,0)",
          "width": 5
         },
         "mode": "lines",
         "showlegend": false,
         "type": "scatter3d",
         "x": [
          -1.8797958984375,
          1.9149053955078101
         ],
         "y": [
          -0.40898989868164104,
          -0.19286381530761698
         ],
         "z": [
          94.1733203125,
          94.2552265625
         ]
        },
        {
         "color": "red",
         "i": [
          0
         ],
         "j": [
          1
         ],
         "k": [
          2
         ],
         "name": "14",
         "opacity": 1,
         "type": "mesh3d",
         "x": [
          -1.88000866699219,
          -1.88022143554688,
          1.91522521972656
         ],
         "y": [
          -0.40993737792968804,
          -0.410884857177734,
          -0.19378077697753202
         ],
         "z": [
          94.0622734375,
          93.9512265625,
          94.14421875000001
         ]
        },
        {
         "line": {
          "color": "rgb(0,0,0)",
          "width": 5
         },
         "mode": "lines",
         "showlegend": false,
         "type": "scatter3d",
         "x": [
          1.91522521972656,
          -1.88000866699219
         ],
         "y": [
          -0.19378077697753202,
          -0.40993737792968804
         ],
         "z": [
          94.14421875000001,
          94.0622734375
         ]
        },
        {
         "line": {
          "color": "rgb(0,0,0)",
          "width": 5
         },
         "mode": "lines",
         "showlegend": false,
         "type": "scatter3d",
         "x": [
          -1.88000866699219,
          -1.88022143554688
         ],
         "y": [
          -0.40993737792968804,
          -0.410884857177734
         ],
         "z": [
          94.0622734375,
          93.9512265625
         ]
        },
        {
         "line": {
          "color": "rgb(0,0,0)",
          "width": 5
         },
         "mode": "lines",
         "showlegend": false,
         "type": "scatter3d",
         "x": [
          -1.88022143554688,
          1.91522521972656
         ],
         "y": [
          -0.410884857177734,
          -0.19378077697753202
         ],
         "z": [
          93.9512265625,
          94.14421875000001
         ]
        },
        {
         "color": "red",
         "i": [
          0
         ],
         "j": [
          1
         ],
         "k": [
          2
         ],
         "name": "15",
         "opacity": 1,
         "type": "mesh3d",
         "x": [
          -1.87958312988281,
          -0.930882507324219,
          -1.87937036132812
         ],
         "y": [
          -0.408042388916016,
          -0.349800659179688,
          -0.40709490966796896
         ],
         "z": [
          94.2843671875,
          94.8044921875,
          94.3954140625
         ]
        },
        {
         "line": {
          "color": "rgb(0,0,0)",
          "width": 5
         },
         "mode": "lines",
         "showlegend": false,
         "type": "scatter3d",
         "x": [
          -1.87937036132812,
          -1.87958312988281
         ],
         "y": [
          -0.40709490966796896,
          -0.408042388916016
         ],
         "z": [
          94.3954140625,
          94.2843671875
         ]
        },
        {
         "line": {
          "color": "rgb(0,0,0)",
          "width": 5
         },
         "mode": "lines",
         "showlegend": false,
         "type": "scatter3d",
         "x": [
          -1.87958312988281,
          -0.930882507324219
         ],
         "y": [
          -0.408042388916016,
          -0.349800659179688
         ],
         "z": [
          94.2843671875,
          94.8044921875
         ]
        },
        {
         "line": {
          "color": "rgb(0,0,0)",
          "width": 5
         },
         "mode": "lines",
         "showlegend": false,
         "type": "scatter3d",
         "x": [
          -0.930882507324219,
          -1.87937036132812
         ],
         "y": [
          -0.349800659179688,
          -0.40709490966796896
         ],
         "z": [
          94.8044921875,
          94.3954140625
         ]
        },
        {
         "color": "red",
         "i": [
          0
         ],
         "j": [
          1
         ],
         "k": [
          2
         ],
         "name": "16",
         "opacity": 1,
         "type": "mesh3d",
         "x": [
          -1.87894470214844,
          -1.87915747070312,
          -0.930882507324219
         ],
         "y": [
          -0.405199951171875,
          -0.406147430419922,
          -0.349800659179688
         ],
         "z": [
          94.6175,
          94.50646093750001,
          94.8044921875
         ]
        },
        {
         "line": {
          "color": "rgb(0,0,0)",
          "width": 5
         },
         "mode": "lines",
         "showlegend": false,
         "type": "scatter3d",
         "x": [
          -0.930882507324219,
          -1.87894470214844
         ],
         "y": [
          -0.349800659179688,
          -0.405199951171875
         ],
         "z": [
          94.8044921875,
          94.6175
         ]
        },
        {
         "line": {
          "color": "rgb(0,0,0)",
          "width": 5
         },
         "mode": "lines",
         "showlegend": false,
         "type": "scatter3d",
         "x": [
          -1.87894470214844,
          -1.87915747070312
         ],
         "y": [
          -0.405199951171875,
          -0.406147430419922
         ],
         "z": [
          94.6175,
          94.50646093750001
         ]
        },
        {
         "line": {
          "color": "rgb(0,0,0)",
          "width": 5
         },
         "mode": "lines",
         "showlegend": false,
         "type": "scatter3d",
         "x": [
          -1.87915747070312,
          -0.930882507324219
         ],
         "y": [
          -0.406147430419922,
          -0.349800659179688
         ],
         "z": [
          94.50646093750001,
          94.8044921875
         ]
        },
        {
         "color": "red",
         "i": [
          0
         ],
         "j": [
          1
         ],
         "k": [
          2
         ],
         "name": "17",
         "opacity": 1,
         "type": "mesh3d",
         "x": [
          -1.87873193359375,
          -1.87894470214844,
          -0.930882507324219
         ],
         "y": [
          -0.404252471923828,
          -0.405199951171875,
          -0.349800659179688
         ],
         "z": [
          94.728546875,
          94.6175,
          94.8044921875
         ]
        },
        {
         "line": {
          "color": "rgb(0,0,0)",
          "width": 5
         },
         "mode": "lines",
         "showlegend": false,
         "type": "scatter3d",
         "x": [
          -0.930882507324219,
          -1.87873193359375
         ],
         "y": [
          -0.349800659179688,
          -0.404252471923828
         ],
         "z": [
          94.8044921875,
          94.728546875
         ]
        },
        {
         "line": {
          "color": "rgb(0,0,0)",
          "width": 5
         },
         "mode": "lines",
         "showlegend": false,
         "type": "scatter3d",
         "x": [
          -1.87873193359375,
          -1.87894470214844
         ],
         "y": [
          -0.404252471923828,
          -0.405199951171875
         ],
         "z": [
          94.728546875,
          94.6175
         ]
        },
        {
         "line": {
          "color": "rgb(0,0,0)",
          "width": 5
         },
         "mode": "lines",
         "showlegend": false,
         "type": "scatter3d",
         "x": [
          -1.87894470214844,
          -0.930882507324219
         ],
         "y": [
          -0.405199951171875,
          -0.349800659179688
         ],
         "z": [
          94.6175,
          94.8044921875
         ]
        },
        {
         "color": "red",
         "i": [
          0
         ],
         "j": [
          1
         ],
         "k": [
          2
         ],
         "name": "18",
         "opacity": 1,
         "type": "mesh3d",
         "x": [
          -1.87915747070312,
          -1.87937036132812,
          -0.930882507324219
         ],
         "y": [
          -0.406147430419922,
          -0.40709490966796896,
          -0.349800659179688
         ],
         "z": [
          94.50646093750001,
          94.3954140625,
          94.8044921875
         ]
        },
        {
         "line": {
          "color": "rgb(0,0,0)",
          "width": 5
         },
         "mode": "lines",
         "showlegend": false,
         "type": "scatter3d",
         "x": [
          -0.930882507324219,
          -1.87915747070312
         ],
         "y": [
          -0.349800659179688,
          -0.406147430419922
         ],
         "z": [
          94.8044921875,
          94.50646093750001
         ]
        },
        {
         "line": {
          "color": "rgb(0,0,0)",
          "width": 5
         },
         "mode": "lines",
         "showlegend": false,
         "type": "scatter3d",
         "x": [
          -1.87915747070312,
          -1.87937036132812
         ],
         "y": [
          -0.406147430419922,
          -0.40709490966796896
         ],
         "z": [
          94.50646093750001,
          94.3954140625
         ]
        },
        {
         "line": {
          "color": "rgb(0,0,0)",
          "width": 5
         },
         "mode": "lines",
         "showlegend": false,
         "type": "scatter3d",
         "x": [
          -1.87937036132812,
          -0.930882507324219
         ],
         "y": [
          -0.40709490966796896,
          -0.349800659179688
         ],
         "z": [
          94.3954140625,
          94.8044921875
         ]
        },
        {
         "color": "red",
         "i": [
          0
         ],
         "j": [
          1
         ],
         "k": [
          2
         ],
         "name": "19",
         "opacity": 1,
         "type": "mesh3d",
         "x": [
          2.01137622070312,
          2.0442795410156203,
          2.01137622070312
         ],
         "y": [
          -0.469372924804688,
          -0.5636821899414061,
          -0.469372924804688
         ],
         "z": [
          94.59476562500001,
          94.7306875,
          94.816828125
         ]
        },
        {
         "line": {
          "color": "rgb(0,0,0)",
          "width": 5
         },
         "mode": "lines",
         "showlegend": false,
         "type": "scatter3d",
         "x": [
          2.01137622070312,
          2.01137622070312
         ],
         "y": [
          -0.469372924804688,
          -0.469372924804688
         ],
         "z": [
          94.816828125,
          94.59476562500001
         ]
        },
        {
         "line": {
          "color": "rgb(0,0,0)",
          "width": 5
         },
         "mode": "lines",
         "showlegend": false,
         "type": "scatter3d",
         "x": [
          2.01137622070312,
          2.0442795410156203
         ],
         "y": [
          -0.469372924804688,
          -0.5636821899414061
         ],
         "z": [
          94.59476562500001,
          94.7306875
         ]
        },
        {
         "line": {
          "color": "rgb(0,0,0)",
          "width": 5
         },
         "mode": "lines",
         "showlegend": false,
         "type": "scatter3d",
         "x": [
          2.0442795410156203,
          2.01137622070312
         ],
         "y": [
          -0.5636821899414061,
          -0.469372924804688
         ],
         "z": [
          94.7306875,
          94.816828125
         ]
        },
        {
         "color": "red",
         "i": [
          0
         ],
         "j": [
          1
         ],
         "k": [
          2
         ],
         "name": "20",
         "opacity": 1,
         "type": "mesh3d",
         "x": [
          1.9455693359375001,
          1.97847277832031,
          1.94767163085938
         ],
         "y": [
          -0.28075439453125,
          -0.375063659667969,
          -0.286780181884766
         ],
         "z": [
          94.8124375,
          94.81463281250001,
          95.03059375000001
         ]
        },
        {
         "line": {
          "color": "rgb(0,0,0)",
          "width": 5
         },
         "mode": "lines",
         "showlegend": false,
         "type": "scatter3d",
         "x": [
          1.94767163085938,
          1.9455693359375001
         ],
         "y": [
          -0.286780181884766,
          -0.28075439453125
         ],
         "z": [
          95.03059375000001,
          94.8124375
         ]
        },
        {
         "line": {
          "color": "rgb(0,0,0)",
          "width": 5
         },
         "mode": "lines",
         "showlegend": false,
         "type": "scatter3d",
         "x": [
          1.9455693359375001,
          1.97847277832031
         ],
         "y": [
          -0.28075439453125,
          -0.375063659667969
         ],
         "z": [
          94.8124375,
          94.81463281250001
         ]
        },
        {
         "line": {
          "color": "rgb(0,0,0)",
          "width": 5
         },
         "mode": "lines",
         "showlegend": false,
         "type": "scatter3d",
         "x": [
          1.97847277832031,
          1.94767163085938
         ],
         "y": [
          -0.375063659667969,
          -0.286780181884766
         ],
         "z": [
          94.81463281250001,
          95.03059375000001
         ]
        },
        {
         "color": "red",
         "i": [
          0
         ],
         "j": [
          1
         ],
         "k": [
          2
         ],
         "name": "21",
         "opacity": 1,
         "type": "mesh3d",
         "x": [
          1.94767163085938,
          1.91266589355469,
          1.91298583984375
         ],
         "y": [
          -0.286780181884766,
          -0.186445144653306,
          -0.187362106323242
         ],
         "z": [
          95.03059375000001,
          95.0323125,
          94.921296875
         ]
        },
        {
         "line": {
          "color": "rgb(0,0,0)",
          "width": 5
         },
         "mode": "lines",
         "showlegend": false,
         "type": "scatter3d",
         "x": [
          1.91298583984375,
          1.94767163085938
         ],
         "y": [
          -0.187362106323242,
          -0.286780181884766
         ],
         "z": [
          94.921296875,
          95.03059375000001
         ]
        },
        {
         "line": {
          "color": "rgb(0,0,0)",
          "width": 5
         },
         "mode": "lines",
         "showlegend": false,
         "type": "scatter3d",
         "x": [
          1.94767163085938,
          1.91266589355469
         ],
         "y": [
          -0.286780181884766,
          -0.186445144653306
         ],
         "z": [
          95.03059375000001,
          95.0323125
         ]
        },
        {
         "line": {
          "color": "rgb(0,0,0)",
          "width": 5
         },
         "mode": "lines",
         "showlegend": false,
         "type": "scatter3d",
         "x": [
          1.91266589355469,
          1.91298583984375
         ],
         "y": [
          -0.186445144653306,
          -0.187362106323242
         ],
         "z": [
          95.0323125,
          94.921296875
         ]
        },
        {
         "color": "red",
         "i": [
          0
         ],
         "j": [
          1
         ],
         "k": [
          2
         ],
         "name": "22",
         "opacity": 1,
         "type": "mesh3d",
         "x": [
          1.91298583984375,
          1.9455693359375001,
          1.94767163085938
         ],
         "y": [
          -0.187362106323242,
          -0.28075439453125,
          -0.286780181884766
         ],
         "z": [
          94.921296875,
          94.8124375,
          95.03059375000001
         ]
        },
        {
         "line": {
          "color": "rgb(0,0,0)",
          "width": 5
         },
         "mode": "lines",
         "showlegend": false,
         "type": "scatter3d",
         "x": [
          1.94767163085938,
          1.91298583984375
         ],
         "y": [
          -0.286780181884766,
          -0.187362106323242
         ],
         "z": [
          95.03059375000001,
          94.921296875
         ]
        },
        {
         "line": {
          "color": "rgb(0,0,0)",
          "width": 5
         },
         "mode": "lines",
         "showlegend": false,
         "type": "scatter3d",
         "x": [
          1.91298583984375,
          1.9455693359375001
         ],
         "y": [
          -0.187362106323242,
          -0.28075439453125
         ],
         "z": [
          94.921296875,
          94.8124375
         ]
        },
        {
         "line": {
          "color": "rgb(0,0,0)",
          "width": 5
         },
         "mode": "lines",
         "showlegend": false,
         "type": "scatter3d",
         "x": [
          1.9455693359375001,
          1.94767163085938
         ],
         "y": [
          -0.28075439453125,
          -0.286780181884766
         ],
         "z": [
          94.8124375,
          95.03059375000001
         ]
        },
        {
         "color": "red",
         "i": [
          0
         ],
         "j": [
          1
         ],
         "k": [
          2
         ],
         "name": "23",
         "opacity": 1,
         "type": "mesh3d",
         "x": [
          1.91330578613281,
          1.9455693359375001,
          1.91298583984375
         ],
         "y": [
          -0.188279052734375,
          -0.28075439453125,
          -0.187362106323242
         ],
         "z": [
          94.8102890625,
          94.8124375,
          94.921296875
         ]
        },
        {
         "line": {
          "color": "rgb(0,0,0)",
          "width": 5
         },
         "mode": "lines",
         "showlegend": false,
         "type": "scatter3d",
         "x": [
          1.91298583984375,
          1.91330578613281
         ],
         "y": [
          -0.187362106323242,
          -0.188279052734375
         ],
         "z": [
          94.921296875,
          94.8102890625
         ]
        },
        {
         "line": {
          "color": "rgb(0,0,0)",
          "width": 5
         },
         "mode": "lines",
         "showlegend": false,
         "type": "scatter3d",
         "x": [
          1.91330578613281,
          1.9455693359375001
         ],
         "y": [
          -0.188279052734375,
          -0.28075439453125
         ],
         "z": [
          94.8102890625,
          94.8124375
         ]
        },
        {
         "line": {
          "color": "rgb(0,0,0)",
          "width": 5
         },
         "mode": "lines",
         "showlegend": false,
         "type": "scatter3d",
         "x": [
          1.9455693359375001,
          1.91298583984375
         ],
         "y": [
          -0.28075439453125,
          -0.187362106323242
         ],
         "z": [
          94.8124375,
          94.921296875
         ]
        },
        {
         "color": "red",
         "i": [
          0
         ],
         "j": [
          1
         ],
         "k": [
          2
         ],
         "name": "24",
         "opacity": 1,
         "type": "mesh3d",
         "x": [
          1.91426550292969,
          1.9455693359375001,
          1.91394555664062
         ],
         "y": [
          -0.191029922485352,
          -0.28075439453125,
          -0.19011296081543
         ],
         "z": [
          94.47725,
          94.59037500000001,
          94.588265625
         ]
        },
        {
         "line": {
          "color": "rgb(0,0,0)",
          "width": 5
         },
         "mode": "lines",
         "showlegend": false,
         "type": "scatter3d",
         "x": [
          1.91394555664062,
          1.91426550292969
         ],
         "y": [
          -0.19011296081543,
          -0.191029922485352
         ],
         "z": [
          94.588265625,
          94.47725
         ]
        },
        {
         "line": {
          "color": "rgb(0,0,0)",
          "width": 5
         },
         "mode": "lines",
         "showlegend": false,
         "type": "scatter3d",
         "x": [
          1.91426550292969,
          1.9455693359375001
         ],
         "y": [
          -0.191029922485352,
          -0.28075439453125
         ],
         "z": [
          94.47725,
          94.59037500000001
         ]
        },
        {
         "line": {
          "color": "rgb(0,0,0)",
          "width": 5
         },
         "mode": "lines",
         "showlegend": false,
         "type": "scatter3d",
         "x": [
          1.9455693359375001,
          1.91394555664062
         ],
         "y": [
          -0.28075439453125,
          -0.19011296081543
         ],
         "z": [
          94.59037500000001,
          94.588265625
         ]
        },
        {
         "color": "red",
         "i": [
          0
         ],
         "j": [
          1
         ],
         "k": [
          2
         ],
         "name": "25",
         "opacity": 1,
         "type": "mesh3d",
         "x": [
          1.91362573242188,
          1.9455693359375001,
          1.91330578613281
         ],
         "y": [
          -0.18919601440429698,
          -0.28075439453125,
          -0.188279052734375
         ],
         "z": [
          94.6992734375,
          94.8124375,
          94.8102890625
         ]
        },
        {
         "line": {
          "color": "rgb(0,0,0)",
          "width": 5
         },
         "mode": "lines",
         "showlegend": false,
         "type": "scatter3d",
         "x": [
          1.91330578613281,
          1.91362573242188
         ],
         "y": [
          -0.188279052734375,
          -0.18919601440429698
         ],
         "z": [
          94.8102890625,
          94.6992734375
         ]
        },
        {
         "line": {
          "color": "rgb(0,0,0)",
          "width": 5
         },
         "mode": "lines",
         "showlegend": false,
         "type": "scatter3d",
         "x": [
          1.91362573242188,
          1.9455693359375001
         ],
         "y": [
          -0.18919601440429698,
          -0.28075439453125
         ],
         "z": [
          94.6992734375,
          94.8124375
         ]
        },
        {
         "line": {
          "color": "rgb(0,0,0)",
          "width": 5
         },
         "mode": "lines",
         "showlegend": false,
         "type": "scatter3d",
         "x": [
          1.9455693359375001,
          1.91330578613281
         ],
         "y": [
          -0.28075439453125,
          -0.188279052734375
         ],
         "z": [
          94.8124375,
          94.8102890625
         ]
        },
        {
         "color": "red",
         "i": [
          0
         ],
         "j": [
          1
         ],
         "k": [
          2
         ],
         "name": "26",
         "opacity": 1,
         "type": "mesh3d",
         "x": [
          1.91362573242188,
          1.91394555664062,
          1.9455693359375001
         ],
         "y": [
          -0.18919601440429698,
          -0.19011296081543,
          -0.28075439453125
         ],
         "z": [
          94.6992734375,
          94.588265625,
          94.59037500000001
         ]
        },
        {
         "line": {
          "color": "rgb(0,0,0)",
          "width": 5
         },
         "mode": "lines",
         "showlegend": false,
         "type": "scatter3d",
         "x": [
          1.9455693359375001,
          1.91362573242188
         ],
         "y": [
          -0.28075439453125,
          -0.18919601440429698
         ],
         "z": [
          94.59037500000001,
          94.6992734375
         ]
        },
        {
         "line": {
          "color": "rgb(0,0,0)",
          "width": 5
         },
         "mode": "lines",
         "showlegend": false,
         "type": "scatter3d",
         "x": [
          1.91362573242188,
          1.91394555664062
         ],
         "y": [
          -0.18919601440429698,
          -0.19011296081543
         ],
         "z": [
          94.6992734375,
          94.588265625
         ]
        },
        {
         "line": {
          "color": "rgb(0,0,0)",
          "width": 5
         },
         "mode": "lines",
         "showlegend": false,
         "type": "scatter3d",
         "x": [
          1.91394555664062,
          1.9455693359375001
         ],
         "y": [
          -0.19011296081543,
          -0.28075439453125
         ],
         "z": [
          94.588265625,
          94.59037500000001
         ]
        },
        {
         "color": "red",
         "i": [
          0
         ],
         "j": [
          1
         ],
         "k": [
          2
         ],
         "name": "27",
         "opacity": 1,
         "type": "mesh3d",
         "x": [
          1.91362573242188,
          1.9455693359375001,
          1.9455693359375001
         ],
         "y": [
          -0.18919601440429698,
          -0.28075439453125,
          -0.28075439453125
         ],
         "z": [
          94.6992734375,
          94.59037500000001,
          94.8124375
         ]
        },
        {
         "line": {
          "color": "rgb(0,0,0)",
          "width": 5
         },
         "mode": "lines",
         "showlegend": false,
         "type": "scatter3d",
         "x": [
          1.9455693359375001,
          1.91362573242188
         ],
         "y": [
          -0.28075439453125,
          -0.18919601440429698
         ],
         "z": [
          94.8124375,
          94.6992734375
         ]
        },
        {
         "line": {
          "color": "rgb(0,0,0)",
          "width": 5
         },
         "mode": "lines",
         "showlegend": false,
         "type": "scatter3d",
         "x": [
          1.91362573242188,
          1.9455693359375001
         ],
         "y": [
          -0.18919601440429698,
          -0.28075439453125
         ],
         "z": [
          94.6992734375,
          94.59037500000001
         ]
        },
        {
         "line": {
          "color": "rgb(0,0,0)",
          "width": 5
         },
         "mode": "lines",
         "showlegend": false,
         "type": "scatter3d",
         "x": [
          1.9455693359375001,
          1.9455693359375001
         ],
         "y": [
          -0.28075439453125,
          -0.28075439453125
         ],
         "z": [
          94.59037500000001,
          94.8124375
         ]
        },
        {
         "color": "red",
         "i": [
          0
         ],
         "j": [
          1
         ],
         "k": [
          2
         ],
         "name": "28",
         "opacity": 1,
         "type": "mesh3d",
         "x": [
          1.97847277832031,
          1.98267761230469,
          1.94767163085938
         ],
         "y": [
          -0.375063659667969,
          -0.387115692138672,
          -0.286780181884766
         ],
         "z": [
          94.81463281250001,
          95.02891406250001,
          95.03059375000001
         ]
        },
        {
         "line": {
          "color": "rgb(0,0,0)",
          "width": 5
         },
         "mode": "lines",
         "showlegend": false,
         "type": "scatter3d",
         "x": [
          1.94767163085938,
          1.97847277832031
         ],
         "y": [
          -0.286780181884766,
          -0.375063659667969
         ],
         "z": [
          95.03059375000001,
          94.81463281250001
         ]
        },
        {
         "line": {
          "color": "rgb(0,0,0)",
          "width": 5
         },
         "mode": "lines",
         "showlegend": false,
         "type": "scatter3d",
         "x": [
          1.97847277832031,
          1.98267761230469
         ],
         "y": [
          -0.375063659667969,
          -0.387115692138672
         ],
         "z": [
          94.81463281250001,
          95.02891406250001
         ]
        },
        {
         "line": {
          "color": "rgb(0,0,0)",
          "width": 5
         },
         "mode": "lines",
         "showlegend": false,
         "type": "scatter3d",
         "x": [
          1.98267761230469,
          1.94767163085938
         ],
         "y": [
          -0.387115692138672,
          -0.286780181884766
         ],
         "z": [
          95.02891406250001,
          95.03059375000001
         ]
        },
        {
         "color": "red",
         "i": [
          0
         ],
         "j": [
          1
         ],
         "k": [
          2
         ],
         "name": "29",
         "opacity": 1,
         "type": "mesh3d",
         "x": [
          2.03227319335938,
          2.01137622070312,
          2.0442795410156203
         ],
         "y": [
          -0.529268981933594,
          -0.469372924804688,
          -0.5636821899414061
         ],
         "z": [
          94.9511484375,
          94.816828125,
          94.87515625
         ]
        },
        {
         "line": {
          "color": "rgb(0,0,0)",
          "width": 5
         },
         "mode": "lines",
         "showlegend": false,
         "type": "scatter3d",
         "x": [
          2.0442795410156203,
          2.03227319335938
         ],
         "y": [
          -0.5636821899414061,
          -0.529268981933594
         ],
         "z": [
          94.87515625,
          94.9511484375
         ]
        },
        {
         "line": {
          "color": "rgb(0,0,0)",
          "width": 5
         },
         "mode": "lines",
         "showlegend": false,
         "type": "scatter3d",
         "x": [
          2.03227319335938,
          2.01137622070312
         ],
         "y": [
          -0.529268981933594,
          -0.469372924804688
         ],
         "z": [
          94.9511484375,
          94.816828125
         ]
        },
        {
         "line": {
          "color": "rgb(0,0,0)",
          "width": 5
         },
         "mode": "lines",
         "showlegend": false,
         "type": "scatter3d",
         "x": [
          2.01137622070312,
          2.0442795410156203
         ],
         "y": [
          -0.469372924804688,
          -0.5636821899414061
         ],
         "z": [
          94.816828125,
          94.87515625
         ]
        },
        {
         "color": "red",
         "i": [
          0
         ],
         "j": [
          1
         ],
         "k": [
          2
         ],
         "name": "30",
         "opacity": 1,
         "type": "mesh3d",
         "x": [
          2.02026684570312,
          1.98267761230469,
          2.01137622070312
         ],
         "y": [
          -0.49485574340820304,
          -0.387115692138672,
          -0.469372924804688
         ],
         "z": [
          95.0271484375,
          95.02891406250001,
          94.816828125
         ]
        },
        {
         "line": {
          "color": "rgb(0,0,0)",
          "width": 5
         },
         "mode": "lines",
         "showlegend": false,
         "type": "scatter3d",
         "x": [
          2.01137622070312,
          2.02026684570312
         ],
         "y": [
          -0.469372924804688,
          -0.49485574340820304
         ],
         "z": [
          94.816828125,
          95.0271484375
         ]
        },
        {
         "line": {
          "color": "rgb(0,0,0)",
          "width": 5
         },
         "mode": "lines",
         "showlegend": false,
         "type": "scatter3d",
         "x": [
          2.02026684570312,
          1.98267761230469
         ],
         "y": [
          -0.49485574340820304,
          -0.387115692138672
         ],
         "z": [
          95.0271484375,
          95.02891406250001
         ]
        },
        {
         "line": {
          "color": "rgb(0,0,0)",
          "width": 5
         },
         "mode": "lines",
         "showlegend": false,
         "type": "scatter3d",
         "x": [
          1.98267761230469,
          2.01137622070312
         ],
         "y": [
          -0.387115692138672,
          -0.469372924804688
         ],
         "z": [
          95.02891406250001,
          94.816828125
         ]
        },
        {
         "color": "red",
         "i": [
          0
         ],
         "j": [
          1
         ],
         "k": [
          2
         ],
         "name": "31",
         "opacity": 1,
         "type": "mesh3d",
         "x": [
          2.01137622070312,
          2.03227319335938,
          2.02026684570312
         ],
         "y": [
          -0.469372924804688,
          -0.529268981933594,
          -0.49485574340820304
         ],
         "z": [
          94.816828125,
          94.9511484375,
          95.0271484375
         ]
        },
        {
         "line": {
          "color": "rgb(0,0,0)",
          "width": 5
         },
         "mode": "lines",
         "showlegend": false,
         "type": "scatter3d",
         "x": [
          2.02026684570312,
          2.01137622070312
         ],
         "y": [
          -0.49485574340820304,
          -0.469372924804688
         ],
         "z": [
          95.0271484375,
          94.816828125
         ]
        },
        {
         "line": {
          "color": "rgb(0,0,0)",
          "width": 5
         },
         "mode": "lines",
         "showlegend": false,
         "type": "scatter3d",
         "x": [
          2.01137622070312,
          2.03227319335938
         ],
         "y": [
          -0.469372924804688,
          -0.529268981933594
         ],
         "z": [
          94.816828125,
          94.9511484375
         ]
        },
        {
         "line": {
          "color": "rgb(0,0,0)",
          "width": 5
         },
         "mode": "lines",
         "showlegend": false,
         "type": "scatter3d",
         "x": [
          2.03227319335938,
          2.02026684570312
         ],
         "y": [
          -0.529268981933594,
          -0.49485574340820304
         ],
         "z": [
          94.9511484375,
          95.0271484375
         ]
        },
        {
         "color": "red",
         "i": [
          0
         ],
         "j": [
          1
         ],
         "k": [
          2
         ],
         "name": "32",
         "opacity": 1,
         "type": "mesh3d",
         "x": [
          1.98267761230469,
          1.97847277832031,
          2.01137622070312
         ],
         "y": [
          -0.387115692138672,
          -0.375063659667969,
          -0.469372924804688
         ],
         "z": [
          95.02891406250001,
          94.81463281250001,
          94.816828125
         ]
        },
        {
         "line": {
          "color": "rgb(0,0,0)",
          "width": 5
         },
         "mode": "lines",
         "showlegend": false,
         "type": "scatter3d",
         "x": [
          2.01137622070312,
          1.98267761230469
         ],
         "y": [
          -0.469372924804688,
          -0.387115692138672
         ],
         "z": [
          94.816828125,
          95.02891406250001
         ]
        },
        {
         "line": {
          "color": "rgb(0,0,0)",
          "width": 5
         },
         "mode": "lines",
         "showlegend": false,
         "type": "scatter3d",
         "x": [
          1.98267761230469,
          1.97847277832031
         ],
         "y": [
          -0.387115692138672,
          -0.375063659667969
         ],
         "z": [
          95.02891406250001,
          94.81463281250001
         ]
        },
        {
         "line": {
          "color": "rgb(0,0,0)",
          "width": 5
         },
         "mode": "lines",
         "showlegend": false,
         "type": "scatter3d",
         "x": [
          1.97847277832031,
          2.01137622070312
         ],
         "y": [
          -0.375063659667969,
          -0.469372924804688
         ],
         "z": [
          94.81463281250001,
          94.816828125
         ]
        },
        {
         "color": "red",
         "i": [
          0
         ],
         "j": [
          1
         ],
         "k": [
          2
         ],
         "name": "33",
         "opacity": 1,
         "type": "mesh3d",
         "x": [
          2.0442795410156203,
          2.0442795410156203,
          2.01137622070312
         ],
         "y": [
          -0.5636821899414061,
          -0.5636821899414061,
          -0.469372924804688
         ],
         "z": [
          94.7306875,
          94.87515625,
          94.816828125
         ]
        },
        {
         "line": {
          "color": "rgb(0,0,0)",
          "width": 5
         },
         "mode": "lines",
         "showlegend": false,
         "type": "scatter3d",
         "x": [
          2.01137622070312,
          2.0442795410156203
         ],
         "y": [
          -0.469372924804688,
          -0.5636821899414061
         ],
         "z": [
          94.816828125,
          94.7306875
         ]
        },
        {
         "line": {
          "color": "rgb(0,0,0)",
          "width": 5
         },
         "mode": "lines",
         "showlegend": false,
         "type": "scatter3d",
         "x": [
          2.0442795410156203,
          2.0442795410156203
         ],
         "y": [
          -0.5636821899414061,
          -0.5636821899414061
         ],
         "z": [
          94.7306875,
          94.87515625
         ]
        },
        {
         "line": {
          "color": "rgb(0,0,0)",
          "width": 5
         },
         "mode": "lines",
         "showlegend": false,
         "type": "scatter3d",
         "x": [
          2.0442795410156203,
          2.01137622070312
         ],
         "y": [
          -0.5636821899414061,
          -0.469372924804688
         ],
         "z": [
          94.87515625,
          94.816828125
         ]
        },
        {
         "color": "red",
         "i": [
          0
         ],
         "j": [
          1
         ],
         "k": [
          2
         ],
         "name": "34",
         "opacity": 1,
         "type": "mesh3d",
         "x": [
          1.91426550292969,
          1.9455693359375001,
          1.9455693359375001
         ],
         "y": [
          -0.191029922485352,
          -0.28075439453125,
          -0.28075439453125
         ],
         "z": [
          94.47725,
          94.3683046875,
          94.59037500000001
         ]
        },
        {
         "line": {
          "color": "rgb(0,0,0)",
          "width": 5
         },
         "mode": "lines",
         "showlegend": false,
         "type": "scatter3d",
         "x": [
          1.9455693359375001,
          1.91426550292969
         ],
         "y": [
          -0.28075439453125,
          -0.191029922485352
         ],
         "z": [
          94.59037500000001,
          94.47725
         ]
        },
        {
         "line": {
          "color": "rgb(0,0,0)",
          "width": 5
         },
         "mode": "lines",
         "showlegend": false,
         "type": "scatter3d",
         "x": [
          1.91426550292969,
          1.9455693359375001
         ],
         "y": [
          -0.191029922485352,
          -0.28075439453125
         ],
         "z": [
          94.47725,
          94.3683046875
         ]
        },
        {
         "line": {
          "color": "rgb(0,0,0)",
          "width": 5
         },
         "mode": "lines",
         "showlegend": false,
         "type": "scatter3d",
         "x": [
          1.9455693359375001,
          1.9455693359375001
         ],
         "y": [
          -0.28075439453125,
          -0.28075439453125
         ],
         "z": [
          94.3683046875,
          94.59037500000001
         ]
        },
        {
         "color": "red",
         "i": [
          0
         ],
         "j": [
          1
         ],
         "k": [
          2
         ],
         "name": "35",
         "opacity": 1,
         "type": "mesh3d",
         "x": [
          1.91426550292969,
          1.91458544921875,
          1.9455693359375001
         ],
         "y": [
          -0.191029922485352,
          -0.19194686889648402,
          -0.28075439453125
         ],
         "z": [
          94.47725,
          94.3662421875,
          94.3683046875
         ]
        },
        {
         "line": {
          "color": "rgb(0,0,0)",
          "width": 5
         },
         "mode": "lines",
         "showlegend": false,
         "type": "scatter3d",
         "x": [
          1.9455693359375001,
          1.91426550292969
         ],
         "y": [
          -0.28075439453125,
          -0.191029922485352
         ],
         "z": [
          94.3683046875,
          94.47725
         ]
        },
        {
         "line": {
          "color": "rgb(0,0,0)",
          "width": 5
         },
         "mode": "lines",
         "showlegend": false,
         "type": "scatter3d",
         "x": [
          1.91426550292969,
          1.91458544921875
         ],
         "y": [
          -0.191029922485352,
          -0.19194686889648402
         ],
         "z": [
          94.47725,
          94.3662421875
         ]
        },
        {
         "line": {
          "color": "rgb(0,0,0)",
          "width": 5
         },
         "mode": "lines",
         "showlegend": false,
         "type": "scatter3d",
         "x": [
          1.91458544921875,
          1.9455693359375001
         ],
         "y": [
          -0.19194686889648402,
          -0.28075439453125
         ],
         "z": [
          94.3662421875,
          94.3683046875
         ]
        },
        {
         "color": "red",
         "i": [
          0
         ],
         "j": [
          1
         ],
         "k": [
          2
         ],
         "name": "36",
         "opacity": 1,
         "type": "mesh3d",
         "x": [
          1.9149053955078101,
          1.9455693359375001,
          1.91458544921875
         ],
         "y": [
          -0.19286381530761698,
          -0.28075439453125,
          -0.19194686889648402
         ],
         "z": [
          94.2552265625,
          94.3683046875,
          94.3662421875
         ]
        },
        {
         "line": {
          "color": "rgb(0,0,0)",
          "width": 5
         },
         "mode": "lines",
         "showlegend": false,
         "type": "scatter3d",
         "x": [
          1.91458544921875,
          1.9149053955078101
         ],
         "y": [
          -0.19194686889648402,
          -0.19286381530761698
         ],
         "z": [
          94.3662421875,
          94.2552265625
         ]
        },
        {
         "line": {
          "color": "rgb(0,0,0)",
          "width": 5
         },
         "mode": "lines",
         "showlegend": false,
         "type": "scatter3d",
         "x": [
          1.9149053955078101,
          1.9455693359375001
         ],
         "y": [
          -0.19286381530761698,
          -0.28075439453125
         ],
         "z": [
          94.2552265625,
          94.3683046875
         ]
        },
        {
         "line": {
          "color": "rgb(0,0,0)",
          "width": 5
         },
         "mode": "lines",
         "showlegend": false,
         "type": "scatter3d",
         "x": [
          1.9455693359375001,
          1.91458544921875
         ],
         "y": [
          -0.28075439453125,
          -0.19194686889648402
         ],
         "z": [
          94.3683046875,
          94.3662421875
         ]
        },
        {
         "color": "red",
         "i": [
          0
         ],
         "j": [
          1
         ],
         "k": [
          2
         ],
         "name": "37",
         "opacity": 1,
         "type": "mesh3d",
         "x": [
          1.9455693359375001,
          1.91522521972656,
          1.97847277832031
         ],
         "y": [
          -0.28075439453125,
          -0.19378077697753202,
          -0.375063659667969
         ],
         "z": [
          94.3683046875,
          94.14421875000001,
          94.1484375
         ]
        },
        {
         "line": {
          "color": "rgb(0,0,0)",
          "width": 5
         },
         "mode": "lines",
         "showlegend": false,
         "type": "scatter3d",
         "x": [
          1.97847277832031,
          1.9455693359375001
         ],
         "y": [
          -0.375063659667969,
          -0.28075439453125
         ],
         "z": [
          94.1484375,
          94.3683046875
         ]
        },
        {
         "line": {
          "color": "rgb(0,0,0)",
          "width": 5
         },
         "mode": "lines",
         "showlegend": false,
         "type": "scatter3d",
         "x": [
          1.9455693359375001,
          1.91522521972656
         ],
         "y": [
          -0.28075439453125,
          -0.19378077697753202
         ],
         "z": [
          94.3683046875,
          94.14421875000001
         ]
        },
        {
         "line": {
          "color": "rgb(0,0,0)",
          "width": 5
         },
         "mode": "lines",
         "showlegend": false,
         "type": "scatter3d",
         "x": [
          1.91522521972656,
          1.97847277832031
         ],
         "y": [
          -0.19378077697753202,
          -0.375063659667969
         ],
         "z": [
          94.14421875000001,
          94.1484375
         ]
        },
        {
         "color": "red",
         "i": [
          0
         ],
         "j": [
          1
         ],
         "k": [
          2
         ],
         "name": "38",
         "opacity": 1,
         "type": "mesh3d",
         "x": [
          1.97847277832031,
          1.9455693359375001,
          1.97847277832031
         ],
         "y": [
          -0.375063659667969,
          -0.28075439453125,
          -0.375063659667969
         ],
         "z": [
          94.3705,
          94.3683046875,
          94.1484375
         ]
        },
        {
         "line": {
          "color": "rgb(0,0,0)",
          "width": 5
         },
         "mode": "lines",
         "showlegend": false,
         "type": "scatter3d",
         "x": [
          1.97847277832031,
          1.97847277832031
         ],
         "y": [
          -0.375063659667969,
          -0.375063659667969
         ],
         "z": [
          94.1484375,
          94.3705
         ]
        },
        {
         "line": {
          "color": "rgb(0,0,0)",
          "width": 5
         },
         "mode": "lines",
         "showlegend": false,
         "type": "scatter3d",
         "x": [
          1.97847277832031,
          1.9455693359375001
         ],
         "y": [
          -0.375063659667969,
          -0.28075439453125
         ],
         "z": [
          94.3705,
          94.3683046875
         ]
        },
        {
         "line": {
          "color": "rgb(0,0,0)",
          "width": 5
         },
         "mode": "lines",
         "showlegend": false,
         "type": "scatter3d",
         "x": [
          1.9455693359375001,
          1.97847277832031
         ],
         "y": [
          -0.28075439453125,
          -0.375063659667969
         ],
         "z": [
          94.3683046875,
          94.1484375
         ]
        },
        {
         "color": "red",
         "i": [
          0
         ],
         "j": [
          1
         ],
         "k": [
          2
         ],
         "name": "39",
         "opacity": 1,
         "type": "mesh3d",
         "x": [
          1.9455693359375001,
          1.9149053955078101,
          1.91522521972656
         ],
         "y": [
          -0.28075439453125,
          -0.19286381530761698,
          -0.19378077697753202
         ],
         "z": [
          94.3683046875,
          94.2552265625,
          94.14421875000001
         ]
        },
        {
         "line": {
          "color": "rgb(0,0,0)",
          "width": 5
         },
         "mode": "lines",
         "showlegend": false,
         "type": "scatter3d",
         "x": [
          1.91522521972656,
          1.9455693359375001
         ],
         "y": [
          -0.19378077697753202,
          -0.28075439453125
         ],
         "z": [
          94.14421875000001,
          94.3683046875
         ]
        },
        {
         "line": {
          "color": "rgb(0,0,0)",
          "width": 5
         },
         "mode": "lines",
         "showlegend": false,
         "type": "scatter3d",
         "x": [
          1.9455693359375001,
          1.9149053955078101
         ],
         "y": [
          -0.28075439453125,
          -0.19286381530761698
         ],
         "z": [
          94.3683046875,
          94.2552265625
         ]
        },
        {
         "line": {
          "color": "rgb(0,0,0)",
          "width": 5
         },
         "mode": "lines",
         "showlegend": false,
         "type": "scatter3d",
         "x": [
          1.9149053955078101,
          1.91522521972656
         ],
         "y": [
          -0.19286381530761698,
          -0.19378077697753202
         ],
         "z": [
          94.2552265625,
          94.14421875000001
         ]
        },
        {
         "color": "red",
         "i": [
          0
         ],
         "j": [
          1
         ],
         "k": [
          2
         ],
         "name": "40",
         "opacity": 1,
         "type": "mesh3d",
         "x": [
          1.97847277832031,
          1.97847277832031,
          2.01137622070312
         ],
         "y": [
          -0.375063659667969,
          -0.375063659667969,
          -0.469372924804688
         ],
         "z": [
          94.3705,
          94.1484375,
          94.1506328125
         ]
        },
        {
         "line": {
          "color": "rgb(0,0,0)",
          "width": 5
         },
         "mode": "lines",
         "showlegend": false,
         "type": "scatter3d",
         "x": [
          2.01137622070312,
          1.97847277832031
         ],
         "y": [
          -0.469372924804688,
          -0.375063659667969
         ],
         "z": [
          94.1506328125,
          94.3705
         ]
        },
        {
         "line": {
          "color": "rgb(0,0,0)",
          "width": 5
         },
         "mode": "lines",
         "showlegend": false,
         "type": "scatter3d",
         "x": [
          1.97847277832031,
          1.97847277832031
         ],
         "y": [
          -0.375063659667969,
          -0.375063659667969
         ],
         "z": [
          94.3705,
          94.1484375
         ]
        },
        {
         "line": {
          "color": "rgb(0,0,0)",
          "width": 5
         },
         "mode": "lines",
         "showlegend": false,
         "type": "scatter3d",
         "x": [
          1.97847277832031,
          2.01137622070312
         ],
         "y": [
          -0.375063659667969,
          -0.469372924804688
         ],
         "z": [
          94.1484375,
          94.1506328125
         ]
        },
        {
         "color": "red",
         "i": [
          0
         ],
         "j": [
          1
         ],
         "k": [
          2
         ],
         "name": "41",
         "opacity": 1,
         "type": "mesh3d",
         "x": [
          2.01137622070312,
          1.97847277832031,
          2.01137622070312
         ],
         "y": [
          -0.469372924804688,
          -0.375063659667969,
          -0.469372924804688
         ],
         "z": [
          94.3726953125,
          94.3705,
          94.1506328125
         ]
        },
        {
         "line": {
          "color": "rgb(0,0,0)",
          "width": 5
         },
         "mode": "lines",
         "showlegend": false,
         "type": "scatter3d",
         "x": [
          2.01137622070312,
          2.01137622070312
         ],
         "y": [
          -0.469372924804688,
          -0.469372924804688
         ],
         "z": [
          94.1506328125,
          94.3726953125
         ]
        },
        {
         "line": {
          "color": "rgb(0,0,0)",
          "width": 5
         },
         "mode": "lines",
         "showlegend": false,
         "type": "scatter3d",
         "x": [
          2.01137622070312,
          1.97847277832031
         ],
         "y": [
          -0.469372924804688,
          -0.375063659667969
         ],
         "z": [
          94.3726953125,
          94.3705
         ]
        },
        {
         "line": {
          "color": "rgb(0,0,0)",
          "width": 5
         },
         "mode": "lines",
         "showlegend": false,
         "type": "scatter3d",
         "x": [
          1.97847277832031,
          2.01137622070312
         ],
         "y": [
          -0.375063659667969,
          -0.469372924804688
         ],
         "z": [
          94.3705,
          94.1506328125
         ]
        },
        {
         "color": "red",
         "i": [
          0
         ],
         "j": [
          1
         ],
         "k": [
          2
         ],
         "name": "42",
         "opacity": 1,
         "type": "mesh3d",
         "x": [
          2.0442795410156203,
          2.01137622070312,
          2.0442795410156203
         ],
         "y": [
          -0.5636821899414061,
          -0.469372924804688,
          -0.5636821899414061
         ],
         "z": [
          94.4417578125,
          94.3726953125,
          94.2972890625
         ]
        },
        {
         "line": {
          "color": "rgb(0,0,0)",
          "width": 5
         },
         "mode": "lines",
         "showlegend": false,
         "type": "scatter3d",
         "x": [
          2.0442795410156203,
          2.0442795410156203
         ],
         "y": [
          -0.5636821899414061,
          -0.5636821899414061
         ],
         "z": [
          94.2972890625,
          94.4417578125
         ]
        },
        {
         "line": {
          "color": "rgb(0,0,0)",
          "width": 5
         },
         "mode": "lines",
         "showlegend": false,
         "type": "scatter3d",
         "x": [
          2.0442795410156203,
          2.01137622070312
         ],
         "y": [
          -0.5636821899414061,
          -0.469372924804688
         ],
         "z": [
          94.4417578125,
          94.3726953125
         ]
        },
        {
         "line": {
          "color": "rgb(0,0,0)",
          "width": 5
         },
         "mode": "lines",
         "showlegend": false,
         "type": "scatter3d",
         "x": [
          2.01137622070312,
          2.0442795410156203
         ],
         "y": [
          -0.469372924804688,
          -0.5636821899414061
         ],
         "z": [
          94.3726953125,
          94.2972890625
         ]
        },
        {
         "color": "red",
         "i": [
          0
         ],
         "j": [
          1
         ],
         "k": [
          2
         ],
         "name": "43",
         "opacity": 1,
         "type": "mesh3d",
         "x": [
          2.01137622070312,
          2.0442795410156203,
          2.0442795410156203
         ],
         "y": [
          -0.469372924804688,
          -0.5636821899414061,
          -0.5636821899414061
         ],
         "z": [
          94.59476562500001,
          94.5862265625,
          94.7306875
         ]
        },
        {
         "line": {
          "color": "rgb(0,0,0)",
          "width": 5
         },
         "mode": "lines",
         "showlegend": false,
         "type": "scatter3d",
         "x": [
          2.0442795410156203,
          2.01137622070312
         ],
         "y": [
          -0.5636821899414061,
          -0.469372924804688
         ],
         "z": [
          94.7306875,
          94.59476562500001
         ]
        },
        {
         "line": {
          "color": "rgb(0,0,0)",
          "width": 5
         },
         "mode": "lines",
         "showlegend": false,
         "type": "scatter3d",
         "x": [
          2.01137622070312,
          2.0442795410156203
         ],
         "y": [
          -0.469372924804688,
          -0.5636821899414061
         ],
         "z": [
          94.59476562500001,
          94.5862265625
         ]
        },
        {
         "line": {
          "color": "rgb(0,0,0)",
          "width": 5
         },
         "mode": "lines",
         "showlegend": false,
         "type": "scatter3d",
         "x": [
          2.0442795410156203,
          2.0442795410156203
         ],
         "y": [
          -0.5636821899414061,
          -0.5636821899414061
         ],
         "z": [
          94.5862265625,
          94.7306875
         ]
        },
        {
         "color": "red",
         "i": [
          0
         ],
         "j": [
          1
         ],
         "k": [
          2
         ],
         "name": "44",
         "opacity": 1,
         "type": "mesh3d",
         "x": [
          2.01137622070312,
          2.01137622070312,
          2.0442795410156203
         ],
         "y": [
          -0.469372924804688,
          -0.469372924804688,
          -0.5636821899414061
         ],
         "z": [
          94.59476562500001,
          94.3726953125,
          94.4417578125
         ]
        },
        {
         "line": {
          "color": "rgb(0,0,0)",
          "width": 5
         },
         "mode": "lines",
         "showlegend": false,
         "type": "scatter3d",
         "x": [
          2.0442795410156203,
          2.01137622070312
         ],
         "y": [
          -0.5636821899414061,
          -0.469372924804688
         ],
         "z": [
          94.4417578125,
          94.59476562500001
         ]
        },
        {
         "line": {
          "color": "rgb(0,0,0)",
          "width": 5
         },
         "mode": "lines",
         "showlegend": false,
         "type": "scatter3d",
         "x": [
          2.01137622070312,
          2.01137622070312
         ],
         "y": [
          -0.469372924804688,
          -0.469372924804688
         ],
         "z": [
          94.59476562500001,
          94.3726953125
         ]
        },
        {
         "line": {
          "color": "rgb(0,0,0)",
          "width": 5
         },
         "mode": "lines",
         "showlegend": false,
         "type": "scatter3d",
         "x": [
          2.01137622070312,
          2.0442795410156203
         ],
         "y": [
          -0.469372924804688,
          -0.5636821899414061
         ],
         "z": [
          94.3726953125,
          94.4417578125
         ]
        },
        {
         "color": "red",
         "i": [
          0
         ],
         "j": [
          1
         ],
         "k": [
          2
         ],
         "name": "45",
         "opacity": 1,
         "type": "mesh3d",
         "x": [
          2.0442795410156203,
          2.01137622070312,
          2.0442795410156203
         ],
         "y": [
          -0.5636821899414061,
          -0.469372924804688,
          -0.5636821899414061
         ],
         "z": [
          94.5862265625,
          94.59476562500001,
          94.4417578125
         ]
        },
        {
         "line": {
          "color": "rgb(0,0,0)",
          "width": 5
         },
         "mode": "lines",
         "showlegend": false,
         "type": "scatter3d",
         "x": [
          2.0442795410156203,
          2.0442795410156203
         ],
         "y": [
          -0.5636821899414061,
          -0.5636821899414061
         ],
         "z": [
          94.4417578125,
          94.5862265625
         ]
        },
        {
         "line": {
          "color": "rgb(0,0,0)",
          "width": 5
         },
         "mode": "lines",
         "showlegend": false,
         "type": "scatter3d",
         "x": [
          2.0442795410156203,
          2.01137622070312
         ],
         "y": [
          -0.5636821899414061,
          -0.469372924804688
         ],
         "z": [
          94.5862265625,
          94.59476562500001
         ]
        },
        {
         "line": {
          "color": "rgb(0,0,0)",
          "width": 5
         },
         "mode": "lines",
         "showlegend": false,
         "type": "scatter3d",
         "x": [
          2.01137622070312,
          2.0442795410156203
         ],
         "y": [
          -0.469372924804688,
          -0.5636821899414061
         ],
         "z": [
          94.59476562500001,
          94.4417578125
         ]
        },
        {
         "color": "red",
         "i": [
          0
         ],
         "j": [
          1
         ],
         "k": [
          2
         ],
         "name": "46",
         "opacity": 1,
         "type": "mesh3d",
         "x": [
          2.01137622070312,
          2.0442795410156203,
          2.01137622070312
         ],
         "y": [
          -0.469372924804688,
          -0.5636821899414061,
          -0.469372924804688
         ],
         "z": [
          94.1506328125,
          94.2972890625,
          94.3726953125
         ]
        },
        {
         "line": {
          "color": "rgb(0,0,0)",
          "width": 5
         },
         "mode": "lines",
         "showlegend": false,
         "type": "scatter3d",
         "x": [
          2.01137622070312,
          2.01137622070312
         ],
         "y": [
          -0.469372924804688,
          -0.469372924804688
         ],
         "z": [
          94.3726953125,
          94.1506328125
         ]
        },
        {
         "line": {
          "color": "rgb(0,0,0)",
          "width": 5
         },
         "mode": "lines",
         "showlegend": false,
         "type": "scatter3d",
         "x": [
          2.01137622070312,
          2.0442795410156203
         ],
         "y": [
          -0.469372924804688,
          -0.5636821899414061
         ],
         "z": [
          94.1506328125,
          94.2972890625
         ]
        },
        {
         "line": {
          "color": "rgb(0,0,0)",
          "width": 5
         },
         "mode": "lines",
         "showlegend": false,
         "type": "scatter3d",
         "x": [
          2.0442795410156203,
          2.01137622070312
         ],
         "y": [
          -0.5636821899414061,
          -0.469372924804688
         ],
         "z": [
          94.2972890625,
          94.3726953125
         ]
        },
        {
         "color": "red",
         "i": [
          0
         ],
         "j": [
          1
         ],
         "k": [
          2
         ],
         "name": "47",
         "opacity": 1,
         "type": "mesh3d",
         "x": [
          2.01137622070312,
          2.0442795410156203,
          2.0442795410156203
         ],
         "y": [
          -0.469372924804688,
          -0.5636821899414061,
          -0.5636821899414061
         ],
         "z": [
          94.1506328125,
          94.1528203125,
          94.2972890625
         ]
        },
        {
         "line": {
          "color": "rgb(0,0,0)",
          "width": 5
         },
         "mode": "lines",
         "showlegend": false,
         "type": "scatter3d",
         "x": [
          2.0442795410156203,
          2.01137622070312
         ],
         "y": [
          -0.5636821899414061,
          -0.469372924804688
         ],
         "z": [
          94.2972890625,
          94.1506328125
         ]
        },
        {
         "line": {
          "color": "rgb(0,0,0)",
          "width": 5
         },
         "mode": "lines",
         "showlegend": false,
         "type": "scatter3d",
         "x": [
          2.01137622070312,
          2.0442795410156203
         ],
         "y": [
          -0.469372924804688,
          -0.5636821899414061
         ],
         "z": [
          94.1506328125,
          94.1528203125
         ]
        },
        {
         "line": {
          "color": "rgb(0,0,0)",
          "width": 5
         },
         "mode": "lines",
         "showlegend": false,
         "type": "scatter3d",
         "x": [
          2.0442795410156203,
          2.0442795410156203
         ],
         "y": [
          -0.5636821899414061,
          -0.5636821899414061
         ],
         "z": [
          94.1528203125,
          94.2972890625
         ]
        },
        {
         "color": "red",
         "i": [
          0
         ],
         "j": [
          1
         ],
         "k": [
          2
         ],
         "name": "48",
         "opacity": 1,
         "type": "mesh3d",
         "x": [
          1.9455693359375001,
          1.9455693359375001,
          1.97847277832031
         ],
         "y": [
          -0.28075439453125,
          -0.28075439453125,
          -0.375063659667969
         ],
         "z": [
          94.8124375,
          94.59037500000001,
          94.5925703125
         ]
        },
        {
         "line": {
          "color": "rgb(0,0,0)",
          "width": 5
         },
         "mode": "lines",
         "showlegend": false,
         "type": "scatter3d",
         "x": [
          1.97847277832031,
          1.9455693359375001
         ],
         "y": [
          -0.375063659667969,
          -0.28075439453125
         ],
         "z": [
          94.5925703125,
          94.8124375
         ]
        },
        {
         "line": {
          "color": "rgb(0,0,0)",
          "width": 5
         },
         "mode": "lines",
         "showlegend": false,
         "type": "scatter3d",
         "x": [
          1.9455693359375001,
          1.9455693359375001
         ],
         "y": [
          -0.28075439453125,
          -0.28075439453125
         ],
         "z": [
          94.8124375,
          94.59037500000001
         ]
        },
        {
         "line": {
          "color": "rgb(0,0,0)",
          "width": 5
         },
         "mode": "lines",
         "showlegend": false,
         "type": "scatter3d",
         "x": [
          1.9455693359375001,
          1.97847277832031
         ],
         "y": [
          -0.28075439453125,
          -0.375063659667969
         ],
         "z": [
          94.59037500000001,
          94.5925703125
         ]
        },
        {
         "color": "red",
         "i": [
          0
         ],
         "j": [
          1
         ],
         "k": [
          2
         ],
         "name": "49",
         "opacity": 1,
         "type": "mesh3d",
         "x": [
          1.97847277832031,
          1.9455693359375001,
          1.97847277832031
         ],
         "y": [
          -0.375063659667969,
          -0.28075439453125,
          -0.375063659667969
         ],
         "z": [
          94.81463281250001,
          94.8124375,
          94.5925703125
         ]
        },
        {
         "line": {
          "color": "rgb(0,0,0)",
          "width": 5
         },
         "mode": "lines",
         "showlegend": false,
         "type": "scatter3d",
         "x": [
          1.97847277832031,
          1.97847277832031
         ],
         "y": [
          -0.375063659667969,
          -0.375063659667969
         ],
         "z": [
          94.5925703125,
          94.81463281250001
         ]
        },
        {
         "line": {
          "color": "rgb(0,0,0)",
          "width": 5
         },
         "mode": "lines",
         "showlegend": false,
         "type": "scatter3d",
         "x": [
          1.97847277832031,
          1.9455693359375001
         ],
         "y": [
          -0.375063659667969,
          -0.28075439453125
         ],
         "z": [
          94.81463281250001,
          94.8124375
         ]
        },
        {
         "line": {
          "color": "rgb(0,0,0)",
          "width": 5
         },
         "mode": "lines",
         "showlegend": false,
         "type": "scatter3d",
         "x": [
          1.9455693359375001,
          1.97847277832031
         ],
         "y": [
          -0.28075439453125,
          -0.375063659667969
         ],
         "z": [
          94.8124375,
          94.5925703125
         ]
        },
        {
         "color": "red",
         "i": [
          0
         ],
         "j": [
          1
         ],
         "k": [
          2
         ],
         "name": "50",
         "opacity": 1,
         "type": "mesh3d",
         "x": [
          1.97847277832031,
          1.97847277832031,
          2.01137622070312
         ],
         "y": [
          -0.375063659667969,
          -0.375063659667969,
          -0.469372924804688
         ],
         "z": [
          94.81463281250001,
          94.5925703125,
          94.59476562500001
         ]
        },
        {
         "line": {
          "color": "rgb(0,0,0)",
          "width": 5
         },
         "mode": "lines",
         "showlegend": false,
         "type": "scatter3d",
         "x": [
          2.01137622070312,
          1.97847277832031
         ],
         "y": [
          -0.469372924804688,
          -0.375063659667969
         ],
         "z": [
          94.59476562500001,
          94.81463281250001
         ]
        },
        {
         "line": {
          "color": "rgb(0,0,0)",
          "width": 5
         },
         "mode": "lines",
         "showlegend": false,
         "type": "scatter3d",
         "x": [
          1.97847277832031,
          1.97847277832031
         ],
         "y": [
          -0.375063659667969,
          -0.375063659667969
         ],
         "z": [
          94.81463281250001,
          94.5925703125
         ]
        },
        {
         "line": {
          "color": "rgb(0,0,0)",
          "width": 5
         },
         "mode": "lines",
         "showlegend": false,
         "type": "scatter3d",
         "x": [
          1.97847277832031,
          2.01137622070312
         ],
         "y": [
          -0.375063659667969,
          -0.469372924804688
         ],
         "z": [
          94.5925703125,
          94.59476562500001
         ]
        },
        {
         "color": "red",
         "i": [
          0
         ],
         "j": [
          1
         ],
         "k": [
          2
         ],
         "name": "51",
         "opacity": 1,
         "type": "mesh3d",
         "x": [
          2.01137622070312,
          1.97847277832031,
          2.01137622070312
         ],
         "y": [
          -0.469372924804688,
          -0.375063659667969,
          -0.469372924804688
         ],
         "z": [
          94.816828125,
          94.81463281250001,
          94.59476562500001
         ]
        },
        {
         "line": {
          "color": "rgb(0,0,0)",
          "width": 5
         },
         "mode": "lines",
         "showlegend": false,
         "type": "scatter3d",
         "x": [
          2.01137622070312,
          2.01137622070312
         ],
         "y": [
          -0.469372924804688,
          -0.469372924804688
         ],
         "z": [
          94.59476562500001,
          94.816828125
         ]
        },
        {
         "line": {
          "color": "rgb(0,0,0)",
          "width": 5
         },
         "mode": "lines",
         "showlegend": false,
         "type": "scatter3d",
         "x": [
          2.01137622070312,
          1.97847277832031
         ],
         "y": [
          -0.469372924804688,
          -0.375063659667969
         ],
         "z": [
          94.816828125,
          94.81463281250001
         ]
        },
        {
         "line": {
          "color": "rgb(0,0,0)",
          "width": 5
         },
         "mode": "lines",
         "showlegend": false,
         "type": "scatter3d",
         "x": [
          1.97847277832031,
          2.01137622070312
         ],
         "y": [
          -0.375063659667969,
          -0.469372924804688
         ],
         "z": [
          94.81463281250001,
          94.59476562500001
         ]
        },
        {
         "color": "red",
         "i": [
          0
         ],
         "j": [
          1
         ],
         "k": [
          2
         ],
         "name": "52",
         "opacity": 1,
         "type": "mesh3d",
         "x": [
          1.9455693359375001,
          1.9455693359375001,
          1.97847277832031
         ],
         "y": [
          -0.28075439453125,
          -0.28075439453125,
          -0.375063659667969
         ],
         "z": [
          94.59037500000001,
          94.3683046875,
          94.3705
         ]
        },
        {
         "line": {
          "color": "rgb(0,0,0)",
          "width": 5
         },
         "mode": "lines",
         "showlegend": false,
         "type": "scatter3d",
         "x": [
          1.97847277832031,
          1.9455693359375001
         ],
         "y": [
          -0.375063659667969,
          -0.28075439453125
         ],
         "z": [
          94.3705,
          94.59037500000001
         ]
        },
        {
         "line": {
          "color": "rgb(0,0,0)",
          "width": 5
         },
         "mode": "lines",
         "showlegend": false,
         "type": "scatter3d",
         "x": [
          1.9455693359375001,
          1.9455693359375001
         ],
         "y": [
          -0.28075439453125,
          -0.28075439453125
         ],
         "z": [
          94.59037500000001,
          94.3683046875
         ]
        },
        {
         "line": {
          "color": "rgb(0,0,0)",
          "width": 5
         },
         "mode": "lines",
         "showlegend": false,
         "type": "scatter3d",
         "x": [
          1.9455693359375001,
          1.97847277832031
         ],
         "y": [
          -0.28075439453125,
          -0.375063659667969
         ],
         "z": [
          94.3683046875,
          94.3705
         ]
        },
        {
         "color": "red",
         "i": [
          0
         ],
         "j": [
          1
         ],
         "k": [
          2
         ],
         "name": "53",
         "opacity": 1,
         "type": "mesh3d",
         "x": [
          1.97847277832031,
          1.9455693359375001,
          1.97847277832031
         ],
         "y": [
          -0.375063659667969,
          -0.28075439453125,
          -0.375063659667969
         ],
         "z": [
          94.5925703125,
          94.59037500000001,
          94.3705
         ]
        },
        {
         "line": {
          "color": "rgb(0,0,0)",
          "width": 5
         },
         "mode": "lines",
         "showlegend": false,
         "type": "scatter3d",
         "x": [
          1.97847277832031,
          1.97847277832031
         ],
         "y": [
          -0.375063659667969,
          -0.375063659667969
         ],
         "z": [
          94.3705,
          94.5925703125
         ]
        },
        {
         "line": {
          "color": "rgb(0,0,0)",
          "width": 5
         },
         "mode": "lines",
         "showlegend": false,
         "type": "scatter3d",
         "x": [
          1.97847277832031,
          1.9455693359375001
         ],
         "y": [
          -0.375063659667969,
          -0.28075439453125
         ],
         "z": [
          94.5925703125,
          94.59037500000001
         ]
        },
        {
         "line": {
          "color": "rgb(0,0,0)",
          "width": 5
         },
         "mode": "lines",
         "showlegend": false,
         "type": "scatter3d",
         "x": [
          1.9455693359375001,
          1.97847277832031
         ],
         "y": [
          -0.28075439453125,
          -0.375063659667969
         ],
         "z": [
          94.59037500000001,
          94.3705
         ]
        },
        {
         "color": "red",
         "i": [
          0
         ],
         "j": [
          1
         ],
         "k": [
          2
         ],
         "name": "54",
         "opacity": 1,
         "type": "mesh3d",
         "x": [
          1.97847277832031,
          1.97847277832031,
          2.01137622070312
         ],
         "y": [
          -0.375063659667969,
          -0.375063659667969,
          -0.469372924804688
         ],
         "z": [
          94.5925703125,
          94.3705,
          94.3726953125
         ]
        },
        {
         "line": {
          "color": "rgb(0,0,0)",
          "width": 5
         },
         "mode": "lines",
         "showlegend": false,
         "type": "scatter3d",
         "x": [
          2.01137622070312,
          1.97847277832031
         ],
         "y": [
          -0.469372924804688,
          -0.375063659667969
         ],
         "z": [
          94.3726953125,
          94.5925703125
         ]
        },
        {
         "line": {
          "color": "rgb(0,0,0)",
          "width": 5
         },
         "mode": "lines",
         "showlegend": false,
         "type": "scatter3d",
         "x": [
          1.97847277832031,
          1.97847277832031
         ],
         "y": [
          -0.375063659667969,
          -0.375063659667969
         ],
         "z": [
          94.5925703125,
          94.3705
         ]
        },
        {
         "line": {
          "color": "rgb(0,0,0)",
          "width": 5
         },
         "mode": "lines",
         "showlegend": false,
         "type": "scatter3d",
         "x": [
          1.97847277832031,
          2.01137622070312
         ],
         "y": [
          -0.375063659667969,
          -0.469372924804688
         ],
         "z": [
          94.3705,
          94.3726953125
         ]
        },
        {
         "color": "red",
         "i": [
          0
         ],
         "j": [
          1
         ],
         "k": [
          2
         ],
         "name": "55",
         "opacity": 1,
         "type": "mesh3d",
         "x": [
          2.01137622070312,
          1.97847277832031,
          2.01137622070312
         ],
         "y": [
          -0.469372924804688,
          -0.375063659667969,
          -0.469372924804688
         ],
         "z": [
          94.59476562500001,
          94.5925703125,
          94.3726953125
         ]
        },
        {
         "line": {
          "color": "rgb(0,0,0)",
          "width": 5
         },
         "mode": "lines",
         "showlegend": false,
         "type": "scatter3d",
         "x": [
          2.01137622070312,
          2.01137622070312
         ],
         "y": [
          -0.469372924804688,
          -0.469372924804688
         ],
         "z": [
          94.3726953125,
          94.59476562500001
         ]
        },
        {
         "line": {
          "color": "rgb(0,0,0)",
          "width": 5
         },
         "mode": "lines",
         "showlegend": false,
         "type": "scatter3d",
         "x": [
          2.01137622070312,
          1.97847277832031
         ],
         "y": [
          -0.469372924804688,
          -0.375063659667969
         ],
         "z": [
          94.59476562500001,
          94.5925703125
         ]
        },
        {
         "line": {
          "color": "rgb(0,0,0)",
          "width": 5
         },
         "mode": "lines",
         "showlegend": false,
         "type": "scatter3d",
         "x": [
          1.97847277832031,
          2.01137622070312
         ],
         "y": [
          -0.375063659667969,
          -0.469372924804688
         ],
         "z": [
          94.5925703125,
          94.3726953125
         ]
        },
        {
         "color": "red",
         "i": [
          0
         ],
         "j": [
          1
         ],
         "k": [
          2
         ],
         "name": "56",
         "opacity": 1,
         "type": "mesh3d",
         "x": [
          -1.92250573730469,
          -1.90201745605469,
          -1.9253026123046901
         ],
         "y": [
          -0.599165832519531,
          -0.50793701171875,
          -0.611619812011719
         ],
         "z": [
          94.502109375,
          94.722171875,
          94.7157578125
         ]
        },
        {
         "line": {
          "color": "rgb(0,0,0)",
          "width": 5
         },
         "mode": "lines",
         "showlegend": false,
         "type": "scatter3d",
         "x": [
          -1.9253026123046901,
          -1.92250573730469
         ],
         "y": [
          -0.611619812011719,
          -0.599165832519531
         ],
         "z": [
          94.7157578125,
          94.502109375
         ]
        },
        {
         "line": {
          "color": "rgb(0,0,0)",
          "width": 5
         },
         "mode": "lines",
         "showlegend": false,
         "type": "scatter3d",
         "x": [
          -1.92250573730469,
          -1.90201745605469
         ],
         "y": [
          -0.599165832519531,
          -0.50793701171875
         ],
         "z": [
          94.502109375,
          94.722171875
         ]
        },
        {
         "line": {
          "color": "rgb(0,0,0)",
          "width": 5
         },
         "mode": "lines",
         "showlegend": false,
         "type": "scatter3d",
         "x": [
          -1.90201745605469,
          -1.9253026123046901
         ],
         "y": [
          -0.50793701171875,
          -0.611619812011719
         ],
         "z": [
          94.722171875,
          94.7157578125
         ]
        },
        {
         "color": "red",
         "i": [
          0
         ],
         "j": [
          1
         ],
         "k": [
          2
         ],
         "name": "57",
         "opacity": 1,
         "type": "mesh3d",
         "x": [
          -1.9253026123046901,
          -1.95033435058594,
          -1.944392578125
         ],
         "y": [
          -0.611619812011719,
          -0.7230797119140621,
          -0.696622497558594
         ],
         "z": [
          94.7157578125,
          94.70881250000001,
          94.4999140625
         ]
        },
        {
         "line": {
          "color": "rgb(0,0,0)",
          "width": 5
         },
         "mode": "lines",
         "showlegend": false,
         "type": "scatter3d",
         "x": [
          -1.944392578125,
          -1.9253026123046901
         ],
         "y": [
          -0.696622497558594,
          -0.611619812011719
         ],
         "z": [
          94.4999140625,
          94.7157578125
         ]
        },
        {
         "line": {
          "color": "rgb(0,0,0)",
          "width": 5
         },
         "mode": "lines",
         "showlegend": false,
         "type": "scatter3d",
         "x": [
          -1.9253026123046901,
          -1.95033435058594
         ],
         "y": [
          -0.611619812011719,
          -0.7230797119140621
         ],
         "z": [
          94.7157578125,
          94.70881250000001
         ]
        },
        {
         "line": {
          "color": "rgb(0,0,0)",
          "width": 5
         },
         "mode": "lines",
         "showlegend": false,
         "type": "scatter3d",
         "x": [
          -1.95033435058594,
          -1.944392578125
         ],
         "y": [
          -0.7230797119140621,
          -0.696622497558594
         ],
         "z": [
          94.70881250000001,
          94.4999140625
         ]
        },
        {
         "color": "red",
         "i": [
          0
         ],
         "j": [
          1
         ],
         "k": [
          2
         ],
         "name": "58",
         "opacity": 1,
         "type": "mesh3d",
         "x": [
          -1.95830688476562,
          -1.96627941894531,
          -1.944392578125
         ],
         "y": [
          -0.758579467773438,
          -0.794079223632812,
          -0.696622497558594
         ],
         "z": [
          94.6313515625,
          94.55389062500001,
          94.4999140625
         ]
        },
        {
         "line": {
          "color": "rgb(0,0,0)",
          "width": 5
         },
         "mode": "lines",
         "showlegend": false,
         "type": "scatter3d",
         "x": [
          -1.944392578125,
          -1.95830688476562
         ],
         "y": [
          -0.696622497558594,
          -0.758579467773438
         ],
         "z": [
          94.4999140625,
          94.6313515625
         ]
        },
        {
         "line": {
          "color": "rgb(0,0,0)",
          "width": 5
         },
         "mode": "lines",
         "showlegend": false,
         "type": "scatter3d",
         "x": [
          -1.95830688476562,
          -1.96627941894531
         ],
         "y": [
          -0.758579467773438,
          -0.794079223632812
         ],
         "z": [
          94.6313515625,
          94.55389062500001
         ]
        },
        {
         "line": {
          "color": "rgb(0,0,0)",
          "width": 5
         },
         "mode": "lines",
         "showlegend": false,
         "type": "scatter3d",
         "x": [
          -1.96627941894531,
          -1.944392578125
         ],
         "y": [
          -0.794079223632812,
          -0.696622497558594
         ],
         "z": [
          94.55389062500001,
          94.4999140625
         ]
        },
        {
         "color": "red",
         "i": [
          0
         ],
         "j": [
          1
         ],
         "k": [
          2
         ],
         "name": "59",
         "opacity": 1,
         "type": "mesh3d",
         "x": [
          -1.95033435058594,
          -1.95830688476562,
          -1.944392578125
         ],
         "y": [
          -0.7230797119140621,
          -0.758579467773438,
          -0.696622497558594
         ],
         "z": [
          94.70881250000001,
          94.6313515625,
          94.4999140625
         ]
        },
        {
         "line": {
          "color": "rgb(0,0,0)",
          "width": 5
         },
         "mode": "lines",
         "showlegend": false,
         "type": "scatter3d",
         "x": [
          -1.944392578125,
          -1.95033435058594
         ],
         "y": [
          -0.696622497558594,
          -0.7230797119140621
         ],
         "z": [
          94.4999140625,
          94.70881250000001
         ]
        },
        {
         "line": {
          "color": "rgb(0,0,0)",
          "width": 5
         },
         "mode": "lines",
         "showlegend": false,
         "type": "scatter3d",
         "x": [
          -1.95033435058594,
          -1.95830688476562
         ],
         "y": [
          -0.7230797119140621,
          -0.758579467773438
         ],
         "z": [
          94.70881250000001,
          94.6313515625
         ]
        },
        {
         "line": {
          "color": "rgb(0,0,0)",
          "width": 5
         },
         "mode": "lines",
         "showlegend": false,
         "type": "scatter3d",
         "x": [
          -1.95830688476562,
          -1.944392578125
         ],
         "y": [
          -0.758579467773438,
          -0.696622497558594
         ],
         "z": [
          94.6313515625,
          94.4999140625
         ]
        },
        {
         "color": "red",
         "i": [
          0
         ],
         "j": [
          1
         ],
         "k": [
          2
         ],
         "name": "60",
         "opacity": 1,
         "type": "mesh3d",
         "x": [
          -1.944392578125,
          -1.92250573730469,
          -1.9253026123046901
         ],
         "y": [
          -0.696622497558594,
          -0.599165832519531,
          -0.611619812011719
         ],
         "z": [
          94.4999140625,
          94.502109375,
          94.7157578125
         ]
        },
        {
         "line": {
          "color": "rgb(0,0,0)",
          "width": 5
         },
         "mode": "lines",
         "showlegend": false,
         "type": "scatter3d",
         "x": [
          -1.9253026123046901,
          -1.944392578125
         ],
         "y": [
          -0.611619812011719,
          -0.696622497558594
         ],
         "z": [
          94.7157578125,
          94.4999140625
         ]
        },
        {
         "line": {
          "color": "rgb(0,0,0)",
          "width": 5
         },
         "mode": "lines",
         "showlegend": false,
         "type": "scatter3d",
         "x": [
          -1.944392578125,
          -1.92250573730469
         ],
         "y": [
          -0.696622497558594,
          -0.599165832519531
         ],
         "z": [
          94.4999140625,
          94.502109375
         ]
        },
        {
         "line": {
          "color": "rgb(0,0,0)",
          "width": 5
         },
         "mode": "lines",
         "showlegend": false,
         "type": "scatter3d",
         "x": [
          -1.92250573730469,
          -1.9253026123046901
         ],
         "y": [
          -0.599165832519531,
          -0.611619812011719
         ],
         "z": [
          94.502109375,
          94.7157578125
         ]
        },
        {
         "color": "red",
         "i": [
          0
         ],
         "j": [
          1
         ],
         "k": [
          2
         ],
         "name": "61",
         "opacity": 1,
         "type": "mesh3d",
         "x": [
          -1.96627941894531,
          -1.96627941894531,
          -1.944392578125
         ],
         "y": [
          -0.794079223632812,
          -0.794079223632812,
          -0.696622497558594
         ],
         "z": [
          94.40942968750001,
          94.26496875000001,
          93.8337734375
         ]
        },
        {
         "line": {
          "color": "rgb(0,0,0)",
          "width": 5
         },
         "mode": "lines",
         "showlegend": false,
         "type": "scatter3d",
         "x": [
          -1.944392578125,
          -1.96627941894531
         ],
         "y": [
          -0.696622497558594,
          -0.794079223632812
         ],
         "z": [
          93.8337734375,
          94.40942968750001
         ]
        },
        {
         "line": {
          "color": "rgb(0,0,0)",
          "width": 5
         },
         "mode": "lines",
         "showlegend": false,
         "type": "scatter3d",
         "x": [
          -1.96627941894531,
          -1.96627941894531
         ],
         "y": [
          -0.794079223632812,
          -0.794079223632812
         ],
         "z": [
          94.40942968750001,
          94.26496875000001
         ]
        },
        {
         "line": {
          "color": "rgb(0,0,0)",
          "width": 5
         },
         "mode": "lines",
         "showlegend": false,
         "type": "scatter3d",
         "x": [
          -1.96627941894531,
          -1.944392578125
         ],
         "y": [
          -0.794079223632812,
          -0.696622497558594
         ],
         "z": [
          94.26496875000001,
          93.8337734375
         ]
        },
        {
         "color": "red",
         "i": [
          0
         ],
         "j": [
          1
         ],
         "k": [
          2
         ],
         "name": "62",
         "opacity": 1,
         "type": "mesh3d",
         "x": [
          -1.944392578125,
          -1.96627941894531,
          -1.944392578125
         ],
         "y": [
          -0.696622497558594,
          -0.794079223632812,
          -0.696622497558594
         ],
         "z": [
          94.4999140625,
          94.40942968750001,
          93.8337734375
         ]
        },
        {
         "line": {
          "color": "rgb(0,0,0)",
          "width": 5
         },
         "mode": "lines",
         "showlegend": false,
         "type": "scatter3d",
         "x": [
          -1.944392578125,
          -1.944392578125
         ],
         "y": [
          -0.696622497558594,
          -0.696622497558594
         ],
         "z": [
          93.8337734375,
          94.4999140625
         ]
        },
        {
         "line": {
          "color": "rgb(0,0,0)",
          "width": 5
         },
         "mode": "lines",
         "showlegend": false,
         "type": "scatter3d",
         "x": [
          -1.944392578125,
          -1.96627941894531
         ],
         "y": [
          -0.696622497558594,
          -0.794079223632812
         ],
         "z": [
          94.4999140625,
          94.40942968750001
         ]
        },
        {
         "line": {
          "color": "rgb(0,0,0)",
          "width": 5
         },
         "mode": "lines",
         "showlegend": false,
         "type": "scatter3d",
         "x": [
          -1.96627941894531,
          -1.944392578125
         ],
         "y": [
          -0.794079223632812,
          -0.696622497558594
         ],
         "z": [
          94.40942968750001,
          93.8337734375
         ]
        },
        {
         "color": "red",
         "i": [
          0
         ],
         "j": [
          1
         ],
         "k": [
          2
         ],
         "name": "63",
         "opacity": 1,
         "type": "mesh3d",
         "x": [
          -1.96627941894531,
          -1.944392578125,
          -1.96627941894531
         ],
         "y": [
          -0.794079223632812,
          -0.696622497558594,
          -0.794079223632812
         ],
         "z": [
          94.40942968750001,
          94.4999140625,
          94.55389062500001
         ]
        },
        {
         "line": {
          "color": "rgb(0,0,0)",
          "width": 5
         },
         "mode": "lines",
         "showlegend": false,
         "type": "scatter3d",
         "x": [
          -1.96627941894531,
          -1.96627941894531
         ],
         "y": [
          -0.794079223632812,
          -0.794079223632812
         ],
         "z": [
          94.55389062500001,
          94.40942968750001
         ]
        },
        {
         "line": {
          "color": "rgb(0,0,0)",
          "width": 5
         },
         "mode": "lines",
         "showlegend": false,
         "type": "scatter3d",
         "x": [
          -1.96627941894531,
          -1.944392578125
         ],
         "y": [
          -0.794079223632812,
          -0.696622497558594
         ],
         "z": [
          94.40942968750001,
          94.4999140625
         ]
        },
        {
         "line": {
          "color": "rgb(0,0,0)",
          "width": 5
         },
         "mode": "lines",
         "showlegend": false,
         "type": "scatter3d",
         "x": [
          -1.944392578125,
          -1.96627941894531
         ],
         "y": [
          -0.696622497558594,
          -0.794079223632812
         ],
         "z": [
          94.4999140625,
          94.55389062500001
         ]
        },
        {
         "color": "red",
         "i": [
          0
         ],
         "j": [
          1
         ],
         "k": [
          2
         ],
         "name": "64",
         "opacity": 1,
         "type": "mesh3d",
         "x": [
          -1.92250573730469,
          -1.9006187744140601,
          -1.90201745605469
         ],
         "y": [
          -0.599165832519531,
          -0.501709167480469,
          -0.50793701171875
         ],
         "z": [
          94.502109375,
          94.5043046875,
          94.722171875
         ]
        },
        {
         "line": {
          "color": "rgb(0,0,0)",
          "width": 5
         },
         "mode": "lines",
         "showlegend": false,
         "type": "scatter3d",
         "x": [
          -1.90201745605469,
          -1.92250573730469
         ],
         "y": [
          -0.50793701171875,
          -0.599165832519531
         ],
         "z": [
          94.722171875,
          94.502109375
         ]
        },
        {
         "line": {
          "color": "rgb(0,0,0)",
          "width": 5
         },
         "mode": "lines",
         "showlegend": false,
         "type": "scatter3d",
         "x": [
          -1.92250573730469,
          -1.9006187744140601
         ],
         "y": [
          -0.599165832519531,
          -0.501709167480469
         ],
         "z": [
          94.502109375,
          94.5043046875
         ]
        },
        {
         "line": {
          "color": "rgb(0,0,0)",
          "width": 5
         },
         "mode": "lines",
         "showlegend": false,
         "type": "scatter3d",
         "x": [
          -1.9006187744140601,
          -1.90201745605469
         ],
         "y": [
          -0.501709167480469,
          -0.50793701171875
         ],
         "z": [
          94.5043046875,
          94.722171875
         ]
        },
        {
         "color": "red",
         "i": [
          0
         ],
         "j": [
          1
         ],
         "k": [
          2
         ],
         "name": "65",
         "opacity": 1,
         "type": "mesh3d",
         "x": [
          -1.9006187744140601,
          -1.87915747070312,
          -1.87894470214844
         ],
         "y": [
          -0.501709167480469,
          -0.406147430419922,
          -0.405199951171875
         ],
         "z": [
          94.5043046875,
          94.50646093750001,
          94.6175
         ]
        },
        {
         "line": {
          "color": "rgb(0,0,0)",
          "width": 5
         },
         "mode": "lines",
         "showlegend": false,
         "type": "scatter3d",
         "x": [
          -1.87894470214844,
          -1.9006187744140601
         ],
         "y": [
          -0.405199951171875,
          -0.501709167480469
         ],
         "z": [
          94.6175,
          94.5043046875
         ]
        },
        {
         "line": {
          "color": "rgb(0,0,0)",
          "width": 5
         },
         "mode": "lines",
         "showlegend": false,
         "type": "scatter3d",
         "x": [
          -1.9006187744140601,
          -1.87915747070312
         ],
         "y": [
          -0.501709167480469,
          -0.406147430419922
         ],
         "z": [
          94.5043046875,
          94.50646093750001
         ]
        },
        {
         "line": {
          "color": "rgb(0,0,0)",
          "width": 5
         },
         "mode": "lines",
         "showlegend": false,
         "type": "scatter3d",
         "x": [
          -1.87915747070312,
          -1.87894470214844
         ],
         "y": [
          -0.406147430419922,
          -0.405199951171875
         ],
         "z": [
          94.50646093750001,
          94.6175
         ]
        },
        {
         "color": "red",
         "i": [
          0
         ],
         "j": [
          1
         ],
         "k": [
          2
         ],
         "name": "66",
         "opacity": 1,
         "type": "mesh3d",
         "x": [
          -1.87894470214844,
          -1.90201745605469,
          -1.9006187744140601
         ],
         "y": [
          -0.405199951171875,
          -0.50793701171875,
          -0.501709167480469
         ],
         "z": [
          94.6175,
          94.722171875,
          94.5043046875
         ]
        },
        {
         "line": {
          "color": "rgb(0,0,0)",
          "width": 5
         },
         "mode": "lines",
         "showlegend": false,
         "type": "scatter3d",
         "x": [
          -1.9006187744140601,
          -1.87894470214844
         ],
         "y": [
          -0.501709167480469,
          -0.405199951171875
         ],
         "z": [
          94.5043046875,
          94.6175
         ]
        },
        {
         "line": {
          "color": "rgb(0,0,0)",
          "width": 5
         },
         "mode": "lines",
         "showlegend": false,
         "type": "scatter3d",
         "x": [
          -1.87894470214844,
          -1.90201745605469
         ],
         "y": [
          -0.405199951171875,
          -0.50793701171875
         ],
         "z": [
          94.6175,
          94.722171875
         ]
        },
        {
         "line": {
          "color": "rgb(0,0,0)",
          "width": 5
         },
         "mode": "lines",
         "showlegend": false,
         "type": "scatter3d",
         "x": [
          -1.90201745605469,
          -1.9006187744140601
         ],
         "y": [
          -0.50793701171875,
          -0.501709167480469
         ],
         "z": [
          94.722171875,
          94.5043046875
         ]
        },
        {
         "color": "red",
         "i": [
          0
         ],
         "j": [
          1
         ],
         "k": [
          2
         ],
         "name": "67",
         "opacity": 1,
         "type": "mesh3d",
         "x": [
          -1.87894470214844,
          -1.87873193359375,
          -1.90201745605469
         ],
         "y": [
          -0.405199951171875,
          -0.404252471923828,
          -0.50793701171875
         ],
         "z": [
          94.6175,
          94.728546875,
          94.722171875
         ]
        },
        {
         "line": {
          "color": "rgb(0,0,0)",
          "width": 5
         },
         "mode": "lines",
         "showlegend": false,
         "type": "scatter3d",
         "x": [
          -1.90201745605469,
          -1.87894470214844
         ],
         "y": [
          -0.50793701171875,
          -0.405199951171875
         ],
         "z": [
          94.722171875,
          94.6175
         ]
        },
        {
         "line": {
          "color": "rgb(0,0,0)",
          "width": 5
         },
         "mode": "lines",
         "showlegend": false,
         "type": "scatter3d",
         "x": [
          -1.87894470214844,
          -1.87873193359375
         ],
         "y": [
          -0.405199951171875,
          -0.404252471923828
         ],
         "z": [
          94.6175,
          94.728546875
         ]
        },
        {
         "line": {
          "color": "rgb(0,0,0)",
          "width": 5
         },
         "mode": "lines",
         "showlegend": false,
         "type": "scatter3d",
         "x": [
          -1.87873193359375,
          -1.90201745605469
         ],
         "y": [
          -0.404252471923828,
          -0.50793701171875
         ],
         "z": [
          94.728546875,
          94.722171875
         ]
        },
        {
         "color": "red",
         "i": [
          0
         ],
         "j": [
          1
         ],
         "k": [
          2
         ],
         "name": "68",
         "opacity": 1,
         "type": "mesh3d",
         "x": [
          -1.87937036132812,
          -1.87915747070312,
          -1.9006187744140601
         ],
         "y": [
          -0.40709490966796896,
          -0.406147430419922,
          -0.501709167480469
         ],
         "z": [
          94.3954140625,
          94.50646093750001,
          94.5043046875
         ]
        },
        {
         "line": {
          "color": "rgb(0,0,0)",
          "width": 5
         },
         "mode": "lines",
         "showlegend": false,
         "type": "scatter3d",
         "x": [
          -1.9006187744140601,
          -1.87937036132812
         ],
         "y": [
          -0.501709167480469,
          -0.40709490966796896
         ],
         "z": [
          94.5043046875,
          94.3954140625
         ]
        },
        {
         "line": {
          "color": "rgb(0,0,0)",
          "width": 5
         },
         "mode": "lines",
         "showlegend": false,
         "type": "scatter3d",
         "x": [
          -1.87937036132812,
          -1.87915747070312
         ],
         "y": [
          -0.40709490966796896,
          -0.406147430419922
         ],
         "z": [
          94.3954140625,
          94.50646093750001
         ]
        },
        {
         "line": {
          "color": "rgb(0,0,0)",
          "width": 5
         },
         "mode": "lines",
         "showlegend": false,
         "type": "scatter3d",
         "x": [
          -1.87915747070312,
          -1.9006187744140601
         ],
         "y": [
          -0.406147430419922,
          -0.501709167480469
         ],
         "z": [
          94.50646093750001,
          94.5043046875
         ]
        },
        {
         "color": "red",
         "i": [
          0
         ],
         "j": [
          1
         ],
         "k": [
          2
         ],
         "name": "69",
         "opacity": 1,
         "type": "mesh3d",
         "x": [
          -1.87937036132812,
          -1.9006187744140601,
          -1.87958312988281
         ],
         "y": [
          -0.40709490966796896,
          -0.501709167480469,
          -0.408042388916016
         ],
         "z": [
          94.3954140625,
          94.2822578125,
          94.2843671875
         ]
        },
        {
         "line": {
          "color": "rgb(0,0,0)",
          "width": 5
         },
         "mode": "lines",
         "showlegend": false,
         "type": "scatter3d",
         "x": [
          -1.87958312988281,
          -1.87937036132812
         ],
         "y": [
          -0.408042388916016,
          -0.40709490966796896
         ],
         "z": [
          94.2843671875,
          94.3954140625
         ]
        },
        {
         "line": {
          "color": "rgb(0,0,0)",
          "width": 5
         },
         "mode": "lines",
         "showlegend": false,
         "type": "scatter3d",
         "x": [
          -1.87937036132812,
          -1.9006187744140601
         ],
         "y": [
          -0.40709490966796896,
          -0.501709167480469
         ],
         "z": [
          94.3954140625,
          94.2822578125
         ]
        },
        {
         "line": {
          "color": "rgb(0,0,0)",
          "width": 5
         },
         "mode": "lines",
         "showlegend": false,
         "type": "scatter3d",
         "x": [
          -1.9006187744140601,
          -1.87958312988281
         ],
         "y": [
          -0.501709167480469,
          -0.408042388916016
         ],
         "z": [
          94.2822578125,
          94.2843671875
         ]
        },
        {
         "color": "red",
         "i": [
          0
         ],
         "j": [
          1
         ],
         "k": [
          2
         ],
         "name": "70",
         "opacity": 1,
         "type": "mesh3d",
         "x": [
          -1.9006187744140601,
          -1.9006187744140601,
          -1.87937036132812
         ],
         "y": [
          -0.501709167480469,
          -0.501709167480469,
          -0.40709490966796896
         ],
         "z": [
          94.5043046875,
          94.2822578125,
          94.3954140625
         ]
        },
        {
         "line": {
          "color": "rgb(0,0,0)",
          "width": 5
         },
         "mode": "lines",
         "showlegend": false,
         "type": "scatter3d",
         "x": [
          -1.87937036132812,
          -1.9006187744140601
         ],
         "y": [
          -0.40709490966796896,
          -0.501709167480469
         ],
         "z": [
          94.3954140625,
          94.5043046875
         ]
        },
        {
         "line": {
          "color": "rgb(0,0,0)",
          "width": 5
         },
         "mode": "lines",
         "showlegend": false,
         "type": "scatter3d",
         "x": [
          -1.9006187744140601,
          -1.9006187744140601
         ],
         "y": [
          -0.501709167480469,
          -0.501709167480469
         ],
         "z": [
          94.5043046875,
          94.2822578125
         ]
        },
        {
         "line": {
          "color": "rgb(0,0,0)",
          "width": 5
         },
         "mode": "lines",
         "showlegend": false,
         "type": "scatter3d",
         "x": [
          -1.9006187744140601,
          -1.87937036132812
         ],
         "y": [
          -0.501709167480469,
          -0.40709490966796896
         ],
         "z": [
          94.2822578125,
          94.3954140625
         ]
        },
        {
         "color": "red",
         "i": [
          0
         ],
         "j": [
          1
         ],
         "k": [
          2
         ],
         "name": "71",
         "opacity": 1,
         "type": "mesh3d",
         "x": [
          -1.8797958984375,
          -1.87958312988281,
          -1.9006187744140601
         ],
         "y": [
          -0.40898989868164104,
          -0.408042388916016,
          -0.501709167480469
         ],
         "z": [
          94.1733203125,
          94.2843671875,
          94.2822578125
         ]
        },
        {
         "line": {
          "color": "rgb(0,0,0)",
          "width": 5
         },
         "mode": "lines",
         "showlegend": false,
         "type": "scatter3d",
         "x": [
          -1.9006187744140601,
          -1.8797958984375
         ],
         "y": [
          -0.501709167480469,
          -0.40898989868164104
         ],
         "z": [
          94.2822578125,
          94.1733203125
         ]
        },
        {
         "line": {
          "color": "rgb(0,0,0)",
          "width": 5
         },
         "mode": "lines",
         "showlegend": false,
         "type": "scatter3d",
         "x": [
          -1.8797958984375,
          -1.87958312988281
         ],
         "y": [
          -0.40898989868164104,
          -0.408042388916016
         ],
         "z": [
          94.1733203125,
          94.2843671875
         ]
        },
        {
         "line": {
          "color": "rgb(0,0,0)",
          "width": 5
         },
         "mode": "lines",
         "showlegend": false,
         "type": "scatter3d",
         "x": [
          -1.87958312988281,
          -1.9006187744140601
         ],
         "y": [
          -0.408042388916016,
          -0.501709167480469
         ],
         "z": [
          94.2843671875,
          94.2822578125
         ]
        },
        {
         "color": "red",
         "i": [
          0
         ],
         "j": [
          1
         ],
         "k": [
          2
         ],
         "name": "72",
         "opacity": 1,
         "type": "mesh3d",
         "x": [
          -1.944392578125,
          -1.96627941894531,
          -1.9662794189452988
         ],
         "y": [
          -0.696622497558594,
          -0.794079223632812,
          -0.7940792236328091
         ],
         "z": [
          93.8337734375,
          94.26496875000001,
          93.83157812500004
         ]
        },
        {
         "line": {
          "color": "rgb(0,0,0)",
          "width": 5
         },
         "mode": "lines",
         "showlegend": false,
         "type": "scatter3d",
         "x": [
          -1.9662794189452988,
          -1.944392578125
         ],
         "y": [
          -0.7940792236328091,
          -0.696622497558594
         ],
         "z": [
          93.83157812500004,
          93.8337734375
         ]
        },
        {
         "line": {
          "color": "rgb(0,0,0)",
          "width": 5
         },
         "mode": "lines",
         "showlegend": false,
         "type": "scatter3d",
         "x": [
          -1.944392578125,
          -1.96627941894531
         ],
         "y": [
          -0.696622497558594,
          -0.794079223632812
         ],
         "z": [
          93.8337734375,
          94.26496875000001
         ]
        },
        {
         "line": {
          "color": "rgb(0,0,0)",
          "width": 5
         },
         "mode": "lines",
         "showlegend": false,
         "type": "scatter3d",
         "x": [
          -1.96627941894531,
          -1.9662794189452988
         ],
         "y": [
          -0.794079223632812,
          -0.7940792236328091
         ],
         "z": [
          94.26496875000001,
          93.83157812500004
         ]
        },
        {
         "color": "red",
         "i": [
          0
         ],
         "j": [
          1
         ],
         "k": [
          2
         ],
         "name": "73",
         "opacity": 1,
         "type": "mesh3d",
         "x": [
          -1.9006187744140601,
          -1.92250573730469,
          -1.9006187744140601
         ],
         "y": [
          -0.501709167480469,
          -0.599165832519531,
          -0.501709167480469
         ],
         "z": [
          94.0602109375,
          93.83596875,
          93.83815625
         ]
        },
        {
         "line": {
          "color": "rgb(0,0,0)",
          "width": 5
         },
         "mode": "lines",
         "showlegend": false,
         "type": "scatter3d",
         "x": [
          -1.9006187744140601,
          -1.9006187744140601
         ],
         "y": [
          -0.501709167480469,
          -0.501709167480469
         ],
         "z": [
          93.83815625,
          94.0602109375
         ]
        },
        {
         "line": {
          "color": "rgb(0,0,0)",
          "width": 5
         },
         "mode": "lines",
         "showlegend": false,
         "type": "scatter3d",
         "x": [
          -1.9006187744140601,
          -1.92250573730469
         ],
         "y": [
          -0.501709167480469,
          -0.599165832519531
         ],
         "z": [
          94.0602109375,
          93.83596875
         ]
        },
        {
         "line": {
          "color": "rgb(0,0,0)",
          "width": 5
         },
         "mode": "lines",
         "showlegend": false,
         "type": "scatter3d",
         "x": [
          -1.92250573730469,
          -1.9006187744140601
         ],
         "y": [
          -0.599165832519531,
          -0.501709167480469
         ],
         "z": [
          93.83596875,
          93.83815625
         ]
        },
        {
         "color": "red",
         "i": [
          0
         ],
         "j": [
          1
         ],
         "k": [
          2
         ],
         "name": "74",
         "opacity": 1,
         "type": "mesh3d",
         "x": [
          -1.9006187744140601,
          -1.88000866699219,
          -1.8797958984375
         ],
         "y": [
          -0.501709167480469,
          -0.40993737792968804,
          -0.40898989868164104
         ],
         "z": [
          94.0602109375,
          94.0622734375,
          94.1733203125
         ]
        },
        {
         "line": {
          "color": "rgb(0,0,0)",
          "width": 5
         },
         "mode": "lines",
         "showlegend": false,
         "type": "scatter3d",
         "x": [
          -1.8797958984375,
          -1.9006187744140601
         ],
         "y": [
          -0.40898989868164104,
          -0.501709167480469
         ],
         "z": [
          94.1733203125,
          94.0602109375
         ]
        },
        {
         "line": {
          "color": "rgb(0,0,0)",
          "width": 5
         },
         "mode": "lines",
         "showlegend": false,
         "type": "scatter3d",
         "x": [
          -1.9006187744140601,
          -1.88000866699219
         ],
         "y": [
          -0.501709167480469,
          -0.40993737792968804
         ],
         "z": [
          94.0602109375,
          94.0622734375
         ]
        },
        {
         "line": {
          "color": "rgb(0,0,0)",
          "width": 5
         },
         "mode": "lines",
         "showlegend": false,
         "type": "scatter3d",
         "x": [
          -1.88000866699219,
          -1.8797958984375
         ],
         "y": [
          -0.40993737792968804,
          -0.40898989868164104
         ],
         "z": [
          94.0622734375,
          94.1733203125
         ]
        },
        {
         "color": "red",
         "i": [
          0
         ],
         "j": [
          1
         ],
         "k": [
          2
         ],
         "name": "75",
         "opacity": 1,
         "type": "mesh3d",
         "x": [
          -1.88000866699219,
          -1.9006187744140601,
          -1.88022143554688
         ],
         "y": [
          -0.40993737792968804,
          -0.501709167480469,
          -0.410884857177734
         ],
         "z": [
          94.0622734375,
          94.0602109375,
          93.9512265625
         ]
        },
        {
         "line": {
          "color": "rgb(0,0,0)",
          "width": 5
         },
         "mode": "lines",
         "showlegend": false,
         "type": "scatter3d",
         "x": [
          -1.88022143554688,
          -1.88000866699219
         ],
         "y": [
          -0.410884857177734,
          -0.40993737792968804
         ],
         "z": [
          93.9512265625,
          94.0622734375
         ]
        },
        {
         "line": {
          "color": "rgb(0,0,0)",
          "width": 5
         },
         "mode": "lines",
         "showlegend": false,
         "type": "scatter3d",
         "x": [
          -1.88000866699219,
          -1.9006187744140601
         ],
         "y": [
          -0.40993737792968804,
          -0.501709167480469
         ],
         "z": [
          94.0622734375,
          94.0602109375
         ]
        },
        {
         "line": {
          "color": "rgb(0,0,0)",
          "width": 5
         },
         "mode": "lines",
         "showlegend": false,
         "type": "scatter3d",
         "x": [
          -1.9006187744140601,
          -1.88022143554688
         ],
         "y": [
          -0.501709167480469,
          -0.410884857177734
         ],
         "z": [
          94.0602109375,
          93.9512265625
         ]
        },
        {
         "color": "red",
         "i": [
          0
         ],
         "j": [
          1
         ],
         "k": [
          2
         ],
         "name": "76",
         "opacity": 1,
         "type": "mesh3d",
         "x": [
          -1.9006187744140601,
          -1.8797958984375,
          -1.9006187744140601
         ],
         "y": [
          -0.501709167480469,
          -0.40898989868164104,
          -0.501709167480469
         ],
         "z": [
          94.0602109375,
          94.1733203125,
          94.2822578125
         ]
        },
        {
         "line": {
          "color": "rgb(0,0,0)",
          "width": 5
         },
         "mode": "lines",
         "showlegend": false,
         "type": "scatter3d",
         "x": [
          -1.9006187744140601,
          -1.9006187744140601
         ],
         "y": [
          -0.501709167480469,
          -0.501709167480469
         ],
         "z": [
          94.2822578125,
          94.0602109375
         ]
        },
        {
         "line": {
          "color": "rgb(0,0,0)",
          "width": 5
         },
         "mode": "lines",
         "showlegend": false,
         "type": "scatter3d",
         "x": [
          -1.9006187744140601,
          -1.8797958984375
         ],
         "y": [
          -0.501709167480469,
          -0.40898989868164104
         ],
         "z": [
          94.0602109375,
          94.1733203125
         ]
        },
        {
         "line": {
          "color": "rgb(0,0,0)",
          "width": 5
         },
         "mode": "lines",
         "showlegend": false,
         "type": "scatter3d",
         "x": [
          -1.8797958984375,
          -1.9006187744140601
         ],
         "y": [
          -0.40898989868164104,
          -0.501709167480469
         ],
         "z": [
          94.1733203125,
          94.2822578125
         ]
        },
        {
         "color": "red",
         "i": [
          0
         ],
         "j": [
          1
         ],
         "k": [
          2
         ],
         "name": "77",
         "opacity": 1,
         "type": "mesh3d",
         "x": [
          -1.9006187744140601,
          -1.9006187744140601,
          -1.88022143554688
         ],
         "y": [
          -0.501709167480469,
          -0.501709167480469,
          -0.410884857177734
         ],
         "z": [
          94.0602109375,
          93.83815625,
          93.9512265625
         ]
        },
        {
         "line": {
          "color": "rgb(0,0,0)",
          "width": 5
         },
         "mode": "lines",
         "showlegend": false,
         "type": "scatter3d",
         "x": [
          -1.88022143554688,
          -1.9006187744140601
         ],
         "y": [
          -0.410884857177734,
          -0.501709167480469
         ],
         "z": [
          93.9512265625,
          94.0602109375
         ]
        },
        {
         "line": {
          "color": "rgb(0,0,0)",
          "width": 5
         },
         "mode": "lines",
         "showlegend": false,
         "type": "scatter3d",
         "x": [
          -1.9006187744140601,
          -1.9006187744140601
         ],
         "y": [
          -0.501709167480469,
          -0.501709167480469
         ],
         "z": [
          94.0602109375,
          93.83815625
         ]
        },
        {
         "line": {
          "color": "rgb(0,0,0)",
          "width": 5
         },
         "mode": "lines",
         "showlegend": false,
         "type": "scatter3d",
         "x": [
          -1.9006187744140601,
          -1.88022143554688
         ],
         "y": [
          -0.501709167480469,
          -0.410884857177734
         ],
         "z": [
          93.83815625,
          93.9512265625
         ]
        },
        {
         "color": "red",
         "i": [
          0
         ],
         "j": [
          1
         ],
         "k": [
          2
         ],
         "name": "78",
         "opacity": 1,
         "type": "mesh3d",
         "x": [
          -1.88022143554688,
          -1.9006187744140601,
          -1.88043420410156
         ],
         "y": [
          -0.410884857177734,
          -0.501709167480469,
          -0.41183233642578104
         ],
         "z": [
          93.9512265625,
          93.83815625,
          93.8401796875
         ]
        },
        {
         "line": {
          "color": "rgb(0,0,0)",
          "width": 5
         },
         "mode": "lines",
         "showlegend": false,
         "type": "scatter3d",
         "x": [
          -1.88043420410156,
          -1.88022143554688
         ],
         "y": [
          -0.41183233642578104,
          -0.410884857177734
         ],
         "z": [
          93.8401796875,
          93.9512265625
         ]
        },
        {
         "line": {
          "color": "rgb(0,0,0)",
          "width": 5
         },
         "mode": "lines",
         "showlegend": false,
         "type": "scatter3d",
         "x": [
          -1.88022143554688,
          -1.9006187744140601
         ],
         "y": [
          -0.410884857177734,
          -0.501709167480469
         ],
         "z": [
          93.9512265625,
          93.83815625
         ]
        },
        {
         "line": {
          "color": "rgb(0,0,0)",
          "width": 5
         },
         "mode": "lines",
         "showlegend": false,
         "type": "scatter3d",
         "x": [
          -1.9006187744140601,
          -1.88043420410156
         ],
         "y": [
          -0.501709167480469,
          -0.41183233642578104
         ],
         "z": [
          93.83815625,
          93.8401796875
         ]
        },
        {
         "color": "red",
         "i": [
          0
         ],
         "j": [
          1
         ],
         "k": [
          2
         ],
         "name": "79",
         "opacity": 1,
         "type": "mesh3d",
         "x": [
          -1.944392578125,
          -1.944392578125,
          -1.92250573730469
         ],
         "y": [
          -0.696622497558594,
          -0.696622497558594,
          -0.599165832519531
         ],
         "z": [
          94.4999140625,
          93.8337734375,
          94.2800625
         ]
        },
        {
         "line": {
          "color": "rgb(0,0,0)",
          "width": 5
         },
         "mode": "lines",
         "showlegend": false,
         "type": "scatter3d",
         "x": [
          -1.92250573730469,
          -1.944392578125
         ],
         "y": [
          -0.599165832519531,
          -0.696622497558594
         ],
         "z": [
          94.2800625,
          94.4999140625
         ]
        },
        {
         "line": {
          "color": "rgb(0,0,0)",
          "width": 5
         },
         "mode": "lines",
         "showlegend": false,
         "type": "scatter3d",
         "x": [
          -1.944392578125,
          -1.944392578125
         ],
         "y": [
          -0.696622497558594,
          -0.696622497558594
         ],
         "z": [
          94.4999140625,
          93.8337734375
         ]
        },
        {
         "line": {
          "color": "rgb(0,0,0)",
          "width": 5
         },
         "mode": "lines",
         "showlegend": false,
         "type": "scatter3d",
         "x": [
          -1.944392578125,
          -1.92250573730469
         ],
         "y": [
          -0.696622497558594,
          -0.599165832519531
         ],
         "z": [
          93.8337734375,
          94.2800625
         ]
        },
        {
         "color": "red",
         "i": [
          0
         ],
         "j": [
          1
         ],
         "k": [
          2
         ],
         "name": "80",
         "opacity": 1,
         "type": "mesh3d",
         "x": [
          -1.92250573730469,
          -1.944392578125,
          -1.92250573730469
         ],
         "y": [
          -0.599165832519531,
          -0.696622497558594,
          -0.599165832519531
         ],
         "z": [
          94.502109375,
          94.4999140625,
          94.2800625
         ]
        },
        {
         "line": {
          "color": "rgb(0,0,0)",
          "width": 5
         },
         "mode": "lines",
         "showlegend": false,
         "type": "scatter3d",
         "x": [
          -1.92250573730469,
          -1.92250573730469
         ],
         "y": [
          -0.599165832519531,
          -0.599165832519531
         ],
         "z": [
          94.2800625,
          94.502109375
         ]
        },
        {
         "line": {
          "color": "rgb(0,0,0)",
          "width": 5
         },
         "mode": "lines",
         "showlegend": false,
         "type": "scatter3d",
         "x": [
          -1.92250573730469,
          -1.944392578125
         ],
         "y": [
          -0.599165832519531,
          -0.696622497558594
         ],
         "z": [
          94.502109375,
          94.4999140625
         ]
        },
        {
         "line": {
          "color": "rgb(0,0,0)",
          "width": 5
         },
         "mode": "lines",
         "showlegend": false,
         "type": "scatter3d",
         "x": [
          -1.944392578125,
          -1.92250573730469
         ],
         "y": [
          -0.696622497558594,
          -0.599165832519531
         ],
         "z": [
          94.4999140625,
          94.2800625
         ]
        },
        {
         "color": "red",
         "i": [
          0
         ],
         "j": [
          1
         ],
         "k": [
          2
         ],
         "name": "81",
         "opacity": 1,
         "type": "mesh3d",
         "x": [
          -1.92250573730469,
          -1.92250573730469,
          -1.9006187744140601
         ],
         "y": [
          -0.599165832519531,
          -0.599165832519531,
          -0.501709167480469
         ],
         "z": [
          94.502109375,
          94.2800625,
          94.2822578125
         ]
        },
        {
         "line": {
          "color": "rgb(0,0,0)",
          "width": 5
         },
         "mode": "lines",
         "showlegend": false,
         "type": "scatter3d",
         "x": [
          -1.9006187744140601,
          -1.92250573730469
         ],
         "y": [
          -0.501709167480469,
          -0.599165832519531
         ],
         "z": [
          94.2822578125,
          94.502109375
         ]
        },
        {
         "line": {
          "color": "rgb(0,0,0)",
          "width": 5
         },
         "mode": "lines",
         "showlegend": false,
         "type": "scatter3d",
         "x": [
          -1.92250573730469,
          -1.92250573730469
         ],
         "y": [
          -0.599165832519531,
          -0.599165832519531
         ],
         "z": [
          94.502109375,
          94.2800625
         ]
        },
        {
         "line": {
          "color": "rgb(0,0,0)",
          "width": 5
         },
         "mode": "lines",
         "showlegend": false,
         "type": "scatter3d",
         "x": [
          -1.92250573730469,
          -1.9006187744140601
         ],
         "y": [
          -0.599165832519531,
          -0.501709167480469
         ],
         "z": [
          94.2800625,
          94.2822578125
         ]
        },
        {
         "color": "red",
         "i": [
          0
         ],
         "j": [
          1
         ],
         "k": [
          2
         ],
         "name": "82",
         "opacity": 1,
         "type": "mesh3d",
         "x": [
          -1.9006187744140601,
          -1.92250573730469,
          -1.9006187744140601
         ],
         "y": [
          -0.501709167480469,
          -0.599165832519531,
          -0.501709167480469
         ],
         "z": [
          94.5043046875,
          94.502109375,
          94.2822578125
         ]
        },
        {
         "line": {
          "color": "rgb(0,0,0)",
          "width": 5
         },
         "mode": "lines",
         "showlegend": false,
         "type": "scatter3d",
         "x": [
          -1.9006187744140601,
          -1.9006187744140601
         ],
         "y": [
          -0.501709167480469,
          -0.501709167480469
         ],
         "z": [
          94.2822578125,
          94.5043046875
         ]
        },
        {
         "line": {
          "color": "rgb(0,0,0)",
          "width": 5
         },
         "mode": "lines",
         "showlegend": false,
         "type": "scatter3d",
         "x": [
          -1.9006187744140601,
          -1.92250573730469
         ],
         "y": [
          -0.501709167480469,
          -0.599165832519531
         ],
         "z": [
          94.5043046875,
          94.502109375
         ]
        },
        {
         "line": {
          "color": "rgb(0,0,0)",
          "width": 5
         },
         "mode": "lines",
         "showlegend": false,
         "type": "scatter3d",
         "x": [
          -1.92250573730469,
          -1.9006187744140601
         ],
         "y": [
          -0.599165832519531,
          -0.501709167480469
         ],
         "z": [
          94.502109375,
          94.2822578125
         ]
        },
        {
         "color": "red",
         "i": [
          0
         ],
         "j": [
          1
         ],
         "k": [
          2
         ],
         "name": "83",
         "opacity": 1,
         "type": "mesh3d",
         "x": [
          -1.92250573730469,
          -1.944392578125,
          -1.92250573730469
         ],
         "y": [
          -0.599165832519531,
          -0.696622497558594,
          -0.599165832519531
         ],
         "z": [
          94.2800625,
          93.8337734375,
          93.83596875
         ]
        },
        {
         "line": {
          "color": "rgb(0,0,0)",
          "width": 5
         },
         "mode": "lines",
         "showlegend": false,
         "type": "scatter3d",
         "x": [
          -1.92250573730469,
          -1.92250573730469
         ],
         "y": [
          -0.599165832519531,
          -0.599165832519531
         ],
         "z": [
          93.83596875,
          94.2800625
         ]
        },
        {
         "line": {
          "color": "rgb(0,0,0)",
          "width": 5
         },
         "mode": "lines",
         "showlegend": false,
         "type": "scatter3d",
         "x": [
          -1.92250573730469,
          -1.944392578125
         ],
         "y": [
          -0.599165832519531,
          -0.696622497558594
         ],
         "z": [
          94.2800625,
          93.8337734375
         ]
        },
        {
         "line": {
          "color": "rgb(0,0,0)",
          "width": 5
         },
         "mode": "lines",
         "showlegend": false,
         "type": "scatter3d",
         "x": [
          -1.944392578125,
          -1.92250573730469
         ],
         "y": [
          -0.696622497558594,
          -0.599165832519531
         ],
         "z": [
          93.8337734375,
          93.83596875
         ]
        },
        {
         "color": "red",
         "i": [
          0
         ],
         "j": [
          1
         ],
         "k": [
          2
         ],
         "name": "84",
         "opacity": 1,
         "type": "mesh3d",
         "x": [
          -1.92250573730469,
          -1.92250573730469,
          -1.9006187744140601
         ],
         "y": [
          -0.599165832519531,
          -0.599165832519531,
          -0.501709167480469
         ],
         "z": [
          94.2800625,
          93.83596875,
          94.0602109375
         ]
        },
        {
         "line": {
          "color": "rgb(0,0,0)",
          "width": 5
         },
         "mode": "lines",
         "showlegend": false,
         "type": "scatter3d",
         "x": [
          -1.9006187744140601,
          -1.92250573730469
         ],
         "y": [
          -0.501709167480469,
          -0.599165832519531
         ],
         "z": [
          94.0602109375,
          94.2800625
         ]
        },
        {
         "line": {
          "color": "rgb(0,0,0)",
          "width": 5
         },
         "mode": "lines",
         "showlegend": false,
         "type": "scatter3d",
         "x": [
          -1.92250573730469,
          -1.92250573730469
         ],
         "y": [
          -0.599165832519531,
          -0.599165832519531
         ],
         "z": [
          94.2800625,
          93.83596875
         ]
        },
        {
         "line": {
          "color": "rgb(0,0,0)",
          "width": 5
         },
         "mode": "lines",
         "showlegend": false,
         "type": "scatter3d",
         "x": [
          -1.92250573730469,
          -1.9006187744140601
         ],
         "y": [
          -0.599165832519531,
          -0.501709167480469
         ],
         "z": [
          93.83596875,
          94.0602109375
         ]
        },
        {
         "color": "red",
         "i": [
          0
         ],
         "j": [
          1
         ],
         "k": [
          2
         ],
         "name": "85",
         "opacity": 1,
         "type": "mesh3d",
         "x": [
          -1.9006187744140601,
          -1.92250573730469,
          -1.9006187744140601
         ],
         "y": [
          -0.501709167480469,
          -0.599165832519531,
          -0.501709167480469
         ],
         "z": [
          94.2822578125,
          94.2800625,
          94.0602109375
         ]
        },
        {
         "line": {
          "color": "rgb(0,0,0)",
          "width": 5
         },
         "mode": "lines",
         "showlegend": false,
         "type": "scatter3d",
         "x": [
          -1.9006187744140601,
          -1.9006187744140601
         ],
         "y": [
          -0.501709167480469,
          -0.501709167480469
         ],
         "z": [
          94.0602109375,
          94.2822578125
         ]
        },
        {
         "line": {
          "color": "rgb(0,0,0)",
          "width": 5
         },
         "mode": "lines",
         "showlegend": false,
         "type": "scatter3d",
         "x": [
          -1.9006187744140601,
          -1.92250573730469
         ],
         "y": [
          -0.501709167480469,
          -0.599165832519531
         ],
         "z": [
          94.2822578125,
          94.2800625
         ]
        },
        {
         "line": {
          "color": "rgb(0,0,0)",
          "width": 5
         },
         "mode": "lines",
         "showlegend": false,
         "type": "scatter3d",
         "x": [
          -1.92250573730469,
          -1.9006187744140601
         ],
         "y": [
          -0.599165832519531,
          -0.501709167480469
         ],
         "z": [
          94.2800625,
          94.0602109375
         ]
        },
        {
         "color": "blue",
         "i": [
          0
         ],
         "j": [
          1
         ],
         "k": [
          2
         ],
         "name": "86",
         "opacity": 0.9,
         "type": "mesh3d",
         "x": [
          -1.9006187744140601,
          1.91522521972656,
          -1.88043420410156
         ],
         "y": [
          -0.501709167480469,
          -0.19378077697753202,
          -0.41183233642578104
         ],
         "z": [
          93.83815625,
          94.14421875000001,
          93.8401796875
         ]
        },
        {
         "line": {
          "color": "rgb(0,0,0)",
          "width": 5
         },
         "mode": "lines",
         "showlegend": false,
         "type": "scatter3d",
         "x": [
          -1.88043420410156,
          -1.9006187744140601
         ],
         "y": [
          -0.41183233642578104,
          -0.501709167480469
         ],
         "z": [
          93.8401796875,
          93.83815625
         ]
        },
        {
         "line": {
          "color": "rgb(0,0,0)",
          "width": 5
         },
         "mode": "lines",
         "showlegend": false,
         "type": "scatter3d",
         "x": [
          -1.9006187744140601,
          1.91522521972656
         ],
         "y": [
          -0.501709167480469,
          -0.19378077697753202
         ],
         "z": [
          93.83815625,
          94.14421875000001
         ]
        },
        {
         "line": {
          "color": "rgb(0,0,0)",
          "width": 5
         },
         "mode": "lines",
         "showlegend": false,
         "type": "scatter3d",
         "x": [
          1.91522521972656,
          -1.88043420410156
         ],
         "y": [
          -0.19378077697753202,
          -0.41183233642578104
         ],
         "z": [
          94.14421875000001,
          93.8401796875
         ]
        },
        {
         "color": "blue",
         "i": [
          0
         ],
         "j": [
          1
         ],
         "k": [
          2
         ],
         "name": "87",
         "opacity": 0.9,
         "type": "mesh3d",
         "x": [
          2.01137622070312,
          1.97847277832031,
          -1.92250573730469
         ],
         "y": [
          -0.469372924804688,
          -0.375063659667969,
          -0.599165832519531
         ],
         "z": [
          94.1506328125,
          94.1484375,
          93.83596875
         ]
        },
        {
         "line": {
          "color": "rgb(0,0,0)",
          "width": 5
         },
         "mode": "lines",
         "showlegend": false,
         "type": "scatter3d",
         "x": [
          -1.92250573730469,
          2.01137622070312
         ],
         "y": [
          -0.599165832519531,
          -0.469372924804688
         ],
         "z": [
          93.83596875,
          94.1506328125
         ]
        },
        {
         "line": {
          "color": "rgb(0,0,0)",
          "width": 5
         },
         "mode": "lines",
         "showlegend": false,
         "type": "scatter3d",
         "x": [
          2.01137622070312,
          1.97847277832031
         ],
         "y": [
          -0.469372924804688,
          -0.375063659667969
         ],
         "z": [
          94.1506328125,
          94.1484375
         ]
        },
        {
         "line": {
          "color": "rgb(0,0,0)",
          "width": 5
         },
         "mode": "lines",
         "showlegend": false,
         "type": "scatter3d",
         "x": [
          1.97847277832031,
          -1.92250573730469
         ],
         "y": [
          -0.375063659667969,
          -0.599165832519531
         ],
         "z": [
          94.1484375,
          93.83596875
         ]
        },
        {
         "color": "blue",
         "i": [
          0
         ],
         "j": [
          1
         ],
         "k": [
          2
         ],
         "name": "88",
         "opacity": 0.9,
         "type": "mesh3d",
         "x": [
          2.0442795410156203,
          2.01137622070312,
          -1.944392578125
         ],
         "y": [
          -0.5636821899414061,
          -0.469372924804688,
          -0.696622497558594
         ],
         "z": [
          94.1528203125,
          94.1506328125,
          93.8337734375
         ]
        },
        {
         "line": {
          "color": "rgb(0,0,0)",
          "width": 5
         },
         "mode": "lines",
         "showlegend": false,
         "type": "scatter3d",
         "x": [
          -1.944392578125,
          2.0442795410156203
         ],
         "y": [
          -0.696622497558594,
          -0.5636821899414061
         ],
         "z": [
          93.8337734375,
          94.1528203125
         ]
        },
        {
         "line": {
          "color": "rgb(0,0,0)",
          "width": 5
         },
         "mode": "lines",
         "showlegend": false,
         "type": "scatter3d",
         "x": [
          2.0442795410156203,
          2.01137622070312
         ],
         "y": [
          -0.5636821899414061,
          -0.469372924804688
         ],
         "z": [
          94.1528203125,
          94.1506328125
         ]
        },
        {
         "line": {
          "color": "rgb(0,0,0)",
          "width": 5
         },
         "mode": "lines",
         "showlegend": false,
         "type": "scatter3d",
         "x": [
          2.01137622070312,
          -1.944392578125
         ],
         "y": [
          -0.469372924804688,
          -0.696622497558594
         ],
         "z": [
          94.1506328125,
          93.8337734375
         ]
        },
        {
         "color": "blue",
         "i": [
          0
         ],
         "j": [
          1
         ],
         "k": [
          2
         ],
         "name": "89",
         "opacity": 0.9,
         "type": "mesh3d",
         "x": [
          1.91522521972656,
          -1.9006187744140601,
          1.97847277832031
         ],
         "y": [
          -0.19378077697753202,
          -0.501709167480469,
          -0.375063659667969
         ],
         "z": [
          94.14421875000001,
          93.83815625,
          94.1484375
         ]
        },
        {
         "line": {
          "color": "rgb(0,0,0)",
          "width": 5
         },
         "mode": "lines",
         "showlegend": false,
         "type": "scatter3d",
         "x": [
          1.97847277832031,
          1.91522521972656
         ],
         "y": [
          -0.375063659667969,
          -0.19378077697753202
         ],
         "z": [
          94.1484375,
          94.14421875000001
         ]
        },
        {
         "line": {
          "color": "rgb(0,0,0)",
          "width": 5
         },
         "mode": "lines",
         "showlegend": false,
         "type": "scatter3d",
         "x": [
          1.91522521972656,
          -1.9006187744140601
         ],
         "y": [
          -0.19378077697753202,
          -0.501709167480469
         ],
         "z": [
          94.14421875000001,
          93.83815625
         ]
        },
        {
         "line": {
          "color": "rgb(0,0,0)",
          "width": 5
         },
         "mode": "lines",
         "showlegend": false,
         "type": "scatter3d",
         "x": [
          -1.9006187744140601,
          1.97847277832031
         ],
         "y": [
          -0.501709167480469,
          -0.375063659667969
         ],
         "z": [
          93.83815625,
          94.1484375
         ]
        },
        {
         "color": "blue",
         "i": [
          0
         ],
         "j": [
          1
         ],
         "k": [
          2
         ],
         "name": "90",
         "opacity": 0.9,
         "type": "mesh3d",
         "x": [
          -1.92250573730469,
          1.97847277832031,
          -1.9006187744140601
         ],
         "y": [
          -0.599165832519531,
          -0.375063659667969,
          -0.501709167480469
         ],
         "z": [
          93.83596875,
          94.1484375,
          93.83815625
         ]
        },
        {
         "line": {
          "color": "rgb(0,0,0)",
          "width": 5
         },
         "mode": "lines",
         "showlegend": false,
         "type": "scatter3d",
         "x": [
          -1.9006187744140601,
          -1.92250573730469
         ],
         "y": [
          -0.501709167480469,
          -0.599165832519531
         ],
         "z": [
          93.83815625,
          93.83596875
         ]
        },
        {
         "line": {
          "color": "rgb(0,0,0)",
          "width": 5
         },
         "mode": "lines",
         "showlegend": false,
         "type": "scatter3d",
         "x": [
          -1.92250573730469,
          1.97847277832031
         ],
         "y": [
          -0.599165832519531,
          -0.375063659667969
         ],
         "z": [
          93.83596875,
          94.1484375
         ]
        },
        {
         "line": {
          "color": "rgb(0,0,0)",
          "width": 5
         },
         "mode": "lines",
         "showlegend": false,
         "type": "scatter3d",
         "x": [
          1.97847277832031,
          -1.9006187744140601
         ],
         "y": [
          -0.375063659667969,
          -0.501709167480469
         ],
         "z": [
          94.1484375,
          93.83815625
         ]
        },
        {
         "color": "blue",
         "i": [
          0
         ],
         "j": [
          1
         ],
         "k": [
          2
         ],
         "name": "91",
         "opacity": 0.9,
         "type": "mesh3d",
         "x": [
          -1.9662794189452988,
          2.0442795410156203,
          -1.944392578125
         ],
         "y": [
          -0.7940792236328091,
          -0.5636821899414061,
          -0.696622497558594
         ],
         "z": [
          93.83157812500004,
          94.1528203125,
          93.8337734375
         ]
        },
        {
         "line": {
          "color": "rgb(0,0,0)",
          "width": 5
         },
         "mode": "lines",
         "showlegend": false,
         "type": "scatter3d",
         "x": [
          -1.944392578125,
          -1.9662794189452988
         ],
         "y": [
          -0.696622497558594,
          -0.7940792236328091
         ],
         "z": [
          93.8337734375,
          93.83157812500004
         ]
        },
        {
         "line": {
          "color": "rgb(0,0,0)",
          "width": 5
         },
         "mode": "lines",
         "showlegend": false,
         "type": "scatter3d",
         "x": [
          -1.9662794189452988,
          2.0442795410156203
         ],
         "y": [
          -0.7940792236328091,
          -0.5636821899414061
         ],
         "z": [
          93.83157812500004,
          94.1528203125
         ]
        },
        {
         "line": {
          "color": "rgb(0,0,0)",
          "width": 5
         },
         "mode": "lines",
         "showlegend": false,
         "type": "scatter3d",
         "x": [
          2.0442795410156203,
          -1.944392578125
         ],
         "y": [
          -0.5636821899414061,
          -0.696622497558594
         ],
         "z": [
          94.1528203125,
          93.8337734375
         ]
        },
        {
         "color": "blue",
         "i": [
          0
         ],
         "j": [
          1
         ],
         "k": [
          2
         ],
         "name": "92",
         "opacity": 0.9,
         "type": "mesh3d",
         "x": [
          -1.944392578125,
          2.01137622070312,
          -1.92250573730469
         ],
         "y": [
          -0.696622497558594,
          -0.469372924804688,
          -0.599165832519531
         ],
         "z": [
          93.8337734375,
          94.1506328125,
          93.83596875
         ]
        },
        {
         "line": {
          "color": "rgb(0,0,0)",
          "width": 5
         },
         "mode": "lines",
         "showlegend": false,
         "type": "scatter3d",
         "x": [
          -1.92250573730469,
          -1.944392578125
         ],
         "y": [
          -0.599165832519531,
          -0.696622497558594
         ],
         "z": [
          93.83596875,
          93.8337734375
         ]
        },
        {
         "line": {
          "color": "rgb(0,0,0)",
          "width": 5
         },
         "mode": "lines",
         "showlegend": false,
         "type": "scatter3d",
         "x": [
          -1.944392578125,
          2.01137622070312
         ],
         "y": [
          -0.696622497558594,
          -0.469372924804688
         ],
         "z": [
          93.8337734375,
          94.1506328125
         ]
        },
        {
         "line": {
          "color": "rgb(0,0,0)",
          "width": 5
         },
         "mode": "lines",
         "showlegend": false,
         "type": "scatter3d",
         "x": [
          2.01137622070312,
          -1.92250573730469
         ],
         "y": [
          -0.469372924804688,
          -0.599165832519531
         ],
         "z": [
          94.1506328125,
          93.83596875
         ]
        },
        {
         "color": "red",
         "i": [
          0
         ],
         "j": [
          1
         ],
         "k": [
          2
         ],
         "name": "93",
         "opacity": 1,
         "type": "mesh3d",
         "x": [
          -3.461708984375,
          -1.95830688476562,
          -2.70759448242188
         ],
         "y": [
          -0.879988037109375,
          -0.758579467773438,
          -0.766606689453125
         ],
         "z": [
          94.4341015625,
          94.6313515625,
          94.6481015625
         ]
        },
        {
         "line": {
          "color": "rgb(0,0,0)",
          "width": 5
         },
         "mode": "lines",
         "showlegend": false,
         "type": "scatter3d",
         "x": [
          -2.70759448242188,
          -3.461708984375
         ],
         "y": [
          -0.766606689453125,
          -0.879988037109375
         ],
         "z": [
          94.6481015625,
          94.4341015625
         ]
        },
        {
         "line": {
          "color": "rgb(0,0,0)",
          "width": 5
         },
         "mode": "lines",
         "showlegend": false,
         "type": "scatter3d",
         "x": [
          -3.461708984375,
          -1.95830688476562
         ],
         "y": [
          -0.879988037109375,
          -0.758579467773438
         ],
         "z": [
          94.4341015625,
          94.6313515625
         ]
        },
        {
         "line": {
          "color": "rgb(0,0,0)",
          "width": 5
         },
         "mode": "lines",
         "showlegend": false,
         "type": "scatter3d",
         "x": [
          -1.95830688476562,
          -2.70759448242188
         ],
         "y": [
          -0.758579467773438,
          -0.766606689453125
         ],
         "z": [
          94.6313515625,
          94.6481015625
         ]
        },
        {
         "color": "red",
         "i": [
          0
         ],
         "j": [
          1
         ],
         "k": [
          2
         ],
         "name": "94",
         "opacity": 1,
         "type": "mesh3d",
         "x": [
          -2.70759448242188,
          -3.46485473632812,
          -3.461708984375
         ],
         "y": [
          -0.766606689453125,
          -0.8101339111328121,
          -0.879988037109375
         ],
         "z": [
          94.6481015625,
          94.5873828125,
          94.4341015625
         ]
        },
        {
         "line": {
          "color": "rgb(0,0,0)",
          "width": 5
         },
         "mode": "lines",
         "showlegend": false,
         "type": "scatter3d",
         "x": [
          -3.461708984375,
          -2.70759448242188
         ],
         "y": [
          -0.879988037109375,
          -0.766606689453125
         ],
         "z": [
          94.4341015625,
          94.6481015625
         ]
        },
        {
         "line": {
          "color": "rgb(0,0,0)",
          "width": 5
         },
         "mode": "lines",
         "showlegend": false,
         "type": "scatter3d",
         "x": [
          -2.70759448242188,
          -3.46485473632812
         ],
         "y": [
          -0.766606689453125,
          -0.8101339111328121
         ],
         "z": [
          94.6481015625,
          94.5873828125
         ]
        },
        {
         "line": {
          "color": "rgb(0,0,0)",
          "width": 5
         },
         "mode": "lines",
         "showlegend": false,
         "type": "scatter3d",
         "x": [
          -3.46485473632812,
          -3.461708984375
         ],
         "y": [
          -0.8101339111328121,
          -0.879988037109375
         ],
         "z": [
          94.5873828125,
          94.4341015625
         ]
        },
        {
         "color": "red",
         "i": [
          0
         ],
         "j": [
          1
         ],
         "k": [
          2
         ],
         "name": "95",
         "opacity": 1,
         "type": "mesh3d",
         "x": [
          -1.95830688476562,
          -1.95033435058594,
          -2.70759448242188
         ],
         "y": [
          -0.758579467773438,
          -0.7230797119140621,
          -0.766606689453125
         ],
         "z": [
          94.6313515625,
          94.70881250000001,
          94.6481015625
         ]
        },
        {
         "line": {
          "color": "rgb(0,0,0)",
          "width": 5
         },
         "mode": "lines",
         "showlegend": false,
         "type": "scatter3d",
         "x": [
          -2.70759448242188,
          -1.95830688476562
         ],
         "y": [
          -0.766606689453125,
          -0.758579467773438
         ],
         "z": [
          94.6481015625,
          94.6313515625
         ]
        },
        {
         "line": {
          "color": "rgb(0,0,0)",
          "width": 5
         },
         "mode": "lines",
         "showlegend": false,
         "type": "scatter3d",
         "x": [
          -1.95830688476562,
          -1.95033435058594
         ],
         "y": [
          -0.758579467773438,
          -0.7230797119140621
         ],
         "z": [
          94.6313515625,
          94.70881250000001
         ]
        },
        {
         "line": {
          "color": "rgb(0,0,0)",
          "width": 5
         },
         "mode": "lines",
         "showlegend": false,
         "type": "scatter3d",
         "x": [
          -1.95033435058594,
          -2.70759448242188
         ],
         "y": [
          -0.7230797119140621,
          -0.766606689453125
         ],
         "z": [
          94.70881250000001,
          94.6481015625
         ]
        },
        {
         "color": "red",
         "i": [
          0
         ],
         "j": [
          1
         ],
         "k": [
          2
         ],
         "name": "96",
         "opacity": 1,
         "type": "mesh3d",
         "x": [
          -3.461708984375,
          -1.96627941894531,
          -1.95830688476562
         ],
         "y": [
          -0.879988037109375,
          -0.794079223632812,
          -0.758579467773438
         ],
         "z": [
          94.4341015625,
          94.55389062500001,
          94.6313515625
         ]
        },
        {
         "line": {
          "color": "rgb(0,0,0)",
          "width": 5
         },
         "mode": "lines",
         "showlegend": false,
         "type": "scatter3d",
         "x": [
          -1.95830688476562,
          -3.461708984375
         ],
         "y": [
          -0.758579467773438,
          -0.879988037109375
         ],
         "z": [
          94.6313515625,
          94.4341015625
         ]
        },
        {
         "line": {
          "color": "rgb(0,0,0)",
          "width": 5
         },
         "mode": "lines",
         "showlegend": false,
         "type": "scatter3d",
         "x": [
          -3.461708984375,
          -1.96627941894531
         ],
         "y": [
          -0.879988037109375,
          -0.794079223632812
         ],
         "z": [
          94.4341015625,
          94.55389062500001
         ]
        },
        {
         "line": {
          "color": "rgb(0,0,0)",
          "width": 5
         },
         "mode": "lines",
         "showlegend": false,
         "type": "scatter3d",
         "x": [
          -1.96627941894531,
          -1.95830688476562
         ],
         "y": [
          -0.794079223632812,
          -0.758579467773438
         ],
         "z": [
          94.55389062500001,
          94.6313515625
         ]
        },
        {
         "color": "red",
         "i": [
          0
         ],
         "j": [
          1
         ],
         "k": [
          2
         ],
         "name": "97",
         "opacity": 1,
         "type": "mesh3d",
         "x": [
          2.03227319335938,
          2.0442795410156203,
          3.5339973144531203
         ],
         "y": [
          -0.529268981933594,
          -0.5636821899414061,
          -0.478101470947266
         ],
         "z": [
          94.9511484375,
          94.87515625,
          94.9944921875
         ]
        },
        {
         "line": {
          "color": "rgb(0,0,0)",
          "width": 5
         },
         "mode": "lines",
         "showlegend": false,
         "type": "scatter3d",
         "x": [
          3.5339973144531203,
          2.03227319335938
         ],
         "y": [
          -0.478101470947266,
          -0.529268981933594
         ],
         "z": [
          94.9944921875,
          94.9511484375
         ]
        },
        {
         "line": {
          "color": "rgb(0,0,0)",
          "width": 5
         },
         "mode": "lines",
         "showlegend": false,
         "type": "scatter3d",
         "x": [
          2.03227319335938,
          2.0442795410156203
         ],
         "y": [
          -0.529268981933594,
          -0.5636821899414061
         ],
         "z": [
          94.9511484375,
          94.87515625
         ]
        },
        {
         "line": {
          "color": "rgb(0,0,0)",
          "width": 5
         },
         "mode": "lines",
         "showlegend": false,
         "type": "scatter3d",
         "x": [
          2.0442795410156203,
          3.5339973144531203
         ],
         "y": [
          -0.5636821899414061,
          -0.478101470947266
         ],
         "z": [
          94.87515625,
          94.9944921875
         ]
        },
        {
         "color": "red",
         "i": [
          0
         ],
         "j": [
          1
         ],
         "k": [
          2
         ],
         "name": "98",
         "opacity": 1,
         "type": "mesh3d",
         "x": [
          2.77563793945312,
          2.02026684570312,
          2.03227319335938
         ],
         "y": [
          -0.451438934326172,
          -0.49485574340820304,
          -0.529268981933594
         ],
         "z": [
          95.087703125,
          95.0271484375,
          94.9511484375
         ]
        },
        {
         "line": {
          "color": "rgb(0,0,0)",
          "width": 5
         },
         "mode": "lines",
         "showlegend": false,
         "type": "scatter3d",
         "x": [
          2.03227319335938,
          2.77563793945312
         ],
         "y": [
          -0.529268981933594,
          -0.451438934326172
         ],
         "z": [
          94.9511484375,
          95.087703125
         ]
        },
        {
         "line": {
          "color": "rgb(0,0,0)",
          "width": 5
         },
         "mode": "lines",
         "showlegend": false,
         "type": "scatter3d",
         "x": [
          2.77563793945312,
          2.02026684570312
         ],
         "y": [
          -0.451438934326172,
          -0.49485574340820304
         ],
         "z": [
          95.087703125,
          95.0271484375
         ]
        },
        {
         "line": {
          "color": "rgb(0,0,0)",
          "width": 5
         },
         "mode": "lines",
         "showlegend": false,
         "type": "scatter3d",
         "x": [
          2.02026684570312,
          2.03227319335938
         ],
         "y": [
          -0.49485574340820304,
          -0.529268981933594
         ],
         "z": [
          95.0271484375,
          94.9511484375
         ]
        },
        {
         "color": "red",
         "i": [
          0
         ],
         "j": [
          1
         ],
         "k": [
          2
         ],
         "name": "99",
         "opacity": 1,
         "type": "mesh3d",
         "x": [
          2.03227319335938,
          3.5339973144531203,
          2.77563793945312
         ],
         "y": [
          -0.529268981933594,
          -0.478101470947266,
          -0.451438934326172
         ],
         "z": [
          94.9511484375,
          94.9944921875,
          95.087703125
         ]
        },
        {
         "line": {
          "color": "rgb(0,0,0)",
          "width": 5
         },
         "mode": "lines",
         "showlegend": false,
         "type": "scatter3d",
         "x": [
          2.77563793945312,
          2.03227319335938
         ],
         "y": [
          -0.451438934326172,
          -0.529268981933594
         ],
         "z": [
          95.087703125,
          94.9511484375
         ]
        },
        {
         "line": {
          "color": "rgb(0,0,0)",
          "width": 5
         },
         "mode": "lines",
         "showlegend": false,
         "type": "scatter3d",
         "x": [
          2.03227319335938,
          3.5339973144531203
         ],
         "y": [
          -0.529268981933594,
          -0.478101470947266
         ],
         "z": [
          94.9511484375,
          94.9944921875
         ]
        },
        {
         "line": {
          "color": "rgb(0,0,0)",
          "width": 5
         },
         "mode": "lines",
         "showlegend": false,
         "type": "scatter3d",
         "x": [
          3.5339973144531203,
          2.77563793945312
         ],
         "y": [
          -0.478101470947266,
          -0.451438934326172
         ],
         "z": [
          94.9944921875,
          95.087703125
         ]
        },
        {
         "color": "red",
         "i": [
          0
         ],
         "j": [
          1
         ],
         "k": [
          2
         ],
         "name": "100",
         "opacity": 1,
         "type": "mesh3d",
         "x": [
          2.77563793945312,
          3.5339973144531203,
          3.5310092773437503
         ],
         "y": [
          -0.451438934326172,
          -0.478101470947266,
          -0.40802233886718803
         ],
         "z": [
          95.087703125,
          94.9944921875,
          95.1482578125
         ]
        },
        {
         "line": {
          "color": "rgb(0,0,0)",
          "width": 5
         },
         "mode": "lines",
         "showlegend": false,
         "type": "scatter3d",
         "x": [
          3.5310092773437503,
          2.77563793945312
         ],
         "y": [
          -0.40802233886718803,
          -0.451438934326172
         ],
         "z": [
          95.1482578125,
          95.087703125
         ]
        },
        {
         "line": {
          "color": "rgb(0,0,0)",
          "width": 5
         },
         "mode": "lines",
         "showlegend": false,
         "type": "scatter3d",
         "x": [
          2.77563793945312,
          3.5339973144531203
         ],
         "y": [
          -0.451438934326172,
          -0.478101470947266
         ],
         "z": [
          95.087703125,
          94.9944921875
         ]
        },
        {
         "line": {
          "color": "rgb(0,0,0)",
          "width": 5
         },
         "mode": "lines",
         "showlegend": false,
         "type": "scatter3d",
         "x": [
          3.5339973144531203,
          3.5310092773437503
         ],
         "y": [
          -0.478101470947266,
          -0.40802233886718803
         ],
         "z": [
          94.9944921875,
          95.1482578125
         ]
        },
        {
         "color": "blue",
         "i": [
          0
         ],
         "j": [
          1
         ],
         "k": [
          2
         ],
         "name": "101",
         "opacity": 0.9,
         "type": "mesh3d",
         "x": [
          0.00969862842559814,
          -1.74378161621094,
          -0.930882507324219
         ],
         "y": [
          -0.0419538383483887,
          -0.142599624633789,
          -0.349800659179688
         ],
         "z": [
          94.891078125,
          94.7505625,
          94.8044921875
         ]
        },
        {
         "line": {
          "color": "rgb(0,0,0)",
          "width": 5
         },
         "mode": "lines",
         "showlegend": false,
         "type": "scatter3d",
         "x": [
          -0.930882507324219,
          0.00969862842559814
         ],
         "y": [
          -0.349800659179688,
          -0.0419538383483887
         ],
         "z": [
          94.8044921875,
          94.891078125
         ]
        },
        {
         "line": {
          "color": "rgb(0,0,0)",
          "width": 5
         },
         "mode": "lines",
         "showlegend": false,
         "type": "scatter3d",
         "x": [
          0.00969862842559814,
          -1.74378161621094
         ],
         "y": [
          -0.0419538383483887,
          -0.142599624633789
         ],
         "z": [
          94.891078125,
          94.7505625
         ]
        },
        {
         "line": {
          "color": "rgb(0,0,0)",
          "width": 5
         },
         "mode": "lines",
         "showlegend": false,
         "type": "scatter3d",
         "x": [
          -1.74378161621094,
          -0.930882507324219
         ],
         "y": [
          -0.142599624633789,
          -0.349800659179688
         ],
         "z": [
          94.7505625,
          94.8044921875
         ]
        },
        {
         "color": "blue",
         "i": [
          0
         ],
         "j": [
          1
         ],
         "k": [
          2
         ],
         "name": "102",
         "opacity": 0.9,
         "type": "mesh3d",
         "x": [
          -0.00717679977416992,
          0.8303886108398439,
          -0.054057285308837896
         ],
         "y": [
          0.23957962036132802,
          0.548528198242188,
          0.49771890258789103
         ],
         "z": [
          94.9023046875,
          94.9809609375,
          94.9102421875
         ]
        },
        {
         "line": {
          "color": "rgb(0,0,0)",
          "width": 5
         },
         "mode": "lines",
         "showlegend": false,
         "type": "scatter3d",
         "x": [
          -0.054057285308837896,
          -0.00717679977416992
         ],
         "y": [
          0.49771890258789103,
          0.23957962036132802
         ],
         "z": [
          94.9102421875,
          94.9023046875
         ]
        },
        {
         "line": {
          "color": "rgb(0,0,0)",
          "width": 5
         },
         "mode": "lines",
         "showlegend": false,
         "type": "scatter3d",
         "x": [
          -0.00717679977416992,
          0.8303886108398439
         ],
         "y": [
          0.23957962036132802,
          0.548528198242188
         ],
         "z": [
          94.9023046875,
          94.9809609375
         ]
        },
        {
         "line": {
          "color": "rgb(0,0,0)",
          "width": 5
         },
         "mode": "lines",
         "showlegend": false,
         "type": "scatter3d",
         "x": [
          0.8303886108398439,
          -0.054057285308837896
         ],
         "y": [
          0.548528198242188,
          0.49771890258789103
         ],
         "z": [
          94.9809609375,
          94.9102421875
         ]
        },
        {
         "color": "blue",
         "i": [
          0
         ],
         "j": [
          1
         ],
         "k": [
          2
         ],
         "name": "103",
         "opacity": 0.9,
         "type": "mesh3d",
         "x": [
          1.74614660644531,
          0.8303886108398439,
          -0.00717679977416992
         ],
         "y": [
          0.342861785888672,
          0.548528198242188,
          0.23957962036132802
         ],
         "z": [
          95.0428203125,
          94.9809609375,
          94.9023046875
         ]
        },
        {
         "line": {
          "color": "rgb(0,0,0)",
          "width": 5
         },
         "mode": "lines",
         "showlegend": false,
         "type": "scatter3d",
         "x": [
          -0.00717679977416992,
          1.74614660644531
         ],
         "y": [
          0.23957962036132802,
          0.342861785888672
         ],
         "z": [
          94.9023046875,
          95.0428203125
         ]
        },
        {
         "line": {
          "color": "rgb(0,0,0)",
          "width": 5
         },
         "mode": "lines",
         "showlegend": false,
         "type": "scatter3d",
         "x": [
          1.74614660644531,
          0.8303886108398439
         ],
         "y": [
          0.342861785888672,
          0.548528198242188
         ],
         "z": [
          95.0428203125,
          94.9809609375
         ]
        },
        {
         "line": {
          "color": "rgb(0,0,0)",
          "width": 5
         },
         "mode": "lines",
         "showlegend": false,
         "type": "scatter3d",
         "x": [
          0.8303886108398439,
          -0.00717679977416992
         ],
         "y": [
          0.548528198242188,
          0.23957962036132802
         ],
         "z": [
          94.9809609375,
          94.9023046875
         ]
        },
        {
         "color": "blue",
         "i": [
          0
         ],
         "j": [
          1
         ],
         "k": [
          2
         ],
         "name": "104",
         "opacity": 0.9,
         "type": "mesh3d",
         "x": [
          3.48372485351562,
          1.74614660644531,
          3.5050283203125
         ],
         "y": [
          0.700955993652344,
          0.342861785888672,
          0.20131491088867198
         ],
         "z": [
          95.193140625,
          95.0428203125,
          95.173046875
         ]
        },
        {
         "line": {
          "color": "rgb(0,0,0)",
          "width": 5
         },
         "mode": "lines",
         "showlegend": false,
         "type": "scatter3d",
         "x": [
          3.5050283203125,
          3.48372485351562
         ],
         "y": [
          0.20131491088867198,
          0.700955993652344
         ],
         "z": [
          95.173046875,
          95.193140625
         ]
        },
        {
         "line": {
          "color": "rgb(0,0,0)",
          "width": 5
         },
         "mode": "lines",
         "showlegend": false,
         "type": "scatter3d",
         "x": [
          3.48372485351562,
          1.74614660644531
         ],
         "y": [
          0.700955993652344,
          0.342861785888672
         ],
         "z": [
          95.193140625,
          95.0428203125
         ]
        },
        {
         "line": {
          "color": "rgb(0,0,0)",
          "width": 5
         },
         "mode": "lines",
         "showlegend": false,
         "type": "scatter3d",
         "x": [
          1.74614660644531,
          3.5050283203125
         ],
         "y": [
          0.342861785888672,
          0.20131491088867198
         ],
         "z": [
          95.0428203125,
          95.173046875
         ]
        },
        {
         "color": "blue",
         "i": [
          0
         ],
         "j": [
          1
         ],
         "k": [
          2
         ],
         "name": "105",
         "opacity": 0.9,
         "type": "mesh3d",
         "x": [
          3.48372485351562,
          0.8303886108398439,
          1.74614660644531
         ],
         "y": [
          0.700955993652344,
          0.548528198242188,
          0.342861785888672
         ],
         "z": [
          95.193140625,
          94.9809609375,
          95.0428203125
         ]
        },
        {
         "line": {
          "color": "rgb(0,0,0)",
          "width": 5
         },
         "mode": "lines",
         "showlegend": false,
         "type": "scatter3d",
         "x": [
          1.74614660644531,
          3.48372485351562
         ],
         "y": [
          0.342861785888672,
          0.700955993652344
         ],
         "z": [
          95.0428203125,
          95.193140625
         ]
        },
        {
         "line": {
          "color": "rgb(0,0,0)",
          "width": 5
         },
         "mode": "lines",
         "showlegend": false,
         "type": "scatter3d",
         "x": [
          3.48372485351562,
          0.8303886108398439
         ],
         "y": [
          0.700955993652344,
          0.548528198242188
         ],
         "z": [
          95.193140625,
          94.9809609375
         ]
        },
        {
         "line": {
          "color": "rgb(0,0,0)",
          "width": 5
         },
         "mode": "lines",
         "showlegend": false,
         "type": "scatter3d",
         "x": [
          0.8303886108398439,
          1.74614660644531
         ],
         "y": [
          0.548528198242188,
          0.342861785888672
         ],
         "z": [
          94.9809609375,
          95.0428203125
         ]
        },
        {
         "color": "blue",
         "i": [
          0
         ],
         "j": [
          1
         ],
         "k": [
          2
         ],
         "name": "106",
         "opacity": 0.9,
         "type": "mesh3d",
         "x": [
          0.964816467285156,
          1.76317895507812,
          0.00969862842559814
         ],
         "y": [
          -0.24089697265625,
          0.0586919441223145,
          -0.0419538383483887
         ],
         "z": [
          94.95637500000001,
          95.0315859375,
          94.891078125
         ]
        },
        {
         "line": {
          "color": "rgb(0,0,0)",
          "width": 5
         },
         "mode": "lines",
         "showlegend": false,
         "type": "scatter3d",
         "x": [
          0.00969862842559814,
          0.964816467285156
         ],
         "y": [
          -0.0419538383483887,
          -0.24089697265625
         ],
         "z": [
          94.891078125,
          94.95637500000001
         ]
        },
        {
         "line": {
          "color": "rgb(0,0,0)",
          "width": 5
         },
         "mode": "lines",
         "showlegend": false,
         "type": "scatter3d",
         "x": [
          0.964816467285156,
          1.76317895507812
         ],
         "y": [
          -0.24089697265625,
          0.0586919441223145
         ],
         "z": [
          94.95637500000001,
          95.0315859375
         ]
        },
        {
         "line": {
          "color": "rgb(0,0,0)",
          "width": 5
         },
         "mode": "lines",
         "showlegend": false,
         "type": "scatter3d",
         "x": [
          1.76317895507812,
          0.00969862842559814
         ],
         "y": [
          0.0586919441223145,
          -0.0419538383483887
         ],
         "z": [
          95.0315859375,
          94.891078125
         ]
        },
        {
         "color": "blue",
         "i": [
          0
         ],
         "j": [
          1
         ],
         "k": [
          2
         ],
         "name": "107",
         "opacity": 0.9,
         "type": "mesh3d",
         "x": [
          3.5050283203125,
          1.74614660644531,
          1.76317895507812
         ],
         "y": [
          0.20131491088867198,
          0.342861785888672,
          0.0586919441223145
         ],
         "z": [
          95.173046875,
          95.0428203125,
          95.0315859375
         ]
        },
        {
         "line": {
          "color": "rgb(0,0,0)",
          "width": 5
         },
         "mode": "lines",
         "showlegend": false,
         "type": "scatter3d",
         "x": [
          1.76317895507812,
          3.5050283203125
         ],
         "y": [
          0.0586919441223145,
          0.20131491088867198
         ],
         "z": [
          95.0315859375,
          95.173046875
         ]
        },
        {
         "line": {
          "color": "rgb(0,0,0)",
          "width": 5
         },
         "mode": "lines",
         "showlegend": false,
         "type": "scatter3d",
         "x": [
          3.5050283203125,
          1.74614660644531
         ],
         "y": [
          0.20131491088867198,
          0.342861785888672
         ],
         "z": [
          95.173046875,
          95.0428203125
         ]
        },
        {
         "line": {
          "color": "rgb(0,0,0)",
          "width": 5
         },
         "mode": "lines",
         "showlegend": false,
         "type": "scatter3d",
         "x": [
          1.74614660644531,
          1.76317895507812
         ],
         "y": [
          0.342861785888672,
          0.0586919441223145
         ],
         "z": [
          95.0428203125,
          95.0315859375
         ]
        },
        {
         "color": "blue",
         "i": [
          0
         ],
         "j": [
          1
         ],
         "k": [
          2
         ],
         "name": "108",
         "opacity": 0.9,
         "type": "mesh3d",
         "x": [
          3.5050283203125,
          1.76317895507812,
          1.91266589355469
         ],
         "y": [
          0.20131491088867198,
          0.0586919441223145,
          -0.186445144653306
         ],
         "z": [
          95.173046875,
          95.0315859375,
          95.0323125
         ]
        },
        {
         "line": {
          "color": "rgb(0,0,0)",
          "width": 5
         },
         "mode": "lines",
         "showlegend": false,
         "type": "scatter3d",
         "x": [
          1.91266589355469,
          3.5050283203125
         ],
         "y": [
          -0.186445144653306,
          0.20131491088867198
         ],
         "z": [
          95.0323125,
          95.173046875
         ]
        },
        {
         "line": {
          "color": "rgb(0,0,0)",
          "width": 5
         },
         "mode": "lines",
         "showlegend": false,
         "type": "scatter3d",
         "x": [
          3.5050283203125,
          1.76317895507812
         ],
         "y": [
          0.20131491088867198,
          0.0586919441223145
         ],
         "z": [
          95.173046875,
          95.0315859375
         ]
        },
        {
         "line": {
          "color": "rgb(0,0,0)",
          "width": 5
         },
         "mode": "lines",
         "showlegend": false,
         "type": "scatter3d",
         "x": [
          1.76317895507812,
          1.91266589355469
         ],
         "y": [
          0.0586919441223145,
          -0.186445144653306
         ],
         "z": [
          95.0315859375,
          95.0323125
         ]
        },
        {
         "color": "blue",
         "i": [
          0
         ],
         "j": [
          1
         ],
         "k": [
          2
         ],
         "name": "109",
         "opacity": 0.9,
         "type": "mesh3d",
         "x": [
          -1.7605002441406201,
          -2.6496137695312503,
          -3.51412255859375
         ],
         "y": [
          0.136297454833984,
          0.348610412597656,
          0.283867919921875
         ],
         "z": [
          94.761796875,
          94.7027265625,
          94.63290625
         ]
        },
        {
         "line": {
          "color": "rgb(0,0,0)",
          "width": 5
         },
         "mode": "lines",
         "showlegend": false,
         "type": "scatter3d",
         "x": [
          -3.51412255859375,
          -1.7605002441406201
         ],
         "y": [
          0.283867919921875,
          0.136297454833984
         ],
         "z": [
          94.63290625,
          94.761796875
         ]
        },
        {
         "line": {
          "color": "rgb(0,0,0)",
          "width": 5
         },
         "mode": "lines",
         "showlegend": false,
         "type": "scatter3d",
         "x": [
          -1.7605002441406201,
          -2.6496137695312503
         ],
         "y": [
          0.136297454833984,
          0.348610412597656
         ],
         "z": [
          94.761796875,
          94.7027265625
         ]
        },
        {
         "line": {
          "color": "rgb(0,0,0)",
          "width": 5
         },
         "mode": "lines",
         "showlegend": false,
         "type": "scatter3d",
         "x": [
          -2.6496137695312503,
          -3.51412255859375
         ],
         "y": [
          0.348610412597656,
          0.283867919921875
         ],
         "z": [
          94.7027265625,
          94.63290625
         ]
        },
        {
         "color": "blue",
         "i": [
          0
         ],
         "j": [
          1
         ],
         "k": [
          2
         ],
         "name": "110",
         "opacity": 0.9,
         "type": "mesh3d",
         "x": [
          -1.7605002441406201,
          -1.78442797851562,
          -2.6496137695312503
         ],
         "y": [
          0.136297454833984,
          0.398313262939453,
          0.348610412597656
         ],
         "z": [
          94.761796875,
          94.771890625,
          94.7027265625
         ]
        },
        {
         "line": {
          "color": "rgb(0,0,0)",
          "width": 5
         },
         "mode": "lines",
         "showlegend": false,
         "type": "scatter3d",
         "x": [
          -2.6496137695312503,
          -1.7605002441406201
         ],
         "y": [
          0.348610412597656,
          0.136297454833984
         ],
         "z": [
          94.7027265625,
          94.761796875
         ]
        },
        {
         "line": {
          "color": "rgb(0,0,0)",
          "width": 5
         },
         "mode": "lines",
         "showlegend": false,
         "type": "scatter3d",
         "x": [
          -1.7605002441406201,
          -1.78442797851562
         ],
         "y": [
          0.136297454833984,
          0.398313262939453
         ],
         "z": [
          94.761796875,
          94.771890625
         ]
        },
        {
         "line": {
          "color": "rgb(0,0,0)",
          "width": 5
         },
         "mode": "lines",
         "showlegend": false,
         "type": "scatter3d",
         "x": [
          -1.78442797851562,
          -2.6496137695312503
         ],
         "y": [
          0.398313262939453,
          0.348610412597656
         ],
         "z": [
          94.771890625,
          94.7027265625
         ]
        },
        {
         "color": "blue",
         "i": [
          0
         ],
         "j": [
          1
         ],
         "k": [
          2
         ],
         "name": "111",
         "opacity": 0.9,
         "type": "mesh3d",
         "x": [
          -1.7605002441406201,
          -0.919242553710938,
          -1.78442797851562
         ],
         "y": [
          0.136297454833984,
          0.448016082763672,
          0.398313262939453
         ],
         "z": [
          94.761796875,
          94.84107031250001,
          94.771890625
         ]
        },
        {
         "line": {
          "color": "rgb(0,0,0)",
          "width": 5
         },
         "mode": "lines",
         "showlegend": false,
         "type": "scatter3d",
         "x": [
          -1.78442797851562,
          -1.7605002441406201
         ],
         "y": [
          0.398313262939453,
          0.136297454833984
         ],
         "z": [
          94.771890625,
          94.761796875
         ]
        },
        {
         "line": {
          "color": "rgb(0,0,0)",
          "width": 5
         },
         "mode": "lines",
         "showlegend": false,
         "type": "scatter3d",
         "x": [
          -1.7605002441406201,
          -0.919242553710938
         ],
         "y": [
          0.136297454833984,
          0.448016082763672
         ],
         "z": [
          94.761796875,
          94.84107031250001
         ]
        },
        {
         "line": {
          "color": "rgb(0,0,0)",
          "width": 5
         },
         "mode": "lines",
         "showlegend": false,
         "type": "scatter3d",
         "x": [
          -0.919242553710938,
          -1.78442797851562
         ],
         "y": [
          0.448016082763672,
          0.398313262939453
         ],
         "z": [
          94.84107031250001,
          94.771890625
         ]
        },
        {
         "color": "blue",
         "i": [
          0
         ],
         "j": [
          1
         ],
         "k": [
          2
         ],
         "name": "112",
         "opacity": 0.9,
         "type": "mesh3d",
         "x": [
          -3.51412255859375,
          -2.6496137695312503,
          -3.5147998046875
         ],
         "y": [
          0.283867919921875,
          0.348610412597656,
          0.29890753173828105
         ],
         "z": [
          94.63290625,
          94.7027265625,
          94.6335546875
         ]
        },
        {
         "line": {
          "color": "rgb(0,0,0)",
          "width": 5
         },
         "mode": "lines",
         "showlegend": false,
         "type": "scatter3d",
         "x": [
          -3.5147998046875,
          -3.51412255859375
         ],
         "y": [
          0.29890753173828105,
          0.283867919921875
         ],
         "z": [
          94.6335546875,
          94.63290625
         ]
        },
        {
         "line": {
          "color": "rgb(0,0,0)",
          "width": 5
         },
         "mode": "lines",
         "showlegend": false,
         "type": "scatter3d",
         "x": [
          -3.51412255859375,
          -2.6496137695312503
         ],
         "y": [
          0.283867919921875,
          0.348610412597656
         ],
         "z": [
          94.63290625,
          94.7027265625
         ]
        },
        {
         "line": {
          "color": "rgb(0,0,0)",
          "width": 5
         },
         "mode": "lines",
         "showlegend": false,
         "type": "scatter3d",
         "x": [
          -2.6496137695312503,
          -3.5147998046875
         ],
         "y": [
          0.348610412597656,
          0.29890753173828105
         ],
         "z": [
          94.7027265625,
          94.6335546875
         ]
        },
        {
         "color": "blue",
         "i": [
          0
         ],
         "j": [
          1
         ],
         "k": [
          2
         ],
         "name": "113",
         "opacity": 0.9,
         "type": "mesh3d",
         "x": [
          -0.054057285308837896,
          -0.919242553710938,
          -0.00717679977416992
         ],
         "y": [
          0.49771890258789103,
          0.448016082763672,
          0.23957962036132802
         ],
         "z": [
          94.9102421875,
          94.84107031250001,
          94.9023046875
         ]
        },
        {
         "line": {
          "color": "rgb(0,0,0)",
          "width": 5
         },
         "mode": "lines",
         "showlegend": false,
         "type": "scatter3d",
         "x": [
          -0.00717679977416992,
          -0.054057285308837896
         ],
         "y": [
          0.23957962036132802,
          0.49771890258789103
         ],
         "z": [
          94.9023046875,
          94.9102421875
         ]
        },
        {
         "line": {
          "color": "rgb(0,0,0)",
          "width": 5
         },
         "mode": "lines",
         "showlegend": false,
         "type": "scatter3d",
         "x": [
          -0.054057285308837896,
          -0.919242553710938
         ],
         "y": [
          0.49771890258789103,
          0.448016082763672
         ],
         "z": [
          94.9102421875,
          94.84107031250001
         ]
        },
        {
         "line": {
          "color": "rgb(0,0,0)",
          "width": 5
         },
         "mode": "lines",
         "showlegend": false,
         "type": "scatter3d",
         "x": [
          -0.919242553710938,
          -0.00717679977416992
         ],
         "y": [
          0.448016082763672,
          0.23957962036132802
         ],
         "z": [
          94.84107031250001,
          94.9023046875
         ]
        },
        {
         "color": "blue",
         "i": [
          0
         ],
         "j": [
          1
         ],
         "k": [
          2
         ],
         "name": "114",
         "opacity": 0.9,
         "type": "mesh3d",
         "x": [
          -3.4923017578125,
          -1.7605002441406201,
          -3.51412255859375
         ],
         "y": [
          -0.200664962768555,
          0.136297454833984,
          0.283867919921875
         ],
         "z": [
          94.6123359375,
          94.761796875,
          94.63290625
         ]
        },
        {
         "line": {
          "color": "rgb(0,0,0)",
          "width": 5
         },
         "mode": "lines",
         "showlegend": false,
         "type": "scatter3d",
         "x": [
          -3.51412255859375,
          -3.4923017578125
         ],
         "y": [
          0.283867919921875,
          -0.200664962768555
         ],
         "z": [
          94.63290625,
          94.6123359375
         ]
        },
        {
         "line": {
          "color": "rgb(0,0,0)",
          "width": 5
         },
         "mode": "lines",
         "showlegend": false,
         "type": "scatter3d",
         "x": [
          -3.4923017578125,
          -1.7605002441406201
         ],
         "y": [
          -0.200664962768555,
          0.136297454833984
         ],
         "z": [
          94.6123359375,
          94.761796875
         ]
        },
        {
         "line": {
          "color": "rgb(0,0,0)",
          "width": 5
         },
         "mode": "lines",
         "showlegend": false,
         "type": "scatter3d",
         "x": [
          -1.7605002441406201,
          -3.51412255859375
         ],
         "y": [
          0.136297454833984,
          0.283867919921875
         ],
         "z": [
          94.761796875,
          94.63290625
         ]
        },
        {
         "color": "blue",
         "i": [
          0
         ],
         "j": [
          1
         ],
         "k": [
          2
         ],
         "name": "115",
         "opacity": 0.9,
         "type": "mesh3d",
         "x": [
          -0.00717679977416992,
          -0.919242553710938,
          -1.7605002441406201
         ],
         "y": [
          0.23957962036132802,
          0.448016082763672,
          0.136297454833984
         ],
         "z": [
          94.9023046875,
          94.84107031250001,
          94.761796875
         ]
        },
        {
         "line": {
          "color": "rgb(0,0,0)",
          "width": 5
         },
         "mode": "lines",
         "showlegend": false,
         "type": "scatter3d",
         "x": [
          -1.7605002441406201,
          -0.00717679977416992
         ],
         "y": [
          0.136297454833984,
          0.23957962036132802
         ],
         "z": [
          94.761796875,
          94.9023046875
         ]
        },
        {
         "line": {
          "color": "rgb(0,0,0)",
          "width": 5
         },
         "mode": "lines",
         "showlegend": false,
         "type": "scatter3d",
         "x": [
          -0.00717679977416992,
          -0.919242553710938
         ],
         "y": [
          0.23957962036132802,
          0.448016082763672
         ],
         "z": [
          94.9023046875,
          94.84107031250001
         ]
        },
        {
         "line": {
          "color": "rgb(0,0,0)",
          "width": 5
         },
         "mode": "lines",
         "showlegend": false,
         "type": "scatter3d",
         "x": [
          -0.919242553710938,
          -1.7605002441406201
         ],
         "y": [
          0.448016082763672,
          0.136297454833984
         ],
         "z": [
          94.84107031250001,
          94.761796875
         ]
        },
        {
         "color": "blue",
         "i": [
          0
         ],
         "j": [
          1
         ],
         "k": [
          2
         ],
         "name": "116",
         "opacity": 0.9,
         "type": "mesh3d",
         "x": [
          -1.74378161621094,
          -3.4923017578125,
          -1.87873193359375
         ],
         "y": [
          -0.142599624633789,
          -0.200664962768555,
          -0.404252471923828
         ],
         "z": [
          94.7505625,
          94.6123359375,
          94.728546875
         ]
        },
        {
         "line": {
          "color": "rgb(0,0,0)",
          "width": 5
         },
         "mode": "lines",
         "showlegend": false,
         "type": "scatter3d",
         "x": [
          -1.87873193359375,
          -1.74378161621094
         ],
         "y": [
          -0.404252471923828,
          -0.142599624633789
         ],
         "z": [
          94.728546875,
          94.7505625
         ]
        },
        {
         "line": {
          "color": "rgb(0,0,0)",
          "width": 5
         },
         "mode": "lines",
         "showlegend": false,
         "type": "scatter3d",
         "x": [
          -1.74378161621094,
          -3.4923017578125
         ],
         "y": [
          -0.142599624633789,
          -0.200664962768555
         ],
         "z": [
          94.7505625,
          94.6123359375
         ]
        },
        {
         "line": {
          "color": "rgb(0,0,0)",
          "width": 5
         },
         "mode": "lines",
         "showlegend": false,
         "type": "scatter3d",
         "x": [
          -3.4923017578125,
          -1.87873193359375
         ],
         "y": [
          -0.200664962768555,
          -0.404252471923828
         ],
         "z": [
          94.6123359375,
          94.728546875
         ]
        },
        {
         "color": "blue",
         "i": [
          0
         ],
         "j": [
          1
         ],
         "k": [
          2
         ],
         "name": "117",
         "opacity": 0.9,
         "type": "mesh3d",
         "x": [
          -1.74378161621094,
          -1.7605002441406201,
          -3.4923017578125
         ],
         "y": [
          -0.142599624633789,
          0.136297454833984,
          -0.200664962768555
         ],
         "z": [
          94.7505625,
          94.761796875,
          94.6123359375
         ]
        },
        {
         "line": {
          "color": "rgb(0,0,0)",
          "width": 5
         },
         "mode": "lines",
         "showlegend": false,
         "type": "scatter3d",
         "x": [
          -3.4923017578125,
          -1.74378161621094
         ],
         "y": [
          -0.200664962768555,
          -0.142599624633789
         ],
         "z": [
          94.6123359375,
          94.7505625
         ]
        },
        {
         "line": {
          "color": "rgb(0,0,0)",
          "width": 5
         },
         "mode": "lines",
         "showlegend": false,
         "type": "scatter3d",
         "x": [
          -1.74378161621094,
          -1.7605002441406201
         ],
         "y": [
          -0.142599624633789,
          0.136297454833984
         ],
         "z": [
          94.7505625,
          94.761796875
         ]
        },
        {
         "line": {
          "color": "rgb(0,0,0)",
          "width": 5
         },
         "mode": "lines",
         "showlegend": false,
         "type": "scatter3d",
         "x": [
          -1.7605002441406201,
          -3.4923017578125
         ],
         "y": [
          0.136297454833984,
          -0.200664962768555
         ],
         "z": [
          94.761796875,
          94.6123359375
         ]
        },
        {
         "color": "blue",
         "i": [
          0
         ],
         "j": [
          1
         ],
         "k": [
          2
         ],
         "name": "118",
         "opacity": 0.9,
         "type": "mesh3d",
         "x": [
          0.016966991424560502,
          0.00969862842559814,
          -0.930882507324219
         ],
         "y": [
          -0.29534881591796897,
          -0.0419538383483887,
          -0.349800659179688
         ],
         "z": [
          94.8804296875,
          94.891078125,
          94.8044921875
         ]
        },
        {
         "line": {
          "color": "rgb(0,0,0)",
          "width": 5
         },
         "mode": "lines",
         "showlegend": false,
         "type": "scatter3d",
         "x": [
          -0.930882507324219,
          0.016966991424560502
         ],
         "y": [
          -0.349800659179688,
          -0.29534881591796897
         ],
         "z": [
          94.8044921875,
          94.8804296875
         ]
        },
        {
         "line": {
          "color": "rgb(0,0,0)",
          "width": 5
         },
         "mode": "lines",
         "showlegend": false,
         "type": "scatter3d",
         "x": [
          0.016966991424560502,
          0.00969862842559814
         ],
         "y": [
          -0.29534881591796897,
          -0.0419538383483887
         ],
         "z": [
          94.8804296875,
          94.891078125
         ]
        },
        {
         "line": {
          "color": "rgb(0,0,0)",
          "width": 5
         },
         "mode": "lines",
         "showlegend": false,
         "type": "scatter3d",
         "x": [
          0.00969862842559814,
          -0.930882507324219
         ],
         "y": [
          -0.0419538383483887,
          -0.349800659179688
         ],
         "z": [
          94.891078125,
          94.8044921875
         ]
        },
        {
         "color": "blue",
         "i": [
          0
         ],
         "j": [
          1
         ],
         "k": [
          2
         ],
         "name": "119",
         "opacity": 0.9,
         "type": "mesh3d",
         "x": [
          1.91266589355469,
          1.76317895507812,
          0.964816467285156
         ],
         "y": [
          -0.186445144653306,
          0.0586919441223145,
          -0.24089697265625
         ],
         "z": [
          95.0323125,
          95.0315859375,
          94.95637500000001
         ]
        },
        {
         "line": {
          "color": "rgb(0,0,0)",
          "width": 5
         },
         "mode": "lines",
         "showlegend": false,
         "type": "scatter3d",
         "x": [
          0.964816467285156,
          1.91266589355469
         ],
         "y": [
          -0.24089697265625,
          -0.186445144653306
         ],
         "z": [
          94.95637500000001,
          95.0323125
         ]
        },
        {
         "line": {
          "color": "rgb(0,0,0)",
          "width": 5
         },
         "mode": "lines",
         "showlegend": false,
         "type": "scatter3d",
         "x": [
          1.91266589355469,
          1.76317895507812
         ],
         "y": [
          -0.186445144653306,
          0.0586919441223145
         ],
         "z": [
          95.0323125,
          95.0315859375
         ]
        },
        {
         "line": {
          "color": "rgb(0,0,0)",
          "width": 5
         },
         "mode": "lines",
         "showlegend": false,
         "type": "scatter3d",
         "x": [
          1.76317895507812,
          0.964816467285156
         ],
         "y": [
          0.0586919441223145,
          -0.24089697265625
         ],
         "z": [
          95.0315859375,
          94.95637500000001
         ]
        },
        {
         "color": "blue",
         "i": [
          0
         ],
         "j": [
          1
         ],
         "k": [
          2
         ],
         "name": "120",
         "opacity": 0.9,
         "type": "mesh3d",
         "x": [
          3.52633666992188,
          3.5050283203125,
          1.91266589355469
         ],
         "y": [
          -0.29843615722656197,
          0.20131491088867198,
          -0.186445144653306
         ],
         "z": [
          95.152609375,
          95.173046875,
          95.0323125
         ]
        },
        {
         "line": {
          "color": "rgb(0,0,0)",
          "width": 5
         },
         "mode": "lines",
         "showlegend": false,
         "type": "scatter3d",
         "x": [
          1.91266589355469,
          3.52633666992188
         ],
         "y": [
          -0.186445144653306,
          -0.29843615722656197
         ],
         "z": [
          95.0323125,
          95.152609375
         ]
        },
        {
         "line": {
          "color": "rgb(0,0,0)",
          "width": 5
         },
         "mode": "lines",
         "showlegend": false,
         "type": "scatter3d",
         "x": [
          3.52633666992188,
          3.5050283203125
         ],
         "y": [
          -0.29843615722656197,
          0.20131491088867198
         ],
         "z": [
          95.152609375,
          95.173046875
         ]
        },
        {
         "line": {
          "color": "rgb(0,0,0)",
          "width": 5
         },
         "mode": "lines",
         "showlegend": false,
         "type": "scatter3d",
         "x": [
          3.5050283203125,
          1.91266589355469
         ],
         "y": [
          0.20131491088867198,
          -0.186445144653306
         ],
         "z": [
          95.173046875,
          95.0323125
         ]
        },
        {
         "color": "blue",
         "i": [
          0
         ],
         "j": [
          1
         ],
         "k": [
          2
         ],
         "name": "121",
         "opacity": 0.9,
         "type": "mesh3d",
         "x": [
          3.52633666992188,
          1.94767163085938,
          1.98267761230469
         ],
         "y": [
          -0.29843615722656197,
          -0.286780181884766,
          -0.387115692138672
         ],
         "z": [
          95.152609375,
          95.03059375000001,
          95.02891406250001
         ]
        },
        {
         "line": {
          "color": "rgb(0,0,0)",
          "width": 5
         },
         "mode": "lines",
         "showlegend": false,
         "type": "scatter3d",
         "x": [
          1.98267761230469,
          3.52633666992188
         ],
         "y": [
          -0.387115692138672,
          -0.29843615722656197
         ],
         "z": [
          95.02891406250001,
          95.152609375
         ]
        },
        {
         "line": {
          "color": "rgb(0,0,0)",
          "width": 5
         },
         "mode": "lines",
         "showlegend": false,
         "type": "scatter3d",
         "x": [
          3.52633666992188,
          1.94767163085938
         ],
         "y": [
          -0.29843615722656197,
          -0.286780181884766
         ],
         "z": [
          95.152609375,
          95.03059375000001
         ]
        },
        {
         "line": {
          "color": "rgb(0,0,0)",
          "width": 5
         },
         "mode": "lines",
         "showlegend": false,
         "type": "scatter3d",
         "x": [
          1.94767163085938,
          1.98267761230469
         ],
         "y": [
          -0.286780181884766,
          -0.387115692138672
         ],
         "z": [
          95.03059375000001,
          95.02891406250001
         ]
        },
        {
         "color": "blue",
         "i": [
          0
         ],
         "j": [
          1
         ],
         "k": [
          2
         ],
         "name": "122",
         "opacity": 0.9,
         "type": "mesh3d",
         "x": [
          3.52633666992188,
          1.91266589355469,
          1.94767163085938
         ],
         "y": [
          -0.29843615722656197,
          -0.186445144653306,
          -0.286780181884766
         ],
         "z": [
          95.152609375,
          95.0323125,
          95.03059375000001
         ]
        },
        {
         "line": {
          "color": "rgb(0,0,0)",
          "width": 5
         },
         "mode": "lines",
         "showlegend": false,
         "type": "scatter3d",
         "x": [
          1.94767163085938,
          3.52633666992188
         ],
         "y": [
          -0.286780181884766,
          -0.29843615722656197
         ],
         "z": [
          95.03059375000001,
          95.152609375
         ]
        },
        {
         "line": {
          "color": "rgb(0,0,0)",
          "width": 5
         },
         "mode": "lines",
         "showlegend": false,
         "type": "scatter3d",
         "x": [
          3.52633666992188,
          1.91266589355469
         ],
         "y": [
          -0.29843615722656197,
          -0.186445144653306
         ],
         "z": [
          95.152609375,
          95.0323125
         ]
        },
        {
         "line": {
          "color": "rgb(0,0,0)",
          "width": 5
         },
         "mode": "lines",
         "showlegend": false,
         "type": "scatter3d",
         "x": [
          1.91266589355469,
          1.94767163085938
         ],
         "y": [
          -0.186445144653306,
          -0.286780181884766
         ],
         "z": [
          95.0323125,
          95.03059375000001
         ]
        },
        {
         "color": "blue",
         "i": [
          0
         ],
         "j": [
          1
         ],
         "k": [
          2
         ],
         "name": "123",
         "opacity": 0.9,
         "type": "mesh3d",
         "x": [
          0.016966991424560502,
          0.964816467285156,
          0.00969862842559814
         ],
         "y": [
          -0.29534881591796897,
          -0.24089697265625,
          -0.0419538383483887
         ],
         "z": [
          94.8804296875,
          94.95637500000001,
          94.891078125
         ]
        },
        {
         "line": {
          "color": "rgb(0,0,0)",
          "width": 5
         },
         "mode": "lines",
         "showlegend": false,
         "type": "scatter3d",
         "x": [
          0.00969862842559814,
          0.016966991424560502
         ],
         "y": [
          -0.0419538383483887,
          -0.29534881591796897
         ],
         "z": [
          94.891078125,
          94.8804296875
         ]
        },
        {
         "line": {
          "color": "rgb(0,0,0)",
          "width": 5
         },
         "mode": "lines",
         "showlegend": false,
         "type": "scatter3d",
         "x": [
          0.016966991424560502,
          0.964816467285156
         ],
         "y": [
          -0.29534881591796897,
          -0.24089697265625
         ],
         "z": [
          94.8804296875,
          94.95637500000001
         ]
        },
        {
         "line": {
          "color": "rgb(0,0,0)",
          "width": 5
         },
         "mode": "lines",
         "showlegend": false,
         "type": "scatter3d",
         "x": [
          0.964816467285156,
          0.00969862842559814
         ],
         "y": [
          -0.24089697265625,
          -0.0419538383483887
         ],
         "z": [
          94.95637500000001,
          94.891078125
         ]
        },
        {
         "color": "blue",
         "i": [
          0
         ],
         "j": [
          1
         ],
         "k": [
          2
         ],
         "name": "124",
         "opacity": 0.9,
         "type": "mesh3d",
         "x": [
          2.77563793945312,
          3.52633666992188,
          1.98267761230469
         ],
         "y": [
          -0.451438934326172,
          -0.29843615722656197,
          -0.387115692138672
         ],
         "z": [
          95.087703125,
          95.152609375,
          95.02891406250001
         ]
        },
        {
         "line": {
          "color": "rgb(0,0,0)",
          "width": 5
         },
         "mode": "lines",
         "showlegend": false,
         "type": "scatter3d",
         "x": [
          1.98267761230469,
          2.77563793945312
         ],
         "y": [
          -0.387115692138672,
          -0.451438934326172
         ],
         "z": [
          95.02891406250001,
          95.087703125
         ]
        },
        {
         "line": {
          "color": "rgb(0,0,0)",
          "width": 5
         },
         "mode": "lines",
         "showlegend": false,
         "type": "scatter3d",
         "x": [
          2.77563793945312,
          3.52633666992188
         ],
         "y": [
          -0.451438934326172,
          -0.29843615722656197
         ],
         "z": [
          95.087703125,
          95.152609375
         ]
        },
        {
         "line": {
          "color": "rgb(0,0,0)",
          "width": 5
         },
         "mode": "lines",
         "showlegend": false,
         "type": "scatter3d",
         "x": [
          3.52633666992188,
          1.98267761230469
         ],
         "y": [
          -0.29843615722656197,
          -0.387115692138672
         ],
         "z": [
          95.152609375,
          95.02891406250001
         ]
        },
        {
         "color": "blue",
         "i": [
          0
         ],
         "j": [
          1
         ],
         "k": [
          2
         ],
         "name": "125",
         "opacity": 0.9,
         "type": "mesh3d",
         "x": [
          3.52633666992188,
          2.77563793945312,
          3.5310092773437503
         ],
         "y": [
          -0.29843615722656197,
          -0.451438934326172,
          -0.40802233886718803
         ],
         "z": [
          95.152609375,
          95.087703125,
          95.1482578125
         ]
        },
        {
         "line": {
          "color": "rgb(0,0,0)",
          "width": 5
         },
         "mode": "lines",
         "showlegend": false,
         "type": "scatter3d",
         "x": [
          3.5310092773437503,
          3.52633666992188
         ],
         "y": [
          -0.40802233886718803,
          -0.29843615722656197
         ],
         "z": [
          95.1482578125,
          95.152609375
         ]
        },
        {
         "line": {
          "color": "rgb(0,0,0)",
          "width": 5
         },
         "mode": "lines",
         "showlegend": false,
         "type": "scatter3d",
         "x": [
          3.52633666992188,
          2.77563793945312
         ],
         "y": [
          -0.29843615722656197,
          -0.451438934326172
         ],
         "z": [
          95.152609375,
          95.087703125
         ]
        },
        {
         "line": {
          "color": "rgb(0,0,0)",
          "width": 5
         },
         "mode": "lines",
         "showlegend": false,
         "type": "scatter3d",
         "x": [
          2.77563793945312,
          3.5310092773437503
         ],
         "y": [
          -0.451438934326172,
          -0.40802233886718803
         ],
         "z": [
          95.087703125,
          95.1482578125
         ]
        },
        {
         "color": "blue",
         "i": [
          0
         ],
         "j": [
          1
         ],
         "k": [
          2
         ],
         "name": "126",
         "opacity": 0.9,
         "type": "mesh3d",
         "x": [
          2.02026684570312,
          2.77563793945312,
          1.98267761230469
         ],
         "y": [
          -0.49485574340820304,
          -0.451438934326172,
          -0.387115692138672
         ],
         "z": [
          95.0271484375,
          95.087703125,
          95.02891406250001
         ]
        },
        {
         "line": {
          "color": "rgb(0,0,0)",
          "width": 5
         },
         "mode": "lines",
         "showlegend": false,
         "type": "scatter3d",
         "x": [
          1.98267761230469,
          2.02026684570312
         ],
         "y": [
          -0.387115692138672,
          -0.49485574340820304
         ],
         "z": [
          95.02891406250001,
          95.0271484375
         ]
        },
        {
         "line": {
          "color": "rgb(0,0,0)",
          "width": 5
         },
         "mode": "lines",
         "showlegend": false,
         "type": "scatter3d",
         "x": [
          2.02026684570312,
          2.77563793945312
         ],
         "y": [
          -0.49485574340820304,
          -0.451438934326172
         ],
         "z": [
          95.0271484375,
          95.087703125
         ]
        },
        {
         "line": {
          "color": "rgb(0,0,0)",
          "width": 5
         },
         "mode": "lines",
         "showlegend": false,
         "type": "scatter3d",
         "x": [
          2.77563793945312,
          1.98267761230469
         ],
         "y": [
          -0.451438934326172,
          -0.387115692138672
         ],
         "z": [
          95.087703125,
          95.02891406250001
         ]
        },
        {
         "color": "blue",
         "i": [
          0
         ],
         "j": [
          1
         ],
         "k": [
          2
         ],
         "name": "127",
         "opacity": 0.9,
         "type": "mesh3d",
         "x": [
          -1.87873193359375,
          -3.4923017578125,
          -3.4697990722656202
         ],
         "y": [
          -0.404252471923828,
          -0.200664962768555,
          -0.700347412109375
         ],
         "z": [
          94.728546875,
          94.6123359375,
          94.5919921875
         ]
        },
        {
         "line": {
          "color": "rgb(0,0,0)",
          "width": 5
         },
         "mode": "lines",
         "showlegend": false,
         "type": "scatter3d",
         "x": [
          -3.4697990722656202,
          -1.87873193359375
         ],
         "y": [
          -0.700347412109375,
          -0.404252471923828
         ],
         "z": [
          94.5919921875,
          94.728546875
         ]
        },
        {
         "line": {
          "color": "rgb(0,0,0)",
          "width": 5
         },
         "mode": "lines",
         "showlegend": false,
         "type": "scatter3d",
         "x": [
          -1.87873193359375,
          -3.4923017578125
         ],
         "y": [
          -0.404252471923828,
          -0.200664962768555
         ],
         "z": [
          94.728546875,
          94.6123359375
         ]
        },
        {
         "line": {
          "color": "rgb(0,0,0)",
          "width": 5
         },
         "mode": "lines",
         "showlegend": false,
         "type": "scatter3d",
         "x": [
          -3.4923017578125,
          -3.4697990722656202
         ],
         "y": [
          -0.200664962768555,
          -0.700347412109375
         ],
         "z": [
          94.6123359375,
          94.5919921875
         ]
        },
        {
         "color": "blue",
         "i": [
          0
         ],
         "j": [
          1
         ],
         "k": [
          2
         ],
         "name": "128",
         "opacity": 0.9,
         "type": "mesh3d",
         "x": [
          -1.90201745605469,
          -1.87873193359375,
          -3.4697990722656202
         ],
         "y": [
          -0.50793701171875,
          -0.404252471923828,
          -0.700347412109375
         ],
         "z": [
          94.722171875,
          94.728546875,
          94.5919921875
         ]
        },
        {
         "line": {
          "color": "rgb(0,0,0)",
          "width": 5
         },
         "mode": "lines",
         "showlegend": false,
         "type": "scatter3d",
         "x": [
          -3.4697990722656202,
          -1.90201745605469
         ],
         "y": [
          -0.700347412109375,
          -0.50793701171875
         ],
         "z": [
          94.5919921875,
          94.722171875
         ]
        },
        {
         "line": {
          "color": "rgb(0,0,0)",
          "width": 5
         },
         "mode": "lines",
         "showlegend": false,
         "type": "scatter3d",
         "x": [
          -1.90201745605469,
          -1.87873193359375
         ],
         "y": [
          -0.50793701171875,
          -0.404252471923828
         ],
         "z": [
          94.722171875,
          94.728546875
         ]
        },
        {
         "line": {
          "color": "rgb(0,0,0)",
          "width": 5
         },
         "mode": "lines",
         "showlegend": false,
         "type": "scatter3d",
         "x": [
          -1.87873193359375,
          -3.4697990722656202
         ],
         "y": [
          -0.404252471923828,
          -0.700347412109375
         ],
         "z": [
          94.728546875,
          94.5919921875
         ]
        },
        {
         "color": "blue",
         "i": [
          0
         ],
         "j": [
          1
         ],
         "k": [
          2
         ],
         "name": "129",
         "opacity": 0.9,
         "type": "mesh3d",
         "x": [
          -0.930882507324219,
          -1.74378161621094,
          -1.87873193359375
         ],
         "y": [
          -0.349800659179688,
          -0.142599624633789,
          -0.404252471923828
         ],
         "z": [
          94.8044921875,
          94.7505625,
          94.728546875
         ]
        },
        {
         "line": {
          "color": "rgb(0,0,0)",
          "width": 5
         },
         "mode": "lines",
         "showlegend": false,
         "type": "scatter3d",
         "x": [
          -1.87873193359375,
          -0.930882507324219
         ],
         "y": [
          -0.404252471923828,
          -0.349800659179688
         ],
         "z": [
          94.728546875,
          94.8044921875
         ]
        },
        {
         "line": {
          "color": "rgb(0,0,0)",
          "width": 5
         },
         "mode": "lines",
         "showlegend": false,
         "type": "scatter3d",
         "x": [
          -0.930882507324219,
          -1.74378161621094
         ],
         "y": [
          -0.349800659179688,
          -0.142599624633789
         ],
         "z": [
          94.8044921875,
          94.7505625
         ]
        },
        {
         "line": {
          "color": "rgb(0,0,0)",
          "width": 5
         },
         "mode": "lines",
         "showlegend": false,
         "type": "scatter3d",
         "x": [
          -1.74378161621094,
          -1.87873193359375
         ],
         "y": [
          -0.142599624633789,
          -0.404252471923828
         ],
         "z": [
          94.7505625,
          94.728546875
         ]
        },
        {
         "color": "blue",
         "i": [
          0
         ],
         "j": [
          1
         ],
         "k": [
          2
         ],
         "name": "130",
         "opacity": 0.9,
         "type": "mesh3d",
         "x": [
          -1.90201745605469,
          -3.4697990722656202,
          -1.9253026123046901
         ],
         "y": [
          -0.50793701171875,
          -0.700347412109375,
          -0.611619812011719
         ],
         "z": [
          94.722171875,
          94.5919921875,
          94.7157578125
         ]
        },
        {
         "line": {
          "color": "rgb(0,0,0)",
          "width": 5
         },
         "mode": "lines",
         "showlegend": false,
         "type": "scatter3d",
         "x": [
          -1.9253026123046901,
          -1.90201745605469
         ],
         "y": [
          -0.611619812011719,
          -0.50793701171875
         ],
         "z": [
          94.7157578125,
          94.722171875
         ]
        },
        {
         "line": {
          "color": "rgb(0,0,0)",
          "width": 5
         },
         "mode": "lines",
         "showlegend": false,
         "type": "scatter3d",
         "x": [
          -1.90201745605469,
          -3.4697990722656202
         ],
         "y": [
          -0.50793701171875,
          -0.700347412109375
         ],
         "z": [
          94.722171875,
          94.5919921875
         ]
        },
        {
         "line": {
          "color": "rgb(0,0,0)",
          "width": 5
         },
         "mode": "lines",
         "showlegend": false,
         "type": "scatter3d",
         "x": [
          -3.4697990722656202,
          -1.9253026123046901
         ],
         "y": [
          -0.700347412109375,
          -0.611619812011719
         ],
         "z": [
          94.5919921875,
          94.7157578125
         ]
        },
        {
         "color": "blue",
         "i": [
          0
         ],
         "j": [
          1
         ],
         "k": [
          2
         ],
         "name": "131",
         "opacity": 0.9,
         "type": "mesh3d",
         "x": [
          -2.70759448242188,
          -1.9253026123046901,
          -3.4697990722656202
         ],
         "y": [
          -0.766606689453125,
          -0.611619812011719,
          -0.700347412109375
         ],
         "z": [
          94.6481015625,
          94.7157578125,
          94.5919921875
         ]
        },
        {
         "line": {
          "color": "rgb(0,0,0)",
          "width": 5
         },
         "mode": "lines",
         "showlegend": false,
         "type": "scatter3d",
         "x": [
          -3.4697990722656202,
          -2.70759448242188
         ],
         "y": [
          -0.700347412109375,
          -0.766606689453125
         ],
         "z": [
          94.5919921875,
          94.6481015625
         ]
        },
        {
         "line": {
          "color": "rgb(0,0,0)",
          "width": 5
         },
         "mode": "lines",
         "showlegend": false,
         "type": "scatter3d",
         "x": [
          -2.70759448242188,
          -1.9253026123046901
         ],
         "y": [
          -0.766606689453125,
          -0.611619812011719
         ],
         "z": [
          94.6481015625,
          94.7157578125
         ]
        },
        {
         "line": {
          "color": "rgb(0,0,0)",
          "width": 5
         },
         "mode": "lines",
         "showlegend": false,
         "type": "scatter3d",
         "x": [
          -1.9253026123046901,
          -3.4697990722656202
         ],
         "y": [
          -0.611619812011719,
          -0.700347412109375
         ],
         "z": [
          94.7157578125,
          94.5919921875
         ]
        },
        {
         "color": "blue",
         "i": [
          0
         ],
         "j": [
          1
         ],
         "k": [
          2
         ],
         "name": "132",
         "opacity": 0.9,
         "type": "mesh3d",
         "x": [
          -1.9253026123046901,
          -2.70759448242188,
          -1.95033435058594
         ],
         "y": [
          -0.611619812011719,
          -0.766606689453125,
          -0.7230797119140621
         ],
         "z": [
          94.7157578125,
          94.6481015625,
          94.70881250000001
         ]
        },
        {
         "line": {
          "color": "rgb(0,0,0)",
          "width": 5
         },
         "mode": "lines",
         "showlegend": false,
         "type": "scatter3d",
         "x": [
          -1.95033435058594,
          -1.9253026123046901
         ],
         "y": [
          -0.7230797119140621,
          -0.611619812011719
         ],
         "z": [
          94.70881250000001,
          94.7157578125
         ]
        },
        {
         "line": {
          "color": "rgb(0,0,0)",
          "width": 5
         },
         "mode": "lines",
         "showlegend": false,
         "type": "scatter3d",
         "x": [
          -1.9253026123046901,
          -2.70759448242188
         ],
         "y": [
          -0.611619812011719,
          -0.766606689453125
         ],
         "z": [
          94.7157578125,
          94.6481015625
         ]
        },
        {
         "line": {
          "color": "rgb(0,0,0)",
          "width": 5
         },
         "mode": "lines",
         "showlegend": false,
         "type": "scatter3d",
         "x": [
          -2.70759448242188,
          -1.95033435058594
         ],
         "y": [
          -0.766606689453125,
          -0.7230797119140621
         ],
         "z": [
          94.6481015625,
          94.70881250000001
         ]
        },
        {
         "color": "blue",
         "i": [
          0
         ],
         "j": [
          1
         ],
         "k": [
          2
         ],
         "name": "133",
         "opacity": 0.9,
         "type": "mesh3d",
         "x": [
          -3.46485473632812,
          -2.70759448242188,
          -3.4697990722656202
         ],
         "y": [
          -0.8101339111328121,
          -0.766606689453125,
          -0.700347412109375
         ],
         "z": [
          94.5873828125,
          94.6481015625,
          94.5919921875
         ]
        },
        {
         "line": {
          "color": "rgb(0,0,0)",
          "width": 5
         },
         "mode": "lines",
         "showlegend": false,
         "type": "scatter3d",
         "x": [
          -3.4697990722656202,
          -3.46485473632812
         ],
         "y": [
          -0.700347412109375,
          -0.8101339111328121
         ],
         "z": [
          94.5919921875,
          94.5873828125
         ]
        },
        {
         "line": {
          "color": "rgb(0,0,0)",
          "width": 5
         },
         "mode": "lines",
         "showlegend": false,
         "type": "scatter3d",
         "x": [
          -3.46485473632812,
          -2.70759448242188
         ],
         "y": [
          -0.8101339111328121,
          -0.766606689453125
         ],
         "z": [
          94.5873828125,
          94.6481015625
         ]
        },
        {
         "line": {
          "color": "rgb(0,0,0)",
          "width": 5
         },
         "mode": "lines",
         "showlegend": false,
         "type": "scatter3d",
         "x": [
          -2.70759448242188,
          -3.4697990722656202
         ],
         "y": [
          -0.766606689453125,
          -0.700347412109375
         ],
         "z": [
          94.6481015625,
          94.5919921875
         ]
        },
        {
         "color": "blue",
         "i": [
          0
         ],
         "j": [
          1
         ],
         "k": [
          2
         ],
         "name": "134",
         "opacity": 0.9,
         "type": "mesh3d",
         "x": [
          1.76317895507812,
          -0.00717679977416992,
          0.00969862842559814
         ],
         "y": [
          0.0586919441223145,
          0.23957962036132802,
          -0.0419538383483887
         ],
         "z": [
          95.0315859375,
          94.9023046875,
          94.891078125
         ]
        },
        {
         "line": {
          "color": "rgb(0,0,0)",
          "width": 5
         },
         "mode": "lines",
         "showlegend": false,
         "type": "scatter3d",
         "x": [
          0.00969862842559814,
          1.76317895507812
         ],
         "y": [
          -0.0419538383483887,
          0.0586919441223145
         ],
         "z": [
          94.891078125,
          95.0315859375
         ]
        },
        {
         "line": {
          "color": "rgb(0,0,0)",
          "width": 5
         },
         "mode": "lines",
         "showlegend": false,
         "type": "scatter3d",
         "x": [
          1.76317895507812,
          -0.00717679977416992
         ],
         "y": [
          0.0586919441223145,
          0.23957962036132802
         ],
         "z": [
          95.0315859375,
          94.9023046875
         ]
        },
        {
         "line": {
          "color": "rgb(0,0,0)",
          "width": 5
         },
         "mode": "lines",
         "showlegend": false,
         "type": "scatter3d",
         "x": [
          -0.00717679977416992,
          0.00969862842559814
         ],
         "y": [
          0.23957962036132802,
          -0.0419538383483887
         ],
         "z": [
          94.9023046875,
          94.891078125
         ]
        },
        {
         "color": "blue",
         "i": [
          0
         ],
         "j": [
          1
         ],
         "k": [
          2
         ],
         "name": "135",
         "opacity": 0.9,
         "type": "mesh3d",
         "x": [
          1.74614660644531,
          -0.00717679977416992,
          1.76317895507812
         ],
         "y": [
          0.342861785888672,
          0.23957962036132802,
          0.0586919441223145
         ],
         "z": [
          95.0428203125,
          94.9023046875,
          95.0315859375
         ]
        },
        {
         "line": {
          "color": "rgb(0,0,0)",
          "width": 5
         },
         "mode": "lines",
         "showlegend": false,
         "type": "scatter3d",
         "x": [
          1.76317895507812,
          1.74614660644531
         ],
         "y": [
          0.0586919441223145,
          0.342861785888672
         ],
         "z": [
          95.0315859375,
          95.0428203125
         ]
        },
        {
         "line": {
          "color": "rgb(0,0,0)",
          "width": 5
         },
         "mode": "lines",
         "showlegend": false,
         "type": "scatter3d",
         "x": [
          1.74614660644531,
          -0.00717679977416992
         ],
         "y": [
          0.342861785888672,
          0.23957962036132802
         ],
         "z": [
          95.0428203125,
          94.9023046875
         ]
        },
        {
         "line": {
          "color": "rgb(0,0,0)",
          "width": 5
         },
         "mode": "lines",
         "showlegend": false,
         "type": "scatter3d",
         "x": [
          -0.00717679977416992,
          1.76317895507812
         ],
         "y": [
          0.23957962036132802,
          0.0586919441223145
         ],
         "z": [
          94.9023046875,
          95.0315859375
         ]
        },
        {
         "color": "blue",
         "i": [
          0
         ],
         "j": [
          1
         ],
         "k": [
          2
         ],
         "name": "136",
         "opacity": 0.9,
         "type": "mesh3d",
         "x": [
          0.00969862842559814,
          -1.7605002441406201,
          -1.74378161621094
         ],
         "y": [
          -0.0419538383483887,
          0.136297454833984,
          -0.142599624633789
         ],
         "z": [
          94.891078125,
          94.761796875,
          94.7505625
         ]
        },
        {
         "line": {
          "color": "rgb(0,0,0)",
          "width": 5
         },
         "mode": "lines",
         "showlegend": false,
         "type": "scatter3d",
         "x": [
          -1.74378161621094,
          0.00969862842559814
         ],
         "y": [
          -0.142599624633789,
          -0.0419538383483887
         ],
         "z": [
          94.7505625,
          94.891078125
         ]
        },
        {
         "line": {
          "color": "rgb(0,0,0)",
          "width": 5
         },
         "mode": "lines",
         "showlegend": false,
         "type": "scatter3d",
         "x": [
          0.00969862842559814,
          -1.7605002441406201
         ],
         "y": [
          -0.0419538383483887,
          0.136297454833984
         ],
         "z": [
          94.891078125,
          94.761796875
         ]
        },
        {
         "line": {
          "color": "rgb(0,0,0)",
          "width": 5
         },
         "mode": "lines",
         "showlegend": false,
         "type": "scatter3d",
         "x": [
          -1.7605002441406201,
          -1.74378161621094
         ],
         "y": [
          0.136297454833984,
          -0.142599624633789
         ],
         "z": [
          94.761796875,
          94.7505625
         ]
        },
        {
         "color": "blue",
         "i": [
          0
         ],
         "j": [
          1
         ],
         "k": [
          2
         ],
         "name": "137",
         "opacity": 0.9,
         "type": "mesh3d",
         "x": [
          -0.00717679977416992,
          -1.7605002441406201,
          0.00969862842559814
         ],
         "y": [
          0.23957962036132802,
          0.136297454833984,
          -0.0419538383483887
         ],
         "z": [
          94.9023046875,
          94.761796875,
          94.891078125
         ]
        },
        {
         "line": {
          "color": "rgb(0,0,0)",
          "width": 5
         },
         "mode": "lines",
         "showlegend": false,
         "type": "scatter3d",
         "x": [
          0.00969862842559814,
          -0.00717679977416992
         ],
         "y": [
          -0.0419538383483887,
          0.23957962036132802
         ],
         "z": [
          94.891078125,
          94.9023046875
         ]
        },
        {
         "line": {
          "color": "rgb(0,0,0)",
          "width": 5
         },
         "mode": "lines",
         "showlegend": false,
         "type": "scatter3d",
         "x": [
          -0.00717679977416992,
          -1.7605002441406201
         ],
         "y": [
          0.23957962036132802,
          0.136297454833984
         ],
         "z": [
          94.9023046875,
          94.761796875
         ]
        },
        {
         "line": {
          "color": "rgb(0,0,0)",
          "width": 5
         },
         "mode": "lines",
         "showlegend": false,
         "type": "scatter3d",
         "x": [
          -1.7605002441406201,
          0.00969862842559814
         ],
         "y": [
          0.136297454833984,
          -0.0419538383483887
         ],
         "z": [
          94.761796875,
          94.891078125
         ]
        },
        {
         "color": "red",
         "i": [
          0
         ],
         "j": [
          1
         ],
         "k": [
          2
         ],
         "name": "138",
         "opacity": 1,
         "type": "mesh3d",
         "x": [
          2.0442795410156203,
          2.0442795410156203,
          3.5339973144531203
         ],
         "y": [
          -0.5636821899414061,
          -0.5636821899414061,
          -0.478101470947266
         ],
         "z": [
          94.7306875,
          94.5862265625,
          94.9944921875
         ]
        },
        {
         "line": {
          "color": "rgb(0,0,0)",
          "width": 5
         },
         "mode": "lines",
         "showlegend": false,
         "type": "scatter3d",
         "x": [
          3.5339973144531203,
          2.0442795410156203
         ],
         "y": [
          -0.478101470947266,
          -0.5636821899414061
         ],
         "z": [
          94.9944921875,
          94.7306875
         ]
        },
        {
         "line": {
          "color": "rgb(0,0,0)",
          "width": 5
         },
         "mode": "lines",
         "showlegend": false,
         "type": "scatter3d",
         "x": [
          2.0442795410156203,
          2.0442795410156203
         ],
         "y": [
          -0.5636821899414061,
          -0.5636821899414061
         ],
         "z": [
          94.7306875,
          94.5862265625
         ]
        },
        {
         "line": {
          "color": "rgb(0,0,0)",
          "width": 5
         },
         "mode": "lines",
         "showlegend": false,
         "type": "scatter3d",
         "x": [
          2.0442795410156203,
          3.5339973144531203
         ],
         "y": [
          -0.5636821899414061,
          -0.478101470947266
         ],
         "z": [
          94.5862265625,
          94.9944921875
         ]
        },
        {
         "color": "red",
         "i": [
          0
         ],
         "j": [
          1
         ],
         "k": [
          2
         ],
         "name": "139",
         "opacity": 1,
         "type": "mesh3d",
         "x": [
          2.0442795410156203,
          3.5339973144531203,
          2.0442795410156203
         ],
         "y": [
          -0.5636821899414061,
          -0.478101470947266,
          -0.5636821899414061
         ],
         "z": [
          94.7306875,
          94.9944921875,
          94.87515625
         ]
        },
        {
         "line": {
          "color": "rgb(0,0,0)",
          "width": 5
         },
         "mode": "lines",
         "showlegend": false,
         "type": "scatter3d",
         "x": [
          2.0442795410156203,
          2.0442795410156203
         ],
         "y": [
          -0.5636821899414061,
          -0.5636821899414061
         ],
         "z": [
          94.87515625,
          94.7306875
         ]
        },
        {
         "line": {
          "color": "rgb(0,0,0)",
          "width": 5
         },
         "mode": "lines",
         "showlegend": false,
         "type": "scatter3d",
         "x": [
          2.0442795410156203,
          3.5339973144531203
         ],
         "y": [
          -0.5636821899414061,
          -0.478101470947266
         ],
         "z": [
          94.7306875,
          94.9944921875
         ]
        },
        {
         "line": {
          "color": "rgb(0,0,0)",
          "width": 5
         },
         "mode": "lines",
         "showlegend": false,
         "type": "scatter3d",
         "x": [
          3.5339973144531203,
          2.0442795410156203
         ],
         "y": [
          -0.478101470947266,
          -0.5636821899414061
         ],
         "z": [
          94.9944921875,
          94.87515625
         ]
        },
        {
         "color": "red",
         "i": [
          0
         ],
         "j": [
          1
         ],
         "k": [
          2
         ],
         "name": "140",
         "opacity": 1,
         "type": "mesh3d",
         "x": [
          2.0442795410156203,
          3.5339973144531203,
          2.0442795410156203
         ],
         "y": [
          -0.5636821899414061,
          -0.478101470947266,
          -0.5636821899414061
         ],
         "z": [
          94.4417578125,
          94.27214843750001,
          94.5862265625
         ]
        },
        {
         "line": {
          "color": "rgb(0,0,0)",
          "width": 5
         },
         "mode": "lines",
         "showlegend": false,
         "type": "scatter3d",
         "x": [
          2.0442795410156203,
          2.0442795410156203
         ],
         "y": [
          -0.5636821899414061,
          -0.5636821899414061
         ],
         "z": [
          94.5862265625,
          94.4417578125
         ]
        },
        {
         "line": {
          "color": "rgb(0,0,0)",
          "width": 5
         },
         "mode": "lines",
         "showlegend": false,
         "type": "scatter3d",
         "x": [
          2.0442795410156203,
          3.5339973144531203
         ],
         "y": [
          -0.5636821899414061,
          -0.478101470947266
         ],
         "z": [
          94.4417578125,
          94.27214843750001
         ]
        },
        {
         "line": {
          "color": "rgb(0,0,0)",
          "width": 5
         },
         "mode": "lines",
         "showlegend": false,
         "type": "scatter3d",
         "x": [
          3.5339973144531203,
          2.0442795410156203
         ],
         "y": [
          -0.478101470947266,
          -0.5636821899414061
         ],
         "z": [
          94.27214843750001,
          94.5862265625
         ]
        },
        {
         "color": "red",
         "i": [
          0
         ],
         "j": [
          1
         ],
         "k": [
          2
         ],
         "name": "141",
         "opacity": 1,
         "type": "mesh3d",
         "x": [
          3.5339973144531203,
          2.0442795410156203,
          3.5339973144531203
         ],
         "y": [
          -0.478101470947266,
          -0.5636821899414061,
          -0.478101470947266
         ],
         "z": [
          94.9944921875,
          94.5862265625,
          94.27214843750001
         ]
        },
        {
         "line": {
          "color": "rgb(0,0,0)",
          "width": 5
         },
         "mode": "lines",
         "showlegend": false,
         "type": "scatter3d",
         "x": [
          3.5339973144531203,
          3.5339973144531203
         ],
         "y": [
          -0.478101470947266,
          -0.478101470947266
         ],
         "z": [
          94.27214843750001,
          94.9944921875
         ]
        },
        {
         "line": {
          "color": "rgb(0,0,0)",
          "width": 5
         },
         "mode": "lines",
         "showlegend": false,
         "type": "scatter3d",
         "x": [
          3.5339973144531203,
          2.0442795410156203
         ],
         "y": [
          -0.478101470947266,
          -0.5636821899414061
         ],
         "z": [
          94.9944921875,
          94.5862265625
         ]
        },
        {
         "line": {
          "color": "rgb(0,0,0)",
          "width": 5
         },
         "mode": "lines",
         "showlegend": false,
         "type": "scatter3d",
         "x": [
          2.0442795410156203,
          3.5339973144531203
         ],
         "y": [
          -0.5636821899414061,
          -0.478101470947266
         ],
         "z": [
          94.5862265625,
          94.27214843750001
         ]
        },
        {
         "color": "red",
         "i": [
          0
         ],
         "j": [
          1
         ],
         "k": [
          2
         ],
         "name": "142",
         "opacity": 1,
         "type": "mesh3d",
         "x": [
          2.0442795410156203,
          2.0442795410156203,
          3.5339973144531203
         ],
         "y": [
          -0.5636821899414061,
          -0.5636821899414061,
          -0.478101470947266
         ],
         "z": [
          94.4417578125,
          94.2972890625,
          94.27214843750001
         ]
        },
        {
         "line": {
          "color": "rgb(0,0,0)",
          "width": 5
         },
         "mode": "lines",
         "showlegend": false,
         "type": "scatter3d",
         "x": [
          3.5339973144531203,
          2.0442795410156203
         ],
         "y": [
          -0.478101470947266,
          -0.5636821899414061
         ],
         "z": [
          94.27214843750001,
          94.4417578125
         ]
        },
        {
         "line": {
          "color": "rgb(0,0,0)",
          "width": 5
         },
         "mode": "lines",
         "showlegend": false,
         "type": "scatter3d",
         "x": [
          2.0442795410156203,
          2.0442795410156203
         ],
         "y": [
          -0.5636821899414061,
          -0.5636821899414061
         ],
         "z": [
          94.4417578125,
          94.2972890625
         ]
        },
        {
         "line": {
          "color": "rgb(0,0,0)",
          "width": 5
         },
         "mode": "lines",
         "showlegend": false,
         "type": "scatter3d",
         "x": [
          2.0442795410156203,
          3.5339973144531203
         ],
         "y": [
          -0.5636821899414061,
          -0.478101470947266
         ],
         "z": [
          94.2972890625,
          94.27214843750001
         ]
        },
        {
         "color": "red",
         "i": [
          0
         ],
         "j": [
          1
         ],
         "k": [
          2
         ],
         "name": "143",
         "opacity": 1,
         "type": "mesh3d",
         "x": [
          2.0442795410156203,
          3.5339973144531203,
          2.0442795410156203
         ],
         "y": [
          -0.5636821899414061,
          -0.478101470947266,
          -0.5636821899414061
         ],
         "z": [
          94.1528203125,
          94.27214843750001,
          94.2972890625
         ]
        },
        {
         "line": {
          "color": "rgb(0,0,0)",
          "width": 5
         },
         "mode": "lines",
         "showlegend": false,
         "type": "scatter3d",
         "x": [
          2.0442795410156203,
          2.0442795410156203
         ],
         "y": [
          -0.5636821899414061,
          -0.5636821899414061
         ],
         "z": [
          94.2972890625,
          94.1528203125
         ]
        },
        {
         "line": {
          "color": "rgb(0,0,0)",
          "width": 5
         },
         "mode": "lines",
         "showlegend": false,
         "type": "scatter3d",
         "x": [
          2.0442795410156203,
          3.5339973144531203
         ],
         "y": [
          -0.5636821899414061,
          -0.478101470947266
         ],
         "z": [
          94.1528203125,
          94.27214843750001
         ]
        },
        {
         "line": {
          "color": "rgb(0,0,0)",
          "width": 5
         },
         "mode": "lines",
         "showlegend": false,
         "type": "scatter3d",
         "x": [
          3.5339973144531203,
          2.0442795410156203
         ],
         "y": [
          -0.478101470947266,
          -0.5636821899414061
         ],
         "z": [
          94.27214843750001,
          94.2972890625
         ]
        },
        {
         "color": "red",
         "i": [
          0
         ],
         "j": [
          1
         ],
         "k": [
          2
         ],
         "name": "144",
         "opacity": 1,
         "type": "mesh3d",
         "x": [
          -1.96627941894531,
          -3.461708984375,
          -1.96627941894531
         ],
         "y": [
          -0.794079223632812,
          -0.879988037109375,
          -0.794079223632812
         ],
         "z": [
          94.55389062500001,
          94.4341015625,
          94.40942968750001
         ]
        },
        {
         "line": {
          "color": "rgb(0,0,0)",
          "width": 5
         },
         "mode": "lines",
         "showlegend": false,
         "type": "scatter3d",
         "x": [
          -1.96627941894531,
          -1.96627941894531
         ],
         "y": [
          -0.794079223632812,
          -0.794079223632812
         ],
         "z": [
          94.40942968750001,
          94.55389062500001
         ]
        },
        {
         "line": {
          "color": "rgb(0,0,0)",
          "width": 5
         },
         "mode": "lines",
         "showlegend": false,
         "type": "scatter3d",
         "x": [
          -1.96627941894531,
          -3.461708984375
         ],
         "y": [
          -0.794079223632812,
          -0.879988037109375
         ],
         "z": [
          94.55389062500001,
          94.4341015625
         ]
        },
        {
         "line": {
          "color": "rgb(0,0,0)",
          "width": 5
         },
         "mode": "lines",
         "showlegend": false,
         "type": "scatter3d",
         "x": [
          -3.461708984375,
          -1.96627941894531
         ],
         "y": [
          -0.879988037109375,
          -0.794079223632812
         ],
         "z": [
          94.4341015625,
          94.40942968750001
         ]
        },
        {
         "color": "red",
         "i": [
          0
         ],
         "j": [
          1
         ],
         "k": [
          2
         ],
         "name": "145",
         "opacity": 1,
         "type": "mesh3d",
         "x": [
          -3.461708984375,
          -3.461708984375,
          -1.9662794189452988
         ],
         "y": [
          -0.879988037109375,
          -0.879988037109375,
          -0.7940792236328091
         ],
         "z": [
          94.4341015625,
          93.7117890625,
          93.83157812500004
         ]
        },
        {
         "line": {
          "color": "rgb(0,0,0)",
          "width": 5
         },
         "mode": "lines",
         "showlegend": false,
         "type": "scatter3d",
         "x": [
          -1.9662794189452988,
          -3.461708984375
         ],
         "y": [
          -0.7940792236328091,
          -0.879988037109375
         ],
         "z": [
          93.83157812500004,
          94.4341015625
         ]
        },
        {
         "line": {
          "color": "rgb(0,0,0)",
          "width": 5
         },
         "mode": "lines",
         "showlegend": false,
         "type": "scatter3d",
         "x": [
          -3.461708984375,
          -3.461708984375
         ],
         "y": [
          -0.879988037109375,
          -0.879988037109375
         ],
         "z": [
          94.4341015625,
          93.7117890625
         ]
        },
        {
         "line": {
          "color": "rgb(0,0,0)",
          "width": 5
         },
         "mode": "lines",
         "showlegend": false,
         "type": "scatter3d",
         "x": [
          -3.461708984375,
          -1.9662794189452988
         ],
         "y": [
          -0.879988037109375,
          -0.7940792236328091
         ],
         "z": [
          93.7117890625,
          93.83157812500004
         ]
        },
        {
         "color": "red",
         "i": [
          0
         ],
         "j": [
          1
         ],
         "k": [
          2
         ],
         "name": "146",
         "opacity": 1,
         "type": "mesh3d",
         "x": [
          -1.96627941894531,
          -3.461708984375,
          -1.96627941894531
         ],
         "y": [
          -0.794079223632812,
          -0.879988037109375,
          -0.794079223632812
         ],
         "z": [
          94.40942968750001,
          94.4341015625,
          94.26496875000001
         ]
        },
        {
         "line": {
          "color": "rgb(0,0,0)",
          "width": 5
         },
         "mode": "lines",
         "showlegend": false,
         "type": "scatter3d",
         "x": [
          -1.96627941894531,
          -1.96627941894531
         ],
         "y": [
          -0.794079223632812,
          -0.794079223632812
         ],
         "z": [
          94.26496875000001,
          94.40942968750001
         ]
        },
        {
         "line": {
          "color": "rgb(0,0,0)",
          "width": 5
         },
         "mode": "lines",
         "showlegend": false,
         "type": "scatter3d",
         "x": [
          -1.96627941894531,
          -3.461708984375
         ],
         "y": [
          -0.794079223632812,
          -0.879988037109375
         ],
         "z": [
          94.40942968750001,
          94.4341015625
         ]
        },
        {
         "line": {
          "color": "rgb(0,0,0)",
          "width": 5
         },
         "mode": "lines",
         "showlegend": false,
         "type": "scatter3d",
         "x": [
          -3.461708984375,
          -1.96627941894531
         ],
         "y": [
          -0.879988037109375,
          -0.794079223632812
         ],
         "z": [
          94.4341015625,
          94.26496875000001
         ]
        },
        {
         "color": "red",
         "i": [
          0
         ],
         "j": [
          1
         ],
         "k": [
          2
         ],
         "name": "147",
         "opacity": 1,
         "type": "mesh3d",
         "x": [
          -3.461708984375,
          -1.9662794189452988,
          -1.96627941894531
         ],
         "y": [
          -0.879988037109375,
          -0.7940792236328091,
          -0.794079223632812
         ],
         "z": [
          94.4341015625,
          93.83157812500004,
          94.26496875000001
         ]
        },
        {
         "line": {
          "color": "rgb(0,0,0)",
          "width": 5
         },
         "mode": "lines",
         "showlegend": false,
         "type": "scatter3d",
         "x": [
          -1.96627941894531,
          -3.461708984375
         ],
         "y": [
          -0.794079223632812,
          -0.879988037109375
         ],
         "z": [
          94.26496875000001,
          94.4341015625
         ]
        },
        {
         "line": {
          "color": "rgb(0,0,0)",
          "width": 5
         },
         "mode": "lines",
         "showlegend": false,
         "type": "scatter3d",
         "x": [
          -3.461708984375,
          -1.9662794189452988
         ],
         "y": [
          -0.879988037109375,
          -0.7940792236328091
         ],
         "z": [
          94.4341015625,
          93.83157812500004
         ]
        },
        {
         "line": {
          "color": "rgb(0,0,0)",
          "width": 5
         },
         "mode": "lines",
         "showlegend": false,
         "type": "scatter3d",
         "x": [
          -1.9662794189452988,
          -1.96627941894531
         ],
         "y": [
          -0.7940792236328091,
          -0.794079223632812
         ],
         "z": [
          93.83157812500004,
          94.26496875000001
         ]
        },
        {
         "color": "red",
         "i": [
          0
         ],
         "j": [
          1
         ],
         "k": [
          2
         ],
         "name": "148",
         "opacity": 1,
         "type": "mesh3d",
         "x": [
          3.5339973144531203,
          3.52760668945312,
          3.52633666992188
         ],
         "y": [
          -0.478101470947266,
          -0.328221282958984,
          -0.29843615722656197
         ],
         "z": [
          94.27214843750001,
          93.620140625,
          95.152609375
         ]
        },
        {
         "line": {
          "color": "rgb(0,0,0)",
          "width": 5
         },
         "mode": "lines",
         "showlegend": false,
         "type": "scatter3d",
         "x": [
          3.52633666992188,
          3.5339973144531203
         ],
         "y": [
          -0.29843615722656197,
          -0.478101470947266
         ],
         "z": [
          95.152609375,
          94.27214843750001
         ]
        },
        {
         "line": {
          "color": "rgb(0,0,0)",
          "width": 5
         },
         "mode": "lines",
         "showlegend": false,
         "type": "scatter3d",
         "x": [
          3.5339973144531203,
          3.52760668945312
         ],
         "y": [
          -0.478101470947266,
          -0.328221282958984
         ],
         "z": [
          94.27214843750001,
          93.620140625
         ]
        },
        {
         "line": {
          "color": "rgb(0,0,0)",
          "width": 5
         },
         "mode": "lines",
         "showlegend": false,
         "type": "scatter3d",
         "x": [
          3.52760668945312,
          3.52633666992188
         ],
         "y": [
          -0.328221282958984,
          -0.29843615722656197
         ],
         "z": [
          93.620140625,
          95.152609375
         ]
        },
        {
         "color": "red",
         "i": [
          0
         ],
         "j": [
          1
         ],
         "k": [
          2
         ],
         "name": "149",
         "opacity": 1,
         "type": "mesh3d",
         "x": [
          3.5050283203125,
          3.48372485351563,
          3.48372485351562
         ],
         "y": [
          0.20131491088867198,
          0.700955993652344,
          0.700955993652344
         ],
         "z": [
          95.173046875,
          93.6201406250001,
          93.77354687500001
         ]
        },
        {
         "line": {
          "color": "rgb(0,0,0)",
          "width": 5
         },
         "mode": "lines",
         "showlegend": false,
         "type": "scatter3d",
         "x": [
          3.48372485351562,
          3.5050283203125
         ],
         "y": [
          0.700955993652344,
          0.20131491088867198
         ],
         "z": [
          93.77354687500001,
          95.173046875
         ]
        },
        {
         "line": {
          "color": "rgb(0,0,0)",
          "width": 5
         },
         "mode": "lines",
         "showlegend": false,
         "type": "scatter3d",
         "x": [
          3.5050283203125,
          3.48372485351563
         ],
         "y": [
          0.20131491088867198,
          0.700955993652344
         ],
         "z": [
          95.173046875,
          93.6201406250001
         ]
        },
        {
         "line": {
          "color": "rgb(0,0,0)",
          "width": 5
         },
         "mode": "lines",
         "showlegend": false,
         "type": "scatter3d",
         "x": [
          3.48372485351563,
          3.48372485351562
         ],
         "y": [
          0.700955993652344,
          0.700955993652344
         ],
         "z": [
          93.6201406250001,
          93.77354687500001
         ]
        },
        {
         "color": "red",
         "i": [
          0
         ],
         "j": [
          1
         ],
         "k": [
          2
         ],
         "name": "150",
         "opacity": 1,
         "type": "mesh3d",
         "x": [
          3.5050283203125,
          3.52760668945312,
          3.48372485351563
         ],
         "y": [
          0.20131491088867198,
          -0.328221282958984,
          0.700955993652344
         ],
         "z": [
          95.173046875,
          93.620140625,
          93.6201406250001
         ]
        },
        {
         "line": {
          "color": "rgb(0,0,0)",
          "width": 5
         },
         "mode": "lines",
         "showlegend": false,
         "type": "scatter3d",
         "x": [
          3.48372485351563,
          3.5050283203125
         ],
         "y": [
          0.700955993652344,
          0.20131491088867198
         ],
         "z": [
          93.6201406250001,
          95.173046875
         ]
        },
        {
         "line": {
          "color": "rgb(0,0,0)",
          "width": 5
         },
         "mode": "lines",
         "showlegend": false,
         "type": "scatter3d",
         "x": [
          3.5050283203125,
          3.52760668945312
         ],
         "y": [
          0.20131491088867198,
          -0.328221282958984
         ],
         "z": [
          95.173046875,
          93.620140625
         ]
        },
        {
         "line": {
          "color": "rgb(0,0,0)",
          "width": 5
         },
         "mode": "lines",
         "showlegend": false,
         "type": "scatter3d",
         "x": [
          3.52760668945312,
          3.48372485351563
         ],
         "y": [
          -0.328221282958984,
          0.700955993652344
         ],
         "z": [
          93.620140625,
          93.6201406250001
         ]
        },
        {
         "color": "red",
         "i": [
          0
         ],
         "j": [
          1
         ],
         "k": [
          2
         ],
         "name": "151",
         "opacity": 1,
         "type": "mesh3d",
         "x": [
          3.52760668945312,
          3.54464819335938,
          3.52760668945312
         ],
         "y": [
          -0.328221282958984,
          -0.727901794433594,
          -0.328221282958984
         ],
         "z": [
          93.620140625,
          92.9718359375,
          92.972328125
         ]
        },
        {
         "line": {
          "color": "rgb(0,0,0)",
          "width": 5
         },
         "mode": "lines",
         "showlegend": false,
         "type": "scatter3d",
         "x": [
          3.52760668945312,
          3.52760668945312
         ],
         "y": [
          -0.328221282958984,
          -0.328221282958984
         ],
         "z": [
          92.972328125,
          93.620140625
         ]
        },
        {
         "line": {
          "color": "rgb(0,0,0)",
          "width": 5
         },
         "mode": "lines",
         "showlegend": false,
         "type": "scatter3d",
         "x": [
          3.52760668945312,
          3.54464819335938
         ],
         "y": [
          -0.328221282958984,
          -0.727901794433594
         ],
         "z": [
          93.620140625,
          92.9718359375
         ]
        },
        {
         "line": {
          "color": "rgb(0,0,0)",
          "width": 5
         },
         "mode": "lines",
         "showlegend": false,
         "type": "scatter3d",
         "x": [
          3.54464819335938,
          3.52760668945312
         ],
         "y": [
          -0.727901794433594,
          -0.328221282958984
         ],
         "z": [
          92.9718359375,
          92.972328125
         ]
        },
        {
         "color": "red",
         "i": [
          0
         ],
         "j": [
          1
         ],
         "k": [
          2
         ],
         "name": "152",
         "opacity": 1,
         "type": "mesh3d",
         "x": [
          3.48372485351562,
          3.5050283203125,
          3.48372485351562
         ],
         "y": [
          0.700955993652344,
          0.20131491088867198,
          0.700955993652344
         ],
         "z": [
          95.193140625,
          95.173046875,
          93.77354687500001
         ]
        },
        {
         "line": {
          "color": "rgb(0,0,0)",
          "width": 5
         },
         "mode": "lines",
         "showlegend": false,
         "type": "scatter3d",
         "x": [
          3.48372485351562,
          3.48372485351562
         ],
         "y": [
          0.700955993652344,
          0.700955993652344
         ],
         "z": [
          93.77354687500001,
          95.193140625
         ]
        },
        {
         "line": {
          "color": "rgb(0,0,0)",
          "width": 5
         },
         "mode": "lines",
         "showlegend": false,
         "type": "scatter3d",
         "x": [
          3.48372485351562,
          3.5050283203125
         ],
         "y": [
          0.700955993652344,
          0.20131491088867198
         ],
         "z": [
          95.193140625,
          95.173046875
         ]
        },
        {
         "line": {
          "color": "rgb(0,0,0)",
          "width": 5
         },
         "mode": "lines",
         "showlegend": false,
         "type": "scatter3d",
         "x": [
          3.5050283203125,
          3.48372485351562
         ],
         "y": [
          0.20131491088867198,
          0.700955993652344
         ],
         "z": [
          95.173046875,
          93.77354687500001
         ]
        },
        {
         "color": "red",
         "i": [
          0
         ],
         "j": [
          1
         ],
         "k": [
          2
         ],
         "name": "153",
         "opacity": 1,
         "type": "mesh3d",
         "x": [
          3.5050283203125,
          3.52633666992188,
          3.52760668945312
         ],
         "y": [
          0.20131491088867198,
          -0.29843615722656197,
          -0.328221282958984
         ],
         "z": [
          95.173046875,
          95.152609375,
          93.620140625
         ]
        },
        {
         "line": {
          "color": "rgb(0,0,0)",
          "width": 5
         },
         "mode": "lines",
         "showlegend": false,
         "type": "scatter3d",
         "x": [
          3.52760668945312,
          3.5050283203125
         ],
         "y": [
          -0.328221282958984,
          0.20131491088867198
         ],
         "z": [
          93.620140625,
          95.173046875
         ]
        },
        {
         "line": {
          "color": "rgb(0,0,0)",
          "width": 5
         },
         "mode": "lines",
         "showlegend": false,
         "type": "scatter3d",
         "x": [
          3.5050283203125,
          3.52633666992188
         ],
         "y": [
          0.20131491088867198,
          -0.29843615722656197
         ],
         "z": [
          95.173046875,
          95.152609375
         ]
        },
        {
         "line": {
          "color": "rgb(0,0,0)",
          "width": 5
         },
         "mode": "lines",
         "showlegend": false,
         "type": "scatter3d",
         "x": [
          3.52633666992188,
          3.52760668945312
         ],
         "y": [
          -0.29843615722656197,
          -0.328221282958984
         ],
         "z": [
          95.152609375,
          93.620140625
         ]
        },
        {
         "color": "red",
         "i": [
          0
         ],
         "j": [
          1
         ],
         "k": [
          2
         ],
         "name": "154",
         "opacity": 1,
         "type": "mesh3d",
         "x": [
          3.52760668945312,
          3.5339973144531203,
          3.54168310546875
         ],
         "y": [
          -0.328221282958984,
          -0.478101470947266,
          -0.6583598632812501
         ],
         "z": [
          93.620140625,
          94.27214843750001,
          94.253640625
         ]
        },
        {
         "line": {
          "color": "rgb(0,0,0)",
          "width": 5
         },
         "mode": "lines",
         "showlegend": false,
         "type": "scatter3d",
         "x": [
          3.54168310546875,
          3.52760668945312
         ],
         "y": [
          -0.6583598632812501,
          -0.328221282958984
         ],
         "z": [
          94.253640625,
          93.620140625
         ]
        },
        {
         "line": {
          "color": "rgb(0,0,0)",
          "width": 5
         },
         "mode": "lines",
         "showlegend": false,
         "type": "scatter3d",
         "x": [
          3.52760668945312,
          3.5339973144531203
         ],
         "y": [
          -0.328221282958984,
          -0.478101470947266
         ],
         "z": [
          93.620140625,
          94.27214843750001
         ]
        },
        {
         "line": {
          "color": "rgb(0,0,0)",
          "width": 5
         },
         "mode": "lines",
         "showlegend": false,
         "type": "scatter3d",
         "x": [
          3.5339973144531203,
          3.54168310546875
         ],
         "y": [
          -0.478101470947266,
          -0.6583598632812501
         ],
         "z": [
          94.27214843750001,
          94.253640625
         ]
        },
        {
         "color": "red",
         "i": [
          0
         ],
         "j": [
          1
         ],
         "k": [
          2
         ],
         "name": "155",
         "opacity": 1,
         "type": "mesh3d",
         "x": [
          3.54168310546875,
          3.54464819335938,
          3.52760668945312
         ],
         "y": [
          -0.6583598632812501,
          -0.727901794433594,
          -0.328221282958984
         ],
         "z": [
          94.253640625,
          92.9718359375,
          93.620140625
         ]
        },
        {
         "line": {
          "color": "rgb(0,0,0)",
          "width": 5
         },
         "mode": "lines",
         "showlegend": false,
         "type": "scatter3d",
         "x": [
          3.52760668945312,
          3.54168310546875
         ],
         "y": [
          -0.328221282958984,
          -0.6583598632812501
         ],
         "z": [
          93.620140625,
          94.253640625
         ]
        },
        {
         "line": {
          "color": "rgb(0,0,0)",
          "width": 5
         },
         "mode": "lines",
         "showlegend": false,
         "type": "scatter3d",
         "x": [
          3.54168310546875,
          3.54464819335938
         ],
         "y": [
          -0.6583598632812501,
          -0.727901794433594
         ],
         "z": [
          94.253640625,
          92.9718359375
         ]
        },
        {
         "line": {
          "color": "rgb(0,0,0)",
          "width": 5
         },
         "mode": "lines",
         "showlegend": false,
         "type": "scatter3d",
         "x": [
          3.54464819335938,
          3.52760668945312
         ],
         "y": [
          -0.727901794433594,
          -0.328221282958984
         ],
         "z": [
          92.9718359375,
          93.620140625
         ]
        },
        {
         "color": "red",
         "i": [
          0
         ],
         "j": [
          1
         ],
         "k": [
          2
         ],
         "name": "156",
         "opacity": 1,
         "type": "mesh3d",
         "x": [
          3.54168310546875,
          3.54464819335938,
          3.54464819335938
         ],
         "y": [
          -0.6583598632812501,
          -0.727901794433594,
          -0.727901794433594
         ],
         "z": [
          94.253640625,
          94.2033984375,
          92.9718359375
         ]
        },
        {
         "line": {
          "color": "rgb(0,0,0)",
          "width": 5
         },
         "mode": "lines",
         "showlegend": false,
         "type": "scatter3d",
         "x": [
          3.54464819335938,
          3.54168310546875
         ],
         "y": [
          -0.727901794433594,
          -0.6583598632812501
         ],
         "z": [
          92.9718359375,
          94.253640625
         ]
        },
        {
         "line": {
          "color": "rgb(0,0,0)",
          "width": 5
         },
         "mode": "lines",
         "showlegend": false,
         "type": "scatter3d",
         "x": [
          3.54168310546875,
          3.54464819335938
         ],
         "y": [
          -0.6583598632812501,
          -0.727901794433594
         ],
         "z": [
          94.253640625,
          94.2033984375
         ]
        },
        {
         "line": {
          "color": "rgb(0,0,0)",
          "width": 5
         },
         "mode": "lines",
         "showlegend": false,
         "type": "scatter3d",
         "x": [
          3.54464819335938,
          3.54464819335938
         ],
         "y": [
          -0.727901794433594,
          -0.727901794433594
         ],
         "z": [
          94.2033984375,
          92.9718359375
         ]
        },
        {
         "color": "red",
         "i": [
          0
         ],
         "j": [
          1
         ],
         "k": [
          2
         ],
         "name": "157",
         "opacity": 1,
         "type": "mesh3d",
         "x": [
          3.5339973144531203,
          3.52633666992188,
          3.5310092773437503
         ],
         "y": [
          -0.478101470947266,
          -0.29843615722656197,
          -0.40802233886718803
         ],
         "z": [
          94.9944921875,
          95.152609375,
          95.1482578125
         ]
        },
        {
         "line": {
          "color": "rgb(0,0,0)",
          "width": 5
         },
         "mode": "lines",
         "showlegend": false,
         "type": "scatter3d",
         "x": [
          3.5310092773437503,
          3.5339973144531203
         ],
         "y": [
          -0.40802233886718803,
          -0.478101470947266
         ],
         "z": [
          95.1482578125,
          94.9944921875
         ]
        },
        {
         "line": {
          "color": "rgb(0,0,0)",
          "width": 5
         },
         "mode": "lines",
         "showlegend": false,
         "type": "scatter3d",
         "x": [
          3.5339973144531203,
          3.52633666992188
         ],
         "y": [
          -0.478101470947266,
          -0.29843615722656197
         ],
         "z": [
          94.9944921875,
          95.152609375
         ]
        },
        {
         "line": {
          "color": "rgb(0,0,0)",
          "width": 5
         },
         "mode": "lines",
         "showlegend": false,
         "type": "scatter3d",
         "x": [
          3.52633666992188,
          3.5310092773437503
         ],
         "y": [
          -0.29843615722656197,
          -0.40802233886718803
         ],
         "z": [
          95.152609375,
          95.1482578125
         ]
        },
        {
         "color": "red",
         "i": [
          0
         ],
         "j": [
          1
         ],
         "k": [
          2
         ],
         "name": "158",
         "opacity": 1,
         "type": "mesh3d",
         "x": [
          3.5339973144531203,
          3.52633666992188,
          3.5339973144531203
         ],
         "y": [
          -0.478101470947266,
          -0.29843615722656197,
          -0.478101470947266
         ],
         "z": [
          94.27214843750001,
          95.152609375,
          94.9944921875
         ]
        },
        {
         "line": {
          "color": "rgb(0,0,0)",
          "width": 5
         },
         "mode": "lines",
         "showlegend": false,
         "type": "scatter3d",
         "x": [
          3.5339973144531203,
          3.5339973144531203
         ],
         "y": [
          -0.478101470947266,
          -0.478101470947266
         ],
         "z": [
          94.9944921875,
          94.27214843750001
         ]
        },
        {
         "line": {
          "color": "rgb(0,0,0)",
          "width": 5
         },
         "mode": "lines",
         "showlegend": false,
         "type": "scatter3d",
         "x": [
          3.5339973144531203,
          3.52633666992188
         ],
         "y": [
          -0.478101470947266,
          -0.29843615722656197
         ],
         "z": [
          94.27214843750001,
          95.152609375
         ]
        },
        {
         "line": {
          "color": "rgb(0,0,0)",
          "width": 5
         },
         "mode": "lines",
         "showlegend": false,
         "type": "scatter3d",
         "x": [
          3.52633666992188,
          3.5339973144531203
         ],
         "y": [
          -0.29843615722656197,
          -0.478101470947266
         ],
         "z": [
          95.152609375,
          94.9944921875
         ]
        },
        {
         "color": "red",
         "i": [
          0
         ],
         "j": [
          1
         ],
         "k": [
          2
         ],
         "name": "159",
         "opacity": 1,
         "type": "mesh3d",
         "x": [
          -3.461708984375,
          -3.4697990722656202,
          -3.4684577643542753
         ],
         "y": [
          -0.879988037109375,
          -0.700347412109375,
          -0.730128418007952
         ],
         "z": [
          93.7117890625,
          94.5919921875,
          93.36424218750003
         ]
        },
        {
         "line": {
          "color": "rgb(0,0,0)",
          "width": 5
         },
         "mode": "lines",
         "showlegend": false,
         "type": "scatter3d",
         "x": [
          -3.4684577643542753,
          -3.461708984375
         ],
         "y": [
          -0.730128418007952,
          -0.879988037109375
         ],
         "z": [
          93.36424218750003,
          93.7117890625
         ]
        },
        {
         "line": {
          "color": "rgb(0,0,0)",
          "width": 5
         },
         "mode": "lines",
         "showlegend": false,
         "type": "scatter3d",
         "x": [
          -3.461708984375,
          -3.4697990722656202
         ],
         "y": [
          -0.879988037109375,
          -0.700347412109375
         ],
         "z": [
          93.7117890625,
          94.5919921875
         ]
        },
        {
         "line": {
          "color": "rgb(0,0,0)",
          "width": 5
         },
         "mode": "lines",
         "showlegend": false,
         "type": "scatter3d",
         "x": [
          -3.4697990722656202,
          -3.4684577643542753
         ],
         "y": [
          -0.700347412109375,
          -0.730128418007952
         ],
         "z": [
          94.5919921875,
          93.36424218750003
         ]
        },
        {
         "color": "red",
         "i": [
          0
         ],
         "j": [
          1
         ],
         "k": [
          2
         ],
         "name": "160",
         "opacity": 1,
         "type": "mesh3d",
         "x": [
          -3.4684577643542753,
          -3.4697990722656202,
          -3.4923017578125
         ],
         "y": [
          -0.730128418007952,
          -0.700347412109375,
          -0.200664962768555
         ],
         "z": [
          93.36424218750003,
          94.5919921875,
          94.6123359375
         ]
        },
        {
         "line": {
          "color": "rgb(0,0,0)",
          "width": 5
         },
         "mode": "lines",
         "showlegend": false,
         "type": "scatter3d",
         "x": [
          -3.4923017578125,
          -3.4684577643542753
         ],
         "y": [
          -0.200664962768555,
          -0.730128418007952
         ],
         "z": [
          94.6123359375,
          93.36424218750003
         ]
        },
        {
         "line": {
          "color": "rgb(0,0,0)",
          "width": 5
         },
         "mode": "lines",
         "showlegend": false,
         "type": "scatter3d",
         "x": [
          -3.4684577643542753,
          -3.4697990722656202
         ],
         "y": [
          -0.730128418007952,
          -0.700347412109375
         ],
         "z": [
          93.36424218750003,
          94.5919921875
         ]
        },
        {
         "line": {
          "color": "rgb(0,0,0)",
          "width": 5
         },
         "mode": "lines",
         "showlegend": false,
         "type": "scatter3d",
         "x": [
          -3.4697990722656202,
          -3.4923017578125
         ],
         "y": [
          -0.700347412109375,
          -0.200664962768555
         ],
         "z": [
          94.5919921875,
          94.6123359375
         ]
        },
        {
         "color": "red",
         "i": [
          0
         ],
         "j": [
          1
         ],
         "k": [
          2
         ],
         "name": "161",
         "opacity": 1,
         "type": "mesh3d",
         "x": [
          -3.4923017578125,
          -3.5147998046875,
          -3.4684577643542753
         ],
         "y": [
          -0.200664962768555,
          0.29890753173828105,
          -0.730128418007952
         ],
         "z": [
          94.6123359375,
          93.3642421875,
          93.36424218750003
         ]
        },
        {
         "line": {
          "color": "rgb(0,0,0)",
          "width": 5
         },
         "mode": "lines",
         "showlegend": false,
         "type": "scatter3d",
         "x": [
          -3.4684577643542753,
          -3.4923017578125
         ],
         "y": [
          -0.730128418007952,
          -0.200664962768555
         ],
         "z": [
          93.36424218750003,
          94.6123359375
         ]
        },
        {
         "line": {
          "color": "rgb(0,0,0)",
          "width": 5
         },
         "mode": "lines",
         "showlegend": false,
         "type": "scatter3d",
         "x": [
          -3.4923017578125,
          -3.5147998046875
         ],
         "y": [
          -0.200664962768555,
          0.29890753173828105
         ],
         "z": [
          94.6123359375,
          93.3642421875
         ]
        },
        {
         "line": {
          "color": "rgb(0,0,0)",
          "width": 5
         },
         "mode": "lines",
         "showlegend": false,
         "type": "scatter3d",
         "x": [
          -3.5147998046875,
          -3.4684577643542753
         ],
         "y": [
          0.29890753173828105,
          -0.730128418007952
         ],
         "z": [
          93.3642421875,
          93.36424218750003
         ]
        },
        {
         "color": "red",
         "i": [
          0
         ],
         "j": [
          1
         ],
         "k": [
          2
         ],
         "name": "162",
         "opacity": 1,
         "type": "mesh3d",
         "x": [
          -3.4923017578125,
          -3.51412255859375,
          -3.5147998046875
         ],
         "y": [
          -0.200664962768555,
          0.283867919921875,
          0.29890753173828105
         ],
         "z": [
          94.6123359375,
          94.63290625,
          93.3642421875
         ]
        },
        {
         "line": {
          "color": "rgb(0,0,0)",
          "width": 5
         },
         "mode": "lines",
         "showlegend": false,
         "type": "scatter3d",
         "x": [
          -3.5147998046875,
          -3.4923017578125
         ],
         "y": [
          0.29890753173828105,
          -0.200664962768555
         ],
         "z": [
          93.3642421875,
          94.6123359375
         ]
        },
        {
         "line": {
          "color": "rgb(0,0,0)",
          "width": 5
         },
         "mode": "lines",
         "showlegend": false,
         "type": "scatter3d",
         "x": [
          -3.4923017578125,
          -3.51412255859375
         ],
         "y": [
          -0.200664962768555,
          0.283867919921875
         ],
         "z": [
          94.6123359375,
          94.63290625
         ]
        },
        {
         "line": {
          "color": "rgb(0,0,0)",
          "width": 5
         },
         "mode": "lines",
         "showlegend": false,
         "type": "scatter3d",
         "x": [
          -3.51412255859375,
          -3.5147998046875
         ],
         "y": [
          0.283867919921875,
          0.29890753173828105
         ],
         "z": [
          94.63290625,
          93.3642421875
         ]
        },
        {
         "color": "red",
         "i": [
          0
         ],
         "j": [
          1
         ],
         "k": [
          2
         ],
         "name": "163",
         "opacity": 1,
         "type": "mesh3d",
         "x": [
          -3.5147998046875,
          -3.51412255859375,
          -3.5147998046875
         ],
         "y": [
          0.29890753173828105,
          0.283867919921875,
          0.29890753173828105
         ],
         "z": [
          93.3642421875,
          94.63290625,
          94.6335546875
         ]
        },
        {
         "line": {
          "color": "rgb(0,0,0)",
          "width": 5
         },
         "mode": "lines",
         "showlegend": false,
         "type": "scatter3d",
         "x": [
          -3.5147998046875,
          -3.5147998046875
         ],
         "y": [
          0.29890753173828105,
          0.29890753173828105
         ],
         "z": [
          94.6335546875,
          93.3642421875
         ]
        },
        {
         "line": {
          "color": "rgb(0,0,0)",
          "width": 5
         },
         "mode": "lines",
         "showlegend": false,
         "type": "scatter3d",
         "x": [
          -3.5147998046875,
          -3.51412255859375
         ],
         "y": [
          0.29890753173828105,
          0.283867919921875
         ],
         "z": [
          93.3642421875,
          94.63290625
         ]
        },
        {
         "line": {
          "color": "rgb(0,0,0)",
          "width": 5
         },
         "mode": "lines",
         "showlegend": false,
         "type": "scatter3d",
         "x": [
          -3.51412255859375,
          -3.5147998046875
         ],
         "y": [
          0.283867919921875,
          0.29890753173828105
         ],
         "z": [
          94.63290625,
          94.6335546875
         ]
        },
        {
         "color": "red",
         "i": [
          0
         ],
         "j": [
          1
         ],
         "k": [
          2
         ],
         "name": "164",
         "opacity": 1,
         "type": "mesh3d",
         "x": [
          -3.461708984375,
          -3.46485473632812,
          -3.4697990722656202
         ],
         "y": [
          -0.879988037109375,
          -0.8101339111328121,
          -0.700347412109375
         ],
         "z": [
          94.4341015625,
          94.5873828125,
          94.5919921875
         ]
        },
        {
         "line": {
          "color": "rgb(0,0,0)",
          "width": 5
         },
         "mode": "lines",
         "showlegend": false,
         "type": "scatter3d",
         "x": [
          -3.4697990722656202,
          -3.461708984375
         ],
         "y": [
          -0.700347412109375,
          -0.879988037109375
         ],
         "z": [
          94.5919921875,
          94.4341015625
         ]
        },
        {
         "line": {
          "color": "rgb(0,0,0)",
          "width": 5
         },
         "mode": "lines",
         "showlegend": false,
         "type": "scatter3d",
         "x": [
          -3.461708984375,
          -3.46485473632812
         ],
         "y": [
          -0.879988037109375,
          -0.8101339111328121
         ],
         "z": [
          94.4341015625,
          94.5873828125
         ]
        },
        {
         "line": {
          "color": "rgb(0,0,0)",
          "width": 5
         },
         "mode": "lines",
         "showlegend": false,
         "type": "scatter3d",
         "x": [
          -3.46485473632812,
          -3.4697990722656202
         ],
         "y": [
          -0.8101339111328121,
          -0.700347412109375
         ],
         "z": [
          94.5873828125,
          94.5919921875
         ]
        },
        {
         "color": "red",
         "i": [
          0
         ],
         "j": [
          1
         ],
         "k": [
          2
         ],
         "name": "165",
         "opacity": 1,
         "type": "mesh3d",
         "x": [
          -3.46845776367188,
          -3.4504609375,
          -3.4684577643542753
         ],
         "y": [
          -0.73012841796875,
          -1.12975402832031,
          -0.730128418007952
         ],
         "z": [
          92.41193750000001,
          92.41152343750001,
          93.36424218750003
         ]
        },
        {
         "line": {
          "color": "rgb(0,0,0)",
          "width": 5
         },
         "mode": "lines",
         "showlegend": false,
         "type": "scatter3d",
         "x": [
          -3.4684577643542753,
          -3.46845776367188
         ],
         "y": [
          -0.730128418007952,
          -0.73012841796875
         ],
         "z": [
          93.36424218750003,
          92.41193750000001
         ]
        },
        {
         "line": {
          "color": "rgb(0,0,0)",
          "width": 5
         },
         "mode": "lines",
         "showlegend": false,
         "type": "scatter3d",
         "x": [
          -3.46845776367188,
          -3.4504609375
         ],
         "y": [
          -0.73012841796875,
          -1.12975402832031
         ],
         "z": [
          92.41193750000001,
          92.41152343750001
         ]
        },
        {
         "line": {
          "color": "rgb(0,0,0)",
          "width": 5
         },
         "mode": "lines",
         "showlegend": false,
         "type": "scatter3d",
         "x": [
          -3.4504609375,
          -3.4684577643542753
         ],
         "y": [
          -1.12975402832031,
          -0.730128418007952
         ],
         "z": [
          92.41152343750001,
          93.36424218750003
         ]
        },
        {
         "color": "red",
         "i": [
          0
         ],
         "j": [
          1
         ],
         "k": [
          2
         ],
         "name": "166",
         "opacity": 1,
         "type": "mesh3d",
         "x": [
          -3.45359228515625,
          -3.461708984375,
          -3.4684577643542753
         ],
         "y": [
          -1.0602216796875,
          -0.879988037109375,
          -0.730128418007952
         ],
         "z": [
          93.6933203125,
          93.7117890625,
          93.36424218750003
         ]
        },
        {
         "line": {
          "color": "rgb(0,0,0)",
          "width": 5
         },
         "mode": "lines",
         "showlegend": false,
         "type": "scatter3d",
         "x": [
          -3.4684577643542753,
          -3.45359228515625
         ],
         "y": [
          -0.730128418007952,
          -1.0602216796875
         ],
         "z": [
          93.36424218750003,
          93.6933203125
         ]
        },
        {
         "line": {
          "color": "rgb(0,0,0)",
          "width": 5
         },
         "mode": "lines",
         "showlegend": false,
         "type": "scatter3d",
         "x": [
          -3.45359228515625,
          -3.461708984375
         ],
         "y": [
          -1.0602216796875,
          -0.879988037109375
         ],
         "z": [
          93.6933203125,
          93.7117890625
         ]
        },
        {
         "line": {
          "color": "rgb(0,0,0)",
          "width": 5
         },
         "mode": "lines",
         "showlegend": false,
         "type": "scatter3d",
         "x": [
          -3.461708984375,
          -3.4684577643542753
         ],
         "y": [
          -0.879988037109375,
          -0.730128418007952
         ],
         "z": [
          93.7117890625,
          93.36424218750003
         ]
        },
        {
         "color": "red",
         "i": [
          0
         ],
         "j": [
          1
         ],
         "k": [
          2
         ],
         "name": "167",
         "opacity": 1,
         "type": "mesh3d",
         "x": [
          -3.4684577643542753,
          -3.4504609375,
          -3.45359228515625
         ],
         "y": [
          -0.730128418007952,
          -1.12975402832031,
          -1.0602216796875
         ],
         "z": [
          93.36424218750003,
          92.41152343750001,
          93.6933203125
         ]
        },
        {
         "line": {
          "color": "rgb(0,0,0)",
          "width": 5
         },
         "mode": "lines",
         "showlegend": false,
         "type": "scatter3d",
         "x": [
          -3.45359228515625,
          -3.4684577643542753
         ],
         "y": [
          -1.0602216796875,
          -0.730128418007952
         ],
         "z": [
          93.6933203125,
          93.36424218750003
         ]
        },
        {
         "line": {
          "color": "rgb(0,0,0)",
          "width": 5
         },
         "mode": "lines",
         "showlegend": false,
         "type": "scatter3d",
         "x": [
          -3.4684577643542753,
          -3.4504609375
         ],
         "y": [
          -0.730128418007952,
          -1.12975402832031
         ],
         "z": [
          93.36424218750003,
          92.41152343750001
         ]
        },
        {
         "line": {
          "color": "rgb(0,0,0)",
          "width": 5
         },
         "mode": "lines",
         "showlegend": false,
         "type": "scatter3d",
         "x": [
          -3.4504609375,
          -3.45359228515625
         ],
         "y": [
          -1.12975402832031,
          -1.0602216796875
         ],
         "z": [
          92.41152343750001,
          93.6933203125
         ]
        },
        {
         "color": "red",
         "i": [
          0
         ],
         "j": [
          1
         ],
         "k": [
          2
         ],
         "name": "168",
         "opacity": 1,
         "type": "mesh3d",
         "x": [
          -3.4504609375,
          -3.4504609375,
          -3.45359228515625
         ],
         "y": [
          -1.12975402832031,
          -1.12975402832031,
          -1.0602216796875
         ],
         "z": [
          92.41152343750001,
          93.6430859375,
          93.6933203125
         ]
        },
        {
         "line": {
          "color": "rgb(0,0,0)",
          "width": 5
         },
         "mode": "lines",
         "showlegend": false,
         "type": "scatter3d",
         "x": [
          -3.45359228515625,
          -3.4504609375
         ],
         "y": [
          -1.0602216796875,
          -1.12975402832031
         ],
         "z": [
          93.6933203125,
          92.41152343750001
         ]
        },
        {
         "line": {
          "color": "rgb(0,0,0)",
          "width": 5
         },
         "mode": "lines",
         "showlegend": false,
         "type": "scatter3d",
         "x": [
          -3.4504609375,
          -3.4504609375
         ],
         "y": [
          -1.12975402832031,
          -1.12975402832031
         ],
         "z": [
          92.41152343750001,
          93.6430859375
         ]
        },
        {
         "line": {
          "color": "rgb(0,0,0)",
          "width": 5
         },
         "mode": "lines",
         "showlegend": false,
         "type": "scatter3d",
         "x": [
          -3.4504609375,
          -3.45359228515625
         ],
         "y": [
          -1.12975402832031,
          -1.0602216796875
         ],
         "z": [
          93.6430859375,
          93.6933203125
         ]
        },
        {
         "color": "red",
         "i": [
          0
         ],
         "j": [
          1
         ],
         "k": [
          2
         ],
         "name": "169",
         "opacity": 1,
         "type": "mesh3d",
         "x": [
          -3.461708984375,
          -3.461708984375,
          -3.4697990722656202
         ],
         "y": [
          -0.879988037109375,
          -0.879988037109375,
          -0.700347412109375
         ],
         "z": [
          93.7117890625,
          94.4341015625,
          94.5919921875
         ]
        },
        {
         "line": {
          "color": "rgb(0,0,0)",
          "width": 5
         },
         "mode": "lines",
         "showlegend": false,
         "type": "scatter3d",
         "x": [
          -3.4697990722656202,
          -3.461708984375
         ],
         "y": [
          -0.700347412109375,
          -0.879988037109375
         ],
         "z": [
          94.5919921875,
          93.7117890625
         ]
        },
        {
         "line": {
          "color": "rgb(0,0,0)",
          "width": 5
         },
         "mode": "lines",
         "showlegend": false,
         "type": "scatter3d",
         "x": [
          -3.461708984375,
          -3.461708984375
         ],
         "y": [
          -0.879988037109375,
          -0.879988037109375
         ],
         "z": [
          93.7117890625,
          94.4341015625
         ]
        },
        {
         "line": {
          "color": "rgb(0,0,0)",
          "width": 5
         },
         "mode": "lines",
         "showlegend": false,
         "type": "scatter3d",
         "x": [
          -3.461708984375,
          -3.4697990722656202
         ],
         "y": [
          -0.879988037109375,
          -0.700347412109375
         ],
         "z": [
          94.4341015625,
          94.5919921875
         ]
        },
        {
         "color": "red",
         "i": [
          0
         ],
         "j": [
          1
         ],
         "k": [
          2
         ],
         "name": "170",
         "opacity": 1,
         "type": "mesh3d",
         "x": [
          3.52760668945312,
          -3.46845776367188,
          -1.56709045410156
         ],
         "y": [
          -0.328221282958984,
          -0.73012841796875,
          -0.6208994140625
         ],
         "z": [
          93.620140625,
          92.41193750000001,
          93.3642421875
         ]
        },
        {
         "line": {
          "color": "rgb(0,0,0)",
          "width": 5
         },
         "mode": "lines",
         "showlegend": false,
         "type": "scatter3d",
         "x": [
          -1.56709045410156,
          3.52760668945312
         ],
         "y": [
          -0.6208994140625,
          -0.328221282958984
         ],
         "z": [
          93.3642421875,
          93.620140625
         ]
        },
        {
         "line": {
          "color": "rgb(0,0,0)",
          "width": 5
         },
         "mode": "lines",
         "showlegend": false,
         "type": "scatter3d",
         "x": [
          3.52760668945312,
          -3.46845776367188
         ],
         "y": [
          -0.328221282958984,
          -0.73012841796875
         ],
         "z": [
          93.620140625,
          92.41193750000001
         ]
        },
        {
         "line": {
          "color": "rgb(0,0,0)",
          "width": 5
         },
         "mode": "lines",
         "showlegend": false,
         "type": "scatter3d",
         "x": [
          -3.46845776367188,
          -1.56709045410156
         ],
         "y": [
          -0.73012841796875,
          -0.6208994140625
         ],
         "z": [
          92.41193750000001,
          93.3642421875
         ]
        },
        {
         "color": "red",
         "i": [
          0
         ],
         "j": [
          1
         ],
         "k": [
          2
         ],
         "name": "171",
         "opacity": 1,
         "type": "mesh3d",
         "x": [
          -3.4684577643542753,
          -1.56709045410156,
          -3.46845776367188
         ],
         "y": [
          -0.730128418007952,
          -0.6208994140625,
          -0.73012841796875
         ],
         "z": [
          93.36424218750003,
          93.3642421875,
          92.41193750000001
         ]
        },
        {
         "line": {
          "color": "rgb(0,0,0)",
          "width": 5
         },
         "mode": "lines",
         "showlegend": false,
         "type": "scatter3d",
         "x": [
          -3.46845776367188,
          -3.4684577643542753
         ],
         "y": [
          -0.73012841796875,
          -0.730128418007952
         ],
         "z": [
          92.41193750000001,
          93.36424218750003
         ]
        },
        {
         "line": {
          "color": "rgb(0,0,0)",
          "width": 5
         },
         "mode": "lines",
         "showlegend": false,
         "type": "scatter3d",
         "x": [
          -3.4684577643542753,
          -1.56709045410156
         ],
         "y": [
          -0.730128418007952,
          -0.6208994140625
         ],
         "z": [
          93.36424218750003,
          93.3642421875
         ]
        },
        {
         "line": {
          "color": "rgb(0,0,0)",
          "width": 5
         },
         "mode": "lines",
         "showlegend": false,
         "type": "scatter3d",
         "x": [
          -1.56709045410156,
          -3.46845776367188
         ],
         "y": [
          -0.6208994140625,
          -0.73012841796875
         ],
         "z": [
          93.3642421875,
          92.41193750000001
         ]
        },
        {
         "color": "red",
         "i": [
          0
         ],
         "j": [
          1
         ],
         "k": [
          2
         ],
         "name": "172",
         "opacity": 1,
         "type": "mesh3d",
         "x": [
          1.62764233398438,
          3.52760668945312,
          -1.56709045410156
         ],
         "y": [
          -0.437369689941406,
          -0.328221282958984,
          -0.6208994140625
         ],
         "z": [
          93.620140625,
          93.620140625,
          93.3642421875
         ]
        },
        {
         "line": {
          "color": "rgb(0,0,0)",
          "width": 5
         },
         "mode": "lines",
         "showlegend": false,
         "type": "scatter3d",
         "x": [
          -1.56709045410156,
          1.62764233398438
         ],
         "y": [
          -0.6208994140625,
          -0.437369689941406
         ],
         "z": [
          93.3642421875,
          93.620140625
         ]
        },
        {
         "line": {
          "color": "rgb(0,0,0)",
          "width": 5
         },
         "mode": "lines",
         "showlegend": false,
         "type": "scatter3d",
         "x": [
          1.62764233398438,
          3.52760668945312
         ],
         "y": [
          -0.437369689941406,
          -0.328221282958984
         ],
         "z": [
          93.620140625,
          93.620140625
         ]
        },
        {
         "line": {
          "color": "rgb(0,0,0)",
          "width": 5
         },
         "mode": "lines",
         "showlegend": false,
         "type": "scatter3d",
         "x": [
          3.52760668945312,
          -1.56709045410156
         ],
         "y": [
          -0.328221282958984,
          -0.6208994140625
         ],
         "z": [
          93.620140625,
          93.3642421875
         ]
        },
        {
         "color": "red",
         "i": [
          0
         ],
         "j": [
          1
         ],
         "k": [
          2
         ],
         "name": "173",
         "opacity": 1,
         "type": "mesh3d",
         "x": [
          3.52760668945312,
          3.52760668945312,
          -3.46845776367188
         ],
         "y": [
          -0.328221282958984,
          -0.328221282958984,
          -0.73012841796875
         ],
         "z": [
          93.620140625,
          92.972328125,
          92.41193750000001
         ]
        },
        {
         "line": {
          "color": "rgb(0,0,0)",
          "width": 5
         },
         "mode": "lines",
         "showlegend": false,
         "type": "scatter3d",
         "x": [
          -3.46845776367188,
          3.52760668945312
         ],
         "y": [
          -0.73012841796875,
          -0.328221282958984
         ],
         "z": [
          92.41193750000001,
          93.620140625
         ]
        },
        {
         "line": {
          "color": "rgb(0,0,0)",
          "width": 5
         },
         "mode": "lines",
         "showlegend": false,
         "type": "scatter3d",
         "x": [
          3.52760668945312,
          3.52760668945312
         ],
         "y": [
          -0.328221282958984,
          -0.328221282958984
         ],
         "z": [
          93.620140625,
          92.972328125
         ]
        },
        {
         "line": {
          "color": "rgb(0,0,0)",
          "width": 5
         },
         "mode": "lines",
         "showlegend": false,
         "type": "scatter3d",
         "x": [
          3.52760668945312,
          -3.46845776367188
         ],
         "y": [
          -0.328221282958984,
          -0.73012841796875
         ],
         "z": [
          92.972328125,
          92.41193750000001
         ]
        },
        {
         "color": "red",
         "i": [
          0
         ],
         "j": [
          1
         ],
         "k": [
          2
         ],
         "name": "174",
         "opacity": 1,
         "type": "mesh3d",
         "x": [
          1.56856860351563,
          3.48372485351563,
          3.52760668945312
         ],
         "y": [
          0.59093487548828,
          0.700955993652344,
          -0.328221282958984
         ],
         "z": [
          93.620140625,
          93.6201406250001,
          93.620140625
         ]
        },
        {
         "line": {
          "color": "rgb(0,0,0)",
          "width": 5
         },
         "mode": "lines",
         "showlegend": false,
         "type": "scatter3d",
         "x": [
          3.52760668945312,
          1.56856860351563
         ],
         "y": [
          -0.328221282958984,
          0.59093487548828
         ],
         "z": [
          93.620140625,
          93.620140625
         ]
        },
        {
         "line": {
          "color": "rgb(0,0,0)",
          "width": 5
         },
         "mode": "lines",
         "showlegend": false,
         "type": "scatter3d",
         "x": [
          1.56856860351563,
          3.48372485351563
         ],
         "y": [
          0.59093487548828,
          0.700955993652344
         ],
         "z": [
          93.620140625,
          93.6201406250001
         ]
        },
        {
         "line": {
          "color": "rgb(0,0,0)",
          "width": 5
         },
         "mode": "lines",
         "showlegend": false,
         "type": "scatter3d",
         "x": [
          3.48372485351563,
          3.52760668945312
         ],
         "y": [
          0.700955993652344,
          -0.328221282958984
         ],
         "z": [
          93.6201406250001,
          93.620140625
         ]
        },
        {
         "color": "red",
         "i": [
          0
         ],
         "j": [
          1
         ],
         "k": [
          2
         ],
         "name": "175",
         "opacity": 1,
         "type": "mesh3d",
         "x": [
          1.56856860351563,
          3.52760668945312,
          1.62764233398438
         ],
         "y": [
          0.59093487548828,
          -0.328221282958984,
          -0.437369689941406
         ],
         "z": [
          93.620140625,
          93.620140625,
          93.620140625
         ]
        },
        {
         "line": {
          "color": "rgb(0,0,0)",
          "width": 5
         },
         "mode": "lines",
         "showlegend": false,
         "type": "scatter3d",
         "x": [
          1.62764233398438,
          1.56856860351563
         ],
         "y": [
          -0.437369689941406,
          0.59093487548828
         ],
         "z": [
          93.620140625,
          93.620140625
         ]
        },
        {
         "line": {
          "color": "rgb(0,0,0)",
          "width": 5
         },
         "mode": "lines",
         "showlegend": false,
         "type": "scatter3d",
         "x": [
          1.56856860351563,
          3.52760668945312
         ],
         "y": [
          0.59093487548828,
          -0.328221282958984
         ],
         "z": [
          93.620140625,
          93.620140625
         ]
        },
        {
         "line": {
          "color": "rgb(0,0,0)",
          "width": 5
         },
         "mode": "lines",
         "showlegend": false,
         "type": "scatter3d",
         "x": [
          3.52760668945312,
          1.62764233398438
         ],
         "y": [
          -0.328221282958984,
          -0.437369689941406
         ],
         "z": [
          93.620140625,
          93.620140625
         ]
        },
        {
         "color": "red",
         "i": [
          0
         ],
         "j": [
          1
         ],
         "k": [
          2
         ],
         "name": "176",
         "opacity": 1,
         "type": "mesh3d",
         "x": [
          3.48372485351562,
          3.48372485351563,
          1.56856860351563
         ],
         "y": [
          0.700955993652344,
          0.700955993652344,
          0.59093487548828
         ],
         "z": [
          93.77354687500001,
          93.6201406250001,
          93.620140625
         ]
        },
        {
         "line": {
          "color": "rgb(0,0,0)",
          "width": 5
         },
         "mode": "lines",
         "showlegend": false,
         "type": "scatter3d",
         "x": [
          1.56856860351563,
          3.48372485351562
         ],
         "y": [
          0.59093487548828,
          0.700955993652344
         ],
         "z": [
          93.620140625,
          93.77354687500001
         ]
        },
        {
         "line": {
          "color": "rgb(0,0,0)",
          "width": 5
         },
         "mode": "lines",
         "showlegend": false,
         "type": "scatter3d",
         "x": [
          3.48372485351562,
          3.48372485351563
         ],
         "y": [
          0.700955993652344,
          0.700955993652344
         ],
         "z": [
          93.77354687500001,
          93.6201406250001
         ]
        },
        {
         "line": {
          "color": "rgb(0,0,0)",
          "width": 5
         },
         "mode": "lines",
         "showlegend": false,
         "type": "scatter3d",
         "x": [
          3.48372485351563,
          1.56856860351563
         ],
         "y": [
          0.700955993652344,
          0.59093487548828
         ],
         "z": [
          93.6201406250001,
          93.620140625
         ]
        },
        {
         "color": "red",
         "i": [
          0
         ],
         "j": [
          1
         ],
         "k": [
          2
         ],
         "name": "177",
         "opacity": 1,
         "type": "mesh3d",
         "x": [
          -0.054057285308837896,
          1.56856860351563,
          -1.6261640625
         ],
         "y": [
          0.49771890258789103,
          0.59093487548828,
          0.407405151367188
         ],
         "z": [
          94.9102421875,
          93.620140625,
          93.3642421875
         ]
        },
        {
         "line": {
          "color": "rgb(0,0,0)",
          "width": 5
         },
         "mode": "lines",
         "showlegend": false,
         "type": "scatter3d",
         "x": [
          -1.6261640625,
          -0.054057285308837896
         ],
         "y": [
          0.407405151367188,
          0.49771890258789103
         ],
         "z": [
          93.3642421875,
          94.9102421875
         ]
        },
        {
         "line": {
          "color": "rgb(0,0,0)",
          "width": 5
         },
         "mode": "lines",
         "showlegend": false,
         "type": "scatter3d",
         "x": [
          -0.054057285308837896,
          1.56856860351563
         ],
         "y": [
          0.49771890258789103,
          0.59093487548828
         ],
         "z": [
          94.9102421875,
          93.620140625
         ]
        },
        {
         "line": {
          "color": "rgb(0,0,0)",
          "width": 5
         },
         "mode": "lines",
         "showlegend": false,
         "type": "scatter3d",
         "x": [
          1.56856860351563,
          -1.6261640625
         ],
         "y": [
          0.59093487548828,
          0.407405151367188
         ],
         "z": [
          93.620140625,
          93.3642421875
         ]
        },
        {
         "color": "red",
         "i": [
          0
         ],
         "j": [
          1
         ],
         "k": [
          2
         ],
         "name": "178",
         "opacity": 1,
         "type": "mesh3d",
         "x": [
          -1.78442797851562,
          -0.919242553710938,
          -3.5147998046875
         ],
         "y": [
          0.398313262939453,
          0.448016082763672,
          0.29890753173828105
         ],
         "z": [
          94.771890625,
          94.84107031250001,
          93.3642421875
         ]
        },
        {
         "line": {
          "color": "rgb(0,0,0)",
          "width": 5
         },
         "mode": "lines",
         "showlegend": false,
         "type": "scatter3d",
         "x": [
          -3.5147998046875,
          -1.78442797851562
         ],
         "y": [
          0.29890753173828105,
          0.398313262939453
         ],
         "z": [
          93.3642421875,
          94.771890625
         ]
        },
        {
         "line": {
          "color": "rgb(0,0,0)",
          "width": 5
         },
         "mode": "lines",
         "showlegend": false,
         "type": "scatter3d",
         "x": [
          -1.78442797851562,
          -0.919242553710938
         ],
         "y": [
          0.398313262939453,
          0.448016082763672
         ],
         "z": [
          94.771890625,
          94.84107031250001
         ]
        },
        {
         "line": {
          "color": "rgb(0,0,0)",
          "width": 5
         },
         "mode": "lines",
         "showlegend": false,
         "type": "scatter3d",
         "x": [
          -0.919242553710938,
          -3.5147998046875
         ],
         "y": [
          0.448016082763672,
          0.29890753173828105
         ],
         "z": [
          94.84107031250001,
          93.3642421875
         ]
        },
        {
         "color": "red",
         "i": [
          0
         ],
         "j": [
          1
         ],
         "k": [
          2
         ],
         "name": "179",
         "opacity": 1,
         "type": "mesh3d",
         "x": [
          -0.919242553710938,
          -1.6261640625,
          -3.5147998046875
         ],
         "y": [
          0.448016082763672,
          0.407405151367188,
          0.29890753173828105
         ],
         "z": [
          94.84107031250001,
          93.3642421875,
          93.3642421875
         ]
        },
        {
         "line": {
          "color": "rgb(0,0,0)",
          "width": 5
         },
         "mode": "lines",
         "showlegend": false,
         "type": "scatter3d",
         "x": [
          -3.5147998046875,
          -0.919242553710938
         ],
         "y": [
          0.29890753173828105,
          0.448016082763672
         ],
         "z": [
          93.3642421875,
          94.84107031250001
         ]
        },
        {
         "line": {
          "color": "rgb(0,0,0)",
          "width": 5
         },
         "mode": "lines",
         "showlegend": false,
         "type": "scatter3d",
         "x": [
          -0.919242553710938,
          -1.6261640625
         ],
         "y": [
          0.448016082763672,
          0.407405151367188
         ],
         "z": [
          94.84107031250001,
          93.3642421875
         ]
        },
        {
         "line": {
          "color": "rgb(0,0,0)",
          "width": 5
         },
         "mode": "lines",
         "showlegend": false,
         "type": "scatter3d",
         "x": [
          -1.6261640625,
          -3.5147998046875
         ],
         "y": [
          0.407405151367188,
          0.29890753173828105
         ],
         "z": [
          93.3642421875,
          93.3642421875
         ]
        },
        {
         "color": "red",
         "i": [
          0
         ],
         "j": [
          1
         ],
         "k": [
          2
         ],
         "name": "180",
         "opacity": 1,
         "type": "mesh3d",
         "x": [
          -0.054057285308837896,
          -1.6261640625,
          -0.919242553710938
         ],
         "y": [
          0.49771890258789103,
          0.407405151367188,
          0.448016082763672
         ],
         "z": [
          94.9102421875,
          93.3642421875,
          94.84107031250001
         ]
        },
        {
         "line": {
          "color": "rgb(0,0,0)",
          "width": 5
         },
         "mode": "lines",
         "showlegend": false,
         "type": "scatter3d",
         "x": [
          -0.919242553710938,
          -0.054057285308837896
         ],
         "y": [
          0.448016082763672,
          0.49771890258789103
         ],
         "z": [
          94.84107031250001,
          94.9102421875
         ]
        },
        {
         "line": {
          "color": "rgb(0,0,0)",
          "width": 5
         },
         "mode": "lines",
         "showlegend": false,
         "type": "scatter3d",
         "x": [
          -0.054057285308837896,
          -1.6261640625
         ],
         "y": [
          0.49771890258789103,
          0.407405151367188
         ],
         "z": [
          94.9102421875,
          93.3642421875
         ]
        },
        {
         "line": {
          "color": "rgb(0,0,0)",
          "width": 5
         },
         "mode": "lines",
         "showlegend": false,
         "type": "scatter3d",
         "x": [
          -1.6261640625,
          -0.919242553710938
         ],
         "y": [
          0.407405151367188,
          0.448016082763672
         ],
         "z": [
          93.3642421875,
          94.84107031250001
         ]
        },
        {
         "color": "red",
         "i": [
          0
         ],
         "j": [
          1
         ],
         "k": [
          2
         ],
         "name": "181",
         "opacity": 1,
         "type": "mesh3d",
         "x": [
          -2.6496137695312503,
          -1.78442797851562,
          -3.5147998046875
         ],
         "y": [
          0.348610412597656,
          0.398313262939453,
          0.29890753173828105
         ],
         "z": [
          94.7027265625,
          94.771890625,
          93.3642421875
         ]
        },
        {
         "line": {
          "color": "rgb(0,0,0)",
          "width": 5
         },
         "mode": "lines",
         "showlegend": false,
         "type": "scatter3d",
         "x": [
          -3.5147998046875,
          -2.6496137695312503
         ],
         "y": [
          0.29890753173828105,
          0.348610412597656
         ],
         "z": [
          93.3642421875,
          94.7027265625
         ]
        },
        {
         "line": {
          "color": "rgb(0,0,0)",
          "width": 5
         },
         "mode": "lines",
         "showlegend": false,
         "type": "scatter3d",
         "x": [
          -2.6496137695312503,
          -1.78442797851562
         ],
         "y": [
          0.348610412597656,
          0.398313262939453
         ],
         "z": [
          94.7027265625,
          94.771890625
         ]
        },
        {
         "line": {
          "color": "rgb(0,0,0)",
          "width": 5
         },
         "mode": "lines",
         "showlegend": false,
         "type": "scatter3d",
         "x": [
          -1.78442797851562,
          -3.5147998046875
         ],
         "y": [
          0.398313262939453,
          0.29890753173828105
         ],
         "z": [
          94.771890625,
          93.3642421875
         ]
        },
        {
         "color": "red",
         "i": [
          0
         ],
         "j": [
          1
         ],
         "k": [
          2
         ],
         "name": "182",
         "opacity": 1,
         "type": "mesh3d",
         "x": [
          -3.5147998046875,
          -3.5147998046875,
          -2.6496137695312503
         ],
         "y": [
          0.29890753173828105,
          0.29890753173828105,
          0.348610412597656
         ],
         "z": [
          93.3642421875,
          94.6335546875,
          94.7027265625
         ]
        },
        {
         "line": {
          "color": "rgb(0,0,0)",
          "width": 5
         },
         "mode": "lines",
         "showlegend": false,
         "type": "scatter3d",
         "x": [
          -2.6496137695312503,
          -3.5147998046875
         ],
         "y": [
          0.348610412597656,
          0.29890753173828105
         ],
         "z": [
          94.7027265625,
          93.3642421875
         ]
        },
        {
         "line": {
          "color": "rgb(0,0,0)",
          "width": 5
         },
         "mode": "lines",
         "showlegend": false,
         "type": "scatter3d",
         "x": [
          -3.5147998046875,
          -3.5147998046875
         ],
         "y": [
          0.29890753173828105,
          0.29890753173828105
         ],
         "z": [
          93.3642421875,
          94.6335546875
         ]
        },
        {
         "line": {
          "color": "rgb(0,0,0)",
          "width": 5
         },
         "mode": "lines",
         "showlegend": false,
         "type": "scatter3d",
         "x": [
          -3.5147998046875,
          -2.6496137695312503
         ],
         "y": [
          0.29890753173828105,
          0.348610412597656
         ],
         "z": [
          94.6335546875,
          94.7027265625
         ]
        },
        {
         "color": "red",
         "i": [
          0
         ],
         "j": [
          1
         ],
         "k": [
          2
         ],
         "name": "183",
         "opacity": 1,
         "type": "mesh3d",
         "x": [
          0.8303886108398439,
          1.56856860351563,
          -0.054057285308837896
         ],
         "y": [
          0.548528198242188,
          0.59093487548828,
          0.49771890258789103
         ],
         "z": [
          94.9809609375,
          93.620140625,
          94.9102421875
         ]
        },
        {
         "line": {
          "color": "rgb(0,0,0)",
          "width": 5
         },
         "mode": "lines",
         "showlegend": false,
         "type": "scatter3d",
         "x": [
          -0.054057285308837896,
          0.8303886108398439
         ],
         "y": [
          0.49771890258789103,
          0.548528198242188
         ],
         "z": [
          94.9102421875,
          94.9809609375
         ]
        },
        {
         "line": {
          "color": "rgb(0,0,0)",
          "width": 5
         },
         "mode": "lines",
         "showlegend": false,
         "type": "scatter3d",
         "x": [
          0.8303886108398439,
          1.56856860351563
         ],
         "y": [
          0.548528198242188,
          0.59093487548828
         ],
         "z": [
          94.9809609375,
          93.620140625
         ]
        },
        {
         "line": {
          "color": "rgb(0,0,0)",
          "width": 5
         },
         "mode": "lines",
         "showlegend": false,
         "type": "scatter3d",
         "x": [
          1.56856860351563,
          -0.054057285308837896
         ],
         "y": [
          0.59093487548828,
          0.49771890258789103
         ],
         "z": [
          93.620140625,
          94.9102421875
         ]
        },
        {
         "color": "red",
         "i": [
          0
         ],
         "j": [
          1
         ],
         "k": [
          2
         ],
         "name": "184",
         "opacity": 1,
         "type": "mesh3d",
         "x": [
          0.8303886108398439,
          3.48372485351562,
          1.56856860351563
         ],
         "y": [
          0.548528198242188,
          0.700955993652344,
          0.59093487548828
         ],
         "z": [
          94.9809609375,
          93.77354687500001,
          93.620140625
         ]
        },
        {
         "line": {
          "color": "rgb(0,0,0)",
          "width": 5
         },
         "mode": "lines",
         "showlegend": false,
         "type": "scatter3d",
         "x": [
          1.56856860351563,
          0.8303886108398439
         ],
         "y": [
          0.59093487548828,
          0.548528198242188
         ],
         "z": [
          93.620140625,
          94.9809609375
         ]
        },
        {
         "line": {
          "color": "rgb(0,0,0)",
          "width": 5
         },
         "mode": "lines",
         "showlegend": false,
         "type": "scatter3d",
         "x": [
          0.8303886108398439,
          3.48372485351562
         ],
         "y": [
          0.548528198242188,
          0.700955993652344
         ],
         "z": [
          94.9809609375,
          93.77354687500001
         ]
        },
        {
         "line": {
          "color": "rgb(0,0,0)",
          "width": 5
         },
         "mode": "lines",
         "showlegend": false,
         "type": "scatter3d",
         "x": [
          3.48372485351562,
          1.56856860351563
         ],
         "y": [
          0.700955993652344,
          0.59093487548828
         ],
         "z": [
          93.77354687500001,
          93.620140625
         ]
        },
        {
         "color": "red",
         "i": [
          0
         ],
         "j": [
          1
         ],
         "k": [
          2
         ],
         "name": "185",
         "opacity": 1,
         "type": "mesh3d",
         "x": [
          3.48372485351562,
          0.8303886108398439,
          3.48372485351562
         ],
         "y": [
          0.700955993652344,
          0.548528198242188,
          0.700955993652344
         ],
         "z": [
          93.77354687500001,
          94.9809609375,
          95.193140625
         ]
        },
        {
         "line": {
          "color": "rgb(0,0,0)",
          "width": 5
         },
         "mode": "lines",
         "showlegend": false,
         "type": "scatter3d",
         "x": [
          3.48372485351562,
          3.48372485351562
         ],
         "y": [
          0.700955993652344,
          0.700955993652344
         ],
         "z": [
          95.193140625,
          93.77354687500001
         ]
        },
        {
         "line": {
          "color": "rgb(0,0,0)",
          "width": 5
         },
         "mode": "lines",
         "showlegend": false,
         "type": "scatter3d",
         "x": [
          3.48372485351562,
          0.8303886108398439
         ],
         "y": [
          0.700955993652344,
          0.548528198242188
         ],
         "z": [
          93.77354687500001,
          94.9809609375
         ]
        },
        {
         "line": {
          "color": "rgb(0,0,0)",
          "width": 5
         },
         "mode": "lines",
         "showlegend": false,
         "type": "scatter3d",
         "x": [
          0.8303886108398439,
          3.48372485351562
         ],
         "y": [
          0.548528198242188,
          0.700955993652344
         ],
         "z": [
          94.9809609375,
          95.193140625
         ]
        },
        {
         "color": "blue",
         "i": [
          0
         ],
         "j": [
          1
         ],
         "k": [
          2
         ],
         "name": "186",
         "opacity": 0.9,
         "type": "mesh3d",
         "x": [
          -1.9662794189452988,
          -3.461708984375,
          -3.45359228515625
         ],
         "y": [
          -0.7940792236328091,
          -0.879988037109375,
          -1.0602216796875
         ],
         "z": [
          93.83157812500004,
          93.7117890625,
          93.6933203125
         ]
        },
        {
         "line": {
          "color": "rgb(0,0,0)",
          "width": 5
         },
         "mode": "lines",
         "showlegend": false,
         "type": "scatter3d",
         "x": [
          -3.45359228515625,
          -1.9662794189452988
         ],
         "y": [
          -1.0602216796875,
          -0.7940792236328091
         ],
         "z": [
          93.6933203125,
          93.83157812500004
         ]
        },
        {
         "line": {
          "color": "rgb(0,0,0)",
          "width": 5
         },
         "mode": "lines",
         "showlegend": false,
         "type": "scatter3d",
         "x": [
          -1.9662794189452988,
          -3.461708984375
         ],
         "y": [
          -0.7940792236328091,
          -0.879988037109375
         ],
         "z": [
          93.83157812500004,
          93.7117890625
         ]
        },
        {
         "line": {
          "color": "rgb(0,0,0)",
          "width": 5
         },
         "mode": "lines",
         "showlegend": false,
         "type": "scatter3d",
         "x": [
          -3.461708984375,
          -3.45359228515625
         ],
         "y": [
          -0.879988037109375,
          -1.0602216796875
         ],
         "z": [
          93.7117890625,
          93.6933203125
         ]
        },
        {
         "color": "blue",
         "i": [
          0
         ],
         "j": [
          1
         ],
         "k": [
          2
         ],
         "name": "187",
         "opacity": 0.9,
         "type": "mesh3d",
         "x": [
          -3.45359228515625,
          3.54168310546875,
          2.0442795410156203
         ],
         "y": [
          -1.0602216796875,
          -0.6583598632812501,
          -0.5636821899414061
         ],
         "z": [
          93.6933203125,
          94.253640625,
          94.1528203125
         ]
        },
        {
         "line": {
          "color": "rgb(0,0,0)",
          "width": 5
         },
         "mode": "lines",
         "showlegend": false,
         "type": "scatter3d",
         "x": [
          2.0442795410156203,
          -3.45359228515625
         ],
         "y": [
          -0.5636821899414061,
          -1.0602216796875
         ],
         "z": [
          94.1528203125,
          93.6933203125
         ]
        },
        {
         "line": {
          "color": "rgb(0,0,0)",
          "width": 5
         },
         "mode": "lines",
         "showlegend": false,
         "type": "scatter3d",
         "x": [
          -3.45359228515625,
          3.54168310546875
         ],
         "y": [
          -1.0602216796875,
          -0.6583598632812501
         ],
         "z": [
          93.6933203125,
          94.253640625
         ]
        },
        {
         "line": {
          "color": "rgb(0,0,0)",
          "width": 5
         },
         "mode": "lines",
         "showlegend": false,
         "type": "scatter3d",
         "x": [
          3.54168310546875,
          2.0442795410156203
         ],
         "y": [
          -0.6583598632812501,
          -0.5636821899414061
         ],
         "z": [
          94.253640625,
          94.1528203125
         ]
        },
        {
         "color": "blue",
         "i": [
          0
         ],
         "j": [
          1
         ],
         "k": [
          2
         ],
         "name": "188",
         "opacity": 0.9,
         "type": "mesh3d",
         "x": [
          -3.45359228515625,
          2.0442795410156203,
          -1.9662794189452988
         ],
         "y": [
          -1.0602216796875,
          -0.5636821899414061,
          -0.7940792236328091
         ],
         "z": [
          93.6933203125,
          94.1528203125,
          93.83157812500004
         ]
        },
        {
         "line": {
          "color": "rgb(0,0,0)",
          "width": 5
         },
         "mode": "lines",
         "showlegend": false,
         "type": "scatter3d",
         "x": [
          -1.9662794189452988,
          -3.45359228515625
         ],
         "y": [
          -0.7940792236328091,
          -1.0602216796875
         ],
         "z": [
          93.83157812500004,
          93.6933203125
         ]
        },
        {
         "line": {
          "color": "rgb(0,0,0)",
          "width": 5
         },
         "mode": "lines",
         "showlegend": false,
         "type": "scatter3d",
         "x": [
          -3.45359228515625,
          2.0442795410156203
         ],
         "y": [
          -1.0602216796875,
          -0.5636821899414061
         ],
         "z": [
          93.6933203125,
          94.1528203125
         ]
        },
        {
         "line": {
          "color": "rgb(0,0,0)",
          "width": 5
         },
         "mode": "lines",
         "showlegend": false,
         "type": "scatter3d",
         "x": [
          2.0442795410156203,
          -1.9662794189452988
         ],
         "y": [
          -0.5636821899414061,
          -0.7940792236328091
         ],
         "z": [
          94.1528203125,
          93.83157812500004
         ]
        },
        {
         "color": "blue",
         "i": [
          0
         ],
         "j": [
          1
         ],
         "k": [
          2
         ],
         "name": "189",
         "opacity": 0.9,
         "type": "mesh3d",
         "x": [
          3.54168310546875,
          3.5339973144531203,
          2.0442795410156203
         ],
         "y": [
          -0.6583598632812501,
          -0.478101470947266,
          -0.5636821899414061
         ],
         "z": [
          94.253640625,
          94.27214843750001,
          94.1528203125
         ]
        },
        {
         "line": {
          "color": "rgb(0,0,0)",
          "width": 5
         },
         "mode": "lines",
         "showlegend": false,
         "type": "scatter3d",
         "x": [
          2.0442795410156203,
          3.54168310546875
         ],
         "y": [
          -0.5636821899414061,
          -0.6583598632812501
         ],
         "z": [
          94.1528203125,
          94.253640625
         ]
        },
        {
         "line": {
          "color": "rgb(0,0,0)",
          "width": 5
         },
         "mode": "lines",
         "showlegend": false,
         "type": "scatter3d",
         "x": [
          3.54168310546875,
          3.5339973144531203
         ],
         "y": [
          -0.6583598632812501,
          -0.478101470947266
         ],
         "z": [
          94.253640625,
          94.27214843750001
         ]
        },
        {
         "line": {
          "color": "rgb(0,0,0)",
          "width": 5
         },
         "mode": "lines",
         "showlegend": false,
         "type": "scatter3d",
         "x": [
          3.5339973144531203,
          2.0442795410156203
         ],
         "y": [
          -0.478101470947266,
          -0.5636821899414061
         ],
         "z": [
          94.27214843750001,
          94.1528203125
         ]
        },
        {
         "color": "red",
         "i": [
          0
         ],
         "j": [
          1
         ],
         "k": [
          2
         ],
         "name": "190",
         "opacity": 1,
         "type": "mesh3d",
         "x": [
          -3.45359228515625,
          -3.4504609375,
          3.54464819335938
         ],
         "y": [
          -1.0602216796875,
          -1.12975402832031,
          -0.727901794433594
         ],
         "z": [
          93.6933203125,
          93.6430859375,
          94.2033984375
         ]
        },
        {
         "line": {
          "color": "rgb(0,0,0)",
          "width": 5
         },
         "mode": "lines",
         "showlegend": false,
         "type": "scatter3d",
         "x": [
          3.54464819335938,
          -3.45359228515625
         ],
         "y": [
          -0.727901794433594,
          -1.0602216796875
         ],
         "z": [
          94.2033984375,
          93.6933203125
         ]
        },
        {
         "line": {
          "color": "rgb(0,0,0)",
          "width": 5
         },
         "mode": "lines",
         "showlegend": false,
         "type": "scatter3d",
         "x": [
          -3.45359228515625,
          -3.4504609375
         ],
         "y": [
          -1.0602216796875,
          -1.12975402832031
         ],
         "z": [
          93.6933203125,
          93.6430859375
         ]
        },
        {
         "line": {
          "color": "rgb(0,0,0)",
          "width": 5
         },
         "mode": "lines",
         "showlegend": false,
         "type": "scatter3d",
         "x": [
          -3.4504609375,
          3.54464819335938
         ],
         "y": [
          -1.12975402832031,
          -0.727901794433594
         ],
         "z": [
          93.6430859375,
          94.2033984375
         ]
        },
        {
         "color": "red",
         "i": [
          0
         ],
         "j": [
          1
         ],
         "k": [
          2
         ],
         "name": "191",
         "opacity": 1,
         "type": "mesh3d",
         "x": [
          -3.45359228515625,
          3.54464819335938,
          3.54168310546875
         ],
         "y": [
          -1.0602216796875,
          -0.727901794433594,
          -0.6583598632812501
         ],
         "z": [
          93.6933203125,
          94.2033984375,
          94.253640625
         ]
        },
        {
         "line": {
          "color": "rgb(0,0,0)",
          "width": 5
         },
         "mode": "lines",
         "showlegend": false,
         "type": "scatter3d",
         "x": [
          3.54168310546875,
          -3.45359228515625
         ],
         "y": [
          -0.6583598632812501,
          -1.0602216796875
         ],
         "z": [
          94.253640625,
          93.6933203125
         ]
        },
        {
         "line": {
          "color": "rgb(0,0,0)",
          "width": 5
         },
         "mode": "lines",
         "showlegend": false,
         "type": "scatter3d",
         "x": [
          -3.45359228515625,
          3.54464819335938
         ],
         "y": [
          -1.0602216796875,
          -0.727901794433594
         ],
         "z": [
          93.6933203125,
          94.2033984375
         ]
        },
        {
         "line": {
          "color": "rgb(0,0,0)",
          "width": 5
         },
         "mode": "lines",
         "showlegend": false,
         "type": "scatter3d",
         "x": [
          3.54464819335938,
          3.54168310546875
         ],
         "y": [
          -0.727901794433594,
          -0.6583598632812501
         ],
         "z": [
          94.2033984375,
          94.253640625
         ]
        },
        {
         "color": "red",
         "i": [
          0
         ],
         "j": [
          1
         ],
         "k": [
          2
         ],
         "name": "192",
         "opacity": 1,
         "type": "mesh3d",
         "x": [
          -3.4504609375,
          3.54464819335938,
          3.54464819335938
         ],
         "y": [
          -1.12975402832031,
          -0.727901794433594,
          -0.727901794433594
         ],
         "z": [
          93.6430859375,
          92.9718359375,
          94.2033984375
         ]
        },
        {
         "line": {
          "color": "rgb(0,0,0)",
          "width": 5
         },
         "mode": "lines",
         "showlegend": false,
         "type": "scatter3d",
         "x": [
          3.54464819335938,
          -3.4504609375
         ],
         "y": [
          -0.727901794433594,
          -1.12975402832031
         ],
         "z": [
          94.2033984375,
          93.6430859375
         ]
        },
        {
         "line": {
          "color": "rgb(0,0,0)",
          "width": 5
         },
         "mode": "lines",
         "showlegend": false,
         "type": "scatter3d",
         "x": [
          -3.4504609375,
          3.54464819335938
         ],
         "y": [
          -1.12975402832031,
          -0.727901794433594
         ],
         "z": [
          93.6430859375,
          92.9718359375
         ]
        },
        {
         "line": {
          "color": "rgb(0,0,0)",
          "width": 5
         },
         "mode": "lines",
         "showlegend": false,
         "type": "scatter3d",
         "x": [
          3.54464819335938,
          3.54464819335938
         ],
         "y": [
          -0.727901794433594,
          -0.727901794433594
         ],
         "z": [
          92.9718359375,
          94.2033984375
         ]
        },
        {
         "color": "red",
         "i": [
          0
         ],
         "j": [
          1
         ],
         "k": [
          2
         ],
         "name": "193",
         "opacity": 1,
         "type": "mesh3d",
         "x": [
          -3.4504609375,
          3.54464819335938,
          -3.4504609375
         ],
         "y": [
          -1.12975402832031,
          -0.727901794433594,
          -1.12975402832031
         ],
         "z": [
          92.41152343750001,
          92.9718359375,
          93.6430859375
         ]
        },
        {
         "line": {
          "color": "rgb(0,0,0)",
          "width": 5
         },
         "mode": "lines",
         "showlegend": false,
         "type": "scatter3d",
         "x": [
          -3.4504609375,
          -3.4504609375
         ],
         "y": [
          -1.12975402832031,
          -1.12975402832031
         ],
         "z": [
          93.6430859375,
          92.41152343750001
         ]
        },
        {
         "line": {
          "color": "rgb(0,0,0)",
          "width": 5
         },
         "mode": "lines",
         "showlegend": false,
         "type": "scatter3d",
         "x": [
          -3.4504609375,
          3.54464819335938
         ],
         "y": [
          -1.12975402832031,
          -0.727901794433594
         ],
         "z": [
          92.41152343750001,
          92.9718359375
         ]
        },
        {
         "line": {
          "color": "rgb(0,0,0)",
          "width": 5
         },
         "mode": "lines",
         "showlegend": false,
         "type": "scatter3d",
         "x": [
          3.54464819335938,
          -3.4504609375
         ],
         "y": [
          -0.727901794433594,
          -1.12975402832031
         ],
         "z": [
          92.9718359375,
          93.6430859375
         ]
        },
        {
         "color": "red",
         "i": [
          0
         ],
         "j": [
          1
         ],
         "k": [
          2
         ],
         "name": "194",
         "opacity": 1,
         "type": "mesh3d",
         "x": [
          -3.46845776367188,
          3.52760668945312,
          3.54464819335938
         ],
         "y": [
          -0.73012841796875,
          -0.328221282958984,
          -0.727901794433594
         ],
         "z": [
          92.41193750000001,
          92.972328125,
          92.9718359375
         ]
        },
        {
         "line": {
          "color": "rgb(0,0,0)",
          "width": 5
         },
         "mode": "lines",
         "showlegend": false,
         "type": "scatter3d",
         "x": [
          3.54464819335938,
          -3.46845776367188
         ],
         "y": [
          -0.727901794433594,
          -0.73012841796875
         ],
         "z": [
          92.9718359375,
          92.41193750000001
         ]
        },
        {
         "line": {
          "color": "rgb(0,0,0)",
          "width": 5
         },
         "mode": "lines",
         "showlegend": false,
         "type": "scatter3d",
         "x": [
          -3.46845776367188,
          3.52760668945312
         ],
         "y": [
          -0.73012841796875,
          -0.328221282958984
         ],
         "z": [
          92.41193750000001,
          92.972328125
         ]
        },
        {
         "line": {
          "color": "rgb(0,0,0)",
          "width": 5
         },
         "mode": "lines",
         "showlegend": false,
         "type": "scatter3d",
         "x": [
          3.52760668945312,
          3.54464819335938
         ],
         "y": [
          -0.328221282958984,
          -0.727901794433594
         ],
         "z": [
          92.972328125,
          92.9718359375
         ]
        },
        {
         "color": "red",
         "i": [
          0
         ],
         "j": [
          1
         ],
         "k": [
          2
         ],
         "name": "195",
         "opacity": 1,
         "type": "mesh3d",
         "x": [
          -3.46845776367188,
          3.54464819335938,
          -3.4504609375
         ],
         "y": [
          -0.73012841796875,
          -0.727901794433594,
          -1.12975402832031
         ],
         "z": [
          92.41193750000001,
          92.9718359375,
          92.41152343750001
         ]
        },
        {
         "line": {
          "color": "rgb(0,0,0)",
          "width": 5
         },
         "mode": "lines",
         "showlegend": false,
         "type": "scatter3d",
         "x": [
          -3.4504609375,
          -3.46845776367188
         ],
         "y": [
          -1.12975402832031,
          -0.73012841796875
         ],
         "z": [
          92.41152343750001,
          92.41193750000001
         ]
        },
        {
         "line": {
          "color": "rgb(0,0,0)",
          "width": 5
         },
         "mode": "lines",
         "showlegend": false,
         "type": "scatter3d",
         "x": [
          -3.46845776367188,
          3.54464819335938
         ],
         "y": [
          -0.73012841796875,
          -0.727901794433594
         ],
         "z": [
          92.41193750000001,
          92.9718359375
         ]
        },
        {
         "line": {
          "color": "rgb(0,0,0)",
          "width": 5
         },
         "mode": "lines",
         "showlegend": false,
         "type": "scatter3d",
         "x": [
          3.54464819335938,
          -3.4504609375
         ],
         "y": [
          -0.727901794433594,
          -1.12975402832031
         ],
         "z": [
          92.9718359375,
          92.41152343750001
         ]
        },
        {
         "color": "red",
         "i": [
          0
         ],
         "j": [
          1
         ],
         "k": [
          2
         ],
         "name": "196",
         "opacity": 1,
         "type": "mesh3d",
         "x": [
          -1.56709045410156,
          1.56856860351563,
          1.62764233398438
         ],
         "y": [
          -0.6208994140625,
          0.59093487548828,
          -0.437369689941406
         ],
         "z": [
          93.3642421875,
          93.620140625,
          93.620140625
         ]
        },
        {
         "line": {
          "color": "rgb(0,0,0)",
          "width": 5
         },
         "mode": "lines",
         "showlegend": false,
         "type": "scatter3d",
         "x": [
          1.62764233398438,
          -1.56709045410156
         ],
         "y": [
          -0.437369689941406,
          -0.6208994140625
         ],
         "z": [
          93.620140625,
          93.3642421875
         ]
        },
        {
         "line": {
          "color": "rgb(0,0,0)",
          "width": 5
         },
         "mode": "lines",
         "showlegend": false,
         "type": "scatter3d",
         "x": [
          -1.56709045410156,
          1.56856860351563
         ],
         "y": [
          -0.6208994140625,
          0.59093487548828
         ],
         "z": [
          93.3642421875,
          93.620140625
         ]
        },
        {
         "line": {
          "color": "rgb(0,0,0)",
          "width": 5
         },
         "mode": "lines",
         "showlegend": false,
         "type": "scatter3d",
         "x": [
          1.56856860351563,
          1.62764233398438
         ],
         "y": [
          0.59093487548828,
          -0.437369689941406
         ],
         "z": [
          93.620140625,
          93.620140625
         ]
        },
        {
         "color": "red",
         "i": [
          0
         ],
         "j": [
          1
         ],
         "k": [
          2
         ],
         "name": "197",
         "opacity": 1,
         "type": "mesh3d",
         "x": [
          -1.6261640625,
          1.56856860351563,
          -1.56709045410156
         ],
         "y": [
          0.407405151367188,
          0.59093487548828,
          -0.6208994140625
         ],
         "z": [
          93.3642421875,
          93.620140625,
          93.3642421875
         ]
        },
        {
         "line": {
          "color": "rgb(0,0,0)",
          "width": 5
         },
         "mode": "lines",
         "showlegend": false,
         "type": "scatter3d",
         "x": [
          -1.56709045410156,
          -1.6261640625
         ],
         "y": [
          -0.6208994140625,
          0.407405151367188
         ],
         "z": [
          93.3642421875,
          93.3642421875
         ]
        },
        {
         "line": {
          "color": "rgb(0,0,0)",
          "width": 5
         },
         "mode": "lines",
         "showlegend": false,
         "type": "scatter3d",
         "x": [
          -1.6261640625,
          1.56856860351563
         ],
         "y": [
          0.407405151367188,
          0.59093487548828
         ],
         "z": [
          93.3642421875,
          93.620140625
         ]
        },
        {
         "line": {
          "color": "rgb(0,0,0)",
          "width": 5
         },
         "mode": "lines",
         "showlegend": false,
         "type": "scatter3d",
         "x": [
          1.56856860351563,
          -1.56709045410156
         ],
         "y": [
          0.59093487548828,
          -0.6208994140625
         ],
         "z": [
          93.620140625,
          93.3642421875
         ]
        },
        {
         "color": "red",
         "i": [
          0
         ],
         "j": [
          1
         ],
         "k": [
          2
         ],
         "name": "198",
         "opacity": 1,
         "type": "mesh3d",
         "x": [
          -1.56709045410156,
          -3.5147998046875,
          -1.6261640625
         ],
         "y": [
          -0.6208994140625,
          0.29890753173828105,
          0.407405151367188
         ],
         "z": [
          93.3642421875,
          93.3642421875,
          93.3642421875
         ]
        },
        {
         "line": {
          "color": "rgb(0,0,0)",
          "width": 5
         },
         "mode": "lines",
         "showlegend": false,
         "type": "scatter3d",
         "x": [
          -1.6261640625,
          -1.56709045410156
         ],
         "y": [
          0.407405151367188,
          -0.6208994140625
         ],
         "z": [
          93.3642421875,
          93.3642421875
         ]
        },
        {
         "line": {
          "color": "rgb(0,0,0)",
          "width": 5
         },
         "mode": "lines",
         "showlegend": false,
         "type": "scatter3d",
         "x": [
          -1.56709045410156,
          -3.5147998046875
         ],
         "y": [
          -0.6208994140625,
          0.29890753173828105
         ],
         "z": [
          93.3642421875,
          93.3642421875
         ]
        },
        {
         "line": {
          "color": "rgb(0,0,0)",
          "width": 5
         },
         "mode": "lines",
         "showlegend": false,
         "type": "scatter3d",
         "x": [
          -3.5147998046875,
          -1.6261640625
         ],
         "y": [
          0.29890753173828105,
          0.407405151367188
         ],
         "z": [
          93.3642421875,
          93.3642421875
         ]
        },
        {
         "color": "red",
         "i": [
          0
         ],
         "j": [
          1
         ],
         "k": [
          2
         ],
         "name": "199",
         "opacity": 1,
         "type": "mesh3d",
         "x": [
          -3.4684577643542753,
          -3.5147998046875,
          -1.56709045410156
         ],
         "y": [
          -0.730128418007952,
          0.29890753173828105,
          -0.6208994140625
         ],
         "z": [
          93.36424218750003,
          93.3642421875,
          93.3642421875
         ]
        },
        {
         "line": {
          "color": "rgb(0,0,0)",
          "width": 5
         },
         "mode": "lines",
         "showlegend": false,
         "type": "scatter3d",
         "x": [
          -1.56709045410156,
          -3.4684577643542753
         ],
         "y": [
          -0.6208994140625,
          -0.730128418007952
         ],
         "z": [
          93.3642421875,
          93.36424218750003
         ]
        },
        {
         "line": {
          "color": "rgb(0,0,0)",
          "width": 5
         },
         "mode": "lines",
         "showlegend": false,
         "type": "scatter3d",
         "x": [
          -3.4684577643542753,
          -3.5147998046875
         ],
         "y": [
          -0.730128418007952,
          0.29890753173828105
         ],
         "z": [
          93.36424218750003,
          93.3642421875
         ]
        },
        {
         "line": {
          "color": "rgb(0,0,0)",
          "width": 5
         },
         "mode": "lines",
         "showlegend": false,
         "type": "scatter3d",
         "x": [
          -3.5147998046875,
          -1.56709045410156
         ],
         "y": [
          0.29890753173828105,
          -0.6208994140625
         ],
         "z": [
          93.3642421875,
          93.3642421875
         ]
        }
       ],
       "layout": {
        "scene": {
         "aspectmode": "data",
         "xaxis": {
          "range": [
           -4.514799804687501,
           4.5446481933593805
          ],
          "title": {
           "text": "X Axis"
          }
         },
         "yaxis": {
          "range": [
           -2.12975402832031,
           1.700955993652344
          ],
          "title": {
           "text": "Y Axis"
          }
         },
         "zaxis": {
          "range": [
           91.41152343750001,
           96.193140625
          ],
          "title": {
           "text": "Z Axis"
          }
         }
        },
        "template": {
         "data": {
          "bar": [
           {
            "error_x": {
             "color": "#2a3f5f"
            },
            "error_y": {
             "color": "#2a3f5f"
            },
            "marker": {
             "line": {
              "color": "#E5ECF6",
              "width": 0.5
             },
             "pattern": {
              "fillmode": "overlay",
              "size": 10,
              "solidity": 0.2
             }
            },
            "type": "bar"
           }
          ],
          "barpolar": [
           {
            "marker": {
             "line": {
              "color": "#E5ECF6",
              "width": 0.5
             },
             "pattern": {
              "fillmode": "overlay",
              "size": 10,
              "solidity": 0.2
             }
            },
            "type": "barpolar"
           }
          ],
          "carpet": [
           {
            "aaxis": {
             "endlinecolor": "#2a3f5f",
             "gridcolor": "white",
             "linecolor": "white",
             "minorgridcolor": "white",
             "startlinecolor": "#2a3f5f"
            },
            "baxis": {
             "endlinecolor": "#2a3f5f",
             "gridcolor": "white",
             "linecolor": "white",
             "minorgridcolor": "white",
             "startlinecolor": "#2a3f5f"
            },
            "type": "carpet"
           }
          ],
          "choropleth": [
           {
            "colorbar": {
             "outlinewidth": 0,
             "ticks": ""
            },
            "type": "choropleth"
           }
          ],
          "contour": [
           {
            "colorbar": {
             "outlinewidth": 0,
             "ticks": ""
            },
            "colorscale": [
             [
              0,
              "#0d0887"
             ],
             [
              0.1111111111111111,
              "#46039f"
             ],
             [
              0.2222222222222222,
              "#7201a8"
             ],
             [
              0.3333333333333333,
              "#9c179e"
             ],
             [
              0.4444444444444444,
              "#bd3786"
             ],
             [
              0.5555555555555556,
              "#d8576b"
             ],
             [
              0.6666666666666666,
              "#ed7953"
             ],
             [
              0.7777777777777778,
              "#fb9f3a"
             ],
             [
              0.8888888888888888,
              "#fdca26"
             ],
             [
              1,
              "#f0f921"
             ]
            ],
            "type": "contour"
           }
          ],
          "contourcarpet": [
           {
            "colorbar": {
             "outlinewidth": 0,
             "ticks": ""
            },
            "type": "contourcarpet"
           }
          ],
          "heatmap": [
           {
            "colorbar": {
             "outlinewidth": 0,
             "ticks": ""
            },
            "colorscale": [
             [
              0,
              "#0d0887"
             ],
             [
              0.1111111111111111,
              "#46039f"
             ],
             [
              0.2222222222222222,
              "#7201a8"
             ],
             [
              0.3333333333333333,
              "#9c179e"
             ],
             [
              0.4444444444444444,
              "#bd3786"
             ],
             [
              0.5555555555555556,
              "#d8576b"
             ],
             [
              0.6666666666666666,
              "#ed7953"
             ],
             [
              0.7777777777777778,
              "#fb9f3a"
             ],
             [
              0.8888888888888888,
              "#fdca26"
             ],
             [
              1,
              "#f0f921"
             ]
            ],
            "type": "heatmap"
           }
          ],
          "heatmapgl": [
           {
            "colorbar": {
             "outlinewidth": 0,
             "ticks": ""
            },
            "colorscale": [
             [
              0,
              "#0d0887"
             ],
             [
              0.1111111111111111,
              "#46039f"
             ],
             [
              0.2222222222222222,
              "#7201a8"
             ],
             [
              0.3333333333333333,
              "#9c179e"
             ],
             [
              0.4444444444444444,
              "#bd3786"
             ],
             [
              0.5555555555555556,
              "#d8576b"
             ],
             [
              0.6666666666666666,
              "#ed7953"
             ],
             [
              0.7777777777777778,
              "#fb9f3a"
             ],
             [
              0.8888888888888888,
              "#fdca26"
             ],
             [
              1,
              "#f0f921"
             ]
            ],
            "type": "heatmapgl"
           }
          ],
          "histogram": [
           {
            "marker": {
             "pattern": {
              "fillmode": "overlay",
              "size": 10,
              "solidity": 0.2
             }
            },
            "type": "histogram"
           }
          ],
          "histogram2d": [
           {
            "colorbar": {
             "outlinewidth": 0,
             "ticks": ""
            },
            "colorscale": [
             [
              0,
              "#0d0887"
             ],
             [
              0.1111111111111111,
              "#46039f"
             ],
             [
              0.2222222222222222,
              "#7201a8"
             ],
             [
              0.3333333333333333,
              "#9c179e"
             ],
             [
              0.4444444444444444,
              "#bd3786"
             ],
             [
              0.5555555555555556,
              "#d8576b"
             ],
             [
              0.6666666666666666,
              "#ed7953"
             ],
             [
              0.7777777777777778,
              "#fb9f3a"
             ],
             [
              0.8888888888888888,
              "#fdca26"
             ],
             [
              1,
              "#f0f921"
             ]
            ],
            "type": "histogram2d"
           }
          ],
          "histogram2dcontour": [
           {
            "colorbar": {
             "outlinewidth": 0,
             "ticks": ""
            },
            "colorscale": [
             [
              0,
              "#0d0887"
             ],
             [
              0.1111111111111111,
              "#46039f"
             ],
             [
              0.2222222222222222,
              "#7201a8"
             ],
             [
              0.3333333333333333,
              "#9c179e"
             ],
             [
              0.4444444444444444,
              "#bd3786"
             ],
             [
              0.5555555555555556,
              "#d8576b"
             ],
             [
              0.6666666666666666,
              "#ed7953"
             ],
             [
              0.7777777777777778,
              "#fb9f3a"
             ],
             [
              0.8888888888888888,
              "#fdca26"
             ],
             [
              1,
              "#f0f921"
             ]
            ],
            "type": "histogram2dcontour"
           }
          ],
          "mesh3d": [
           {
            "colorbar": {
             "outlinewidth": 0,
             "ticks": ""
            },
            "type": "mesh3d"
           }
          ],
          "parcoords": [
           {
            "line": {
             "colorbar": {
              "outlinewidth": 0,
              "ticks": ""
             }
            },
            "type": "parcoords"
           }
          ],
          "pie": [
           {
            "automargin": true,
            "type": "pie"
           }
          ],
          "scatter": [
           {
            "fillpattern": {
             "fillmode": "overlay",
             "size": 10,
             "solidity": 0.2
            },
            "type": "scatter"
           }
          ],
          "scatter3d": [
           {
            "line": {
             "colorbar": {
              "outlinewidth": 0,
              "ticks": ""
             }
            },
            "marker": {
             "colorbar": {
              "outlinewidth": 0,
              "ticks": ""
             }
            },
            "type": "scatter3d"
           }
          ],
          "scattercarpet": [
           {
            "marker": {
             "colorbar": {
              "outlinewidth": 0,
              "ticks": ""
             }
            },
            "type": "scattercarpet"
           }
          ],
          "scattergeo": [
           {
            "marker": {
             "colorbar": {
              "outlinewidth": 0,
              "ticks": ""
             }
            },
            "type": "scattergeo"
           }
          ],
          "scattergl": [
           {
            "marker": {
             "colorbar": {
              "outlinewidth": 0,
              "ticks": ""
             }
            },
            "type": "scattergl"
           }
          ],
          "scattermapbox": [
           {
            "marker": {
             "colorbar": {
              "outlinewidth": 0,
              "ticks": ""
             }
            },
            "type": "scattermapbox"
           }
          ],
          "scatterpolar": [
           {
            "marker": {
             "colorbar": {
              "outlinewidth": 0,
              "ticks": ""
             }
            },
            "type": "scatterpolar"
           }
          ],
          "scatterpolargl": [
           {
            "marker": {
             "colorbar": {
              "outlinewidth": 0,
              "ticks": ""
             }
            },
            "type": "scatterpolargl"
           }
          ],
          "scatterternary": [
           {
            "marker": {
             "colorbar": {
              "outlinewidth": 0,
              "ticks": ""
             }
            },
            "type": "scatterternary"
           }
          ],
          "surface": [
           {
            "colorbar": {
             "outlinewidth": 0,
             "ticks": ""
            },
            "colorscale": [
             [
              0,
              "#0d0887"
             ],
             [
              0.1111111111111111,
              "#46039f"
             ],
             [
              0.2222222222222222,
              "#7201a8"
             ],
             [
              0.3333333333333333,
              "#9c179e"
             ],
             [
              0.4444444444444444,
              "#bd3786"
             ],
             [
              0.5555555555555556,
              "#d8576b"
             ],
             [
              0.6666666666666666,
              "#ed7953"
             ],
             [
              0.7777777777777778,
              "#fb9f3a"
             ],
             [
              0.8888888888888888,
              "#fdca26"
             ],
             [
              1,
              "#f0f921"
             ]
            ],
            "type": "surface"
           }
          ],
          "table": [
           {
            "cells": {
             "fill": {
              "color": "#EBF0F8"
             },
             "line": {
              "color": "white"
             }
            },
            "header": {
             "fill": {
              "color": "#C8D4E3"
             },
             "line": {
              "color": "white"
             }
            },
            "type": "table"
           }
          ]
         },
         "layout": {
          "annotationdefaults": {
           "arrowcolor": "#2a3f5f",
           "arrowhead": 0,
           "arrowwidth": 1
          },
          "autotypenumbers": "strict",
          "coloraxis": {
           "colorbar": {
            "outlinewidth": 0,
            "ticks": ""
           }
          },
          "colorscale": {
           "diverging": [
            [
             0,
             "#8e0152"
            ],
            [
             0.1,
             "#c51b7d"
            ],
            [
             0.2,
             "#de77ae"
            ],
            [
             0.3,
             "#f1b6da"
            ],
            [
             0.4,
             "#fde0ef"
            ],
            [
             0.5,
             "#f7f7f7"
            ],
            [
             0.6,
             "#e6f5d0"
            ],
            [
             0.7,
             "#b8e186"
            ],
            [
             0.8,
             "#7fbc41"
            ],
            [
             0.9,
             "#4d9221"
            ],
            [
             1,
             "#276419"
            ]
           ],
           "sequential": [
            [
             0,
             "#0d0887"
            ],
            [
             0.1111111111111111,
             "#46039f"
            ],
            [
             0.2222222222222222,
             "#7201a8"
            ],
            [
             0.3333333333333333,
             "#9c179e"
            ],
            [
             0.4444444444444444,
             "#bd3786"
            ],
            [
             0.5555555555555556,
             "#d8576b"
            ],
            [
             0.6666666666666666,
             "#ed7953"
            ],
            [
             0.7777777777777778,
             "#fb9f3a"
            ],
            [
             0.8888888888888888,
             "#fdca26"
            ],
            [
             1,
             "#f0f921"
            ]
           ],
           "sequentialminus": [
            [
             0,
             "#0d0887"
            ],
            [
             0.1111111111111111,
             "#46039f"
            ],
            [
             0.2222222222222222,
             "#7201a8"
            ],
            [
             0.3333333333333333,
             "#9c179e"
            ],
            [
             0.4444444444444444,
             "#bd3786"
            ],
            [
             0.5555555555555556,
             "#d8576b"
            ],
            [
             0.6666666666666666,
             "#ed7953"
            ],
            [
             0.7777777777777778,
             "#fb9f3a"
            ],
            [
             0.8888888888888888,
             "#fdca26"
            ],
            [
             1,
             "#f0f921"
            ]
           ]
          },
          "colorway": [
           "#636efa",
           "#EF553B",
           "#00cc96",
           "#ab63fa",
           "#FFA15A",
           "#19d3f3",
           "#FF6692",
           "#B6E880",
           "#FF97FF",
           "#FECB52"
          ],
          "font": {
           "color": "#2a3f5f"
          },
          "geo": {
           "bgcolor": "white",
           "lakecolor": "white",
           "landcolor": "#E5ECF6",
           "showlakes": true,
           "showland": true,
           "subunitcolor": "white"
          },
          "hoverlabel": {
           "align": "left"
          },
          "hovermode": "closest",
          "mapbox": {
           "style": "light"
          },
          "paper_bgcolor": "white",
          "plot_bgcolor": "#E5ECF6",
          "polar": {
           "angularaxis": {
            "gridcolor": "white",
            "linecolor": "white",
            "ticks": ""
           },
           "bgcolor": "#E5ECF6",
           "radialaxis": {
            "gridcolor": "white",
            "linecolor": "white",
            "ticks": ""
           }
          },
          "scene": {
           "xaxis": {
            "backgroundcolor": "#E5ECF6",
            "gridcolor": "white",
            "gridwidth": 2,
            "linecolor": "white",
            "showbackground": true,
            "ticks": "",
            "zerolinecolor": "white"
           },
           "yaxis": {
            "backgroundcolor": "#E5ECF6",
            "gridcolor": "white",
            "gridwidth": 2,
            "linecolor": "white",
            "showbackground": true,
            "ticks": "",
            "zerolinecolor": "white"
           },
           "zaxis": {
            "backgroundcolor": "#E5ECF6",
            "gridcolor": "white",
            "gridwidth": 2,
            "linecolor": "white",
            "showbackground": true,
            "ticks": "",
            "zerolinecolor": "white"
           }
          },
          "shapedefaults": {
           "line": {
            "color": "#2a3f5f"
           }
          },
          "ternary": {
           "aaxis": {
            "gridcolor": "white",
            "linecolor": "white",
            "ticks": ""
           },
           "baxis": {
            "gridcolor": "white",
            "linecolor": "white",
            "ticks": ""
           },
           "bgcolor": "#E5ECF6",
           "caxis": {
            "gridcolor": "white",
            "linecolor": "white",
            "ticks": ""
           }
          },
          "title": {
           "x": 0.05
          },
          "xaxis": {
           "automargin": true,
           "gridcolor": "white",
           "linecolor": "white",
           "ticks": "",
           "title": {
            "standoff": 15
           },
           "zerolinecolor": "white",
           "zerolinewidth": 2
          },
          "yaxis": {
           "automargin": true,
           "gridcolor": "white",
           "linecolor": "white",
           "ticks": "",
           "title": {
            "standoff": 15
           },
           "zerolinecolor": "white",
           "zerolinewidth": 2
          }
         }
        },
        "title": {
         "text": "Interactive 3D Geometries with Plotly"
        }
       }
      }
     },
     "metadata": {},
     "output_type": "display_data"
    }
   ],
   "source": [
    "ifc_plotter = IfcPlotter()\n",
    "ifc_plotter.interactive_plot(elements=[ifcfile.elements[0]], collisions=[ifcfile.elements[0].formwork])"
   ]
  }
 ],
 "metadata": {
  "kernelspec": {
   "display_name": ".venv",
   "language": "python",
   "name": "python3"
  },
  "language_info": {
   "codemirror_mode": {
    "name": "ipython",
    "version": 3
   },
   "file_extension": ".py",
   "mimetype": "text/x-python",
   "name": "python",
   "nbconvert_exporter": "python",
   "pygments_lexer": "ipython3",
   "version": "3.11.8"
  }
 },
 "nbformat": 4,
 "nbformat_minor": 2
}
